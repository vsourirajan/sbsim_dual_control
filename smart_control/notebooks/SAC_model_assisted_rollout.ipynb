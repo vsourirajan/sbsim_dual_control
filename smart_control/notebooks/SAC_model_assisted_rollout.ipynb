{
 "cells": [
  {
   "cell_type": "code",
   "execution_count": 1,
   "metadata": {
    "cellView": "form",
    "id": "nQnmcm0oI1Q-"
   },
   "outputs": [],
   "source": [
    "#@title Licensed under the Apache License, Version 2.0 (the \"License\");\n",
    "# you may not use this file except in compliance with the License.\n",
    "# You may obtain a copy of the License at\n",
    "#\n",
    "# https://www.apache.org/licenses/LICENSE-2.0\n",
    "#\n",
    "# Unless required by applicable law or agreed to in writing, software\n",
    "# distributed under the License is distributed on an \"AS IS\" BASIS,\n",
    "# WITHOUT WARRANTIES OR CONDITIONS OF ANY KIND, either express or implied.\n",
    "# See the License for the specific language governing permissions and\n",
    "# limitations under the License."
   ]
  },
  {
   "cell_type": "markdown",
   "metadata": {
    "id": "0vekhJpsOxLK"
   },
   "source": [
    "# SBSim: A tutorial of using Reinforcement Learning for Optimizing Energy Use and Minimizing Carbon Emission in Office Buildings\n",
    "\n",
    "___\n",
    "\n",
    "Commercial office buildings contribute 17 percent of Carbon Emissions in the US, according to the US Energy Information Administration (EIA), and improving their efficiency will reduce their environmental burden and operating cost. A major contributor of energy consumption in these buildings are the Heating, Ventilation, and Air Conditioning (HVAC) devices. HVAC devices form a complex and interconnected thermodynamic system with the building and outside weather conditions, and current setpoint control policies are not fully optimized for minimizing energy use and carbon emission. Given a suitable training environment, a Reinforcement Learning (RL) agent is able to improve upon these policies, but training such a model, especially in a way that scales to thousands of buildings, presents many practical challenges. Most existing work on applying RL to this important task either makes use of proprietary data, or focuses on expensive and proprietary simulations that may not be grounded in the real world. We present the Smart Buildings Control Suite, the first open source interactive HVAC control dataset extracted from live sensor measurements of devices in real office buildings. The dataset consists of two components: real-world historical data from two buildings, for offline RL, and a lightweight interactive simulator for each of these buildings, calibrated using the historical data, for online and model-based RL. For ease of use, our RL environments are all compatible with the OpenAI gym environment standard. We believe this benchmark will accelerate progress and collaboration on HVAC optimization.\n",
    "\n",
    "---\n",
    "\n",
    "This notebook accompanies the paper titled, **Real-World Data and Calibrated Simulation Suite for Offline Training of Reinforcement Learning Agents to Optimize Energy and Emission in Office Buildings** by Judah Goldfeder and John Sipple."
   ]
  },
  {
   "cell_type": "code",
   "execution_count": 2,
   "metadata": {},
   "outputs": [],
   "source": [
    "import warnings\n",
    "\n",
    "warnings.filterwarnings(\"ignore\")"
   ]
  },
  {
   "cell_type": "code",
   "execution_count": 3,
   "metadata": {
    "cellView": "form",
    "id": "YchP7JXbSXS1"
   },
   "outputs": [
    {
     "name": "stderr",
     "output_type": "stream",
     "text": [
      "2024-12-10 07:42:55.055362: I tensorflow/core/util/port.cc:113] oneDNN custom operations are on. You may see slightly different numerical results due to floating-point round-off errors from different computation orders. To turn them off, set the environment variable `TF_ENABLE_ONEDNN_OPTS=0`.\n",
      "2024-12-10 07:42:57.225394: I external/local_tsl/tsl/cuda/cudart_stub.cc:31] Could not find cuda drivers on your machine, GPU will not be used.\n",
      "2024-12-10 07:43:01.972554: E external/local_xla/xla/stream_executor/cuda/cuda_dnn.cc:9261] Unable to register cuDNN factory: Attempting to register factory for plugin cuDNN when one has already been registered\n",
      "2024-12-10 07:43:01.975398: E external/local_xla/xla/stream_executor/cuda/cuda_fft.cc:607] Unable to register cuFFT factory: Attempting to register factory for plugin cuFFT when one has already been registered\n",
      "2024-12-10 07:43:02.358440: E external/local_xla/xla/stream_executor/cuda/cuda_blas.cc:1515] Unable to register cuBLAS factory: Attempting to register factory for plugin cuBLAS when one has already been registered\n",
      "2024-12-10 07:43:03.446443: I external/local_tsl/tsl/cuda/cudart_stub.cc:31] Could not find cuda drivers on your machine, GPU will not be used.\n",
      "2024-12-10 07:43:03.447638: I tensorflow/core/platform/cpu_feature_guard.cc:182] This TensorFlow binary is optimized to use available CPU instructions in performance-critical operations.\n",
      "To enable the following instructions: AVX2 AVX512F AVX512_VNNI FMA, in other operations, rebuild TensorFlow with the appropriate compiler flags.\n",
      "2024-12-10 07:43:10.654203: W tensorflow/compiler/tf2tensorrt/utils/py_utils.cc:38] TF-TRT Warning: Could not find TensorRT\n"
     ]
    }
   ],
   "source": [
    "# @title Imports\n",
    "from dataclasses import dataclass\n",
    "import datetime, pytz\n",
    "import enum\n",
    "import functools\n",
    "import os\n",
    "os.environ['CUDA_VISIBLE_DEVICES'] = '0'\n",
    "import time\n",
    "from typing import Final, Sequence\n",
    "from typing import Optional\n",
    "from typing import Union, cast\n",
    "os.environ['WRAPT_DISABLE_EXTENSIONS'] = 'true'\n",
    "from absl import logging\n",
    "import gin\n",
    "from matplotlib import patches\n",
    "import matplotlib.cm as cm\n",
    "import matplotlib.pyplot as plt\n",
    "from matplotlib.ticker import MaxNLocator\n",
    "import numpy as np\n",
    "import pandas as pd\n",
    "import reverb\n",
    "import mediapy as media\n",
    "from IPython.display import clear_output\n",
    "import sys"
   ]
  },
  {
   "cell_type": "code",
   "execution_count": 4,
   "metadata": {},
   "outputs": [],
   "source": [
    "sys.path.append(\"/burg/home/ssa2206/sbsim_dual_control/smart_control/notebooks/\")"
   ]
  },
  {
   "cell_type": "code",
   "execution_count": 5,
   "metadata": {},
   "outputs": [],
   "source": [
    "from smart_control.environment import environment\n",
    "\n",
    "from smart_control.proto import smart_control_building_pb2, smart_control_normalization_pb2\n",
    "from smart_control.reward import electricity_energy_cost, natural_gas_energy_cost, setpoint_energy_carbon_reward, setpoint_energy_carbon_regret\n",
    "\n",
    "from smart_control.simulator import randomized_arrival_departure_occupancy, rejection_simulator_building\n",
    "from smart_control.simulator import simulator_building, step_function_occupancy, stochastic_convection_simulator\n",
    "\n",
    "from smart_control.utils import bounded_action_normalizer, building_renderer, controller_reader\n",
    "from smart_control.utils import controller_writer, conversion_utils, observation_normalizer, reader_lib\n",
    "from smart_control.utils import writer_lib, histogram_reducer, environment_utils"
   ]
  },
  {
   "cell_type": "code",
   "execution_count": 6,
   "metadata": {},
   "outputs": [],
   "source": [
    "import tensorflow as tf\n",
    "from tf_agents.agents.sac import sac_agent, tanh_normal_projection_network\n",
    "from tf_agents.drivers import py_driver\n",
    "from tf_agents.keras_layers import inner_reshape\n",
    "from tf_agents.metrics import py_metrics\n",
    "from tf_agents.networks import nest_map, sequential\n",
    "from tf_agents.policies import greedy_policy, py_tf_eager_policy, random_py_policy, tf_policy\n",
    "from tf_agents.replay_buffers import reverb_replay_buffer, reverb_utils\n",
    "from tf_agents.specs import tensor_spec\n",
    "from tf_agents.train import actor, learner, triggers\n",
    "from tf_agents.train.utils import spec_utils, train_utils\n",
    "from tf_agents.trajectories import policy_step\n",
    "from tf_agents.trajectories import time_step as ts\n",
    "from tf_agents.trajectories import trajectory as trajectory_lib\n",
    "from tf_agents.trajectories import trajectory\n",
    "from tf_agents.typing import types"
   ]
  },
  {
   "cell_type": "code",
   "execution_count": 7,
   "metadata": {},
   "outputs": [],
   "source": [
    "from env_loader import load_envs\n",
    "from plot_utils import *\n"
   ]
  },
  {
   "cell_type": "code",
   "execution_count": 8,
   "metadata": {
    "cellView": "form",
    "id": "sDDU5FmLkYo-"
   },
   "outputs": [],
   "source": [
    "# @title Set local runtime configurations\n",
    "\n",
    "\n",
    "def logging_info(*args):\n",
    "    logging.info(*args)\n",
    "    print(*args)\n",
    "\n",
    "data_path = \"/burg/home/ssa2206/sbsim_dual_control/smart_control/configs/resources/sb1/\" #@param {type:\"string\"}\n",
    "metrics_path = \"/burg/home/ssa2206/sbsim_dual_control/metrics\" #@param {type:\"string\"}\n",
    "output_data_path = '/burg/home/ssa2206/sbsim_dual_control/output' #@param {type:\"string\"}\n",
    "root_dir = \"/burg/home/ssa2206/sbsim_dual_control/root\" #@param {type:\"string\"}\n",
    "\n",
    "!mkdir -p $root_dir\n",
    "!mkdir -p $output_data_path\n",
    "!mkdir -p $metrics_path\n",
    "\n",
    "\n",
    "\n",
    "\n",
    "def remap_filepath(filepath) -> str:\n",
    "    return str(filepath)\n"
   ]
  },
  {
   "cell_type": "code",
   "execution_count": 9,
   "metadata": {},
   "outputs": [],
   "source": [
    "# @title Plotting Utities\n",
    "reward_shift = 0\n",
    "reward_scale = 1.0\n",
    "person_productivity_hour = 300.0\n",
    "time_zone = \"US/Pacific\"\n",
    "\n",
    "KELVIN_TO_CELSIUS = 273.15\n",
    "\n",
    "def render_env(env: environment.Environment):\n",
    "    \"\"\"Renders the environment.\"\"\"\n",
    "    building_layout = env.building._simulator._building._floor_plan\n",
    "\n",
    "    # create a renderer\n",
    "    renderer = building_renderer.BuildingRenderer(building_layout, 1)\n",
    "\n",
    "    # get the current temps to render\n",
    "    # this also is not ideal, since the temps are not fully exposed.\n",
    "    # V Ideally this should be a publicly accessable field\n",
    "    temps = env.building._simulator._building.temp\n",
    "\n",
    "    input_q = env.building._simulator._building.input_q\n",
    "\n",
    "    # render\n",
    "    vmin = 285\n",
    "    vmax = 305\n",
    "    image = renderer.render(temps, cmap='bwr', vmin=vmin, vmax=vmax, colorbar=False, \n",
    "                            input_q=input_q, diff_range=0.5, diff_size=1,).convert('RGB')\n",
    "    media.show_image(image, title='Environment %s' % env.current_simulation_timestamp)"
   ]
  },
  {
   "cell_type": "code",
   "execution_count": 10,
   "metadata": {},
   "outputs": [
    {
     "name": "stdout",
     "output_type": "stream",
     "text": [
      "/burg/home/ssa2206/sbsim_dual_control/smart_control/configs/resources/sb1/sim_config.gin\n",
      "/burg/home/ssa2206/sbsim_dual_control/smart_control/configs/resources/sb1/sim_config.gin\n"
     ]
    }
   ],
   "source": [
    "eval_env, collect_env, initial_collect_env = load_envs(data_path, metrics_path)"
   ]
  },
  {
   "cell_type": "code",
   "execution_count": 11,
   "metadata": {},
   "outputs": [],
   "source": [
    "eval_env._building_image_generator"
   ]
  },
  {
   "cell_type": "code",
   "execution_count": 12,
   "metadata": {},
   "outputs": [
    {
     "data": {
      "text/plain": [
       "'/burg/home/ssa2206/sbsim_dual_control/metrics'"
      ]
     },
     "execution_count": 12,
     "metadata": {},
     "output_type": "execute_result"
    }
   ],
   "source": [
    "eval_env._metrics_path"
   ]
  },
  {
   "cell_type": "markdown",
   "metadata": {
    "id": "c55CehnYR8lY"
   },
   "source": [
    "In the section below, we'll define a function that accepts the envirnment and a policy, and runs a fixed number of episodes. The policy can be a rules-based policy or an RL-based policy."
   ]
  },
  {
   "cell_type": "code",
   "execution_count": 13,
   "metadata": {
    "cellView": "form",
    "id": "bitzHo5_UbXy"
   },
   "outputs": [],
   "source": [
    "# @title Define a method to execute the policy on the environment.\n",
    "\n",
    "\n",
    "def get_trajectory(time_step, current_action: policy_step.PolicyStep):\n",
    "    \"\"\"Get the trajectory for the current action and time step.\"\"\"\n",
    "    observation = time_step.observation\n",
    "    action = current_action.action\n",
    "    policy_info = ()\n",
    "    reward = time_step.reward\n",
    "    discount = time_step.discount\n",
    "\n",
    "    if time_step.is_first():\n",
    "        return(trajectory.first(observation, action, policy_info, reward, discount))\n",
    "    elif time_step.is_last():\n",
    "        return(trajectory.last(observation, action, policy_info, reward, discount))\n",
    "    else:\n",
    "        return(trajectory.mid(observation, action, policy_info, reward, discount))\n",
    "\n",
    "\n",
    "def compute_avg_return(environment, policy, num_episodes=1, time_zone: str = \"US/Pacific\", \n",
    "                       render_interval_steps: int = 24,trajectory_observers=None,):\n",
    "    \"\"\"Computes the average return of the policy on the environment.\n",
    "    Args:\n",
    "    environment: environment.Environment\n",
    "    policy: policy.Policy\n",
    "    num_episodes: total number of eposides to run.\n",
    "    time_zone: time zone of the environment\n",
    "    render_interval_steps: Number of steps to take between rendering.\n",
    "    trajectory_observers: list of trajectory observers for use in rendering.\n",
    "    \"\"\"\n",
    "    total_return = 0.0\n",
    "    for _ in range(num_episodes):\n",
    "        time_step = environment.reset()\n",
    "        episode_return = 0.0\n",
    "        t0 = time.time()\n",
    "        epoch = t0\n",
    "        step_id = 0\n",
    "        execution_times = []\n",
    "        while not time_step.is_last():\n",
    "            action_step = policy.action(time_step)\n",
    "            time_step = environment.step(action_step.action)\n",
    "\n",
    "            if trajectory_observers is not None:\n",
    "                traj = get_trajectory(time_step, action_step)\n",
    "                for observer in trajectory_observers:\n",
    "                    observer(traj)\n",
    "\n",
    "            episode_return += time_step.reward\n",
    "            t1 = time.time()\n",
    "            dt = t1 - t0\n",
    "            episode_seconds = t1 - epoch\n",
    "            execution_times.append(dt)\n",
    "            sim_time = environment.current_simulation_timestamp.tz_convert(time_zone)\n",
    "\n",
    "            print(\"Step %5d Sim Time: %s, Reward: %8.2f, Return: %8.2f, Mean Step Time:\"\n",
    "                  \" %8.2f s, Episode Time: %8.2f s\" % (step_id, sim_time.strftime(\"%Y-%m-%d %H:%M\"),\n",
    "                                                       time_step.reward, episode_return, \n",
    "                                                       np.mean(execution_times), episode_seconds,)\n",
    "                 )\n",
    "            if (step_id > 0) and (step_id % render_interval_steps == 0):\n",
    "                if environment._metrics_path:\n",
    "                    clear_output(wait=True)\n",
    "                    reader = get_latest_episode_reader(environment._metrics_path)\n",
    "                    plot_timeseries_charts(reader, time_zone)\n",
    "                render_env(environment)\n",
    "\n",
    "            t0 = t1\n",
    "            step_id += 1\n",
    "        total_return += episode_return\n",
    "\n",
    "    avg_return = total_return / num_episodes\n",
    "    return avg_return"
   ]
  },
  {
   "cell_type": "markdown",
   "metadata": {
    "id": "pAYOf5Xtzi2u"
   },
   "source": [
    "Next, we will run the static control setpoints on the environment to establish baseline performance.\n",
    "\n",
    "**Note:** This will take some time to execute. Feel free to skip this step if you want to jump directly to the RL section below."
   ]
  },
  {
   "cell_type": "code",
   "execution_count": 14,
   "metadata": {
    "cellView": "form",
    "id": "3Zv-lSiWDp50"
   },
   "outputs": [],
   "source": [
    "# @title Optionally, execute the schedule policy on the environment\n",
    "# Optional\n",
    "#compute_avg_return(eval_env, schedule_policy, 1, time_zone=\"US/Pacific\", render_interval_steps=144, trajectory_observers=None)"
   ]
  },
  {
   "cell_type": "markdown",
   "metadata": {
    "id": "SDgizVLzRti1"
   },
   "source": [
    "# Reinforcement Learning Control\n",
    "In the previous section we used a simple schedule to control the HVAC setpoints, however in this section, we configure and train a Reinforcement Learning (RL) agent.\n",
    "\n"
   ]
  },
  {
   "cell_type": "code",
   "execution_count": 15,
   "metadata": {},
   "outputs": [],
   "source": [
    "\n",
    "# @title Utilities to configure networks for the RL Agent.\n",
    "dense = functools.partial(\n",
    "    tf.keras.layers.Dense,\n",
    "    activation=tf.keras.activations.relu,\n",
    "    kernel_initializer='glorot_uniform',\n",
    ")\n",
    "\n",
    "\n",
    "def logging_info(*args):\n",
    "    logging.info(*args)\n",
    "    print(*args)\n",
    "\n",
    "\n",
    "def create_fc_network(layer_units):\n",
    "    return sequential.Sequential([dense(num_units) for num_units in layer_units])\n",
    "\n",
    "\n",
    "def create_identity_layer():\n",
    "    return tf.keras.layers.Lambda(lambda x: x)\n"
   ]
  },
  {
   "cell_type": "markdown",
   "metadata": {},
   "source": [
    "### SAC Critic Network\n",
    "\n",
    "- obs network learns meaningful representation of state \n",
    "- action network learns meaningful representation of action\n",
    "- joint network $f(z_a, z_s) \\rightarrow \\hat{Q}(s, a)$"
   ]
  },
  {
   "cell_type": "code",
   "execution_count": 16,
   "metadata": {},
   "outputs": [],
   "source": [
    "def create_sequential_critic_network(obs_fc_layer_units, action_fc_layer_units, joint_fc_layer_units):\n",
    "    \"\"\"Create a sequential critic network.\"\"\"\n",
    "    # Split the inputs into observations and actions.\n",
    "    def split_inputs(inputs):\n",
    "        return {'observation': inputs[0], 'action': inputs[1]}\n",
    "\n",
    "    # Create an observation network.\n",
    "    obs_network = (\n",
    "        create_fc_network(obs_fc_layer_units) if obs_fc_layer_units else create_identity_layer()\n",
    "    )\n",
    "\n",
    "    # Create an action network.\n",
    "    action_network = (\n",
    "        create_fc_network(action_fc_layer_units) if action_fc_layer_units else create_identity_layer()\n",
    "    )\n",
    "\n",
    "    # Create a joint network.\n",
    "    joint_network = (\n",
    "        create_fc_network(joint_fc_layer_units) if joint_fc_layer_units else create_identity_layer()\n",
    "    )\n",
    "\n",
    "    # Final layer.\n",
    "    value_layer = tf.keras.layers.Dense(1, kernel_initializer='glorot_uniform')\n",
    "\n",
    "    return sequential.Sequential(\n",
    "        [\n",
    "            tf.keras.layers.Lambda(split_inputs),\n",
    "            nest_map.NestMap({'observation': obs_network, 'action': action_network}),\n",
    "            nest_map.NestFlatten(),\n",
    "            tf.keras.layers.Concatenate(),\n",
    "            joint_network,\n",
    "            value_layer,\n",
    "            inner_reshape.InnerReshape(current_shape=[1], new_shape=[]),\n",
    "        ],\n",
    "        name='sequential_critic',\n",
    "    )\n",
    "\n"
   ]
  },
  {
   "cell_type": "markdown",
   "metadata": {},
   "source": [
    "Instead of just an action, returns prob distribution over actions"
   ]
  },
  {
   "cell_type": "code",
   "execution_count": 17,
   "metadata": {
    "cellView": "form",
    "id": "zBjFBpkabFHR"
   },
   "outputs": [],
   "source": [
    "\n",
    "class _TanhNormalProjectionNetworkWrapper(\n",
    "        tanh_normal_projection_network.TanhNormalProjectionNetwork\n",
    "):\n",
    "    \"\"\"Wrapper to pass predefined `outer_rank` to underlying projection net.\"\"\"\n",
    "\n",
    "    def __init__(self, sample_spec, predefined_outer_rank=1):\n",
    "        super(_TanhNormalProjectionNetworkWrapper, self).__init__(sample_spec)\n",
    "        self.predefined_outer_rank = predefined_outer_rank\n",
    "\n",
    "    def call(self, inputs, network_state=(), **kwargs):\n",
    "        kwargs['outer_rank'] = self.predefined_outer_rank\n",
    "        if 'step_type' in kwargs:\n",
    "            del kwargs['step_type']\n",
    "        return super(_TanhNormalProjectionNetworkWrapper, self).call(inputs, **kwargs)\n",
    "\n",
    "\n",
    "def create_sequential_actor_network(actor_fc_layers, action_tensor_spec):\n",
    "    \"\"\"Create a sequential actor network.\"\"\"\n",
    "\n",
    "    def tile_as_nest(non_nested_output):\n",
    "        return tf.nest.map_structure(\n",
    "                lambda _: non_nested_output, action_tensor_spec\n",
    "        )\n",
    "\n",
    "    return sequential.Sequential(\n",
    "            [dense(num_units) for num_units in actor_fc_layers]\n",
    "            + [tf.keras.layers.Lambda(tile_as_nest)]\n",
    "            + [nest_map.NestMap(tf.nest.map_structure(_TanhNormalProjectionNetworkWrapper, \n",
    "                                                      action_tensor_spec))])"
   ]
  },
  {
   "cell_type": "markdown",
   "metadata": {
    "id": "9g6pE6v2bb8O"
   },
   "source": [
    "Set the configuration parameters for the SAC Agent"
   ]
  },
  {
   "cell_type": "code",
   "execution_count": 18,
   "metadata": {
    "cellView": "form",
    "id": "CeVkerwYcng2"
   },
   "outputs": [],
   "source": [
    "# @title Set the RL Agent's parameters\n",
    "\n",
    "# Actor network fully connected layers.\n",
    "actor_fc_layers = (128, 128)\n",
    "# Critic network observation fully connected layers.\n",
    "critic_obs_fc_layers = (128, 64)\n",
    "# Critic network action fully connected layers.\n",
    "critic_action_fc_layers = (128, 64)\n",
    "# Critic network joint fully connected layers.\n",
    "critic_joint_fc_layers = (128, 64)\n",
    "\n",
    "batch_size = 256\n",
    "actor_learning_rate = 3e-4\n",
    "critic_learning_rate = 3e-4\n",
    "alpha_learning_rate = 3e-4\n",
    "gamma = 0.99\n",
    "target_update_tau= 0.005\n",
    "target_update_period= 1\n",
    "reward_scale_factor = 1.0\n",
    "\n",
    "# Replay params\n",
    "replay_capacity = 1000000\n",
    "debug_summaries = True\n",
    "summarize_grads_and_vars = True\n"
   ]
  },
  {
   "cell_type": "markdown",
   "metadata": {
    "id": "EhTPXjtebMZD"
   },
   "source": [
    "## Initialize the SAC agent\n",
    "\n",
    "Of all the Reinforcement learning algorithms, we have chosen [Soft Actor Cirtic (SAC)](https://arxiv.org/abs/1801.01290) because its proven performance on evironments with  high-dimensional states and real-valued actions.\n",
    "\n",
    "In this notebook we illustrate the use of the buidling control environment using the SAC implementation in [TF-Agents](https://www.tensorflow.org/agents)."
   ]
  },
  {
   "cell_type": "code",
   "execution_count": 19,
   "metadata": {
    "cellView": "form",
    "id": "NW0pzLvjbSnP"
   },
   "outputs": [],
   "source": [
    "# @title Construct the SAC agent\n",
    "\n",
    "_, action_tensor_spec, time_step_tensor_spec = spec_utils.get_tensor_specs(\n",
    "    collect_env\n",
    ")\n",
    "\n",
    "actor_net = create_sequential_actor_network(\n",
    "    actor_fc_layers=actor_fc_layers, action_tensor_spec=action_tensor_spec\n",
    ")\n",
    "\n",
    "critic_net = create_sequential_critic_network(\n",
    "    obs_fc_layer_units=critic_obs_fc_layers,\n",
    "    action_fc_layer_units=critic_action_fc_layers,\n",
    "    joint_fc_layer_units=critic_joint_fc_layers,\n",
    ")\n"
   ]
  },
  {
   "cell_type": "code",
   "execution_count": 20,
   "metadata": {},
   "outputs": [],
   "source": [
    "train_step = train_utils.create_train_step()\n",
    "agent = sac_agent.SacAgent(\n",
    "    time_step_tensor_spec,\n",
    "    action_tensor_spec,\n",
    "    actor_network=actor_net,\n",
    "    critic_network=critic_net,\n",
    "    actor_optimizer=tf.keras.optimizers.Adam(learning_rate=actor_learning_rate),\n",
    "    critic_optimizer=tf.keras.optimizers.Adam(\n",
    "        learning_rate=critic_learning_rate\n",
    "    ),\n",
    "    alpha_optimizer=tf.keras.optimizers.Adam(learning_rate=alpha_learning_rate),\n",
    "    target_update_tau=target_update_tau,\n",
    "    target_update_period=target_update_period,\n",
    "    td_errors_loss_fn=tf.math.squared_difference,\n",
    "    gamma=gamma,\n",
    "    reward_scale_factor=reward_scale_factor,\n",
    "    gradient_clipping=None,\n",
    "    debug_summaries=debug_summaries,\n",
    "    summarize_grads_and_vars=summarize_grads_and_vars,\n",
    "    train_step_counter=train_step,\n",
    ")\n",
    "agent.initialize()"
   ]
  },
  {
   "cell_type": "markdown",
   "metadata": {
    "id": "J5hNdgZBG5BZ"
   },
   "source": [
    "Below we construct a replay buffer using reverb. The replay buffer is populated with state-action-reward-state tuples during collect. Thie allows the agent to relive past experiences, and prevents the model from overfitting in the local neighborhood.\n",
    "\n",
    "During traning, the agent samples from the replay buffer. This helps decorrelate the training data in a way that randomization of a training set would in supervised learning. Otherwise, in most environments the experience in a window of time is highly correlated."
   ]
  },
  {
   "cell_type": "code",
   "execution_count": 21,
   "metadata": {
    "cellView": "form",
    "id": "vX2zGUWJGWAl"
   },
   "outputs": [
    {
     "name": "stdout",
     "output_type": "stream",
     "text": [
      "reverb_checkpoint_dir=/burg/home/ssa2206/sbsim_dual_control/output/reverb_checkpoint\n",
      "reverb_server_port=37451\n",
      "num_frames in replay buffer=574\n"
     ]
    },
    {
     "name": "stderr",
     "output_type": "stream",
     "text": [
      "[reverb/cc/platform/tfrecord_checkpointer.cc:162]  Initializing TFRecordCheckpointer in /burg/home/ssa2206/sbsim_dual_control/output/reverb_checkpoint.\n",
      "[reverb/cc/platform/tfrecord_checkpointer.cc:565] Loading latest checkpoint from /burg/home/ssa2206/sbsim_dual_control/output/reverb_checkpoint\n",
      "[reverb/cc/platform/tfrecord_checkpointer.cc:286] Loading checkpoint from /burg/home/ssa2206/sbsim_dual_control/output/reverb_checkpoint/2024-12-05T20:44:35.347939741-05:00\n",
      "[reverb/cc/platform/tfrecord_checkpointer.cc:295] Loading and verifying metadata of the checkpointed tables.\n",
      "[reverb/cc/platform/tfrecord_checkpointer.cc:341] Metadata for table 'uniform_table' was successfully loaded and verified.\n",
      "[reverb/cc/platform/tfrecord_checkpointer.cc:404] Successfully loaded and verified metadata for all (1) tables. We'll now proceed to read the data referenced by the items in the table.\n",
      "[reverb/cc/platform/tfrecord_checkpointer.cc:447] Still reading compressed trajectory data. 1 records have been read so far.\n",
      "[reverb/cc/platform/tfrecord_checkpointer.cc:447] Still reading compressed trajectory data. 101 records have been read so far.\n",
      "[reverb/cc/platform/tfrecord_checkpointer.cc:447] Still reading compressed trajectory data. 201 records have been read so far.\n",
      "[reverb/cc/platform/tfrecord_checkpointer.cc:447] Still reading compressed trajectory data. 301 records have been read so far.\n",
      "[reverb/cc/platform/tfrecord_checkpointer.cc:447] Still reading compressed trajectory data. 401 records have been read so far.\n",
      "[reverb/cc/platform/tfrecord_checkpointer.cc:447] Still reading compressed trajectory data. 501 records have been read so far.\n",
      "[reverb/cc/platform/tfrecord_checkpointer.cc:447] Still reading compressed trajectory data. 601 records have been read so far.\n",
      "[reverb/cc/platform/tfrecord_checkpointer.cc:447] Still reading compressed trajectory data. 701 records have been read so far.\n",
      "[reverb/cc/platform/tfrecord_checkpointer.cc:447] Still reading compressed trajectory data. 801 records have been read so far.\n",
      "[reverb/cc/platform/tfrecord_checkpointer.cc:447] Still reading compressed trajectory data. 901 records have been read so far.\n",
      "[reverb/cc/platform/tfrecord_checkpointer.cc:447] Still reading compressed trajectory data. 1001 records have been read so far.\n",
      "[reverb/cc/platform/tfrecord_checkpointer.cc:447] Still reading compressed trajectory data. 1101 records have been read so far.\n",
      "[reverb/cc/platform/tfrecord_checkpointer.cc:457] Completed reading compressed trajectory data. We'll now start assembling the checkpointed tables.\n",
      "[reverb/cc/platform/tfrecord_checkpointer.cc:534] Table uniform_table and 574 items have been successfully loaded from checkpoint at path /burg/home/ssa2206/sbsim_dual_control/output/reverb_checkpoint/2024-12-05T20:44:35.347939741-05:00.\n",
      "[reverb/cc/platform/tfrecord_checkpointer.cc:540] Successfully loaded 1 tables from /burg/home/ssa2206/sbsim_dual_control/output/reverb_checkpoint/2024-12-05T20:44:35.347939741-05:00\n",
      "[reverb/cc/platform/default/server.cc:71] Started replay server on port 37451\n"
     ]
    }
   ],
   "source": [
    "# @title Set up the replay buffer\n",
    "replay_capacity = 50000\n",
    "table_name = 'uniform_table'\n",
    "table = reverb.Table(\n",
    "    table_name,\n",
    "    max_size=replay_capacity,\n",
    "    sampler=reverb.selectors.Uniform(),\n",
    "    remover=reverb.selectors.Fifo(),\n",
    "    rate_limiter=reverb.rate_limiters.MinSize(1),\n",
    ")\n",
    "\n",
    "reverb_checkpoint_dir = output_data_path + \"/reverb_checkpoint\"\n",
    "reverb_port = None\n",
    "print('reverb_checkpoint_dir=%s' %reverb_checkpoint_dir)\n",
    "reverb_checkpointer = reverb.platform.checkpointers_lib.DefaultCheckpointer(path=reverb_checkpoint_dir)\n",
    "reverb_server = reverb.Server([table], port=reverb_port, checkpointer=reverb_checkpointer)\n",
    "logging_info('reverb_server_port=%d' % reverb_server.port)\n",
    "reverb_replay = reverb_replay_buffer.ReverbReplayBuffer(\n",
    "    agent.collect_data_spec,\n",
    "    sequence_length=2,\n",
    "    table_name=table_name,\n",
    "    local_server=reverb_server,\n",
    ")\n",
    "rb_observer = reverb_utils.ReverbAddTrajectoryObserver(\n",
    "    reverb_replay.py_client, table_name, sequence_length=2, stride_length=1\n",
    ")\n",
    "print('num_frames in replay buffer=%d' %reverb_replay.num_frames())"
   ]
  },
  {
   "cell_type": "markdown",
   "metadata": {
    "id": "SH7LQZ_Pd0vY"
   },
   "source": [
    "For simplicity, we'll grab eval and collact policies and give them short variable names."
   ]
  },
  {
   "cell_type": "code",
   "execution_count": 22,
   "metadata": {
    "cellView": "form",
    "id": "BwY7StuMkuV4"
   },
   "outputs": [],
   "source": [
    "# @title Access the eval and collect policies\n",
    "eval_policy = agent.policy\n",
    "collect_policy = agent.collect_policy"
   ]
  },
  {
   "cell_type": "markdown",
   "metadata": {
    "id": "6klSPQeGsPLz"
   },
   "source": [
    "In the next section we define observer classes that enable printing model and environment output as the scenario evolves to who you the percentage of the episode, the timestamp in the scenario, cumulative reward, and the execution time.\n",
    "\n",
    "We also provide a plot observer that periodically outputs the performance charts and the temperature gradient across both floors of the buidling."
   ]
  },
  {
   "cell_type": "code",
   "execution_count": 23,
   "metadata": {},
   "outputs": [
    {
     "data": {
      "text/plain": [
       "'/burg/home/ssa2206/sbsim_dual_control/metrics'"
      ]
     },
     "execution_count": 23,
     "metadata": {},
     "output_type": "execute_result"
    }
   ],
   "source": [
    "eval_env._metrics_path"
   ]
  },
  {
   "cell_type": "code",
   "execution_count": 24,
   "metadata": {
    "cellView": "form",
    "id": "dJ_EMQkZdw8q"
   },
   "outputs": [],
   "source": [
    "# @title Define Observers\n",
    "class RenderAndPlotObserver:\n",
    "    \"\"\"Renders and plots the environment.\"\"\"\n",
    "    def __init__(self, render_interval_steps: int = 10, environment=None,):\n",
    "        self._counter = 0\n",
    "        self._render_interval_steps = render_interval_steps\n",
    "        self._environment = environment\n",
    "        self._cumulative_reward = 0.0\n",
    "        self._start_time = None\n",
    "        if self._environment is not None:\n",
    "            self._num_timesteps_in_episode = (self._environment._num_timesteps_in_episode)\n",
    "            self._environment._end_timestamp\n",
    "\n",
    "    def __call__(self, trajectory: trajectory_lib.Trajectory) -> None:\n",
    "        reward = trajectory.reward\n",
    "        self._cumulative_reward += reward\n",
    "        self._counter += 1\n",
    "        if self._start_time is None:\n",
    "            self._start_time = pd.Timestamp.now()\n",
    "\n",
    "        if self._counter % self._render_interval_steps == 0 and self._environment:\n",
    "            execution_time = pd.Timestamp.now() - self._start_time\n",
    "            mean_execution_time = execution_time.total_seconds() / self._counter\n",
    "            clear_output(wait=True)\n",
    "            if self._environment._metrics_path is not None:\n",
    "                reader = get_latest_episode_reader(self._environment._metrics_path)\n",
    "                plot_timeseries_charts(reader, time_zone)\n",
    "\n",
    "            render_env(self._environment)\n",
    "\n",
    "class PrintStatusObserver:\n",
    "    \"\"\"Prints status information.\"\"\"\n",
    "\n",
    "    def __init__(self, status_interval_steps: int = 1, environment=None, replay_buffer=None):\n",
    "        self._counter = 0\n",
    "        self._status_interval_steps = status_interval_steps\n",
    "        self._environment = environment\n",
    "        self._cumulative_reward = 0.0\n",
    "        self._replay_buffer = replay_buffer\n",
    "\n",
    "        self._start_time = None\n",
    "        if self._environment is not None:\n",
    "            self._num_timesteps_in_episode = (\n",
    "                    self._environment._num_timesteps_in_episode\n",
    "            )\n",
    "            self._environment._end_timestamp\n",
    "\n",
    "    def __call__(self, trajectory: trajectory_lib.Trajectory) -> None:\n",
    "\n",
    "        reward = trajectory.reward\n",
    "        self._cumulative_reward += reward\n",
    "        self._counter += 1\n",
    "        if self._start_time is None:\n",
    "            self._start_time = pd.Timestamp.now()\n",
    "\n",
    "        if self._counter % self._status_interval_steps == 0 and self._environment:\n",
    "            execution_time = pd.Timestamp.now() - self._start_time\n",
    "            mean_execution_time = execution_time.total_seconds() / self._counter\n",
    "\n",
    "            sim_time = self._environment.current_simulation_timestamp.tz_convert(\n",
    "                    time_zone\n",
    "            )\n",
    "            percent_complete = int(\n",
    "                    100.0 * (self._counter / self._num_timesteps_in_episode)\n",
    "            )\n",
    "\n",
    "            if self._replay_buffer is not None:\n",
    "                rb_size = self._replay_buffer.num_frames()\n",
    "                rb_string = \" Replay Buffer Size: %d\" % rb_size\n",
    "            else:\n",
    "                rb_string = \"\"\n",
    "\n",
    "            print(\n",
    "                    \"Step %5d of %5d (%3d%%) Sim Time: %s Reward: %2.2f Cumulative\"\n",
    "                    \" Reward: %8.2f Execution Time: %s Mean Execution Time: %3.2fs %s\"\n",
    "                    % (\n",
    "                            self._environment._step_count,\n",
    "                            self._num_timesteps_in_episode,\n",
    "                            percent_complete,\n",
    "                            sim_time.strftime(\"%Y-%m-%d %H:%M\"),\n",
    "                            reward,\n",
    "                            self._cumulative_reward,\n",
    "                            execution_time,\n",
    "                            mean_execution_time,\n",
    "                            rb_string,\n",
    "                    )\n",
    "            )\n",
    "\n"
   ]
  },
  {
   "cell_type": "code",
   "execution_count": 25,
   "metadata": {},
   "outputs": [],
   "source": [
    "initial_collect_render_plot_observer = RenderAndPlotObserver(\n",
    "    render_interval_steps=144, environment=initial_collect_env\n",
    ")\n",
    "initial_collect_print_status_observer = PrintStatusObserver(\n",
    "    status_interval_steps=1,\n",
    "    environment=initial_collect_env,\n",
    "    replay_buffer=reverb_replay,\n",
    ")\n",
    "collect_render_plot_observer = RenderAndPlotObserver(\n",
    "    render_interval_steps=144, environment=collect_env\n",
    ")\n",
    "collect_print_status_observer = PrintStatusObserver(\n",
    "    status_interval_steps=1,\n",
    "    environment=collect_env,\n",
    "    replay_buffer=reverb_replay,\n",
    ")\n",
    "eval_render_plot_observer = RenderAndPlotObserver(\n",
    "    render_interval_steps=144, environment=eval_env\n",
    ")\n",
    "eval_print_status_observer = PrintStatusObserver(\n",
    "    status_interval_steps=1, environment=eval_env, replay_buffer=reverb_replay\n",
    ")"
   ]
  },
  {
   "cell_type": "markdown",
   "metadata": {
    "id": "el732oZItQjO"
   },
   "source": [
    "In the following cell, we shall run the baseline control on the scenario to populate the replay buffer. We will use the schedule policy we build above to simulate training off-policy from recorded telemetry."
   ]
  },
  {
   "cell_type": "code",
   "execution_count": 26,
   "metadata": {},
   "outputs": [
    {
     "name": "stdout",
     "output_type": "stream",
     "text": [
      "Policies will be saved to saved_model_dir: /burg/home/ssa2206/sbsim_dual_control/root/policies\n"
     ]
    }
   ],
   "source": [
    "hod_cos_index = collect_env._field_names.index('hod_cos_000')\n",
    "hod_sin_index = collect_env._field_names.index('hod_sin_000')\n",
    "dow_cos_index = collect_env._field_names.index('dow_cos_000')\n",
    "dow_sin_index = collect_env._field_names.index('dow_sin_000')\n",
    "\n",
    "# @title Instantiate the Schedule RBC policy\n",
    "ts = collect_env.reset()\n",
    "local_start_time = collect_env.current_simulation_timestamp.tz_convert(tz = 'US/Pacific')\n",
    "\n",
    "action_normalizers = collect_env._action_normalizers\n",
    "from run_utils import SchedulePolicy\n",
    "observation_spec, action_spec, time_step_spec = spec_utils.get_tensor_specs(collect_env)\n",
    "hod_cos_index = collect_env._field_names.index('hod_cos_000')\n",
    "hod_sin_index = collect_env._field_names.index('hod_sin_000')\n",
    "dow_cos_index = collect_env._field_names.index('dow_cos_000')\n",
    "dow_sin_index = collect_env._field_names.index('dow_sin_000')\n",
    "schedule_policy = SchedulePolicy(\n",
    "    time_step_spec= time_step_spec,\n",
    "    action_spec= action_spec,\n",
    "    dow_sin_index=dow_sin_index,\n",
    "    dow_cos_index=dow_cos_index,\n",
    "    hod_sin_index=hod_sin_index,\n",
    "    hod_cos_index=hod_cos_index,\n",
    "    local_start_time=local_start_time,\n",
    "    action_normalizers=action_normalizers,\n",
    "\n",
    ")"
   ]
  },
  {
   "cell_type": "code",
   "execution_count": 27,
   "metadata": {
    "cellView": "form",
    "id": "ZGq3SY0kKwsa",
    "scrolled": false
   },
   "outputs": [
    {
     "name": "stdout",
     "output_type": "stream",
     "text": [
      "Step     1 of   576 (  0%) Sim Time: 2023-07-06 00:05 Reward: -0.02 Cumulative Reward:    -0.02 Execution Time: 0 days 00:00:00.000023 Mean Execution Time: 0.00s  Replay Buffer Size: 574\n",
      "Step     2 of   576 (  0%) Sim Time: 2023-07-06 00:10 Reward: -0.02 Cumulative Reward:    -0.04 Execution Time: 0 days 00:00:02.702493 Mean Execution Time: 1.35s  Replay Buffer Size: 574\n",
      "Step     3 of   576 (  0%) Sim Time: 2023-07-06 00:15 Reward: -0.02 Cumulative Reward:    -0.06 Execution Time: 0 days 00:00:04.980607 Mean Execution Time: 1.66s  Replay Buffer Size: 575\n",
      "Step     4 of   576 (  0%) Sim Time: 2023-07-06 00:20 Reward: -0.02 Cumulative Reward:    -0.08 Execution Time: 0 days 00:00:07.236420 Mean Execution Time: 1.81s  Replay Buffer Size: 576\n",
      "Step     5 of   576 (  0%) Sim Time: 2023-07-06 00:25 Reward: -0.02 Cumulative Reward:    -0.10 Execution Time: 0 days 00:00:09.660750 Mean Execution Time: 1.93s  Replay Buffer Size: 577\n",
      "Step     6 of   576 (  1%) Sim Time: 2023-07-06 00:30 Reward: -0.02 Cumulative Reward:    -0.12 Execution Time: 0 days 00:00:12.159818 Mean Execution Time: 2.03s  Replay Buffer Size: 578\n",
      "Step     7 of   576 (  1%) Sim Time: 2023-07-06 00:35 Reward: -0.02 Cumulative Reward:    -0.14 Execution Time: 0 days 00:00:14.403675 Mean Execution Time: 2.06s  Replay Buffer Size: 579\n",
      "Step     8 of   576 (  1%) Sim Time: 2023-07-06 00:40 Reward: -0.02 Cumulative Reward:    -0.16 Execution Time: 0 days 00:00:16.822800 Mean Execution Time: 2.10s  Replay Buffer Size: 580\n",
      "Step     9 of   576 (  1%) Sim Time: 2023-07-06 00:45 Reward: -0.02 Cumulative Reward:    -0.18 Execution Time: 0 days 00:00:19.152865 Mean Execution Time: 2.13s  Replay Buffer Size: 581\n",
      "Step    10 of   576 (  1%) Sim Time: 2023-07-06 00:50 Reward: -0.02 Cumulative Reward:    -0.20 Execution Time: 0 days 00:00:21.420132 Mean Execution Time: 2.14s  Replay Buffer Size: 582\n",
      "Step    11 of   576 (  1%) Sim Time: 2023-07-06 00:55 Reward: -0.02 Cumulative Reward:    -0.21 Execution Time: 0 days 00:00:23.634544 Mean Execution Time: 2.15s  Replay Buffer Size: 583\n",
      "Step    12 of   576 (  2%) Sim Time: 2023-07-06 01:00 Reward: -0.02 Cumulative Reward:    -0.23 Execution Time: 0 days 00:00:25.823000 Mean Execution Time: 2.15s  Replay Buffer Size: 584\n",
      "Step    13 of   576 (  2%) Sim Time: 2023-07-06 01:05 Reward: -0.02 Cumulative Reward:    -0.25 Execution Time: 0 days 00:00:28.149976 Mean Execution Time: 2.17s  Replay Buffer Size: 584\n",
      "Step    14 of   576 (  2%) Sim Time: 2023-07-06 01:10 Reward: -0.02 Cumulative Reward:    -0.27 Execution Time: 0 days 00:00:30.367805 Mean Execution Time: 2.17s  Replay Buffer Size: 584\n",
      "Step    15 of   576 (  2%) Sim Time: 2023-07-06 01:15 Reward: -0.02 Cumulative Reward:    -0.29 Execution Time: 0 days 00:00:32.516141 Mean Execution Time: 2.17s  Replay Buffer Size: 587\n",
      "Step    16 of   576 (  2%) Sim Time: 2023-07-06 01:20 Reward: -0.02 Cumulative Reward:    -0.31 Execution Time: 0 days 00:00:34.703260 Mean Execution Time: 2.17s  Replay Buffer Size: 587\n",
      "Step    17 of   576 (  2%) Sim Time: 2023-07-06 01:25 Reward: -0.02 Cumulative Reward:    -0.33 Execution Time: 0 days 00:00:37.862707 Mean Execution Time: 2.23s  Replay Buffer Size: 587\n",
      "Step    18 of   576 (  3%) Sim Time: 2023-07-06 01:30 Reward: -0.02 Cumulative Reward:    -0.35 Execution Time: 0 days 00:00:40.128432 Mean Execution Time: 2.23s  Replay Buffer Size: 590\n",
      "Step    19 of   576 (  3%) Sim Time: 2023-07-06 01:35 Reward: -0.02 Cumulative Reward:    -0.37 Execution Time: 0 days 00:00:42.376897 Mean Execution Time: 2.23s  Replay Buffer Size: 590\n"
     ]
    },
    {
     "ename": "KeyboardInterrupt",
     "evalue": "",
     "output_type": "error",
     "traceback": [
      "\u001b[0;31m---------------------------------------------------------------------------\u001b[0m",
      "\u001b[0;31mKeyboardInterrupt\u001b[0m                         Traceback (most recent call last)",
      "Cell \u001b[0;32mIn[27], line 9\u001b[0m\n\u001b[1;32m      1\u001b[0m \u001b[38;5;66;03m# @title Populate the replay buffer with data from baseline control\u001b[39;00m\n\u001b[1;32m      2\u001b[0m initial_collect_actor \u001b[38;5;241m=\u001b[39m actor\u001b[38;5;241m.\u001b[39mActor(\n\u001b[1;32m      3\u001b[0m    initial_collect_env,\n\u001b[1;32m      4\u001b[0m    schedule_policy,\n\u001b[0;32m   (...)\u001b[0m\n\u001b[1;32m      7\u001b[0m    observers\u001b[38;5;241m=\u001b[39m[rb_observer, initial_collect_print_status_observer, initial_collect_render_plot_observer]\n\u001b[1;32m      8\u001b[0m )\n\u001b[0;32m----> 9\u001b[0m \u001b[43minitial_collect_actor\u001b[49m\u001b[38;5;241;43m.\u001b[39;49m\u001b[43mrun\u001b[49m\u001b[43m(\u001b[49m\u001b[43m)\u001b[49m\n\u001b[1;32m     10\u001b[0m reverb_replay\u001b[38;5;241m.\u001b[39mpy_client\u001b[38;5;241m.\u001b[39mcheckpoint()\n",
      "File \u001b[0;32m~/miniforge3/envs/sbsim2/lib/python3.10/site-packages/tf_agents/train/actor.py:167\u001b[0m, in \u001b[0;36mActor.run\u001b[0;34m(self)\u001b[0m\n\u001b[1;32m    166\u001b[0m \u001b[38;5;28;01mdef\u001b[39;00m \u001b[38;5;21mrun\u001b[39m(\u001b[38;5;28mself\u001b[39m):\n\u001b[0;32m--> 167\u001b[0m   \u001b[38;5;28mself\u001b[39m\u001b[38;5;241m.\u001b[39m_time_step, \u001b[38;5;28mself\u001b[39m\u001b[38;5;241m.\u001b[39m_policy_state \u001b[38;5;241m=\u001b[39m \u001b[38;5;28;43mself\u001b[39;49m\u001b[38;5;241;43m.\u001b[39;49m\u001b[43m_driver\u001b[49m\u001b[38;5;241;43m.\u001b[39;49m\u001b[43mrun\u001b[49m\u001b[43m(\u001b[49m\n\u001b[1;32m    168\u001b[0m \u001b[43m      \u001b[49m\u001b[38;5;28;43mself\u001b[39;49m\u001b[38;5;241;43m.\u001b[39;49m\u001b[43m_time_step\u001b[49m\u001b[43m,\u001b[49m\u001b[43m \u001b[49m\u001b[38;5;28;43mself\u001b[39;49m\u001b[38;5;241;43m.\u001b[39;49m\u001b[43m_policy_state\u001b[49m\n\u001b[1;32m    169\u001b[0m \u001b[43m  \u001b[49m\u001b[43m)\u001b[49m\n\u001b[1;32m    171\u001b[0m   \u001b[38;5;28;01mif\u001b[39;00m (\n\u001b[1;32m    172\u001b[0m       \u001b[38;5;28mself\u001b[39m\u001b[38;5;241m.\u001b[39m_write_summaries\n\u001b[1;32m    173\u001b[0m       \u001b[38;5;129;01mand\u001b[39;00m \u001b[38;5;28mself\u001b[39m\u001b[38;5;241m.\u001b[39m_summary_interval \u001b[38;5;241m>\u001b[39m \u001b[38;5;241m0\u001b[39m\n\u001b[1;32m    174\u001b[0m       \u001b[38;5;129;01mand\u001b[39;00m \u001b[38;5;28mself\u001b[39m\u001b[38;5;241m.\u001b[39m_train_step \u001b[38;5;241m-\u001b[39m \u001b[38;5;28mself\u001b[39m\u001b[38;5;241m.\u001b[39m_last_summary \u001b[38;5;241m>\u001b[39m\u001b[38;5;241m=\u001b[39m \u001b[38;5;28mself\u001b[39m\u001b[38;5;241m.\u001b[39m_summary_interval\n\u001b[1;32m    175\u001b[0m   ):\n\u001b[1;32m    176\u001b[0m     \u001b[38;5;28mself\u001b[39m\u001b[38;5;241m.\u001b[39mwrite_metric_summaries()\n",
      "File \u001b[0;32m~/miniforge3/envs/sbsim2/lib/python3.10/site-packages/tf_agents/drivers/py_driver.py:120\u001b[0m, in \u001b[0;36mPyDriver.run\u001b[0;34m(self, time_step, policy_state)\u001b[0m\n\u001b[1;32m    117\u001b[0m   policy_state \u001b[38;5;241m=\u001b[39m \u001b[38;5;28mself\u001b[39m\u001b[38;5;241m.\u001b[39m_policy\u001b[38;5;241m.\u001b[39mget_initial_state(\u001b[38;5;28mself\u001b[39m\u001b[38;5;241m.\u001b[39menv\u001b[38;5;241m.\u001b[39mbatch_size \u001b[38;5;129;01mor\u001b[39;00m \u001b[38;5;241m1\u001b[39m)\n\u001b[1;32m    119\u001b[0m action_step \u001b[38;5;241m=\u001b[39m \u001b[38;5;28mself\u001b[39m\u001b[38;5;241m.\u001b[39mpolicy\u001b[38;5;241m.\u001b[39maction(time_step, policy_state)\n\u001b[0;32m--> 120\u001b[0m next_time_step \u001b[38;5;241m=\u001b[39m \u001b[38;5;28;43mself\u001b[39;49m\u001b[38;5;241;43m.\u001b[39;49m\u001b[43menv\u001b[49m\u001b[38;5;241;43m.\u001b[39;49m\u001b[43mstep\u001b[49m\u001b[43m(\u001b[49m\u001b[43maction_step\u001b[49m\u001b[38;5;241;43m.\u001b[39;49m\u001b[43maction\u001b[49m\u001b[43m)\u001b[49m\n\u001b[1;32m    122\u001b[0m \u001b[38;5;66;03m# When using observer (for the purpose of training), only the previous\u001b[39;00m\n\u001b[1;32m    123\u001b[0m \u001b[38;5;66;03m# policy_state is useful. Therefore substitube it in the PolicyStep and\u001b[39;00m\n\u001b[1;32m    124\u001b[0m \u001b[38;5;66;03m# consume it w/ the observer.\u001b[39;00m\n\u001b[1;32m    125\u001b[0m action_step_with_previous_state \u001b[38;5;241m=\u001b[39m action_step\u001b[38;5;241m.\u001b[39m_replace(state\u001b[38;5;241m=\u001b[39mpolicy_state)\n",
      "File \u001b[0;32m~/miniforge3/envs/sbsim2/lib/python3.10/site-packages/tf_agents/environments/py_environment.py:236\u001b[0m, in \u001b[0;36mPyEnvironment.step\u001b[0;34m(self, action)\u001b[0m\n\u001b[1;32m    231\u001b[0m \u001b[38;5;28;01mif\u001b[39;00m \u001b[38;5;28mself\u001b[39m\u001b[38;5;241m.\u001b[39m_current_time_step \u001b[38;5;129;01mis\u001b[39;00m \u001b[38;5;28;01mNone\u001b[39;00m \u001b[38;5;129;01mor\u001b[39;00m \u001b[38;5;28mself\u001b[39m\u001b[38;5;241m.\u001b[39mshould_reset(\n\u001b[1;32m    232\u001b[0m     \u001b[38;5;28mself\u001b[39m\u001b[38;5;241m.\u001b[39m_current_time_step\n\u001b[1;32m    233\u001b[0m ):\n\u001b[1;32m    234\u001b[0m   \u001b[38;5;28;01mreturn\u001b[39;00m \u001b[38;5;28mself\u001b[39m\u001b[38;5;241m.\u001b[39mreset()\n\u001b[0;32m--> 236\u001b[0m \u001b[38;5;28mself\u001b[39m\u001b[38;5;241m.\u001b[39m_current_time_step \u001b[38;5;241m=\u001b[39m \u001b[38;5;28;43mself\u001b[39;49m\u001b[38;5;241;43m.\u001b[39;49m\u001b[43m_step\u001b[49m\u001b[43m(\u001b[49m\u001b[43maction\u001b[49m\u001b[43m)\u001b[49m\n\u001b[1;32m    237\u001b[0m \u001b[38;5;28;01mreturn\u001b[39;00m \u001b[38;5;28mself\u001b[39m\u001b[38;5;241m.\u001b[39m_current_time_step\n",
      "File \u001b[0;32m~/sbsim_dual_control/smart_control/environment/environment.py:1297\u001b[0m, in \u001b[0;36mEnvironment._step\u001b[0;34m(self, action)\u001b[0m\n\u001b[1;32m   1291\u001b[0m   \u001b[38;5;28mself\u001b[39m\u001b[38;5;241m.\u001b[39m_metrics_writer\u001b[38;5;241m.\u001b[39mwrite_action_response(\n\u001b[1;32m   1292\u001b[0m       action_response, \u001b[38;5;28mself\u001b[39m\u001b[38;5;241m.\u001b[39mcurrent_simulation_timestamp\n\u001b[1;32m   1293\u001b[0m   )\n\u001b[1;32m   1295\u001b[0m last_timestamp \u001b[38;5;241m=\u001b[39m \u001b[38;5;28mself\u001b[39m\u001b[38;5;241m.\u001b[39mcurrent_simulation_timestamp\n\u001b[0;32m-> 1297\u001b[0m \u001b[38;5;28;43mself\u001b[39;49m\u001b[38;5;241;43m.\u001b[39;49m\u001b[43mbuilding\u001b[49m\u001b[38;5;241;43m.\u001b[39;49m\u001b[43mwait_time\u001b[49m\u001b[43m(\u001b[49m\u001b[43m)\u001b[49m\n\u001b[1;32m   1299\u001b[0m observation \u001b[38;5;241m=\u001b[39m \u001b[38;5;28mself\u001b[39m\u001b[38;5;241m.\u001b[39m_get_observation()\n\u001b[1;32m   1301\u001b[0m \u001b[38;5;66;03m# We need to signal to the Actor that action was rejected and not to\u001b[39;00m\n\u001b[1;32m   1302\u001b[0m \u001b[38;5;66;03m# append this observation/action request to the trajectory.\u001b[39;00m\n\u001b[1;32m   1303\u001b[0m \u001b[38;5;66;03m# Since TimeStep cannot be extended and it is checked for NaNs,\u001b[39;00m\n\u001b[1;32m   1304\u001b[0m \u001b[38;5;66;03m# we apply -inf as a reward to indicate the rejection.\u001b[39;00m\n\u001b[1;32m   1305\u001b[0m \u001b[38;5;66;03m# This requires a specialized Actor extension class to handle the\u001b[39;00m\n\u001b[1;32m   1306\u001b[0m \u001b[38;5;66;03m# rejection.\u001b[39;00m\n",
      "File \u001b[0;32m~/sbsim_dual_control/smart_control/simulator/simulator_building.py:268\u001b[0m, in \u001b[0;36mSimulatorBuilding.wait_time\u001b[0;34m(self)\u001b[0m\n\u001b[1;32m    266\u001b[0m \u001b[38;5;250m\u001b[39m\u001b[38;5;124;03m\"\"\"Returns after a certain amount of time.\"\"\"\u001b[39;00m\n\u001b[1;32m    267\u001b[0m \u001b[38;5;66;03m# Update the building state.\u001b[39;00m\n\u001b[0;32m--> 268\u001b[0m \u001b[38;5;28;43mself\u001b[39;49m\u001b[38;5;241;43m.\u001b[39;49m\u001b[43m_simulator\u001b[49m\u001b[38;5;241;43m.\u001b[39;49m\u001b[43mexecute_step_sim\u001b[49m\u001b[43m(\u001b[49m\u001b[43m)\u001b[49m\n",
      "File \u001b[0;32m~/sbsim_dual_control/smart_control/simulator/simulator_flexible_floor_plan.py:134\u001b[0m, in \u001b[0;36mSimulatorFlexibleGeometries.execute_step_sim\u001b[0;34m(self, video_filename)\u001b[0m\n\u001b[1;32m    130\u001b[0m hvac \u001b[38;5;241m=\u001b[39m \u001b[38;5;28mself\u001b[39m\u001b[38;5;241m.\u001b[39m_hvac\n\u001b[1;32m    132\u001b[0m \u001b[38;5;66;03m# Get the average temps in each zone. Assumes that the thermostat reads\u001b[39;00m\n\u001b[1;32m    133\u001b[0m \u001b[38;5;66;03m# the average room temperatures.\u001b[39;00m\n\u001b[0;32m--> 134\u001b[0m avg_temps \u001b[38;5;241m=\u001b[39m \u001b[38;5;28;43mself\u001b[39;49m\u001b[38;5;241;43m.\u001b[39;49m\u001b[43m_building\u001b[49m\u001b[38;5;241;43m.\u001b[39;49m\u001b[43mget_zone_average_temps\u001b[49m\u001b[43m(\u001b[49m\u001b[43m)\u001b[49m\n\u001b[1;32m    136\u001b[0m \u001b[38;5;66;03m# Recirculation temperature at the air handler is the global average.\u001b[39;00m\n\u001b[1;32m    137\u001b[0m recirculation_temp \u001b[38;5;241m=\u001b[39m \u001b[38;5;28mself\u001b[39m\u001b[38;5;241m.\u001b[39m_building\u001b[38;5;241m.\u001b[39mtemp\u001b[38;5;241m.\u001b[39mmean()\n",
      "File \u001b[0;32m~/sbsim_dual_control/smart_control/simulator/building.py:869\u001b[0m, in \u001b[0;36mFloorPlanBasedBuilding.get_zone_average_temps\u001b[0;34m(self)\u001b[0m\n\u001b[1;32m    867\u001b[0m \u001b[38;5;28;01mfor\u001b[39;00m zone \u001b[38;5;129;01min\u001b[39;00m \u001b[38;5;28mself\u001b[39m\u001b[38;5;241m.\u001b[39m_room_dict\u001b[38;5;241m.\u001b[39mkeys():\n\u001b[1;32m    868\u001b[0m   \u001b[38;5;28;01mif\u001b[39;00m zone\u001b[38;5;241m.\u001b[39mstartswith(constants\u001b[38;5;241m.\u001b[39mROOM_STRING_DESIGNATOR):\n\u001b[0;32m--> 869\u001b[0m     _, _, avg_temp \u001b[38;5;241m=\u001b[39m \u001b[38;5;28;43mself\u001b[39;49m\u001b[38;5;241;43m.\u001b[39;49m\u001b[43mget_zone_temp_stats\u001b[49m\u001b[43m(\u001b[49m\u001b[43mzone\u001b[49m\u001b[43m)\u001b[49m\n\u001b[1;32m    870\u001b[0m     avg_temps[zone] \u001b[38;5;241m=\u001b[39m avg_temp\n\u001b[1;32m    871\u001b[0m \u001b[38;5;28;01mreturn\u001b[39;00m avg_temps\n",
      "File \u001b[0;32m~/sbsim_dual_control/smart_control/simulator/building.py:861\u001b[0m, in \u001b[0;36mFloorPlanBasedBuilding.get_zone_temp_stats\u001b[0;34m(self, zone_name)\u001b[0m\n\u001b[1;32m    859\u001b[0m zone_coordinates \u001b[38;5;241m=\u001b[39m \u001b[38;5;28mself\u001b[39m\u001b[38;5;241m.\u001b[39m_room_dict[zone_name]\n\u001b[1;32m    860\u001b[0m temps \u001b[38;5;241m=\u001b[39m [\u001b[38;5;28mself\u001b[39m\u001b[38;5;241m.\u001b[39mtemp[coord] \u001b[38;5;28;01mfor\u001b[39;00m coord \u001b[38;5;129;01min\u001b[39;00m zone_coordinates]\n\u001b[0;32m--> 861\u001b[0m \u001b[38;5;28;01mreturn\u001b[39;00m np\u001b[38;5;241m.\u001b[39mmin(temps), np\u001b[38;5;241m.\u001b[39mmax(temps), \u001b[43mnp\u001b[49m\u001b[38;5;241;43m.\u001b[39;49m\u001b[43mmean\u001b[49m\u001b[43m(\u001b[49m\u001b[43mtemps\u001b[49m\u001b[43m)\u001b[49m\n",
      "File \u001b[0;32m~/miniforge3/envs/sbsim2/lib/python3.10/site-packages/numpy/core/fromnumeric.py:3504\u001b[0m, in \u001b[0;36mmean\u001b[0;34m(a, axis, dtype, out, keepdims, where)\u001b[0m\n\u001b[1;32m   3501\u001b[0m     \u001b[38;5;28;01melse\u001b[39;00m:\n\u001b[1;32m   3502\u001b[0m         \u001b[38;5;28;01mreturn\u001b[39;00m mean(axis\u001b[38;5;241m=\u001b[39maxis, dtype\u001b[38;5;241m=\u001b[39mdtype, out\u001b[38;5;241m=\u001b[39mout, \u001b[38;5;241m*\u001b[39m\u001b[38;5;241m*\u001b[39mkwargs)\n\u001b[0;32m-> 3504\u001b[0m \u001b[38;5;28;01mreturn\u001b[39;00m \u001b[43m_methods\u001b[49m\u001b[38;5;241;43m.\u001b[39;49m\u001b[43m_mean\u001b[49m\u001b[43m(\u001b[49m\u001b[43ma\u001b[49m\u001b[43m,\u001b[49m\u001b[43m \u001b[49m\u001b[43maxis\u001b[49m\u001b[38;5;241;43m=\u001b[39;49m\u001b[43maxis\u001b[49m\u001b[43m,\u001b[49m\u001b[43m \u001b[49m\u001b[43mdtype\u001b[49m\u001b[38;5;241;43m=\u001b[39;49m\u001b[43mdtype\u001b[49m\u001b[43m,\u001b[49m\n\u001b[1;32m   3505\u001b[0m \u001b[43m                      \u001b[49m\u001b[43mout\u001b[49m\u001b[38;5;241;43m=\u001b[39;49m\u001b[43mout\u001b[49m\u001b[43m,\u001b[49m\u001b[43m \u001b[49m\u001b[38;5;241;43m*\u001b[39;49m\u001b[38;5;241;43m*\u001b[39;49m\u001b[43mkwargs\u001b[49m\u001b[43m)\u001b[49m\n",
      "File \u001b[0;32m~/miniforge3/envs/sbsim2/lib/python3.10/site-packages/numpy/core/_methods.py:102\u001b[0m, in \u001b[0;36m_mean\u001b[0;34m(a, axis, dtype, out, keepdims, where)\u001b[0m\n\u001b[1;32m    101\u001b[0m \u001b[38;5;28;01mdef\u001b[39;00m \u001b[38;5;21m_mean\u001b[39m(a, axis\u001b[38;5;241m=\u001b[39m\u001b[38;5;28;01mNone\u001b[39;00m, dtype\u001b[38;5;241m=\u001b[39m\u001b[38;5;28;01mNone\u001b[39;00m, out\u001b[38;5;241m=\u001b[39m\u001b[38;5;28;01mNone\u001b[39;00m, keepdims\u001b[38;5;241m=\u001b[39m\u001b[38;5;28;01mFalse\u001b[39;00m, \u001b[38;5;241m*\u001b[39m, where\u001b[38;5;241m=\u001b[39m\u001b[38;5;28;01mTrue\u001b[39;00m):\n\u001b[0;32m--> 102\u001b[0m     arr \u001b[38;5;241m=\u001b[39m \u001b[43masanyarray\u001b[49m\u001b[43m(\u001b[49m\u001b[43ma\u001b[49m\u001b[43m)\u001b[49m\n\u001b[1;32m    104\u001b[0m     is_float16_result \u001b[38;5;241m=\u001b[39m \u001b[38;5;28;01mFalse\u001b[39;00m\n\u001b[1;32m    106\u001b[0m     rcount \u001b[38;5;241m=\u001b[39m _count_reduce_items(arr, axis, keepdims\u001b[38;5;241m=\u001b[39mkeepdims, where\u001b[38;5;241m=\u001b[39mwhere)\n",
      "\u001b[0;31mKeyboardInterrupt\u001b[0m: "
     ]
    }
   ],
   "source": [
    "# @title Populate the replay buffer with data from baseline control\n",
    "initial_collect_actor = actor.Actor(\n",
    "   initial_collect_env,\n",
    "   schedule_policy,\n",
    "   train_step,\n",
    "   steps_per_run=initial_collect_env._num_timesteps_in_episode,\n",
    "   observers=[rb_observer, initial_collect_print_status_observer, initial_collect_render_plot_observer]\n",
    ")\n",
    "initial_collect_actor.run()\n",
    "reverb_replay.py_client.checkpoint()"
   ]
  },
  {
   "cell_type": "markdown",
   "metadata": {
    "id": "y3ZzWxqIunCz"
   },
   "source": [
    "Next wrap the replay buffer into a TF dataset."
   ]
  },
  {
   "cell_type": "code",
   "execution_count": 40,
   "metadata": {
    "cellView": "form",
    "id": "ba7bilizt_qW",
    "scrolled": true
   },
   "outputs": [
    {
     "data": {
      "text/plain": [
       "<_BatchDataset element_spec=(Trajectory(\n",
       "{'action': TensorSpec(shape=(256, 2, 2), dtype=tf.float32, name=None),\n",
       " 'discount': TensorSpec(shape=(256, 2), dtype=tf.float32, name=None),\n",
       " 'next_step_type': TensorSpec(shape=(256, 2), dtype=tf.int32, name=None),\n",
       " 'observation': TensorSpec(shape=(256, 2, 53), dtype=tf.float32, name=None),\n",
       " 'policy_info': (),\n",
       " 'reward': TensorSpec(shape=(256, 2), dtype=tf.float32, name=None),\n",
       " 'step_type': TensorSpec(shape=(256, 2), dtype=tf.int32, name=None)}), SampleInfo(key=TensorSpec(shape=(256, 2), dtype=tf.uint64, name=None), probability=TensorSpec(shape=(256, 2), dtype=tf.float64, name=None), table_size=TensorSpec(shape=(256, 2), dtype=tf.int64, name=None), priority=TensorSpec(shape=(256, 2), dtype=tf.float64, name=None), times_sampled=TensorSpec(shape=(256, 2), dtype=tf.int32, name=None)))>"
      ]
     },
     "execution_count": 40,
     "metadata": {},
     "output_type": "execute_result"
    }
   ],
   "source": [
    "# @title Make a TF Dataset\n",
    "# Dataset generates trajectories with shape [Bx2x...]\n",
    "dataset = reverb_replay.as_dataset(\n",
    "    num_parallel_calls=3,\n",
    "    sample_batch_size=batch_size,\n",
    "    num_steps=2)\n",
    "\n",
    "dataset"
   ]
  },
  {
   "cell_type": "code",
   "execution_count": 529,
   "metadata": {},
   "outputs": [
    {
     "name": "stderr",
     "output_type": "stream",
     "text": [
      "[reverb/cc/client.cc:165] Sampler and server are owned by the same process (2407048) so Table uniform_table is accessed directly without gRPC.\n"
     ]
    }
   ],
   "source": [
    "experience_batch, info = next(iter(dataset))\n",
    "states, actions, rewards = experience_batch.observation, experience_batch.action, experience_batch.reward\n",
    "at, atp1 = actions[:,0,:], actions[:, 1, :]\n",
    "st, stp1 = states[:,0,:], states[:, 1, :]\n",
    "# all useless: experience_batch.next_step_type, .step_type, .discount, .next_step_type, .policy_info"
   ]
  },
  {
   "cell_type": "markdown",
   "metadata": {
    "id": "wAdbomqlyqpz"
   },
   "source": [
    "Set the number of training steps in a training iteration. This is the number of collect steps between gradient updates.\n",
    "\n",
    "Here we set the number of training steps to the length of a full episode."
   ]
  },
  {
   "cell_type": "code",
   "execution_count": 35,
   "metadata": {
    "id": "6iWtSC-FKHMW"
   },
   "outputs": [
    {
     "data": {
      "text/plain": [
       "576"
      ]
     },
     "execution_count": 35,
     "metadata": {},
     "output_type": "execute_result"
    }
   ],
   "source": [
    "collect_steps_per_treining_iteration = collect_env._num_timesteps_in_episode\n",
    "collect_steps_per_treining_iteration"
   ]
  },
  {
   "cell_type": "markdown",
   "metadata": {
    "id": "BdKA4Jy4YfJM"
   },
   "source": [
    "Next, we will define a *collect actor* and an *eval actor* that wrap the policy and the environment, and can execute and collect metrics.\n",
    "\n",
    "The principal difference between the collect actor and the eval actor, is that the collect actor will choose actions by drawing off the actor network distribution, choosing actions that have a high probability over actions with lower probability. This stochastic property enables the agent explore bettwer actions and improve the policy.\n",
    "\n",
    "However, the eval actor always chooses the action associated with the highest probability."
   ]
  },
  {
   "cell_type": "markdown",
   "metadata": {
    "id": "-YqfMl5FuQpf"
   },
   "source": [
    "Here, we extract the collect and evaluation policies for training."
   ]
  },
  {
   "cell_type": "code",
   "execution_count": 36,
   "metadata": {
    "cellView": "form",
    "id": "TzwSaxYkeTh5"
   },
   "outputs": [],
   "source": [
    "# @title Convert the policies into TF Eager Policies\n",
    "\n",
    "tf_collect_policy = agent.collect_policy\n",
    "collect_actor_policy = py_tf_eager_policy.PyTFEagerPolicy(tf_collect_policy, use_tf_function=True)\n",
    "env_step_metric = py_metrics.EnvironmentSteps()\n",
    "collect_actor = actor.Actor(\n",
    "    collect_env,\n",
    "    collect_policy,\n",
    "    train_step,\n",
    "    steps_per_run=collect_steps_per_treining_iteration,\n",
    "    metrics=actor.collect_metrics(1),\n",
    "    summary_dir=os.path.join(root_dir, learner.TRAIN_DIR),\n",
    "    summary_interval=1,\n",
    "    observers=[\n",
    "        rb_observer,\n",
    "        env_step_metric,\n",
    "        collect_print_status_observer,\n",
    "        collect_render_plot_observer,\n",
    "    ],\n",
    ")"
   ]
  },
  {
   "cell_type": "code",
   "execution_count": 37,
   "metadata": {
    "cellView": "form",
    "id": "LWsI9znlqLvh"
   },
   "outputs": [],
   "source": [
    "# @title Define a TF-Agents Actor for collect and eval\n",
    "\n",
    "\n",
    "\n",
    "tf_greedy_policy = greedy_policy.GreedyPolicy(agent.policy)\n",
    "eval_greedy_policy = py_tf_eager_policy.PyTFEagerPolicy(\n",
    "    tf_greedy_policy, use_tf_function=True\n",
    ")\n",
    "\n",
    "eval_actor = actor.Actor(\n",
    "    eval_env,\n",
    "    eval_greedy_policy,\n",
    "    train_step,\n",
    "    episodes_per_run=1,\n",
    "    metrics=actor.eval_metrics(1),\n",
    "    summary_dir=os.path.join(root_dir, 'eval'),\n",
    "    summary_interval=1,\n",
    "    observers=[rb_observer, eval_print_status_observer, eval_render_plot_observer],\n",
    ")"
   ]
  },
  {
   "cell_type": "markdown",
   "metadata": {
    "id": "qtoqyo8Ypn0Q"
   },
   "source": [
    "We will set the interval of saving the policies and writing critic, actor, and alphs losses.\n"
   ]
  },
  {
   "cell_type": "code",
   "execution_count": 38,
   "metadata": {
    "id": "xums9Kxkxylw"
   },
   "outputs": [],
   "source": [
    "policy_save_interval = 1 # Save the policy after every learning step.\n",
    "learner_summary_interval = 1 # Produce a summary of the critic, actor, and alpha losses after every gradient update step."
   ]
  },
  {
   "cell_type": "markdown",
   "metadata": {
    "id": "al5HNoiwvYO-"
   },
   "source": [
    "In the following cell we will define the agent learner, a TF-Agents wrapper around the process that performs gradiant-based updates to the actor and critic networks in the agent.\n",
    "\n",
    "You should see a statememt that shows you where the policies will be saved to."
   ]
  },
  {
   "cell_type": "code",
   "execution_count": 41,
   "metadata": {
    "cellView": "form",
    "id": "Ah4oS9HLwOid"
   },
   "outputs": [
    {
     "name": "stdout",
     "output_type": "stream",
     "text": [
      "Policies will be saved to saved_model_dir: /burg/home/ssa2206/sbsim_dual_control/root/policies\n"
     ]
    }
   ],
   "source": [
    "# @title Define an Agent Learner\n",
    "\n",
    "experience_dataset_fn = lambda: dataset\n",
    "\n",
    "saved_model_dir = os.path.join(root_dir, learner.POLICY_SAVED_MODEL_DIR)\n",
    "print('Policies will be saved to saved_model_dir: %s' % saved_model_dir)\n",
    "\n",
    "learning_triggers = [\n",
    "      triggers.PolicySavedModelTrigger(\n",
    "          saved_model_dir,\n",
    "          agent,\n",
    "          train_step,\n",
    "          interval=policy_save_interval,\n",
    "          metadata_metrics={triggers.ENV_STEP_METADATA_KEY: env_step_metric},\n",
    "      ),\n",
    "      triggers.StepPerSecondLogTrigger(train_step, interval=10),\n",
    "]\n",
    "\n",
    "agent_learner = learner.Learner(\n",
    "      root_dir,\n",
    "      train_step,\n",
    "      agent,\n",
    "      experience_dataset_fn,\n",
    "      triggers=learning_triggers,\n",
    "      strategy=None,\n",
    "      summary_interval=learner_summary_interval,\n",
    ")\n"
   ]
  },
  {
   "cell_type": "code",
   "execution_count": null,
   "metadata": {},
   "outputs": [],
   "source": []
  },
  {
   "cell_type": "markdown",
   "metadata": {},
   "source": [
    "# Model Free Baseline"
   ]
  },
  {
   "cell_type": "code",
   "execution_count": 52,
   "metadata": {},
   "outputs": [],
   "source": [
    "# Redirect stdout to a file\n",
    "original_stdout = sys.stdout  # Save the original stdout"
   ]
  },
  {
   "cell_type": "code",
   "execution_count": 53,
   "metadata": {},
   "outputs": [
    {
     "name": "stdout",
     "output_type": "stream",
     "text": [
      "5\n"
     ]
    }
   ],
   "source": [
    "print(5)"
   ]
  },
  {
   "cell_type": "code",
   "execution_count": 50,
   "metadata": {},
   "outputs": [],
   "source": [
    "save_to_file = False"
   ]
  },
  {
   "cell_type": "code",
   "execution_count": 54,
   "metadata": {
    "scrolled": false
   },
   "outputs": [],
   "source": [
    "# @title Execute the training loop\n",
    "def train_SAC_baseline():\n",
    "    num_training_iterations = 10\n",
    "    num_gradient_updates_per_training_iteration = 100\n",
    "\n",
    "    # Collect the performance results with teh untrained model.\n",
    "    eval_actor.run_and_log()\n",
    "\n",
    "    logging_info('Training.')\n",
    "\n",
    "    # log_dir = root_dir + '/train'\n",
    "    # with tf.summary.create_file_writer(log_dir).as_default() as writer:   \n",
    "    for iter in range(num_training_iterations):\n",
    "        print('Training iteration: ', iter)\n",
    "        # Let the collect actor run, using its stochastic action selection policy.\n",
    "        collect_actor.run()\n",
    "        logging_info(\n",
    "            'Executing %d gradient updates.'\n",
    "            %num_gradient_updates_per_training_iteration\n",
    "        )\n",
    "        # Now, with the additional collectsteps in the replay buffer,\n",
    "        # allow the agent to make additional policy improvements.\n",
    "        loss_info = agent_learner.run(\n",
    "            iterations=num_gradient_updates_per_training_iteration\n",
    "        )\n",
    "\n",
    "        # writer.flush()\n",
    "        logging_info(\n",
    "            'Actor Loss: %6.2f, Critic Loss: %6.2f, Alpha Loss: %6.2f '\n",
    "            % (\n",
    "                loss_info.extra.actor_loss.numpy(),\n",
    "                loss_info.extra.critic_loss.numpy(),\n",
    "                loss_info.extra.alpha_loss.numpy(),\n",
    "            )\n",
    "        )\n",
    "\n",
    "        logging_info('Evaluating.')\n",
    "\n",
    "        _ = eval_env.reset()\n",
    "        # Run the eval actor after the training iteration, and get its performance.\n",
    "        eval_actor.run_and_log()\n",
    "        # Flush the buffer every `flush_frequency` iterations\n",
    "        if iter % flush_frequency == 0:\n",
    "            f.flush()\n",
    "\n",
    "    rb_observer.close()\n",
    "    reverb_server.stop()"
   ]
  },
  {
   "cell_type": "code",
   "execution_count": 57,
   "metadata": {},
   "outputs": [],
   "source": [
    "train_baseline = False"
   ]
  },
  {
   "cell_type": "code",
   "execution_count": 58,
   "metadata": {},
   "outputs": [],
   "source": [
    "if(save_to_file and train_baseline):\n",
    "    print(\"Sending output to text file\")\n",
    "    with open('/burg/home/ssa2206/sbsim_dual_control/smart_control/notebooks/logs/SAC_training.txt', 'w') as f:\n",
    "        sys.stdout = f  # Redirect stdout to the file\n",
    "        try:\n",
    "            train_SAC_baseline()\n",
    "\n",
    "        finally:\n",
    "            sys.stdout = original_stdout  # Restore original stdout\n",
    "            print(\"Finished training run\")\n",
    "elif(train_baseline):\n",
    "    train_SAC_baseline()"
   ]
  },
  {
   "cell_type": "markdown",
   "metadata": {},
   "source": [
    "# Define the World Model\n",
    "\n",
    "\n"
   ]
  },
  {
   "cell_type": "code",
   "execution_count": 49,
   "metadata": {},
   "outputs": [],
   "source": [
    "\n",
    "class KoopmanRLS(tf.keras.Model):\n",
    "    def __init__(self, state_dim, action_dim, lambda_f=0.90, initial_variance=1.0):\n",
    "        \"\"\"\n",
    "        Recursive Least Squares Linear World Model\n",
    "        \n",
    "        Args:\n",
    "        - state_dim: Dimensionality of state vector\n",
    "        - action_dim: Dimensionality of action vector\n",
    "        - forgetting_factor: Controls how quickly old observations are discounted\n",
    "        - initial_variance: Initial diagonal value for inverse covariance matrix\n",
    "        \"\"\"\n",
    "        super(KoopmanRLS, self).__init__()\n",
    "        \n",
    "        # RLS parameters\n",
    "        self.state_dim, self.action_dim, self.total_input_dim = state_dim, action_dim, state_dim + action_dim # 53, 2, 55\n",
    "        self.lambda_factor, self.initial_variance = lambda_f, initial_variance\n",
    "        self.momentum = 0.4\n",
    "        self.stability_threshold = 0.99\n",
    "        # Model parameters\n",
    "        self.theta = tf.Variable(tf.random.normal([self.total_input_dim, self.state_dim]), trainable=False, dtype=tf.float32)\n",
    "        self.P = tf.Variable(initial_variance * tf.eye(self.total_input_dim), trainable=False, dtype=tf.float32)\n",
    "\n",
    "        # Metrics\n",
    "        self.prediction_errors = []\n",
    "        self.parameter_uncertainties = []\n",
    "        self.debug_logs = dict(gains=[], denominators=[], inputs=[], theta=[], P=[])\n",
    "\n",
    "        # Initialize running statistics\n",
    "        self.mean = tf.Variable(tf.zeros([self.total_input_dim]), trainable=False, dtype=tf.float32)\n",
    "        self.std = tf.Variable(tf.ones([self.total_input_dim]), trainable=False, dtype=tf.float32)\n",
    "        self.first_input = True\n",
    "    \n",
    "    def project_dynamics(self):\n",
    "        \"\"\"Project dynamics matrix to have singular values <= threshold\"\"\"\n",
    "        s, U, Vh = tf.linalg.svd(self.theta)\n",
    "        s_clipped = tf.clip_by_value(s, -self.stability_threshold, self.stability_threshold)\n",
    "        self.theta.assign(tf.matmul(U, tf.matmul(tf.linalg.diag(s_clipped), Vh)))\n",
    "\n",
    "    \n",
    "    @property\n",
    "    def A(self):\n",
    "        \"\"\"Extract A matrix from theta\"\"\"\n",
    "        return self.theta[:self.state_dim]\n",
    "\n",
    "    @property\n",
    "    def B(self):\n",
    "        \"\"\"Extract B matrix from theta\"\"\"\n",
    "        return self.theta[self.state_dim:]\n",
    "    \n",
    "    def call(self, states, actions):\n",
    "        \"\"\"\n",
    "        Predict next states using current A and B matrices\n",
    "        Args:\n",
    "        - states: Current states (batch_size, state_dim)\n",
    "        - actions: Actions taken (batch_size, action_dim)\n",
    "        \"\"\"\n",
    "        # normalize inputs, apply theta, denormalize\n",
    "        inputs = tf.concat([states, actions], axis=-1)\n",
    "        normalized_inputs = (inputs - self.mean) / self.std\n",
    "        output = (normalized_inputs @ self.theta) * self.std[:self.state_dim] + self.mean[:self.state_dim]\n",
    "        return output\n",
    "    \n",
    "    def reset(self):\n",
    "        \"\"\"Reset model parameters and statistics.\"\"\"\n",
    "        self.theta.assign(tf.random.normal([self.total_input_dim, self.state_dim]))\n",
    "        self.P.assign(self.initial_variance * tf.eye(self.total_input_dim))\n",
    "        self.mean.assign(tf.zeros([self.total_input_dim]))\n",
    "        self.variance.assign(tf.ones([self.total_input_dim]))\n",
    "        self.prediction_errors = []\n",
    "        self.parameter_uncertainties = []\n",
    "    \n",
    "    def update_running_stats(self, inputs):\n",
    "        new_mean = tf.reduce_mean(inputs, axis=0)\n",
    "        new_std = tf.sqrt(tf.reduce_mean(tf.square(inputs - new_mean), axis=0))\n",
    "        if(not self.first_input):\n",
    "            new_mean = self.momentum * self.mean + (1 - self.momentum) * new_mean\n",
    "            new_std = self.momentum * self.std + (1 - self.momentum) * new_std\n",
    "        else:\n",
    "            self.first_input = False\n",
    "        self.mean.assign(new_mean)\n",
    "        self.std.assign(new_std + 1e-5)\n",
    "        return (inputs - self.mean) / self.std \n",
    "    \n",
    "    def update(self, states, actions, next_states, debug=False):\n",
    "        \"\"\"\n",
    "        Vectorized RLS update for batch inputs\n",
    "        \n",
    "        Args:\n",
    "        - states: Batch of current states [batch_size, state_dim]\n",
    "        - actions: Batch of actions [batch_size, action_dim]\n",
    "        - next_states: Batch of next states [batch_size, state_dim]\n",
    "        \"\"\"\n",
    "        inputs = tf.concat([states, actions], axis=-1) # (batch_size, total_input_dim)\n",
    "        batch_size = inputs.shape[0]\n",
    "        inputs = self.update_running_stats(inputs)\n",
    "        predictions = inputs @ self.theta # (batch_size, total_input_dim) * (total_input_dim, state_dim) = (batch_size, state_dim)\n",
    "        # Normalize predictions before computing innovation\n",
    "        normalized_next_states = (next_states - self.mean[:self.state_dim]) / self.std[:self.state_dim]\n",
    "        innovation = normalized_next_states - predictions # (prediction error) [batch_size, state_dim]\n",
    "        \n",
    "        P_X = self.P @ tf.transpose(inputs) # (total_input_dim, total_input_dim) * (total_input_dim, batch_size) = (total_input_dim, batch_size)\n",
    "        # Denominator term (λ + X @ P @ X^T) [batch_size, batch_size]\n",
    "        R = inputs @ P_X # (batch_size, total_input_dim) * (total_input_dim, batch_size) = (batch_size, batch_size)\n",
    "        denominator = self.lambda_factor * tf.eye(batch_size) + R # (batch_size, batch_size)\n",
    "        kalman_gain = P_X @ tf.linalg.inv(denominator) # (total_input_dim * batch_size) * (batch_size, batch_size)\n",
    "        self.theta.assign_add(kalman_gain @ innovation)\n",
    "        \n",
    "        P_new = (self.P - (kalman_gain @ inputs @ self.P)) / self.lambda_factor\n",
    "        self.P.assign(P_new)         # Update precision matrix\n",
    "        \n",
    "        # Store metrics\n",
    "\n",
    "        if debug:\n",
    "            self.prediction_errors.append(tf.reduce_mean(tf.square(innovation)).numpy())\n",
    "            self.parameter_uncertainties.append(tf.linalg.trace(self.P).numpy())\n",
    "            self.debug_logs['gains'].append(kalman_gain.numpy()     )\n",
    "            self.debug_logs['denominators'].append(denominator.numpy())\n",
    "            self.debug_logs['inputs'].append(inputs.numpy())\n",
    "            self.debug_logs['theta'].append(self.theta.numpy())\n",
    "            self.debug_logs['P'].append(self.P.numpy())\n",
    "        return innovation\n",
    "\n",
    "    def save_weights(self, filepath):\n",
    "        \"\"\"Save model parameters.\"\"\"\n",
    "        weights = {\n",
    "            'theta': self.theta.numpy(),\n",
    "            'P': self.P.numpy(),\n",
    "            'mean': self.mean.numpy(),\n",
    "            'variance': self.variance.numpy()\n",
    "        }\n",
    "        np.save(filepath, weights)\n",
    "\n",
    "    def load_weights(self, filepath):\n",
    "        \"\"\"Load model parameters.\"\"\"\n",
    "        weights = np.load(filepath, allow_pickle=True).item()\n",
    "        self.theta.assign(weights['theta'])\n",
    "        self.P.assign(weights['P'])\n",
    "        self.mean.assign(weights['mean'])\n",
    "        self.variance.assign(weights['variance'])\n"
   ]
  },
  {
   "cell_type": "code",
   "execution_count": 63,
   "metadata": {},
   "outputs": [],
   "source": [
    "class LinearWorldModel(tf.keras.Model):\n",
    "    def __init__(self, state_dim, action_dim, hidden_dim=128, stabilize_dynamics=True):\n",
    "        super(LinearWorldModel, self).__init__()\n",
    "        # RNN for state transitions\n",
    "        self.rnn = tf.keras.layers.LSTM(hidden_dim, return_sequences=True, return_state=True)\n",
    "        # Networks for predicting next state and reward\n",
    "        self.state_predictor = KoopmanRLS(state_dim, action_dim, lambda_f=0.95, initial_variance=1.0)\n",
    "        self.reward_predictor = tf.keras.Sequential([\n",
    "            tf.keras.layers.Dense(hidden_dim, activation='relu'),\n",
    "            tf.keras.layers.Dense(1)\n",
    "        ])\n",
    "\n",
    "        self.optimizer = tf.keras.optimizers.Adam(learning_rate=1e-3)\n",
    "        self.stabilize_dynamics = stabilize_dynamics\n",
    "\n",
    "    def call(self, states, actions):\n",
    "        next_states = self.state_predictor(states, actions)  # Direct prediction of next state\n",
    "        # Reshape inputs to (batch_size, timesteps=1, features) and concat along feature dimension\n",
    "        x = tf.concat([tf.expand_dims(states, axis=1), tf.expand_dims(actions, axis=1)], axis=-1)\n",
    "        rnn_out, hidden_state, cell_state = self.rnn(x)\n",
    "        rewards = self.reward_predictor(rnn_out[:, 0, :])\n",
    "        return next_states, rewards, (hidden_state, cell_state)\n",
    "    \n",
    "    def train_step(self, states, actions, next_states, rewards):\n",
    "        self.state_predictor.update(states, actions, next_states, debug=True)\n",
    "        if(self.stabilize_dynamics):\n",
    "            self.state_predictor.project_dynamics()\n",
    "        with tf.GradientTape() as tape:\n",
    "            # Get predictions (remove time dimension for single step prediction)\n",
    "            next_state_preds, pred_rewards, info = self(states, actions)\n",
    "            reward_loss = tf.reduce_mean(tf.square(pred_rewards - tf.expand_dims(rewards, -1)))\n",
    "            grads = tape.gradient(reward_loss, self.trainable_variables)\n",
    "            self.optimizer.apply_gradients(zip(grads, self.trainable_variables))\n",
    "    \n",
    "    def train(self, replay_buffer, batch_size=256, training_steps=64):\n",
    "        dataset = replay_buffer.as_dataset(\n",
    "            num_parallel_calls=3,\n",
    "            sample_batch_size=batch_size,\n",
    "            num_steps=2\n",
    "        ).take(training_steps)\n",
    "        all_states = []\n",
    "        for step, (experience_batch, sample_info) in enumerate(dataset):\n",
    "            states, actions, rewards = experience_batch.observation, experience_batch.action, experience_batch.reward\n",
    "            at, atp1 = actions[:,0,:], actions[:, 1, :]\n",
    "            st, stp1 = states[:,0,:], states[:, 1, :]\n",
    "            rt = rewards[:, 0]  # Select first timestep rewards\n",
    "            self.train_step(st, at, stp1, rt)\n",
    "            all_states.append(st.numpy())\n",
    "        return(all_states)"
   ]
  },
  {
   "cell_type": "code",
   "execution_count": 70,
   "metadata": {},
   "outputs": [],
   "source": [
    "world_model = LinearWorldModel(53, 2, stabilize_dynamics=True)"
   ]
  },
  {
   "cell_type": "code",
   "execution_count": 71,
   "metadata": {
    "scrolled": false
   },
   "outputs": [],
   "source": [
    "all_states = world_model.train(replay_buffer=reverb_replay, batch_size=128, training_steps=256)"
   ]
  },
  {
   "cell_type": "code",
   "execution_count": 79,
   "metadata": {},
   "outputs": [
    {
     "data": {
      "text/plain": [
       "'/burg/home/ssa2206/sbsim_dual_control/metrics'"
      ]
     },
     "execution_count": 79,
     "metadata": {},
     "output_type": "execute_result"
    }
   ],
   "source": [
    "metrics_path"
   ]
  },
  {
   "cell_type": "code",
   "execution_count": 80,
   "metadata": {},
   "outputs": [
    {
     "data": {
      "image/png": "[encoded data removed]",
      "text/plain": [
       "<Figure size 640x480 with 1 Axes>"
      ]
     },
     "metadata": {},
     "output_type": "display_data"
    }
   ],
   "source": [
    "plt.plot(world_model.state_predictor.prediction_errors, c='red')\n",
    "plt.title(\"RLS Online Filtering Algorithm\")\n",
    "plt.xlabel(\"Batches\")\n",
    "plt.ylabel(\"Innovation (Error)\")\n",
    "plt.yscale(\"log\")\n",
    "plt.savefig(\"/burg/home/ssa2206/sbsim_dual_control/smart_control/notebooks/RLS.png\")"
   ]
  },
  {
   "cell_type": "code",
   "execution_count": 69,
   "metadata": {},
   "outputs": [
    {
     "data": {
      "text/plain": [
       "[<matplotlib.lines.Line2D at 0x15537bfc3b20>]"
      ]
     },
     "execution_count": 69,
     "metadata": {},
     "output_type": "execute_result"
    },
    {
     "data": {
      "image/png": "[encoded data removed]",
      "text/plain": [
       "<Figure size 640x480 with 1 Axes>"
      ]
     },
     "metadata": {},
     "output_type": "display_data"
    }
   ],
   "source": [
    "plt.plot(world_model2.state_predictor.prediction_errors)"
   ]
  },
  {
   "cell_type": "code",
   "execution_count": 50,
   "metadata": {
    "scrolled": false
   },
   "outputs": [
    {
     "data": {
      "image/png": "[encoded data removed]",
      "text/plain": [
       "<Figure size 640x480 with 1 Axes>"
      ]
     },
     "metadata": {},
     "output_type": "display_data"
    }
   ],
   "source": [
    "plt.plot(np.array(all_states).mean(axis=0).mean(axis=0), label='actual mean')\n",
    "plt.plot(WM.state_predictor.mean, label='stored mean')\n",
    "plt.legend()\n",
    "plt.show()"
   ]
  },
  {
   "cell_type": "code",
   "execution_count": 51,
   "metadata": {},
   "outputs": [
    {
     "data": {
      "image/png": "[encoded data removed]",
      "text/plain": [
       "<Figure size 640x480 with 1 Axes>"
      ]
     },
     "metadata": {},
     "output_type": "display_data"
    }
   ],
   "source": [
    "plt.plot(np.array(all_states).std(axis=0).std(axis=0), label='actual std')\n",
    "plt.plot(WM.state_predictor.std, label='stored std')\n",
    "plt.legend()\n",
    "plt.show()"
   ]
  },
  {
   "cell_type": "code",
   "execution_count": 680,
   "metadata": {},
   "outputs": [
    {
     "name": "stdout",
     "output_type": "stream",
     "text": [
      "0\n",
      "1\n",
      "2\n",
      "3\n",
      "4\n"
     ]
    },
    {
     "data": {
      "text/plain": [
       "ListWrapper([21168.875, 89.35879, 47607.812, 97.35906, 1100.6337])"
      ]
     },
     "execution_count": 680,
     "metadata": {},
     "output_type": "execute_result"
    }
   ],
   "source": [
    "i = 0\n",
    "\n",
    "for (experience_batch, sample_info) in dataset:\n",
    "    print(i)\n",
    "    states, actions, rewards = experience_batch.observation, experience_batch.action, experience_batch.reward\n",
    "    at, atp1 = actions[:,0,:], actions[:, 1, :]\n",
    "    st, stp1 = states[:,0,:], states[:, 1, :]\n",
    "    RLS.update(st, at, stp1, debug=True)\n",
    "    i += 1\n",
    "RLS.prediction_errors\n"
   ]
  },
  {
   "cell_type": "code",
   "execution_count": 52,
   "metadata": {},
   "outputs": [],
   "source": [
    "mag = lambda s : tf.sqrt(tf.reduce_sum(tf.square(s)))\n",
    "def safe_normalize_state(state, curr_s, curr_a, STATE_BOUND=1000):\n",
    "    \"\"\"Normalize state if it exceeds bounds\"\"\"\n",
    "    state_magnitude = mag(state)\n",
    "    if state_magnitude > STATE_BOUND:\n",
    "        print(f\"State magnitude {state_magnitude} exceeded bound, normalizing...\")\n",
    "        print(mag(curr_s), mag(world_model.state_predictor(curr_s, curr_a)))\n",
    "        #print(world_model.state_predictor.theta)\n",
    "        return state * (STATE_BOUND / state_magnitude)\n",
    "    return state"
   ]
  },
  {
   "cell_type": "code",
   "execution_count": 61,
   "metadata": {},
   "outputs": [],
   "source": [
    "from tf_agents.trajectories import transition\n",
    "def generate_rollouts(world_model, initial_state, initial_reward, initial_discount, policy, rollout_length):\n",
    "    \"\"\"Generate model-based rollouts with uncertainty estimation.\"\"\"\n",
    "    # Convert initial state to tensor and add batch dimension\n",
    "    current_state = tf.expand_dims(tf.convert_to_tensor(initial_state, dtype=tf.float32), 0)\n",
    "    current_reward = initial_reward\n",
    "    current_discount = initial_discount\n",
    "    generated_experience = []\n",
    "\n",
    "    time_step = transition(np.array([current_state[0]], dtype=np.float32), reward=current_reward, discount=current_discount)\n",
    "    action_step = policy.action(time_step)\n",
    "    current_action = action_step.action\n",
    "\n",
    "    next_state, reward, (hidden_state, cell_state) = world_model(current_state, current_action)\n",
    "    state_mag = [mag(next_state)]\n",
    "    for i in range(rollout_length):\n",
    "        if(np.isnan(reward).any()):\n",
    "            print(f\"\\nNaN detected at step {i}\")\n",
    "            print(\"Previous step values:\")\n",
    "            print(f\"- Current state stats: min={tf.reduce_min(current_state)}, max={tf.reduce_max(current_state)}\")\n",
    "            print(f\"- Current action stats: min={tf.reduce_min(current_action)}, max={tf.reduce_max(current_action)}\")\n",
    "            print(f\"- Hidden state stats: min={tf.reduce_min(hidden_state)}, max={tf.reduce_max(hidden_state)}\")\n",
    "            print(f\"- Cell state stats: min={tf.reduce_min(cell_state)}, max={tf.reduce_max(cell_state)}\")\n",
    "            \n",
    "            # Check for extreme values that might have led to NaN\n",
    "            print(\"\\nExtreme value check:\")\n",
    "            print(f\"- States > 1e3: {tf.reduce_sum(tf.cast(tf.abs(current_state) > 1e3, tf.int32))}\")\n",
    "            print(f\"- Hidden states > 1e3: {tf.reduce_sum(tf.cast(tf.abs(hidden_state) > 1e3, tf.int32))}\")\n",
    "            print(f\"- Cell states > 1e3: {tf.reduce_sum(tf.cast(tf.abs(cell_state) > 1e3, tf.int32))}\")\n",
    "            \n",
    "            # Check which part of the network produced the NaN\n",
    "            print(\"\\nNetwork output inspection:\")\n",
    "            print(f\"- Next state contains NaN: {tf.reduce_any(tf.math.is_nan(next_state))}\")\n",
    "            print(f\"- Hidden state contains NaN: {tf.reduce_any(tf.math.is_nan(hidden_state))}\")\n",
    "            print(f\"- Cell state contains NaN: {tf.reduce_any(tf.math.is_nan(cell_state))}\")\n",
    "            \n",
    "            break\n",
    "        else:\n",
    "            time_step = transition(np.array([next_state[0]], dtype=np.float32), reward=reward, discount=current_discount)\n",
    "            next_action = policy.action(time_step).action # Get action from policy\n",
    "\n",
    "            generated_experience.append(\n",
    "                dict(state=current_state.numpy(), action=current_action, reward=reward,\n",
    "                next_state= next_state.numpy(), discount=current_discount.reshape(1,1))\n",
    "            )\n",
    "\n",
    "            # Update current state\n",
    "            current_state, current_reward = next_state, reward\n",
    "            next_state, reward, (hidden_state, cell_state) = world_model(current_state, current_action)\n",
    "            #next_state = safe_normalize_state(next_state, current_state, current_action)\n",
    "            state_mag.append(mag(next_state))\n",
    "    return generated_experience, state_mag"
   ]
  },
  {
   "cell_type": "code",
   "execution_count": 62,
   "metadata": {},
   "outputs": [
    {
     "data": {
      "text/plain": [
       "ListWrapper([26.661097, 0.5150572, 0.514363, 0.56278795, 0.4611763, 0.48877263, 0.49592805, 0.46790233, 0.50147796, 0.49216777, 0.48189065, 0.44610703, 0.43056402, 0.43454224, 0.4138118, 0.44237864, 0.45634514, 0.45431942, 0.43705648, 0.4506846, 0.43188375, 0.39577815, 0.43904683, 0.4836048, 0.45838886, 0.44572377, 0.38226375, 0.46279696, 0.42186368, 0.46076813, 0.45624474, 0.4181336, 0.433785, 0.43342412, 0.4415, 0.42816803, 0.4356604, 0.4387361, 0.44853485, 0.41722864, 0.4548478, 0.44460803, 0.4312221, 0.4188344, 0.4627897, 0.4425989, 0.43749323, 0.43807617, 0.43168652, 0.43158382, 0.45101878, 0.4154603, 0.41982132, 0.433124, 0.4134866, 0.43816924, 0.42346108, 0.3884701, 0.45022482, 0.42906067, 0.43925214, 0.41797826, 0.42648855, 0.43041095, 0.429643, 0.44411764, 0.43287122, 0.41202402, 0.41101667, 0.40713438, 0.42586398, 0.45452204, 0.41296524, 0.44251734, 0.43245935, 0.44023347, 0.43548858, 0.40519434, 0.4548283, 0.43533158, 0.40171152, 0.4165847, 0.43623143, 0.42460003, 0.42957866, 0.43302584, 0.4079418, 0.41748953, 0.41289437, 0.44884217, 0.4311555, 0.43651092, 0.42870003, 0.42733037, 0.43699098, 0.4058736, 0.43240282, 0.44289643, 0.4108582, 0.405528, 0.44607288])"
      ]
     },
     "execution_count": 62,
     "metadata": {},
     "output_type": "execute_result"
    }
   ],
   "source": [
    "WM.state_predictor.prediction_errors"
   ]
  },
  {
   "cell_type": "code",
   "execution_count": 63,
   "metadata": {},
   "outputs": [],
   "source": [
    "timestep = eval_env.reset()\n",
    "initial_state, initial_reward, initial_discount = timestep.observation, timestep.reward, timestep.discount"
   ]
  },
  {
   "cell_type": "code",
   "execution_count": 64,
   "metadata": {},
   "outputs": [
    {
     "data": {
      "text/plain": [
       "252"
      ]
     },
     "execution_count": 64,
     "metadata": {},
     "output_type": "execute_result"
    }
   ],
   "source": [
    "rollout_length = int(4032/16)\n",
    "rollout_length"
   ]
  },
  {
   "cell_type": "code",
   "execution_count": 65,
   "metadata": {},
   "outputs": [
    {
     "data": {
      "image/png": "[encoded data removed]",
      "text/plain": [
       "<Figure size 640x480 with 2 Axes>"
      ]
     },
     "metadata": {},
     "output_type": "display_data"
    }
   ],
   "source": [
    "plt.imshow(WM.state_predictor.theta.numpy())\n",
    "plt.colorbar()\n",
    "plt.show()"
   ]
  },
  {
   "cell_type": "code",
   "execution_count": 66,
   "metadata": {},
   "outputs": [
    {
     "data": {
      "text/plain": [
       "array([9.90001023e-01, 9.90000665e-01, 9.90000427e-01, 7.51499951e-01,\n",
       "       6.16093874e-01, 5.18069446e-01, 3.80283505e-01, 2.99484581e-01,\n",
       "       2.64792562e-01, 2.55795836e-01, 2.39363432e-01, 2.22989306e-01,\n",
       "       2.05524221e-01, 1.98287621e-01, 1.84072495e-01, 1.74528345e-01,\n",
       "       1.64307401e-01, 1.61002293e-01, 1.55066401e-01, 1.38851076e-01,\n",
       "       1.32526278e-01, 1.22645974e-01, 1.15174264e-01, 1.09827794e-01,\n",
       "       1.05646044e-01, 9.57660377e-02, 9.48584229e-02, 9.00403112e-02,\n",
       "       8.05175751e-02, 7.59586915e-02, 7.24350959e-02, 5.97858615e-02,\n",
       "       5.43844774e-02, 5.11297919e-02, 4.73561175e-02, 4.03229930e-02,\n",
       "       3.82084250e-02, 3.70188020e-02, 3.00506838e-02, 2.85922233e-02,\n",
       "       2.71244086e-02, 2.60502379e-02, 2.15773284e-02, 1.58241428e-02,\n",
       "       1.50188487e-02, 1.37840034e-02, 1.13960318e-02, 9.93328262e-03,\n",
       "       6.30601170e-03, 4.38516773e-03, 3.18993675e-03, 1.89792051e-03,\n",
       "       9.23952146e-04], dtype=float32)"
      ]
     },
     "execution_count": 66,
     "metadata": {},
     "output_type": "execute_result"
    }
   ],
   "source": [
    "singular_values = np.linalg.svd(WM.state_predictor.theta, compute_uv=False)\n",
    "singular_values"
   ]
  },
  {
   "cell_type": "code",
   "execution_count": 68,
   "metadata": {
    "scrolled": false
   },
   "outputs": [],
   "source": [
    "exp, state_mags = generate_rollouts(WM, initial_state, initial_reward, initial_discount, collect_policy, 100)"
   ]
  },
  {
   "cell_type": "code",
   "execution_count": 69,
   "metadata": {},
   "outputs": [
    {
     "data": {
      "text/plain": [
       "[<matplotlib.lines.Line2D at 0x15540442f2e0>]"
      ]
     },
     "execution_count": 69,
     "metadata": {},
     "output_type": "execute_result"
    },
    {
     "data": {
      "image/png": "[encoded data removed]",
      "text/plain": [
       "<Figure size 640x480 with 1 Axes>"
      ]
     },
     "metadata": {},
     "output_type": "display_data"
    }
   ],
   "source": [
    "plt.plot(state_mags)"
   ]
  },
  {
   "cell_type": "code",
   "execution_count": 70,
   "metadata": {},
   "outputs": [],
   "source": [
    "from tf_agents.trajectories import StepType\n",
    "def add_to_replay_buffer(rb_observer, experience_data):\n",
    "    \"\"\"\n",
    "    Adds experience data to the Reverb replay buffer.\n",
    "    \n",
    "    Args:\n",
    "        rb_observer: ReverbAddTrajectoryObserver instance\n",
    "        experience_data: Dict containing state, action, reward, next_state, discount\n",
    "    \"\"\"\n",
    "    state, action, reward, next_state, discount = experience_data.values()\n",
    " \n",
    "    state = state.reshape(-1) # Remove any extra dimensions\n",
    "    action = tf.squeeze(action)\n",
    "    next_state = tf.squeeze(next_state)\n",
    "    reward = tf.squeeze(reward)\n",
    "    discount = tf.squeeze(discount)\n",
    "    # print(f\"State shape: {state.shape}\")\n",
    "    # print(f\"Action shape: {action.shape}\")\n",
    "    # print(f\"Next state shape: {next_state.shape}\")\n",
    "    # print(f\"Reward shape: {reward.shape}\")\n",
    "    \n",
    "    # Create a Trajectory object with the required fields\n",
    "    traj = trajectory.Trajectory(\n",
    "        step_type=tf.constant(StepType.MID, dtype=tf.int32),\n",
    "        observation=tf.constant(state, dtype=tf.float32), # Current observation/state\n",
    "        action=tf.constant(action, dtype=tf.float32),\n",
    "        policy_info=(),\n",
    "        next_step_type=tf.constant(StepType.MID, dtype=tf.int32),\n",
    "        reward=tf.constant(reward, dtype=tf.float32),\n",
    "        discount=tf.constant(discount, dtype=tf.float32)\n",
    "    )\n",
    "    \n",
    "    # Add trajectory to replay buffer\n",
    "    rb_observer(traj)\n",
    "\n"
   ]
  },
  {
   "cell_type": "code",
   "execution_count": 72,
   "metadata": {},
   "outputs": [],
   "source": [
    "add_to_replay_buffer(rb_observer, exp[23])"
   ]
  },
  {
   "cell_type": "markdown",
   "metadata": {
    "id": "c_DN734lZAwE"
   },
   "source": [
    "Finally we're ready to execute the RL traiing loop with SAC!\n",
    "\n",
    "You can sepcify the total number of trainng iterations, and the number of gradient steps per iteration. With fewer steps, the model will train more slowly, but more steps may make the agent less stable."
   ]
  },
  {
   "cell_type": "code",
   "execution_count": 719,
   "metadata": {},
   "outputs": [],
   "source": [
    "# Suppress warnings\n",
    "import warnings\n",
    "import logging\n",
    "\n",
    "# Suppress all warnings\n",
    "warnings.filterwarnings('ignore')\n",
    "\n",
    "logging.getLogger('tensorflow').setLevel(logging.FATAL)\n",
    "\n",
    "# Disable TensorFlow logging\n",
    "tf.get_logger().setLevel('ERROR')"
   ]
  },
  {
   "cell_type": "code",
   "execution_count": 88,
   "metadata": {},
   "outputs": [],
   "source": [
    "collect_env._num_timesteps_in_episode = 10\n",
    "eval_env._num_timesteps_in_episode = 10\n",
    "\n",
    "\n",
    "\n",
    "timestep = eval_env.reset()\n",
    "initial_state, initial_reward, initial_discount = timestep.observation, timestep.reward, timestep.discount"
   ]
  },
  {
   "cell_type": "code",
   "execution_count": null,
   "metadata": {},
   "outputs": [],
   "source": []
  },
  {
   "cell_type": "code",
   "execution_count": 77,
   "metadata": {},
   "outputs": [
    {
     "data": {
      "text/plain": [
       "10"
      ]
     },
     "execution_count": 77,
     "metadata": {},
     "output_type": "execute_result"
    }
   ],
   "source": [
    "collect_steps_per_treining_iteration = collect_env._num_timesteps_in_episode\n",
    "collect_steps_per_treining_iteration"
   ]
  },
  {
   "cell_type": "code",
   "execution_count": 87,
   "metadata": {},
   "outputs": [
    {
     "data": {
      "text/plain": [
       "576"
      ]
     },
     "execution_count": 87,
     "metadata": {},
     "output_type": "execute_result"
    }
   ],
   "source": []
  },
  {
   "cell_type": "code",
   "execution_count": 90,
   "metadata": {
    "scrolled": false
   },
   "outputs": [
    {
     "name": "stdout",
     "output_type": "stream",
     "text": [
      "Training.\n",
      "Training iteration:  0\n"
     ]
    },
    {
     "ename": "ValueError",
     "evalue": "Exception encountered when calling layer 'sequential' (type Sequential).\n\nInput 0 of layer \"dense\" is incompatible with the layer: expected min_ndim=2, found ndim=1. Full shape received: (53,)\n\nCall arguments received by layer 'sequential' (type Sequential):\n  • inputs=tf.Tensor(shape=(53,), dtype=float32)\n  • network_state=()\n  • kwargs={'step_type': 'array(0, dtype=int32)', 'training': 'False'}",
     "output_type": "error",
     "traceback": [
      "\u001b[0;31m---------------------------------------------------------------------------\u001b[0m",
      "\u001b[0;31mValueError\u001b[0m                                Traceback (most recent call last)",
      "Cell \u001b[0;32mIn[90], line 27\u001b[0m\n\u001b[1;32m     24\u001b[0m \u001b[38;5;28;01mfor\u001b[39;00m \u001b[38;5;28miter\u001b[39m \u001b[38;5;129;01min\u001b[39;00m \u001b[38;5;28mrange\u001b[39m(num_training_iterations):\n\u001b[1;32m     25\u001b[0m     \u001b[38;5;28mprint\u001b[39m(\u001b[38;5;124m'\u001b[39m\u001b[38;5;124mTraining iteration: \u001b[39m\u001b[38;5;124m'\u001b[39m, \u001b[38;5;28miter\u001b[39m)\n\u001b[0;32m---> 27\u001b[0m     \u001b[43mcollect_actor\u001b[49m\u001b[38;5;241;43m.\u001b[39;49m\u001b[43mrun\u001b[49m\u001b[43m(\u001b[49m\u001b[43m)\u001b[49m \u001b[38;5;66;03m# Collect real experiences\u001b[39;00m\n\u001b[1;32m     29\u001b[0m     train_world_model(world_model, reverb_replay, batch_size, training_steps\u001b[38;5;241m=\u001b[39mworld_model_training_steps)\n\u001b[1;32m     30\u001b[0m     initial_state, initial_reward, initial_discount \u001b[38;5;241m=\u001b[39m ts\u001b[38;5;241m.\u001b[39mobservation, ts\u001b[38;5;241m.\u001b[39mreward, ts\u001b[38;5;241m.\u001b[39mdiscount\n",
      "File \u001b[0;32m~/miniforge3/envs/sbsim2/lib/python3.10/site-packages/tf_agents/train/actor.py:167\u001b[0m, in \u001b[0;36mActor.run\u001b[0;34m(self)\u001b[0m\n\u001b[1;32m    166\u001b[0m \u001b[38;5;28;01mdef\u001b[39;00m \u001b[38;5;21mrun\u001b[39m(\u001b[38;5;28mself\u001b[39m):\n\u001b[0;32m--> 167\u001b[0m   \u001b[38;5;28mself\u001b[39m\u001b[38;5;241m.\u001b[39m_time_step, \u001b[38;5;28mself\u001b[39m\u001b[38;5;241m.\u001b[39m_policy_state \u001b[38;5;241m=\u001b[39m \u001b[38;5;28;43mself\u001b[39;49m\u001b[38;5;241;43m.\u001b[39;49m\u001b[43m_driver\u001b[49m\u001b[38;5;241;43m.\u001b[39;49m\u001b[43mrun\u001b[49m\u001b[43m(\u001b[49m\n\u001b[1;32m    168\u001b[0m \u001b[43m      \u001b[49m\u001b[38;5;28;43mself\u001b[39;49m\u001b[38;5;241;43m.\u001b[39;49m\u001b[43m_time_step\u001b[49m\u001b[43m,\u001b[49m\u001b[43m \u001b[49m\u001b[38;5;28;43mself\u001b[39;49m\u001b[38;5;241;43m.\u001b[39;49m\u001b[43m_policy_state\u001b[49m\n\u001b[1;32m    169\u001b[0m \u001b[43m  \u001b[49m\u001b[43m)\u001b[49m\n\u001b[1;32m    171\u001b[0m   \u001b[38;5;28;01mif\u001b[39;00m (\n\u001b[1;32m    172\u001b[0m       \u001b[38;5;28mself\u001b[39m\u001b[38;5;241m.\u001b[39m_write_summaries\n\u001b[1;32m    173\u001b[0m       \u001b[38;5;129;01mand\u001b[39;00m \u001b[38;5;28mself\u001b[39m\u001b[38;5;241m.\u001b[39m_summary_interval \u001b[38;5;241m>\u001b[39m \u001b[38;5;241m0\u001b[39m\n\u001b[1;32m    174\u001b[0m       \u001b[38;5;129;01mand\u001b[39;00m \u001b[38;5;28mself\u001b[39m\u001b[38;5;241m.\u001b[39m_train_step \u001b[38;5;241m-\u001b[39m \u001b[38;5;28mself\u001b[39m\u001b[38;5;241m.\u001b[39m_last_summary \u001b[38;5;241m>\u001b[39m\u001b[38;5;241m=\u001b[39m \u001b[38;5;28mself\u001b[39m\u001b[38;5;241m.\u001b[39m_summary_interval\n\u001b[1;32m    175\u001b[0m   ):\n\u001b[1;32m    176\u001b[0m     \u001b[38;5;28mself\u001b[39m\u001b[38;5;241m.\u001b[39mwrite_metric_summaries()\n",
      "File \u001b[0;32m~/miniforge3/envs/sbsim2/lib/python3.10/site-packages/tf_agents/drivers/py_driver.py:119\u001b[0m, in \u001b[0;36mPyDriver.run\u001b[0;34m(self, time_step, policy_state)\u001b[0m\n\u001b[1;32m    116\u001b[0m \u001b[38;5;28;01mif\u001b[39;00m \u001b[38;5;129;01mnot\u001b[39;00m \u001b[38;5;28mself\u001b[39m\u001b[38;5;241m.\u001b[39menv\u001b[38;5;241m.\u001b[39mbatched \u001b[38;5;129;01mand\u001b[39;00m time_step\u001b[38;5;241m.\u001b[39mis_first() \u001b[38;5;129;01mand\u001b[39;00m num_episodes \u001b[38;5;241m>\u001b[39m \u001b[38;5;241m0\u001b[39m:\n\u001b[1;32m    117\u001b[0m   policy_state \u001b[38;5;241m=\u001b[39m \u001b[38;5;28mself\u001b[39m\u001b[38;5;241m.\u001b[39m_policy\u001b[38;5;241m.\u001b[39mget_initial_state(\u001b[38;5;28mself\u001b[39m\u001b[38;5;241m.\u001b[39menv\u001b[38;5;241m.\u001b[39mbatch_size \u001b[38;5;129;01mor\u001b[39;00m \u001b[38;5;241m1\u001b[39m)\n\u001b[0;32m--> 119\u001b[0m action_step \u001b[38;5;241m=\u001b[39m \u001b[38;5;28;43mself\u001b[39;49m\u001b[38;5;241;43m.\u001b[39;49m\u001b[43mpolicy\u001b[49m\u001b[38;5;241;43m.\u001b[39;49m\u001b[43maction\u001b[49m\u001b[43m(\u001b[49m\u001b[43mtime_step\u001b[49m\u001b[43m,\u001b[49m\u001b[43m \u001b[49m\u001b[43mpolicy_state\u001b[49m\u001b[43m)\u001b[49m\n\u001b[1;32m    120\u001b[0m next_time_step \u001b[38;5;241m=\u001b[39m \u001b[38;5;28mself\u001b[39m\u001b[38;5;241m.\u001b[39menv\u001b[38;5;241m.\u001b[39mstep(action_step\u001b[38;5;241m.\u001b[39maction)\n\u001b[1;32m    122\u001b[0m \u001b[38;5;66;03m# When using observer (for the purpose of training), only the previous\u001b[39;00m\n\u001b[1;32m    123\u001b[0m \u001b[38;5;66;03m# policy_state is useful. Therefore substitube it in the PolicyStep and\u001b[39;00m\n\u001b[1;32m    124\u001b[0m \u001b[38;5;66;03m# consume it w/ the observer.\u001b[39;00m\n",
      "File \u001b[0;32m~/miniforge3/envs/sbsim2/lib/python3.10/site-packages/tf_agents/policies/tf_policy.py:333\u001b[0m, in \u001b[0;36mTFPolicy.action\u001b[0;34m(self, time_step, policy_state, seed)\u001b[0m\n\u001b[1;32m    331\u001b[0m \u001b[38;5;28;01mif\u001b[39;00m \u001b[38;5;28mself\u001b[39m\u001b[38;5;241m.\u001b[39m_automatic_state_reset:\n\u001b[1;32m    332\u001b[0m   policy_state \u001b[38;5;241m=\u001b[39m \u001b[38;5;28mself\u001b[39m\u001b[38;5;241m.\u001b[39m_maybe_reset_state(time_step, policy_state)\n\u001b[0;32m--> 333\u001b[0m step \u001b[38;5;241m=\u001b[39m \u001b[43maction_fn\u001b[49m\u001b[43m(\u001b[49m\u001b[43mtime_step\u001b[49m\u001b[38;5;241;43m=\u001b[39;49m\u001b[43mtime_step\u001b[49m\u001b[43m,\u001b[49m\u001b[43m \u001b[49m\u001b[43mpolicy_state\u001b[49m\u001b[38;5;241;43m=\u001b[39;49m\u001b[43mpolicy_state\u001b[49m\u001b[43m,\u001b[49m\u001b[43m \u001b[49m\u001b[43mseed\u001b[49m\u001b[38;5;241;43m=\u001b[39;49m\u001b[43mseed\u001b[49m\u001b[43m)\u001b[49m\n\u001b[1;32m    335\u001b[0m \u001b[38;5;28;01mdef\u001b[39;00m \u001b[38;5;21mclip_action\u001b[39m(action, action_spec):\n\u001b[1;32m    336\u001b[0m   \u001b[38;5;28;01mif\u001b[39;00m \u001b[38;5;28misinstance\u001b[39m(action_spec, tensor_spec\u001b[38;5;241m.\u001b[39mBoundedTensorSpec):\n",
      "File \u001b[0;32m~/miniforge3/envs/sbsim2/lib/python3.10/site-packages/tf_agents/utils/common.py:193\u001b[0m, in \u001b[0;36mfunction_in_tf1.<locals>.maybe_wrap.<locals>.with_check_resource_vars\u001b[0;34m(*fn_args, **fn_kwargs)\u001b[0m\n\u001b[1;32m    189\u001b[0m check_tf1_allowed()\n\u001b[1;32m    190\u001b[0m \u001b[38;5;28;01mif\u001b[39;00m has_eager_been_enabled():\n\u001b[1;32m    191\u001b[0m   \u001b[38;5;66;03m# We're either in eager mode or in tf.function mode (no in-between); so\u001b[39;00m\n\u001b[1;32m    192\u001b[0m   \u001b[38;5;66;03m# autodep-like behavior is already expected of fn.\u001b[39;00m\n\u001b[0;32m--> 193\u001b[0m   \u001b[38;5;28;01mreturn\u001b[39;00m \u001b[43mfn\u001b[49m\u001b[43m(\u001b[49m\u001b[38;5;241;43m*\u001b[39;49m\u001b[43mfn_args\u001b[49m\u001b[43m,\u001b[49m\u001b[43m \u001b[49m\u001b[38;5;241;43m*\u001b[39;49m\u001b[38;5;241;43m*\u001b[39;49m\u001b[43mfn_kwargs\u001b[49m\u001b[43m)\u001b[49m\n\u001b[1;32m    194\u001b[0m \u001b[38;5;28;01mif\u001b[39;00m \u001b[38;5;129;01mnot\u001b[39;00m resource_variables_enabled():\n\u001b[1;32m    195\u001b[0m   \u001b[38;5;28;01mraise\u001b[39;00m \u001b[38;5;167;01mRuntimeError\u001b[39;00m(MISSING_RESOURCE_VARIABLES_ERROR)\n",
      "File \u001b[0;32m~/miniforge3/envs/sbsim2/lib/python3.10/site-packages/tf_agents/policies/tf_policy.py:589\u001b[0m, in \u001b[0;36mTFPolicy._action\u001b[0;34m(self, time_step, policy_state, seed)\u001b[0m\n\u001b[1;32m    574\u001b[0m \u001b[38;5;250m\u001b[39m\u001b[38;5;124;03m\"\"\"Implementation of `action`.\u001b[39;00m\n\u001b[1;32m    575\u001b[0m \n\u001b[1;32m    576\u001b[0m \u001b[38;5;124;03mArgs:\u001b[39;00m\n\u001b[0;32m   (...)\u001b[0m\n\u001b[1;32m    586\u001b[0m \u001b[38;5;124;03m    `info`: Optional side information such as action log probabilities.\u001b[39;00m\n\u001b[1;32m    587\u001b[0m \u001b[38;5;124;03m\"\"\"\u001b[39;00m\n\u001b[1;32m    588\u001b[0m seed_stream \u001b[38;5;241m=\u001b[39m tfp\u001b[38;5;241m.\u001b[39mutil\u001b[38;5;241m.\u001b[39mSeedStream(seed\u001b[38;5;241m=\u001b[39mseed, salt\u001b[38;5;241m=\u001b[39m\u001b[38;5;124m'\u001b[39m\u001b[38;5;124mtf_agents_tf_policy\u001b[39m\u001b[38;5;124m'\u001b[39m)\n\u001b[0;32m--> 589\u001b[0m distribution_step \u001b[38;5;241m=\u001b[39m \u001b[38;5;28;43mself\u001b[39;49m\u001b[38;5;241;43m.\u001b[39;49m\u001b[43m_distribution\u001b[49m\u001b[43m(\u001b[49m\u001b[43mtime_step\u001b[49m\u001b[43m,\u001b[49m\u001b[43m \u001b[49m\u001b[43mpolicy_state\u001b[49m\u001b[43m)\u001b[49m  \u001b[38;5;66;03m# pytype: disable=wrong-arg-types\u001b[39;00m\n\u001b[1;32m    590\u001b[0m actions \u001b[38;5;241m=\u001b[39m tf\u001b[38;5;241m.\u001b[39mnest\u001b[38;5;241m.\u001b[39mmap_structure(\n\u001b[1;32m    591\u001b[0m     \u001b[38;5;28;01mlambda\u001b[39;00m d: reparameterized_sampling\u001b[38;5;241m.\u001b[39msample(d, seed\u001b[38;5;241m=\u001b[39mseed_stream()),\n\u001b[1;32m    592\u001b[0m     distribution_step\u001b[38;5;241m.\u001b[39maction,\n\u001b[1;32m    593\u001b[0m )\n\u001b[1;32m    594\u001b[0m info \u001b[38;5;241m=\u001b[39m distribution_step\u001b[38;5;241m.\u001b[39minfo\n",
      "File \u001b[0;32m~/miniforge3/envs/sbsim2/lib/python3.10/site-packages/tf_agents/policies/actor_policy.py:201\u001b[0m, in \u001b[0;36mActorPolicy._distribution\u001b[0;34m(self, time_step, policy_state)\u001b[0m\n\u001b[1;32m    196\u001b[0m   network_observation, mask \u001b[38;5;241m=\u001b[39m observation_and_action_constraint_splitter(\n\u001b[1;32m    197\u001b[0m       network_observation\n\u001b[1;32m    198\u001b[0m   )\n\u001b[1;32m    200\u001b[0m \u001b[38;5;66;03m# Actor network outputs nested structure of distributions or actions.\u001b[39;00m\n\u001b[0;32m--> 201\u001b[0m actions_or_distributions, policy_state \u001b[38;5;241m=\u001b[39m \u001b[38;5;28;43mself\u001b[39;49m\u001b[38;5;241;43m.\u001b[39;49m\u001b[43m_apply_actor_network\u001b[49m\u001b[43m(\u001b[49m\n\u001b[1;32m    202\u001b[0m \u001b[43m    \u001b[49m\u001b[43mnetwork_observation\u001b[49m\u001b[43m,\u001b[49m\n\u001b[1;32m    203\u001b[0m \u001b[43m    \u001b[49m\u001b[43mstep_type\u001b[49m\u001b[38;5;241;43m=\u001b[39;49m\u001b[43mtime_step\u001b[49m\u001b[38;5;241;43m.\u001b[39;49m\u001b[43mstep_type\u001b[49m\u001b[43m,\u001b[49m\n\u001b[1;32m    204\u001b[0m \u001b[43m    \u001b[49m\u001b[43mpolicy_state\u001b[49m\u001b[38;5;241;43m=\u001b[39;49m\u001b[43mpolicy_state\u001b[49m\u001b[43m,\u001b[49m\n\u001b[1;32m    205\u001b[0m \u001b[43m    \u001b[49m\u001b[43mmask\u001b[49m\u001b[38;5;241;43m=\u001b[39;49m\u001b[43mmask\u001b[49m\u001b[43m,\u001b[49m\n\u001b[1;32m    206\u001b[0m \u001b[43m\u001b[49m\u001b[43m)\u001b[49m\n\u001b[1;32m    208\u001b[0m \u001b[38;5;28;01mdef\u001b[39;00m \u001b[38;5;21m_to_distribution\u001b[39m(action_or_distribution):\n\u001b[1;32m    209\u001b[0m   \u001b[38;5;28;01mif\u001b[39;00m \u001b[38;5;28misinstance\u001b[39m(action_or_distribution, tf\u001b[38;5;241m.\u001b[39mTensor):\n\u001b[1;32m    210\u001b[0m     \u001b[38;5;66;03m# This is an action tensor, so wrap it in a deterministic distribution.\u001b[39;00m\n",
      "File \u001b[0;32m~/miniforge3/envs/sbsim2/lib/python3.10/site-packages/tf_agents/policies/actor_policy.py:164\u001b[0m, in \u001b[0;36mActorPolicy._apply_actor_network\u001b[0;34m(self, observation, step_type, policy_state, mask)\u001b[0m\n\u001b[1;32m    162\u001b[0m   observation \u001b[38;5;241m=\u001b[39m \u001b[38;5;28mself\u001b[39m\u001b[38;5;241m.\u001b[39m_observation_normalizer\u001b[38;5;241m.\u001b[39mnormalize(observation)\n\u001b[1;32m    163\u001b[0m \u001b[38;5;28;01mif\u001b[39;00m mask \u001b[38;5;129;01mis\u001b[39;00m \u001b[38;5;28;01mNone\u001b[39;00m:\n\u001b[0;32m--> 164\u001b[0m   \u001b[38;5;28;01mreturn\u001b[39;00m \u001b[38;5;28;43mself\u001b[39;49m\u001b[38;5;241;43m.\u001b[39;49m\u001b[43m_actor_network\u001b[49m\u001b[43m(\u001b[49m\n\u001b[1;32m    165\u001b[0m \u001b[43m      \u001b[49m\u001b[43mobservation\u001b[49m\u001b[43m,\u001b[49m\n\u001b[1;32m    166\u001b[0m \u001b[43m      \u001b[49m\u001b[43mstep_type\u001b[49m\u001b[38;5;241;43m=\u001b[39;49m\u001b[43mstep_type\u001b[49m\u001b[43m,\u001b[49m\n\u001b[1;32m    167\u001b[0m \u001b[43m      \u001b[49m\u001b[43mnetwork_state\u001b[49m\u001b[38;5;241;43m=\u001b[39;49m\u001b[43mpolicy_state\u001b[49m\u001b[43m,\u001b[49m\n\u001b[1;32m    168\u001b[0m \u001b[43m      \u001b[49m\u001b[43mtraining\u001b[49m\u001b[38;5;241;43m=\u001b[39;49m\u001b[38;5;28;43mself\u001b[39;49m\u001b[38;5;241;43m.\u001b[39;49m\u001b[43m_training\u001b[49m\u001b[43m,\u001b[49m\n\u001b[1;32m    169\u001b[0m \u001b[43m  \u001b[49m\u001b[43m)\u001b[49m\n\u001b[1;32m    170\u001b[0m \u001b[38;5;28;01melse\u001b[39;00m:\n\u001b[1;32m    171\u001b[0m   \u001b[38;5;28;01mreturn\u001b[39;00m \u001b[38;5;28mself\u001b[39m\u001b[38;5;241m.\u001b[39m_actor_network(\n\u001b[1;32m    172\u001b[0m       observation,\n\u001b[1;32m    173\u001b[0m       step_type\u001b[38;5;241m=\u001b[39mstep_type,\n\u001b[0;32m   (...)\u001b[0m\n\u001b[1;32m    176\u001b[0m       mask\u001b[38;5;241m=\u001b[39mmask,\n\u001b[1;32m    177\u001b[0m   )\n",
      "File \u001b[0;32m~/miniforge3/envs/sbsim2/lib/python3.10/site-packages/tf_agents/networks/network.py:440\u001b[0m, in \u001b[0;36mNetwork.__call__\u001b[0;34m(self, inputs, *args, **kwargs)\u001b[0m\n\u001b[1;32m    432\u001b[0m \u001b[38;5;28;01mif\u001b[39;00m (\n\u001b[1;32m    433\u001b[0m     \u001b[38;5;129;01mnot\u001b[39;00m tf\u001b[38;5;241m.\u001b[39mis_tensor(network_state)\n\u001b[1;32m    434\u001b[0m     \u001b[38;5;129;01mand\u001b[39;00m network_state \u001b[38;5;129;01min\u001b[39;00m (\u001b[38;5;28;01mNone\u001b[39;00m, ())\n\u001b[1;32m    435\u001b[0m     \u001b[38;5;129;01mand\u001b[39;00m \u001b[38;5;124m\"\u001b[39m\u001b[38;5;124mnetwork_state\u001b[39m\u001b[38;5;124m\"\u001b[39m \u001b[38;5;129;01mnot\u001b[39;00m \u001b[38;5;129;01min\u001b[39;00m call_argspec\u001b[38;5;241m.\u001b[39margs\n\u001b[1;32m    436\u001b[0m     \u001b[38;5;129;01mand\u001b[39;00m \u001b[38;5;129;01mnot\u001b[39;00m call_argspec\u001b[38;5;241m.\u001b[39mkeywords\n\u001b[1;32m    437\u001b[0m ):\n\u001b[1;32m    438\u001b[0m   normalized_kwargs\u001b[38;5;241m.\u001b[39mpop(\u001b[38;5;124m\"\u001b[39m\u001b[38;5;124mnetwork_state\u001b[39m\u001b[38;5;124m\"\u001b[39m, \u001b[38;5;28;01mNone\u001b[39;00m)\n\u001b[0;32m--> 440\u001b[0m outputs, new_state \u001b[38;5;241m=\u001b[39m \u001b[38;5;28;43msuper\u001b[39;49m\u001b[43m(\u001b[49m\u001b[43mNetwork\u001b[49m\u001b[43m,\u001b[49m\u001b[43m \u001b[49m\u001b[38;5;28;43mself\u001b[39;49m\u001b[43m)\u001b[49m\u001b[38;5;241;43m.\u001b[39;49m\u001b[38;5;21;43m__call__\u001b[39;49m\u001b[43m(\u001b[49m\u001b[38;5;241;43m*\u001b[39;49m\u001b[38;5;241;43m*\u001b[39;49m\u001b[43mnormalized_kwargs\u001b[49m\u001b[43m)\u001b[49m  \u001b[38;5;66;03m# pytype: disable=attribute-error  # typed-keras\u001b[39;00m\n\u001b[1;32m    442\u001b[0m nest_utils\u001b[38;5;241m.\u001b[39massert_matching_dtypes_and_inner_shapes(\n\u001b[1;32m    443\u001b[0m     new_state,\n\u001b[1;32m    444\u001b[0m     \u001b[38;5;28mself\u001b[39m\u001b[38;5;241m.\u001b[39mstate_spec,\n\u001b[0;32m   (...)\u001b[0m\n\u001b[1;32m    448\u001b[0m     specs_name\u001b[38;5;241m=\u001b[39m\u001b[38;5;124m\"\u001b[39m\u001b[38;5;124m`state_spec`\u001b[39m\u001b[38;5;124m\"\u001b[39m,\n\u001b[1;32m    449\u001b[0m )\n\u001b[1;32m    451\u001b[0m \u001b[38;5;28;01mreturn\u001b[39;00m outputs, new_state\n",
      "File \u001b[0;32m~/miniforge3/envs/sbsim2/lib/python3.10/site-packages/keras/src/utils/traceback_utils.py:70\u001b[0m, in \u001b[0;36mfilter_traceback.<locals>.error_handler\u001b[0;34m(*args, **kwargs)\u001b[0m\n\u001b[1;32m     67\u001b[0m     filtered_tb \u001b[38;5;241m=\u001b[39m _process_traceback_frames(e\u001b[38;5;241m.\u001b[39m__traceback__)\n\u001b[1;32m     68\u001b[0m     \u001b[38;5;66;03m# To get the full stack trace, call:\u001b[39;00m\n\u001b[1;32m     69\u001b[0m     \u001b[38;5;66;03m# `tf.debugging.disable_traceback_filtering()`\u001b[39;00m\n\u001b[0;32m---> 70\u001b[0m     \u001b[38;5;28;01mraise\u001b[39;00m e\u001b[38;5;241m.\u001b[39mwith_traceback(filtered_tb) \u001b[38;5;28;01mfrom\u001b[39;00m \u001b[38;5;28;01mNone\u001b[39;00m\n\u001b[1;32m     71\u001b[0m \u001b[38;5;28;01mfinally\u001b[39;00m:\n\u001b[1;32m     72\u001b[0m     \u001b[38;5;28;01mdel\u001b[39;00m filtered_tb\n",
      "File \u001b[0;32m~/miniforge3/envs/sbsim2/lib/python3.10/site-packages/tf_agents/networks/sequential.py:229\u001b[0m, in \u001b[0;36mSequential.call\u001b[0;34m(self, inputs, network_state, **kwargs)\u001b[0m\n\u001b[1;32m    226\u001b[0m       stateful_layer_idx \u001b[38;5;241m+\u001b[39m\u001b[38;5;241m=\u001b[39m \u001b[38;5;241m1\u001b[39m\n\u001b[1;32m    227\u001b[0m     \u001b[38;5;28;01melse\u001b[39;00m:\n\u001b[1;32m    228\u001b[0m       \u001b[38;5;66;03m# Does not maintain state.\u001b[39;00m\n\u001b[0;32m--> 229\u001b[0m       inputs \u001b[38;5;241m=\u001b[39m \u001b[43mlayer\u001b[49m\u001b[43m(\u001b[49m\u001b[43minputs\u001b[49m\u001b[43m,\u001b[49m\u001b[43m \u001b[49m\u001b[38;5;241;43m*\u001b[39;49m\u001b[38;5;241;43m*\u001b[39;49m\u001b[43mlayer_kwargs\u001b[49m\u001b[43m)\u001b[49m\n\u001b[1;32m    231\u001b[0m \u001b[38;5;28;01mreturn\u001b[39;00m inputs, \u001b[38;5;28mtuple\u001b[39m(next_network_state)\n",
      "\u001b[0;31mValueError\u001b[0m: Exception encountered when calling layer 'sequential' (type Sequential).\n\nInput 0 of layer \"dense\" is incompatible with the layer: expected min_ndim=2, found ndim=1. Full shape received: (53,)\n\nCall arguments received by layer 'sequential' (type Sequential):\n  • inputs=tf.Tensor(shape=(53,), dtype=float32)\n  • network_state=()\n  • kwargs={'step_type': 'array(0, dtype=int32)', 'training': 'False'}"
     ]
    }
   ],
   "source": [
    "# @title Execute the training loop\n",
    "\n",
    "num_training_iterations = 1\n",
    "num_gradient_updates_per_training_iteration = 10\n",
    "world_model_training_steps = 64\n",
    "rollout_length = int(4032/16)\n",
    "\n",
    "# Collect the performance results with the untrained model.\n",
    "#eval_actor.run_and_log()\n",
    "\n",
    "logging_info('Training.')\n",
    "\n",
    "# @title Modified Training Loop with World Model\n",
    "# Initialize world model\n",
    "state_dim = collect_env.observation_spec().shape[0]\n",
    "action_dim = collect_env.action_spec().shape[0]\n",
    "world_model = LinearWorldModel(state_dim, action_dim)\n",
    "\n",
    "\n",
    "# log_dir = root_dir + '/train'\n",
    "# with tf.summary.create_file_writer(log_dir).as_default() as writer:   \n",
    "\n",
    "\n",
    "for iter in range(num_training_iterations):\n",
    "    print('Training iteration: ', iter)\n",
    "\n",
    "    collect_actor.run() # Collect real experiences\n",
    "\n",
    "    train_world_model(world_model, reverb_replay, batch_size, training_steps=world_model_training_steps)\n",
    "    initial_state, initial_reward, initial_discount = ts.observation, ts.reward, ts.discount\n",
    "\n",
    "    synthetic_rollouts = generate_rollouts(world_model, initial_state, \n",
    "                                            initial_reward, initial_discount, collect_policy, rollout_length)\n",
    "    rollout_length *= 2\n",
    "    for exp in synthetic_rollouts:\n",
    "        add_to_replay_buffer(rb_observer, exp)\n",
    "\n",
    "    # Train agent with both real and synthetic data\n",
    "    loss_info = agent_learner.run(iterations=num_gradient_updates_per_training_iteration)\n",
    "\n",
    "    logging_info(\n",
    "        'Actor Loss: %6.2f, Critic Loss: %6.2f, Alpha Loss: %6.2f '\n",
    "        % (\n",
    "            loss_info.extra.actor_loss.numpy(),\n",
    "            loss_info.extra.critic_loss.numpy(),\n",
    "            loss_info.extra.alpha_loss.numpy(),\n",
    "        )\n",
    "    )\n",
    "\n",
    "    # Evaluate\n",
    "    eval_actor.run_and_log()\n",
    "\n",
    "rb_observer.close()\n",
    "reverb_server.stop()"
   ]
  },
  {
   "cell_type": "markdown",
   "metadata": {},
   "source": [
    "## My version"
   ]
  },
  {
   "cell_type": "markdown",
   "metadata": {},
   "source": [
    "### Vaibhav OG Code"
   ]
  },
  {
   "cell_type": "code",
   "execution_count": 47,
   "metadata": {
    "cellView": "form",
    "id": "PAlT1f6SWYxq"
   },
   "outputs": [
    {
     "data": {
      "text/plain": [
       "5"
      ]
     },
     "execution_count": 47,
     "metadata": {},
     "output_type": "execute_result"
    }
   ],
   "source": [
    "\"\"\"\n",
    "if run_model_exp:\n",
    "    # @title Execute the training loop\n",
    "\n",
    "    num_training_iterations = 10\n",
    "    num_gradient_updates_per_training_iteration = 100\n",
    "    \n",
    "\n",
    "    # Collect the performance results with teh untrained model.\n",
    "    eval_actor.run_and_log()\n",
    "\n",
    "    logging_info('Training.')\n",
    "\n",
    "    world_model = TransformerWorldModel(\n",
    "        state_dim=collect_env.observation_spec().shape[0],\n",
    "        action_dim=collect_env.action_spec().shape[0],\n",
    "        hidden_dim=256,\n",
    "        num_heads=8,\n",
    "        num_transformer_blocks=3\n",
    "    )\n",
    "\n",
    "    model_buffer = ModelAssistedReplayBuffer(\n",
    "        real_buffer=reverb_replay,\n",
    "        world_model=world_model,\n",
    "        rollout_length=5,\n",
    "        rollout_ratio=0.5,\n",
    "        uncertainty_threshold=0.5\n",
    "    )\n",
    "\n",
    "\n",
    "    # log_dir = root_dir + '/train'\n",
    "    # with tf.summary.create_file_writer(log_dir).as_default() as writer:   \n",
    "\n",
    "    for iter in range(num_training_iterations):\n",
    "        print('Training iteration: ', iter)\n",
    "\n",
    "        collect_actor.run()\n",
    "\n",
    "        world_model_loss = train_world_model(\n",
    "            world_model=world_model,\n",
    "            replay_buffer=reverb_replay,\n",
    "            batch_size=256,\n",
    "            training_steps=1000\n",
    "        )\n",
    "        logging_info(f'World Model Loss: {world_model_loss:.4f}')\n",
    "\n",
    "        real_batch = next(iter(reverb_replay.as_dataset(\n",
    "            num_parallel_calls=3,\n",
    "            sample_batch_size=batch_size,\n",
    "            num_steps=2\n",
    "        )))\n",
    "\n",
    "        initial_states = real_batch.observation[:, 0]\n",
    "        initial_actions = real_batch.action[:, 0]\n",
    "\n",
    "        for i in range(len(initial_states)):\n",
    "            generated_experience = model_buffer.generate_rollouts(\n",
    "                initial_states[i],\n",
    "                initial_actions[i],\n",
    "                agent_collect_policy\n",
    "            )\n",
    "\n",
    "            for exp in generated_experience:\n",
    "                rb_observer(trajectory.from_episode(\n",
    "                    observation=exp['state'],\n",
    "                    action=exp['action'],\n",
    "                    policy_info=(),\n",
    "                    reward=exp['reward'],\n",
    "                    discount=1.0\n",
    "                ))\n",
    "\n",
    "        loss_info = agent_learner.run(\n",
    "            iterations=num_gradient_updates_per_training_iteration\n",
    "        )\n",
    "\n",
    "        logging_info(\n",
    "            'Actor Loss: %6.2f, Critic Loss: %6.2f, Alpha Loss: %6.2f'\n",
    "            % (\n",
    "                loss_info.extra.actor_loss.numpy(),\n",
    "                loss_info.extra.critic_loss.numpy(),\n",
    "                loss_info.extra.alpha_loss.numpy(),\n",
    "            )\n",
    "        )\n",
    "\n",
    "        eval_env.reset()\n",
    "        eval_actor.run_and_log()\n",
    "\n",
    "    rb_observer.close()\n",
    "    reverb_server.stop()\n",
    "\"\"\"\n",
    "\n",
    "5"
   ]
  },
  {
   "cell_type": "code",
   "execution_count": null,
   "metadata": {},
   "outputs": [],
   "source": []
  }
 ],
 "metadata": {
  "colab": {
   "collapsed_sections": [
    "L7w-mjPcH7u6",
    "kTtVb9wbRsKU",
    "86IIF7FrfJ_2",
    "SDgizVLzRti1"
   ],
   "last_runtime": {
    "build_target": "",
    "kind": "local"
   },
   "private_outputs": true,
   "provenance": [
    {
     "file_id": "1a2nzc-VcaGRTpsEFj3FgqRZY0Lk1dgrW",
     "timestamp": 1705074752110
    }
   ],
   "toc_visible": true
  },
  "kernelspec": {
   "display_name": "Python 3 (ipykernel)",
   "language": "python",
   "name": "python3"
  },
  "language_info": {
   "codemirror_mode": {
    "name": "ipython",
    "version": 3
   },
   "file_extension": ".py",
   "mimetype": "text/x-python",
   "name": "python",
   "nbconvert_exporter": "python",
   "pygments_lexer": "ipython3",
   "version": "3.10.12"
  }
 },
 "nbformat": 4,
 "nbformat_minor": 1
}
