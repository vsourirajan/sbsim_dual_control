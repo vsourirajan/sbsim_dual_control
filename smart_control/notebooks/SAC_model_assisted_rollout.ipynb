{
 "cells": [
  {
   "cell_type": "code",
   "execution_count": 1,
   "metadata": {
    "cellView": "form",
    "id": "nQnmcm0oI1Q-"
   },
   "outputs": [],
   "source": [
    "#@title Licensed under the Apache License, Version 2.0 (the \"License\");\n",
    "# you may not use this file except in compliance with the License.\n",
    "# You may obtain a copy of the License at\n",
    "#\n",
    "# https://www.apache.org/licenses/LICENSE-2.0\n",
    "#\n",
    "# Unless required by applicable law or agreed to in writing, software\n",
    "# distributed under the License is distributed on an \"AS IS\" BASIS,\n",
    "# WITHOUT WARRANTIES OR CONDITIONS OF ANY KIND, either express or implied.\n",
    "# See the License for the specific language governing permissions and\n",
    "# limitations under the License."
   ]
  },
  {
   "cell_type": "markdown",
   "metadata": {
    "id": "0vekhJpsOxLK"
   },
   "source": [
    "# SBSim: A tutorial of using Reinforcement Learning for Optimizing Energy Use and Minimizing Carbon Emission in Office Buildings\n",
    "\n",
    "___\n",
    "\n",
    "Commercial office buildings contribute 17 percent of Carbon Emissions in the US, according to the US Energy Information Administration (EIA), and improving their efficiency will reduce their environmental burden and operating cost. A major contributor of energy consumption in these buildings are the Heating, Ventilation, and Air Conditioning (HVAC) devices. HVAC devices form a complex and interconnected thermodynamic system with the building and outside weather conditions, and current setpoint control policies are not fully optimized for minimizing energy use and carbon emission. Given a suitable training environment, a Reinforcement Learning (RL) agent is able to improve upon these policies, but training such a model, especially in a way that scales to thousands of buildings, presents many practical challenges. Most existing work on applying RL to this important task either makes use of proprietary data, or focuses on expensive and proprietary simulations that may not be grounded in the real world. We present the Smart Buildings Control Suite, the first open source interactive HVAC control dataset extracted from live sensor measurements of devices in real office buildings. The dataset consists of two components: real-world historical data from two buildings, for offline RL, and a lightweight interactive simulator for each of these buildings, calibrated using the historical data, for online and model-based RL. For ease of use, our RL environments are all compatible with the OpenAI gym environment standard. We believe this benchmark will accelerate progress and collaboration on HVAC optimization.\n",
    "\n",
    "---\n",
    "\n",
    "This notebook accompanies the paper titled, **Real-World Data and Calibrated Simulation Suite for Offline Training of Reinforcement Learning Agents to Optimize Energy and Emission in Office Buildings** by Judah Goldfeder and John Sipple."
   ]
  },
  {
   "cell_type": "code",
   "execution_count": 5,
   "metadata": {},
   "outputs": [],
   "source": [
    "import warnings\n",
    "\n",
    "warnings.filterwarnings(\"ignore\")"
   ]
  },
  {
   "cell_type": "code",
   "execution_count": 6,
   "metadata": {
    "cellView": "form",
    "id": "YchP7JXbSXS1"
   },
   "outputs": [
    {
     "name": "stderr",
     "output_type": "stream",
     "text": [
      "2024-11-29 00:55:18.583442: I tensorflow/core/util/port.cc:113] oneDNN custom operations are on. You may see slightly different numerical results due to floating-point round-off errors from different computation orders. To turn them off, set the environment variable `TF_ENABLE_ONEDNN_OPTS=0`.\n",
      "2024-11-29 00:55:19.716717: I external/local_tsl/tsl/cuda/cudart_stub.cc:31] Could not find cuda drivers on your machine, GPU will not be used.\n",
      "2024-11-29 00:55:22.754199: E external/local_xla/xla/stream_executor/cuda/cuda_dnn.cc:9261] Unable to register cuDNN factory: Attempting to register factory for plugin cuDNN when one has already been registered\n",
      "2024-11-29 00:55:22.758189: E external/local_xla/xla/stream_executor/cuda/cuda_fft.cc:607] Unable to register cuFFT factory: Attempting to register factory for plugin cuFFT when one has already been registered\n",
      "2024-11-29 00:55:23.135402: E external/local_xla/xla/stream_executor/cuda/cuda_blas.cc:1515] Unable to register cuBLAS factory: Attempting to register factory for plugin cuBLAS when one has already been registered\n",
      "2024-11-29 00:55:24.153861: I external/local_tsl/tsl/cuda/cudart_stub.cc:31] Could not find cuda drivers on your machine, GPU will not be used.\n",
      "2024-11-29 00:55:24.155069: I tensorflow/core/platform/cpu_feature_guard.cc:182] This TensorFlow binary is optimized to use available CPU instructions in performance-critical operations.\n",
      "To enable the following instructions: AVX2 AVX512F AVX512_VNNI FMA, in other operations, rebuild TensorFlow with the appropriate compiler flags.\n",
      "2024-11-29 00:55:27.071618: W tensorflow/compiler/tf2tensorrt/utils/py_utils.cc:38] TF-TRT Warning: Could not find TensorRT\n"
     ]
    }
   ],
   "source": [
    "# @title Imports\n",
    "from dataclasses import dataclass\n",
    "import datetime, pytz\n",
    "import enum\n",
    "import functools\n",
    "import os\n",
    "os.environ['CUDA_VISIBLE_DEVICES'] = '0'\n",
    "import time\n",
    "from typing import Final, Sequence\n",
    "from typing import Optional\n",
    "from typing import Union, cast\n",
    "os.environ['WRAPT_DISABLE_EXTENSIONS'] = 'true'\n",
    "from absl import logging\n",
    "import gin\n",
    "import gin\n",
    "from matplotlib import patches\n",
    "import matplotlib.cm as cm\n",
    "import matplotlib.pyplot as plt\n",
    "from matplotlib.ticker import MaxNLocator\n",
    "import numpy as np\n",
    "import pandas as pd\n",
    "import reverb\n",
    "import mediapy as media\n",
    "from IPython.display import clear_output\n",
    "import sys"
   ]
  },
  {
   "cell_type": "code",
   "execution_count": 6,
   "metadata": {},
   "outputs": [
    {
     "data": {
      "text/plain": [
       "['/burg/home/ssa2206/miniforge3/envs/sbsim2/lib/python310.zip',\n",
       " '/burg/home/ssa2206/miniforge3/envs/sbsim2/lib/python3.10',\n",
       " '/burg/home/ssa2206/miniforge3/envs/sbsim2/lib/python3.10/lib-dynload',\n",
       " '',\n",
       " '/burg/home/ssa2206/miniforge3/envs/sbsim2/lib/python3.10/site-packages',\n",
       " '/burg/home/ssa2206/sbsim_dual_control',\n",
       " '/burg/home/ssa2206/miniforge3/envs/sbsim2/lib/python3.10/site-packages/setuptools/_vendor']"
      ]
     },
     "execution_count": 6,
     "metadata": {},
     "output_type": "execute_result"
    }
   ],
   "source": [
    "sys.path"
   ]
  },
  {
   "cell_type": "code",
   "execution_count": 7,
   "metadata": {},
   "outputs": [],
   "source": [
    "from smart_control.environment import environment\n",
    "\n",
    "from smart_control.proto import smart_control_building_pb2, smart_control_normalization_pb2\n",
    "from smart_control.reward import electricity_energy_cost, natural_gas_energy_cost, setpoint_energy_carbon_reward, setpoint_energy_carbon_regret\n",
    "\n",
    "from smart_control.simulator import randomized_arrival_departure_occupancy, rejection_simulator_building\n",
    "from smart_control.simulator import simulator_building, step_function_occupancy, stochastic_convection_simulator\n",
    "\n",
    "from smart_control.utils import bounded_action_normalizer, building_renderer, controller_reader\n",
    "from smart_control.utils import controller_writer, conversion_utils, observation_normalizer, reader_lib\n",
    "from smart_control.utils import writer_lib, histogram_reducer, environment_utils"
   ]
  },
  {
   "cell_type": "code",
   "execution_count": 8,
   "metadata": {},
   "outputs": [],
   "source": [
    "import tensorflow as tf\n",
    "from tf_agents.agents.sac import sac_agent, tanh_normal_projection_network\n",
    "from tf_agents.drivers import py_driver\n",
    "from tf_agents.keras_layers import inner_reshape\n",
    "from tf_agents.metrics import py_metrics\n",
    "from tf_agents.networks import nest_map, sequential\n",
    "from tf_agents.policies import greedy_policy, py_tf_eager_policy, random_py_policy, tf_policy\n",
    "from tf_agents.replay_buffers import reverb_replay_buffer, reverb_utils\n",
    "from tf_agents.specs import tensor_spec\n",
    "from tf_agents.train import actor, learner, triggers\n",
    "from tf_agents.train.utils import spec_utils, train_utils\n",
    "from tf_agents.trajectories import policy_step\n",
    "from tf_agents.trajectories import time_step as ts\n",
    "from tf_agents.trajectories import trajectory as trajectory_lib\n",
    "from tf_agents.trajectories import trajectory\n",
    "from tf_agents.typing import types"
   ]
  },
  {
   "cell_type": "code",
   "execution_count": 19,
   "metadata": {
    "cellView": "form",
    "id": "sDDU5FmLkYo-"
   },
   "outputs": [
    {
     "ename": "ValueError",
     "evalue": "A different configurable matching '__main__.get_histogram_reducer' already exists.\n\nTo allow re-registration of configurables in an interactive environment, use:\n\n    gin.enter_interactive_mode()",
     "output_type": "error",
     "traceback": [
      "\u001b[0;31m---------------------------------------------------------------------------\u001b[0m",
      "\u001b[0;31mValueError\u001b[0m                                Traceback (most recent call last)",
      "Cell \u001b[0;32mIn[19], line 15\u001b[0m\n\u001b[1;32m     10\u001b[0m output_data_path \u001b[38;5;241m=\u001b[39m \u001b[38;5;124m'\u001b[39m\u001b[38;5;124m/burg/home/ssa2206/sbsim_dual_control/output\u001b[39m\u001b[38;5;124m'\u001b[39m \u001b[38;5;66;03m#@param {type:\"string\"}\u001b[39;00m\n\u001b[1;32m     11\u001b[0m root_dir \u001b[38;5;241m=\u001b[39m \u001b[38;5;124m\"\u001b[39m\u001b[38;5;124m/burg/home/ssa2206/sbsim_dual_control/root\u001b[39m\u001b[38;5;124m\"\u001b[39m \u001b[38;5;66;03m#@param {type:\"string\"}\u001b[39;00m\n\u001b[1;32m     14\u001b[0m \u001b[38;5;129;43m@gin\u001b[39;49m\u001b[38;5;241;43m.\u001b[39;49m\u001b[43mconfigurable\u001b[49m\n\u001b[0;32m---> 15\u001b[0m \u001b[38;5;28;43;01mdef\u001b[39;49;00m\u001b[43m \u001b[49m\u001b[38;5;21;43mget_histogram_reducer\u001b[39;49m\u001b[43m(\u001b[49m\u001b[43m)\u001b[49m\u001b[43m:\u001b[49m\n\u001b[1;32m     16\u001b[0m \u001b[43m    \u001b[49m\u001b[43mreader\u001b[49m\u001b[43m \u001b[49m\u001b[38;5;241;43m=\u001b[39;49m\u001b[43m \u001b[49m\u001b[43mcontroller_reader\u001b[49m\u001b[38;5;241;43m.\u001b[39;49m\u001b[43mProtoReader\u001b[49m\u001b[43m(\u001b[49m\u001b[43mdata_path\u001b[49m\u001b[43m)\u001b[49m\n\u001b[1;32m     18\u001b[0m \u001b[43m    \u001b[49m\u001b[43mhr\u001b[49m\u001b[43m \u001b[49m\u001b[38;5;241;43m=\u001b[39;49m\u001b[43m \u001b[49m\u001b[43mhistogram_reducer\u001b[49m\u001b[38;5;241;43m.\u001b[39;49m\u001b[43mHistogramReducer\u001b[49m\u001b[43m(\u001b[49m\n\u001b[1;32m     19\u001b[0m \u001b[43m        \u001b[49m\u001b[43mhistogram_parameters_tuples\u001b[49m\u001b[38;5;241;43m=\u001b[39;49m\u001b[43mhistogram_parameters_tuples\u001b[49m\u001b[43m,\u001b[49m\n\u001b[1;32m     20\u001b[0m \u001b[43m        \u001b[49m\u001b[43mreader\u001b[49m\u001b[38;5;241;43m=\u001b[39;49m\u001b[43mreader\u001b[49m\u001b[43m,\u001b[49m\n\u001b[1;32m     21\u001b[0m \u001b[43m        \u001b[49m\u001b[43mnormalize_reduce\u001b[49m\u001b[38;5;241;43m=\u001b[39;49m\u001b[38;5;28;43;01mTrue\u001b[39;49;00m\u001b[43m,\u001b[49m\n\u001b[1;32m     22\u001b[0m \u001b[43m        \u001b[49m\u001b[43m)\u001b[49m\n",
      "File \u001b[0;32m~/miniforge3/envs/sbsim2/lib/python3.10/site-packages/gin/config.py:1793\u001b[0m, in \u001b[0;36mconfigurable\u001b[0;34m(name_or_fn, module, allowlist, denylist)\u001b[0m\n\u001b[1;32m   1790\u001b[0m   \u001b[38;5;28;01mreturn\u001b[39;00m _make_configurable(fn_or_cls, name, module, allowlist, denylist)\n\u001b[1;32m   1792\u001b[0m \u001b[38;5;28;01mif\u001b[39;00m decoration_target:\n\u001b[0;32m-> 1793\u001b[0m   \u001b[38;5;28;01mreturn\u001b[39;00m \u001b[43mperform_decoration\u001b[49m\u001b[43m(\u001b[49m\u001b[43mdecoration_target\u001b[49m\u001b[43m)\u001b[49m\n\u001b[1;32m   1794\u001b[0m \u001b[38;5;28;01mreturn\u001b[39;00m perform_decoration\n",
      "File \u001b[0;32m~/miniforge3/envs/sbsim2/lib/python3.10/site-packages/gin/config.py:1790\u001b[0m, in \u001b[0;36mconfigurable.<locals>.perform_decoration\u001b[0;34m(fn_or_cls)\u001b[0m\n\u001b[1;32m   1789\u001b[0m \u001b[38;5;28;01mdef\u001b[39;00m \u001b[38;5;21mperform_decoration\u001b[39m(fn_or_cls):\n\u001b[0;32m-> 1790\u001b[0m   \u001b[38;5;28;01mreturn\u001b[39;00m \u001b[43m_make_configurable\u001b[49m\u001b[43m(\u001b[49m\u001b[43mfn_or_cls\u001b[49m\u001b[43m,\u001b[49m\u001b[43m \u001b[49m\u001b[43mname\u001b[49m\u001b[43m,\u001b[49m\u001b[43m \u001b[49m\u001b[43mmodule\u001b[49m\u001b[43m,\u001b[49m\u001b[43m \u001b[49m\u001b[43mallowlist\u001b[49m\u001b[43m,\u001b[49m\u001b[43m \u001b[49m\u001b[43mdenylist\u001b[49m\u001b[43m)\u001b[49m\n",
      "File \u001b[0;32m~/miniforge3/envs/sbsim2/lib/python3.10/site-packages/gin/config.py:1673\u001b[0m, in \u001b[0;36m_make_configurable\u001b[0;34m(fn_or_cls, name, module, allowlist, denylist, avoid_class_mutation, import_source)\u001b[0m\n\u001b[1;32m   1667\u001b[0m \u001b[38;5;28;01mif\u001b[39;00m (\u001b[38;5;129;01mnot\u001b[39;00m _INTERACTIVE_MODE \u001b[38;5;129;01mand\u001b[39;00m selector \u001b[38;5;129;01min\u001b[39;00m _REGISTRY \u001b[38;5;129;01mand\u001b[39;00m\n\u001b[1;32m   1668\u001b[0m     _REGISTRY[selector]\u001b[38;5;241m.\u001b[39mwrapped \u001b[38;5;129;01mis\u001b[39;00m \u001b[38;5;129;01mnot\u001b[39;00m fn_or_cls):\n\u001b[1;32m   1669\u001b[0m   err_str \u001b[38;5;241m=\u001b[39m (\u001b[38;5;124m\"\u001b[39m\u001b[38;5;124mA different configurable matching \u001b[39m\u001b[38;5;124m'\u001b[39m\u001b[38;5;132;01m{}\u001b[39;00m\u001b[38;5;124m'\u001b[39m\u001b[38;5;124m already exists.\u001b[39m\u001b[38;5;130;01m\\n\u001b[39;00m\u001b[38;5;130;01m\\n\u001b[39;00m\u001b[38;5;124m\"\u001b[39m\n\u001b[1;32m   1670\u001b[0m              \u001b[38;5;124m'\u001b[39m\u001b[38;5;124mTo allow re-registration of configurables in an interactive \u001b[39m\u001b[38;5;124m'\u001b[39m\n\u001b[1;32m   1671\u001b[0m              \u001b[38;5;124m'\u001b[39m\u001b[38;5;124menvironment, use:\u001b[39m\u001b[38;5;130;01m\\n\u001b[39;00m\u001b[38;5;130;01m\\n\u001b[39;00m\u001b[38;5;124m'\u001b[39m\n\u001b[1;32m   1672\u001b[0m              \u001b[38;5;124m'\u001b[39m\u001b[38;5;124m    gin.enter_interactive_mode()\u001b[39m\u001b[38;5;124m'\u001b[39m)\n\u001b[0;32m-> 1673\u001b[0m   \u001b[38;5;28;01mraise\u001b[39;00m \u001b[38;5;167;01mValueError\u001b[39;00m(err_str\u001b[38;5;241m.\u001b[39mformat(selector))\n\u001b[1;32m   1675\u001b[0m \u001b[38;5;28;01mif\u001b[39;00m allowlist \u001b[38;5;129;01mand\u001b[39;00m denylist:\n\u001b[1;32m   1676\u001b[0m   err_str \u001b[38;5;241m=\u001b[39m \u001b[38;5;124m'\u001b[39m\u001b[38;5;124mAn allowlist or a denylist can be specified, but not both.\u001b[39m\u001b[38;5;124m'\u001b[39m\n",
      "\u001b[0;31mValueError\u001b[0m: A different configurable matching '__main__.get_histogram_reducer' already exists.\n\nTo allow re-registration of configurables in an interactive environment, use:\n\n    gin.enter_interactive_mode()"
     ]
    }
   ],
   "source": [
    "# @title Set local runtime configurations\n",
    "\n",
    "\n",
    "def logging_info(*args):\n",
    "    logging.info(*args)\n",
    "    print(*args)\n",
    "\n",
    "data_path = \"/burg/home/ssa2206/sbsim_dual_control/smart_control/configs/resources/sb1/\" #@param {type:\"string\"}\n",
    "metrics_path = \"/burg/home/ssa2206/sbsim_dual_control/metrics\" #@param {type:\"string\"}\n",
    "output_data_path = '/burg/home/ssa2206/sbsim_dual_control/output' #@param {type:\"string\"}\n",
    "root_dir = \"/burg/home/ssa2206/sbsim_dual_control/root\" #@param {type:\"string\"}\n",
    "\n",
    "\n",
    "@gin.configurable\n",
    "def get_histogram_reducer():\n",
    "    reader = controller_reader.ProtoReader(data_path)\n",
    "\n",
    "    hr = histogram_reducer.HistogramReducer(\n",
    "        histogram_parameters_tuples=histogram_parameters_tuples,\n",
    "        reader=reader,\n",
    "        normalize_reduce=True,\n",
    "        )\n",
    "    return hr\n",
    "\n",
    "!mkdir -p $root_dir\n",
    "!mkdir -p $output_data_path\n",
    "!mkdir -p $metrics_path\n",
    "\n",
    "\n",
    "\n",
    "\n",
    "def remap_filepath(filepath) -> str:\n",
    "    return str(filepath)\n"
   ]
  },
  {
   "cell_type": "code",
   "execution_count": 8,
   "metadata": {},
   "outputs": [],
   "source": [
    "# @title Plotting Utities\n",
    "reward_shift = 0\n",
    "reward_scale = 1.0\n",
    "person_productivity_hour = 300.0\n",
    "\n",
    "KELVIN_TO_CELSIUS = 273.15\n",
    "\n",
    "def render_env(env: environment.Environment):\n",
    "    \"\"\"Renders the environment.\"\"\"\n",
    "    building_layout = env.building._simulator._building._floor_plan\n",
    "\n",
    "    # create a renderer\n",
    "    renderer = building_renderer.BuildingRenderer(building_layout, 1)\n",
    "\n",
    "    # get the current temps to render\n",
    "    # this also is not ideal, since the temps are not fully exposed.\n",
    "    # V Ideally this should be a publicly accessable field\n",
    "    temps = env.building._simulator._building.temp\n",
    "\n",
    "    input_q = env.building._simulator._building.input_q\n",
    "\n",
    "    # render\n",
    "    vmin = 285\n",
    "    vmax = 305\n",
    "    image = renderer.render(temps, cmap='bwr', vmin=vmin, vmax=vmax, colorbar=False, \n",
    "                            input_q=input_q, diff_range=0.5, diff_size=1,).convert('RGB')\n",
    "    media.show_image(image, title='Environment %s' % env.current_simulation_timestamp)"
   ]
  },
  {
   "cell_type": "code",
   "execution_count": 9,
   "metadata": {},
   "outputs": [],
   "source": [
    "from output_formatting import *\n",
    "from plot_utils import *"
   ]
  },
  {
   "cell_type": "markdown",
   "metadata": {
    "id": "kTtVb9wbRsKU"
   },
   "source": [
    "# Load up the environment\n",
    "\n",
    "In this section we load up the Smart Buildings simulator environment."
   ]
  },
  {
   "cell_type": "code",
   "execution_count": 10,
   "metadata": {
    "cellView": "form",
    "id": "2fcYS1VBrvia"
   },
   "outputs": [],
   "source": [
    "# @title Utils for importing the environment.\n",
    "\n",
    "def load_environment(gin_config_file: str):\n",
    "    \"\"\"Returns an Environment from a config file.\"\"\"\n",
    "    # Global definition is required by Gin library to instantiate Environment.\n",
    "    global environment  # pylint: disable=global-variable-not-assigned\n",
    "    with gin.unlock_config():\n",
    "        gin.parse_config_file(gin_config_file)\n",
    "        return environment.Environment()  # pylint: disable=no-value-for-parameter\n",
    "\n",
    "\n",
    "def get_latest_episode_reader(metrics_path: str,) -> controller_reader.ProtoReader:\n",
    "    episode_infos = controller_reader.get_episode_data(metrics_path).sort_index()\n",
    "    selected_episode = episode_infos.index[-1]\n",
    "    episode_path = os.path.join(metrics_path, selected_episode)\n",
    "    reader = controller_reader.ProtoReader(episode_path)\n",
    "    return reader\n",
    "\n",
    "@gin.configurable\n",
    "def get_histogram_path():\n",
    "    return data_path\n",
    "\n",
    "\n",
    "@gin.configurable\n",
    "def get_reset_temp_values():\n",
    "    reset_temps_filepath = remap_filepath(\n",
    "      os.path.join(data_path, \"reset_temps.npy\")\n",
    "    )\n",
    "    return np.load(reset_temps_filepath)\n",
    "\n",
    "\n",
    "@gin.configurable\n",
    "def get_zone_path():\n",
    "    return remap_filepath(\n",
    "      os.path.join(data_path, \"double_resolution_zone_1_2.npy\")\n",
    "    )\n",
    "\n",
    "\n",
    "@gin.configurable\n",
    "def get_metrics_path():\n",
    "    return os.path.join(metrics_path, \"metrics\")\n",
    "\n",
    "\n",
    "@gin.configurable\n",
    "def get_weather_path():\n",
    "    return remap_filepath(os.path.join(\n",
    "        data_path, \"local_weather_moffett_field_20230701_20231122.csv\"\n",
    "      ))"
   ]
  },
  {
   "cell_type": "markdown",
   "metadata": {
    "id": "10THzl_rSgFW"
   },
   "source": [
    "In the cell below, we will load the collect and eval environments. While we are loading the same environment, below, it would be useful to load the same building over near, but non-overlapping time windows."
   ]
  },
  {
   "cell_type": "code",
   "execution_count": 12,
   "metadata": {
    "cellView": "form",
    "id": "XFeGO2TLRS1o"
   },
   "outputs": [
    {
     "name": "stdout",
     "output_type": "stream",
     "text": [
      "/burg/home/ssa2206/sbsim_dual_control/smart_control/configs/resources/sb1/sim_config.gin\n",
      "/burg/home/ssa2206/sbsim_dual_control/smart_control/configs/resources/sb1/sim_config.gin\n"
     ]
    },
    {
     "ename": "KeyError",
     "evalue": "\"Ambiguous selector 'to_timestamp', matches ['__main__.to_timestamp', 'smart_control.utils.environment_utils.to_timestamp'].\"\n  In file \"/burg/home/ssa2206/sbsim_dual_control/smart_control/configs/resources/sb1/sim_config.gin\", line 166\n        sim/to_timestamp.date_str = %start_timestamp",
     "output_type": "error",
     "traceback": [
      "\u001b[0;31m---------------------------------------------------------------------------\u001b[0m",
      "\u001b[0;31mKeyError\u001b[0m                                  Traceback (most recent call last)",
      "Cell \u001b[0;32mIn[12], line 85\u001b[0m\n\u001b[1;32m     82\u001b[0m eval_scenario_config \u001b[38;5;241m=\u001b[39m os\u001b[38;5;241m.\u001b[39mpath\u001b[38;5;241m.\u001b[39mjoin(data_path, \u001b[38;5;124m\"\u001b[39m\u001b[38;5;124msim_config.gin\u001b[39m\u001b[38;5;124m\"\u001b[39m)\n\u001b[1;32m     83\u001b[0m \u001b[38;5;28mprint\u001b[39m(eval_scenario_config)\n\u001b[0;32m---> 85\u001b[0m collect_env \u001b[38;5;241m=\u001b[39m \u001b[43mload_environment\u001b[49m\u001b[43m(\u001b[49m\u001b[43mcollect_scenario_config\u001b[49m\u001b[43m)\u001b[49m\n\u001b[1;32m     87\u001b[0m \u001b[38;5;66;03m# For efficency, set metrics_path to None\u001b[39;00m\n\u001b[1;32m     88\u001b[0m collect_env\u001b[38;5;241m.\u001b[39m_metrics_path \u001b[38;5;241m=\u001b[39m \u001b[38;5;28;01mNone\u001b[39;00m\n",
      "Cell \u001b[0;32mIn[10], line 8\u001b[0m, in \u001b[0;36mload_environment\u001b[0;34m(gin_config_file)\u001b[0m\n\u001b[1;32m      6\u001b[0m \u001b[38;5;28;01mglobal\u001b[39;00m environment  \u001b[38;5;66;03m# pylint: disable=global-variable-not-assigned\u001b[39;00m\n\u001b[1;32m      7\u001b[0m \u001b[38;5;28;01mwith\u001b[39;00m gin\u001b[38;5;241m.\u001b[39munlock_config():\n\u001b[0;32m----> 8\u001b[0m     \u001b[43mgin\u001b[49m\u001b[38;5;241;43m.\u001b[39;49m\u001b[43mparse_config_file\u001b[49m\u001b[43m(\u001b[49m\u001b[43mgin_config_file\u001b[49m\u001b[43m)\u001b[49m\n\u001b[1;32m      9\u001b[0m     \u001b[38;5;28;01mreturn\u001b[39;00m environment\u001b[38;5;241m.\u001b[39mEnvironment()\n",
      "File \u001b[0;32m~/miniforge3/envs/sbsim2/lib/python3.10/site-packages/gin/config.py:2450\u001b[0m, in \u001b[0;36mparse_config_file\u001b[0;34m(config_file, skip_unknown, print_includes_and_imports)\u001b[0m\n\u001b[1;32m   2448\u001b[0m \u001b[38;5;28;01mif\u001b[39;00m existence_check(config_file_with_prefix):\n\u001b[1;32m   2449\u001b[0m   \u001b[38;5;28;01mwith\u001b[39;00m reader(config_file_with_prefix) \u001b[38;5;28;01mas\u001b[39;00m f:\n\u001b[0;32m-> 2450\u001b[0m     includes, imports \u001b[38;5;241m=\u001b[39m \u001b[43mparse_config\u001b[49m\u001b[43m(\u001b[49m\u001b[43mf\u001b[49m\u001b[43m,\u001b[49m\u001b[43m \u001b[49m\u001b[43mskip_unknown\u001b[49m\u001b[38;5;241;43m=\u001b[39;49m\u001b[43mskip_unknown\u001b[49m\u001b[43m)\u001b[49m\n\u001b[1;32m   2451\u001b[0m     results \u001b[38;5;241m=\u001b[39m ParsedConfigFileIncludesAndImports(\n\u001b[1;32m   2452\u001b[0m         filename\u001b[38;5;241m=\u001b[39mconfig_file, imports\u001b[38;5;241m=\u001b[39mimports, includes\u001b[38;5;241m=\u001b[39mincludes)\n\u001b[1;32m   2453\u001b[0m     \u001b[38;5;28;01mif\u001b[39;00m print_includes_and_imports:\n",
      "File \u001b[0;32m~/miniforge3/envs/sbsim2/lib/python3.10/site-packages/gin/config.py:2330\u001b[0m, in \u001b[0;36mparse_config\u001b[0;34m(bindings, skip_unknown)\u001b[0m\n\u001b[1;32m   2328\u001b[0m       bind_parameter((macro_name, \u001b[38;5;124m'\u001b[39m\u001b[38;5;124mgin.macro\u001b[39m\u001b[38;5;124m'\u001b[39m, \u001b[38;5;124m'\u001b[39m\u001b[38;5;124mvalue\u001b[39m\u001b[38;5;124m'\u001b[39m), value)\n\u001b[1;32m   2329\u001b[0m   \u001b[38;5;28;01melif\u001b[39;00m \u001b[38;5;129;01mnot\u001b[39;00m _should_skip(selector, skip_unknown):\n\u001b[0;32m-> 2330\u001b[0m     \u001b[38;5;28;01mwith\u001b[39;00m utils\u001b[38;5;241m.\u001b[39mtry_with_location(location):\n\u001b[1;32m   2331\u001b[0m       bind_parameter((scope, selector, arg_name), value)\n\u001b[1;32m   2332\u001b[0m \u001b[38;5;28;01melif\u001b[39;00m \u001b[38;5;28misinstance\u001b[39m(statement, config_parser\u001b[38;5;241m.\u001b[39mBlockDeclaration):\n",
      "File \u001b[0;32m~/miniforge3/envs/sbsim2/lib/python3.10/contextlib.py:153\u001b[0m, in \u001b[0;36m_GeneratorContextManager.__exit__\u001b[0;34m(self, typ, value, traceback)\u001b[0m\n\u001b[1;32m    151\u001b[0m     value \u001b[38;5;241m=\u001b[39m typ()\n\u001b[1;32m    152\u001b[0m \u001b[38;5;28;01mtry\u001b[39;00m:\n\u001b[0;32m--> 153\u001b[0m     \u001b[38;5;28;43mself\u001b[39;49m\u001b[38;5;241;43m.\u001b[39;49m\u001b[43mgen\u001b[49m\u001b[38;5;241;43m.\u001b[39;49m\u001b[43mthrow\u001b[49m\u001b[43m(\u001b[49m\u001b[43mtyp\u001b[49m\u001b[43m,\u001b[49m\u001b[43m \u001b[49m\u001b[43mvalue\u001b[49m\u001b[43m,\u001b[49m\u001b[43m \u001b[49m\u001b[43mtraceback\u001b[49m\u001b[43m)\u001b[49m\n\u001b[1;32m    154\u001b[0m \u001b[38;5;28;01mexcept\u001b[39;00m \u001b[38;5;167;01mStopIteration\u001b[39;00m \u001b[38;5;28;01mas\u001b[39;00m exc:\n\u001b[1;32m    155\u001b[0m     \u001b[38;5;66;03m# Suppress StopIteration *unless* it's the same exception that\u001b[39;00m\n\u001b[1;32m    156\u001b[0m     \u001b[38;5;66;03m# was passed to throw().  This prevents a StopIteration\u001b[39;00m\n\u001b[1;32m    157\u001b[0m     \u001b[38;5;66;03m# raised inside the \"with\" statement from being suppressed.\u001b[39;00m\n\u001b[1;32m    158\u001b[0m     \u001b[38;5;28;01mreturn\u001b[39;00m exc \u001b[38;5;129;01mis\u001b[39;00m \u001b[38;5;129;01mnot\u001b[39;00m value\n",
      "File \u001b[0;32m~/miniforge3/envs/sbsim2/lib/python3.10/site-packages/gin/utils.py:60\u001b[0m, in \u001b[0;36mtry_with_location\u001b[0;34m(location)\u001b[0m\n\u001b[1;32m     58\u001b[0m \u001b[38;5;28;01mif\u001b[39;00m \u001b[38;5;28misinstance\u001b[39m(exception, \u001b[38;5;167;01mSyntaxError\u001b[39;00m):\n\u001b[1;32m     59\u001b[0m   \u001b[38;5;28;01mraise\u001b[39;00m  \u001b[38;5;66;03m# SyntaxErrors already include location information.\u001b[39;00m\n\u001b[0;32m---> 60\u001b[0m \u001b[43maugment_exception_message_and_reraise\u001b[49m\u001b[43m(\u001b[49m\u001b[43mexception\u001b[49m\u001b[43m,\u001b[49m\u001b[43m \u001b[49m\u001b[43m_format_location\u001b[49m\u001b[43m(\u001b[49m\u001b[43mlocation\u001b[49m\u001b[43m)\u001b[49m\u001b[43m)\u001b[49m\n",
      "File \u001b[0;32m~/miniforge3/envs/sbsim2/lib/python3.10/site-packages/gin/utils.py:41\u001b[0m, in \u001b[0;36maugment_exception_message_and_reraise\u001b[0;34m(exception, message)\u001b[0m\n\u001b[1;32m     39\u001b[0m proxy \u001b[38;5;241m=\u001b[39m ExceptionProxy()\n\u001b[1;32m     40\u001b[0m ExceptionProxy\u001b[38;5;241m.\u001b[39m\u001b[38;5;18m__qualname__\u001b[39m \u001b[38;5;241m=\u001b[39m \u001b[38;5;28mtype\u001b[39m(exception)\u001b[38;5;241m.\u001b[39m\u001b[38;5;18m__qualname__\u001b[39m\n\u001b[0;32m---> 41\u001b[0m \u001b[38;5;28;01mraise\u001b[39;00m proxy\u001b[38;5;241m.\u001b[39mwith_traceback(exception\u001b[38;5;241m.\u001b[39m__traceback__) \u001b[38;5;28;01mfrom\u001b[39;00m \u001b[38;5;28;01mNone\u001b[39;00m\n",
      "File \u001b[0;32m~/miniforge3/envs/sbsim2/lib/python3.10/site-packages/gin/utils.py:56\u001b[0m, in \u001b[0;36mtry_with_location\u001b[0;34m(location)\u001b[0m\n\u001b[1;32m     53\u001b[0m \u001b[38;5;129m@contextlib\u001b[39m\u001b[38;5;241m.\u001b[39mcontextmanager\n\u001b[1;32m     54\u001b[0m \u001b[38;5;28;01mdef\u001b[39;00m \u001b[38;5;21mtry_with_location\u001b[39m(location):\n\u001b[1;32m     55\u001b[0m   \u001b[38;5;28;01mtry\u001b[39;00m:\n\u001b[0;32m---> 56\u001b[0m     \u001b[38;5;28;01myield\u001b[39;00m\n\u001b[1;32m     57\u001b[0m   \u001b[38;5;28;01mexcept\u001b[39;00m \u001b[38;5;167;01mException\u001b[39;00m \u001b[38;5;28;01mas\u001b[39;00m exception:  \u001b[38;5;66;03m# pylint: disable=broad-except\u001b[39;00m\n\u001b[1;32m     58\u001b[0m     \u001b[38;5;28;01mif\u001b[39;00m \u001b[38;5;28misinstance\u001b[39m(exception, \u001b[38;5;167;01mSyntaxError\u001b[39;00m):\n",
      "File \u001b[0;32m~/miniforge3/envs/sbsim2/lib/python3.10/site-packages/gin/config.py:2331\u001b[0m, in \u001b[0;36mparse_config\u001b[0;34m(bindings, skip_unknown)\u001b[0m\n\u001b[1;32m   2329\u001b[0m   \u001b[38;5;28;01melif\u001b[39;00m \u001b[38;5;129;01mnot\u001b[39;00m _should_skip(selector, skip_unknown):\n\u001b[1;32m   2330\u001b[0m     \u001b[38;5;28;01mwith\u001b[39;00m utils\u001b[38;5;241m.\u001b[39mtry_with_location(location):\n\u001b[0;32m-> 2331\u001b[0m       \u001b[43mbind_parameter\u001b[49m\u001b[43m(\u001b[49m\u001b[43m(\u001b[49m\u001b[43mscope\u001b[49m\u001b[43m,\u001b[49m\u001b[43m \u001b[49m\u001b[43mselector\u001b[49m\u001b[43m,\u001b[49m\u001b[43m \u001b[49m\u001b[43marg_name\u001b[49m\u001b[43m)\u001b[49m\u001b[43m,\u001b[49m\u001b[43m \u001b[49m\u001b[43mvalue\u001b[49m\u001b[43m)\u001b[49m\n\u001b[1;32m   2332\u001b[0m \u001b[38;5;28;01melif\u001b[39;00m \u001b[38;5;28misinstance\u001b[39m(statement, config_parser\u001b[38;5;241m.\u001b[39mBlockDeclaration):\n\u001b[1;32m   2333\u001b[0m   \u001b[38;5;28;01mif\u001b[39;00m \u001b[38;5;129;01mnot\u001b[39;00m _should_skip(statement\u001b[38;5;241m.\u001b[39mselector, skip_unknown):\n",
      "File \u001b[0;32m~/miniforge3/envs/sbsim2/lib/python3.10/site-packages/gin/config.py:1051\u001b[0m, in \u001b[0;36mbind_parameter\u001b[0;34m(binding_key, value)\u001b[0m\n\u001b[1;32m   1048\u001b[0m \u001b[38;5;28;01mif\u001b[39;00m config_is_locked():\n\u001b[1;32m   1049\u001b[0m   \u001b[38;5;28;01mraise\u001b[39;00m \u001b[38;5;167;01mRuntimeError\u001b[39;00m(\u001b[38;5;124m'\u001b[39m\u001b[38;5;124mAttempted to modify locked Gin config.\u001b[39m\u001b[38;5;124m'\u001b[39m)\n\u001b[0;32m-> 1051\u001b[0m pbk \u001b[38;5;241m=\u001b[39m \u001b[43mParsedBindingKey\u001b[49m\u001b[38;5;241;43m.\u001b[39;49m\u001b[43mparse\u001b[49m\u001b[43m(\u001b[49m\u001b[43mbinding_key\u001b[49m\u001b[43m)\u001b[49m\n\u001b[1;32m   1052\u001b[0m fn_dict \u001b[38;5;241m=\u001b[39m _CONFIG\u001b[38;5;241m.\u001b[39msetdefault(pbk\u001b[38;5;241m.\u001b[39mconfig_key, {})\n\u001b[1;32m   1053\u001b[0m fn_dict[pbk\u001b[38;5;241m.\u001b[39marg_name] \u001b[38;5;241m=\u001b[39m value\n",
      "File \u001b[0;32m~/miniforge3/envs/sbsim2/lib/python3.10/site-packages/gin/config.py:908\u001b[0m, in \u001b[0;36mParsedBindingKey.parse\u001b[0;34m(cls, binding_key)\u001b[0m\n\u001b[1;32m    905\u001b[0m   err_str \u001b[38;5;241m=\u001b[39m \u001b[38;5;124m'\u001b[39m\u001b[38;5;124mInvalid type for binding_key: \u001b[39m\u001b[38;5;132;01m{}\u001b[39;00m\u001b[38;5;124m.\u001b[39m\u001b[38;5;124m'\u001b[39m\n\u001b[1;32m    906\u001b[0m   \u001b[38;5;28;01mraise\u001b[39;00m \u001b[38;5;167;01mValueError\u001b[39;00m(err_str\u001b[38;5;241m.\u001b[39mformat(\u001b[38;5;28mtype\u001b[39m(binding_key)))\n\u001b[0;32m--> 908\u001b[0m configurable_ \u001b[38;5;241m=\u001b[39m \u001b[43m_parse_context\u001b[49m\u001b[43m(\u001b[49m\u001b[43m)\u001b[49m\u001b[38;5;241;43m.\u001b[39;49m\u001b[43mget_configurable\u001b[49m\u001b[43m(\u001b[49m\u001b[43mselector\u001b[49m\u001b[43m)\u001b[49m\n\u001b[1;32m    909\u001b[0m \u001b[38;5;28;01mif\u001b[39;00m \u001b[38;5;129;01mnot\u001b[39;00m configurable_:\n\u001b[1;32m    910\u001b[0m   _raise_unknown_configurable_error(selector)\n",
      "File \u001b[0;32m~/miniforge3/envs/sbsim2/lib/python3.10/site-packages/gin/config.py:324\u001b[0m, in \u001b[0;36mParseContext.get_configurable\u001b[0;34m(self, selector)\u001b[0m\n\u001b[1;32m    322\u001b[0m   \u001b[38;5;28;01mreturn\u001b[39;00m existing_configurable \u001b[38;5;129;01mor\u001b[39;00m \u001b[38;5;28mself\u001b[39m\u001b[38;5;241m.\u001b[39m_register(attr_names, attr_values)\n\u001b[1;32m    323\u001b[0m \u001b[38;5;28;01melse\u001b[39;00m:  \u001b[38;5;66;03m# No dynamic registration, just look up the selector.\u001b[39;00m\n\u001b[0;32m--> 324\u001b[0m   \u001b[38;5;28;01mreturn\u001b[39;00m \u001b[43m_REGISTRY\u001b[49m\u001b[38;5;241;43m.\u001b[39;49m\u001b[43mget_match\u001b[49m\u001b[43m(\u001b[49m\u001b[43mselector\u001b[49m\u001b[43m)\u001b[49m\n",
      "File \u001b[0;32m~/miniforge3/envs/sbsim2/lib/python3.10/site-packages/gin/selector_map.py:183\u001b[0m, in \u001b[0;36mSelectorMap.get_match\u001b[0;34m(self, partial_selector, default)\u001b[0m\n\u001b[1;32m    181\u001b[0m \u001b[38;5;28;01mif\u001b[39;00m \u001b[38;5;28mlen\u001b[39m(matching_selectors) \u001b[38;5;241m>\u001b[39m \u001b[38;5;241m1\u001b[39m:\n\u001b[1;32m    182\u001b[0m   err_str \u001b[38;5;241m=\u001b[39m \u001b[38;5;124m\"\u001b[39m\u001b[38;5;124mAmbiguous selector \u001b[39m\u001b[38;5;124m'\u001b[39m\u001b[38;5;132;01m{}\u001b[39;00m\u001b[38;5;124m'\u001b[39m\u001b[38;5;124m, matches \u001b[39m\u001b[38;5;132;01m{}\u001b[39;00m\u001b[38;5;124m.\u001b[39m\u001b[38;5;124m\"\u001b[39m\n\u001b[0;32m--> 183\u001b[0m   \u001b[38;5;28;01mraise\u001b[39;00m \u001b[38;5;167;01mKeyError\u001b[39;00m(err_str\u001b[38;5;241m.\u001b[39mformat(partial_selector, matching_selectors))\n\u001b[1;32m    184\u001b[0m \u001b[38;5;28;01mreturn\u001b[39;00m \u001b[38;5;28mself\u001b[39m\u001b[38;5;241m.\u001b[39m_selector_map[matching_selectors[\u001b[38;5;241m0\u001b[39m]]\n",
      "\u001b[0;31mKeyError\u001b[0m: \"Ambiguous selector 'to_timestamp', matches ['__main__.to_timestamp', 'smart_control.utils.environment_utils.to_timestamp'].\"\n  In file \"/burg/home/ssa2206/sbsim_dual_control/smart_control/configs/resources/sb1/sim_config.gin\", line 166\n        sim/to_timestamp.date_str = %start_timestamp"
     ]
    }
   ],
   "source": [
    "\"\"\"\n",
    "@gin.configurable\n",
    "def to_timestamp(date_str: str) -> pd.Timestamp:\n",
    "    # Utilty macro for gin config\n",
    "    return pd.Timestamp(date_str)\n",
    "\n",
    "\n",
    "@gin.configurable\n",
    "def local_time(time_str: str) -> pd.Timedelta:\n",
    "    #Utilty macro for gin config.\n",
    "    return pd.Timedelta(time_str)\n",
    "\n",
    "\"\"\"\n",
    "# @gin.configurable\n",
    "# def enumerate_zones(\n",
    "#     n_building_x: int, n_building_y: int\n",
    "# ) -> Sequence[tuple[int, int]]:\n",
    "#   # Utilty macro for gin config.\n",
    "#   zone_coordinates = []\n",
    "#   for x in range(n_building_x):\n",
    "#     for y in range(n_building_y):\n",
    "#       zone_coordinates.append((x, y))\n",
    "#   return zone_coordinates\n",
    "\n",
    "\n",
    "# @gin.configurable\n",
    "# def set_observation_normalization_constants(\n",
    "#     field_id: str, sample_mean: float, sample_variance: float\n",
    "# ) -> smart_control_normalization_pb2.ContinuousVariableInfo:\n",
    "#   return smart_control_normalization_pb2.ContinuousVariableInfo(\n",
    "#       id=field_id, sample_mean=sample_mean, sample_variance=sample_variance\n",
    "#   )\n",
    "\n",
    "\n",
    "# @gin.configurable\n",
    "# def set_action_normalization_constants(\n",
    "#     min_native_value,\n",
    "#     max_native_value,\n",
    "#     min_normalized_value,\n",
    "#     max_normalized_value,\n",
    "# ) -> bounded_action_normalizer.BoundedActionNormalizer:\n",
    "#   return bounded_action_normalizer.BoundedActionNormalizer(\n",
    "#       min_native_value,\n",
    "#       max_native_value,\n",
    "#       min_normalized_value,\n",
    "#       max_normalized_value,\n",
    "#   )\n",
    "\n",
    "\n",
    "# @gin.configurable\n",
    "# def get_zones_from_config(\n",
    "#     configuration_path: str,\n",
    "# ) -> Sequence[smart_control_building_pb2.ZoneInfo]:\n",
    "#   \"\"\"Loads up the zones as a gin macro.\"\"\"\n",
    "#   with gin.unlock_config():\n",
    "#     reader = reader_lib_google.RecordIoReader(input_dir=configuration_path)\n",
    "#     zone_infos = reader.read_zone_infos()\n",
    "#     return zone_infos\n",
    "\n",
    "\n",
    "# @gin.configurable\n",
    "# def get_devices_from_config(\n",
    "#     configuration_path: str,\n",
    "# ) -> Sequence[smart_control_building_pb2.DeviceInfo]:\n",
    "#   \"\"\"Loads up HVAC devices as a gin macro.\"\"\"\n",
    "#   with gin.unlock_config():\n",
    "#     reader = reader_lib_google.RecordIoReader(input_dir=configuration_path)\n",
    "#     device_infos = reader.read_device_infos()\n",
    "#     return device_infos\n",
    "\n",
    "# @title Load the environments\n",
    "\n",
    "histogram_parameters_tuples = (\n",
    "        ('zone_air_temperature_sensor',(285., 286., 287., 288, 289., 290., 291., 292., 293., 294., 295., 296., 297., 298., 299., 300.,301,302,303)),\n",
    "        ('supply_air_damper_percentage_command',(0.0, 0.2, 0.4, 0.6, 0.8, 1.0)),\n",
    "        ('supply_air_flowrate_setpoint',( 0., 0.05, .1, .2, .3, .4, .5,  .7,  .9)),\n",
    "    )\n",
    "\n",
    "time_zone = 'US/Pacific'\n",
    "collect_scenario_config = os.path.join(data_path, \"sim_config.gin\")\n",
    "print(collect_scenario_config)\n",
    "eval_scenario_config = os.path.join(data_path, \"sim_config.gin\")\n",
    "print(eval_scenario_config)\n",
    "\n",
    "collect_env = load_environment(collect_scenario_config)\n",
    "\n",
    "# For efficency, set metrics_path to None\n",
    "collect_env._metrics_path = None\n",
    "collect_env._occupancy_normalization_constant = 125.0\n",
    "\n",
    "eval_env = load_environment(eval_scenario_config)\n",
    "# eval_env._label += \"_eval\"\n",
    "eval_env._metrics_path = metrics_path\n",
    "eval_env._occupancy_normalization_constant = 125.0\n",
    "\n",
    "initial_collect_env = load_environment(eval_scenario_config)\n",
    "\n",
    "initial_collect_env._metrics_path = metrics_path\n",
    "initial_collect_env._occupancy_normalization_constant = 125.0"
   ]
  },
  {
   "cell_type": "markdown",
   "metadata": {
    "id": "c55CehnYR8lY"
   },
   "source": [
    "In the section below, we'll define a function that accepts the envirnment and a policy, and runs a fixed number of episodes. The policy can be a rules-based policy or an RL-based policy."
   ]
  },
  {
   "cell_type": "code",
   "execution_count": 13,
   "metadata": {
    "cellView": "form",
    "id": "bitzHo5_UbXy"
   },
   "outputs": [],
   "source": [
    "# @title Define a method to execute the policy on the environment.\n",
    "\n",
    "\n",
    "def get_trajectory(time_step, current_action: policy_step.PolicyStep):\n",
    "    \"\"\"Get the trajectory for the current action and time step.\"\"\"\n",
    "    observation = time_step.observation\n",
    "    action = current_action.action\n",
    "    policy_info = ()\n",
    "    reward = time_step.reward\n",
    "    discount = time_step.discount\n",
    "\n",
    "    if time_step.is_first():\n",
    "        return(trajectory.first(observation, action, policy_info, reward, discount))\n",
    "    elif time_step.is_last():\n",
    "        return(trajectory.last(observation, action, policy_info, reward, discount))\n",
    "    else:\n",
    "        return(trajectory.mid(observation, action, policy_info, reward, discount))\n",
    "\n",
    "\n",
    "def compute_avg_return(environment, policy, num_episodes=1, time_zone: str = \"US/Pacific\", \n",
    "                       render_interval_steps: int = 24,trajectory_observers=None,):\n",
    "    \"\"\"Computes the average return of the policy on the environment.\n",
    "    Args:\n",
    "    environment: environment.Environment\n",
    "    policy: policy.Policy\n",
    "    num_episodes: total number of eposides to run.\n",
    "    time_zone: time zone of the environment\n",
    "    render_interval_steps: Number of steps to take between rendering.\n",
    "    trajectory_observers: list of trajectory observers for use in rendering.\n",
    "    \"\"\"\n",
    "    total_return = 0.0\n",
    "    for _ in range(num_episodes):\n",
    "        time_step = environment.reset()\n",
    "        episode_return = 0.0\n",
    "        t0 = time.time()\n",
    "        epoch = t0\n",
    "        step_id = 0\n",
    "        execution_times = []\n",
    "        while not time_step.is_last():\n",
    "            action_step = policy.action(time_step)\n",
    "            time_step = environment.step(action_step.action)\n",
    "\n",
    "            if trajectory_observers is not None:\n",
    "                traj = get_trajectory(time_step, action_step)\n",
    "                for observer in trajectory_observers:\n",
    "                    observer(traj)\n",
    "\n",
    "            episode_return += time_step.reward\n",
    "            t1 = time.time()\n",
    "            dt = t1 - t0\n",
    "            episode_seconds = t1 - epoch\n",
    "            execution_times.append(dt)\n",
    "            sim_time = environment.current_simulation_timestamp.tz_convert(time_zone)\n",
    "\n",
    "            print(\"Step %5d Sim Time: %s, Reward: %8.2f, Return: %8.2f, Mean Step Time:\"\n",
    "                  \" %8.2f s, Episode Time: %8.2f s\" % (step_id, sim_time.strftime(\"%Y-%m-%d %H:%M\"),\n",
    "                                                       time_step.reward, episode_return, \n",
    "                                                       np.mean(execution_times), episode_seconds,)\n",
    "                 )\n",
    "            if (step_id > 0) and (step_id % render_interval_steps == 0):\n",
    "                if environment._metrics_path:\n",
    "                    clear_output(wait=True)\n",
    "                    reader = get_latest_episode_reader(environment._metrics_path)\n",
    "                    plot_timeseries_charts(reader, time_zone)\n",
    "                render_env(environment)\n",
    "\n",
    "            t0 = t1\n",
    "            step_id += 1\n",
    "        total_return += episode_return\n",
    "\n",
    "    avg_return = total_return / num_episodes\n",
    "    return avg_return"
   ]
  },
  {
   "cell_type": "markdown",
   "metadata": {
    "id": "86IIF7FrfJ_2"
   },
   "source": [
    "# Rules-based Control (RBC)"
   ]
  },
  {
   "cell_type": "code",
   "execution_count": 1,
   "metadata": {
    "cellView": "form",
    "id": "X9JR8qze6Yvb"
   },
   "outputs": [
    {
     "ename": "NameError",
     "evalue": "name 'enum' is not defined",
     "output_type": "error",
     "traceback": [
      "\u001b[0;31m---------------------------------------------------------------------------\u001b[0m",
      "\u001b[0;31mNameError\u001b[0m                                 Traceback (most recent call last)",
      "Cell \u001b[0;32mIn[1], line 4\u001b[0m\n\u001b[1;32m      1\u001b[0m \u001b[38;5;66;03m# @title Utils for RBC\u001b[39;00m\n\u001b[1;32m      2\u001b[0m \n\u001b[1;32m      3\u001b[0m \u001b[38;5;66;03m# We're concerned with controlling Heatpumps/ACs and Hot Water Systems (HWS).\u001b[39;00m\n\u001b[0;32m----> 4\u001b[0m \u001b[38;5;28;01mclass\u001b[39;00m \u001b[38;5;21;01mDeviceType\u001b[39;00m(\u001b[43menum\u001b[49m\u001b[38;5;241m.\u001b[39mEnum):\n\u001b[1;32m      5\u001b[0m     AC \u001b[38;5;241m=\u001b[39m \u001b[38;5;241m0\u001b[39m\n\u001b[1;32m      6\u001b[0m     HWS \u001b[38;5;241m=\u001b[39m \u001b[38;5;241m1\u001b[39m\n",
      "\u001b[0;31mNameError\u001b[0m: name 'enum' is not defined"
     ]
    }
   ],
   "source": [
    "# @title Utils for RBC\n",
    "\n",
    "# We're concerned with controlling Heatpumps/ACs and Hot Water Systems (HWS).\n",
    "class DeviceType(enum.Enum):\n",
    "    AC = 0\n",
    "    HWS = 1\n",
    "\n",
    "\n",
    "SetpointName = str    # Identify the setpoint\n",
    "# Setpoint value.\n",
    "SetpointValue = Union[float, int, bool]\n",
    "\n",
    "\n",
    "@dataclass\n",
    "class ScheduleEvent:\n",
    "    start_time: pd.Timedelta\n",
    "    device: DeviceType\n",
    "    setpointaa_name: SetpointName\n",
    "    setpoint_value: SetpointValue\n",
    "\n",
    "\n",
    "# A schedule is a list of times and setpoints for a device.\n",
    "Schedule = list[ScheduleEvent]\n",
    "ActionSequence = list[tuple[DeviceType, SetpointName]]\n",
    "\n",
    "\n",
    "def to_rad(sin_theta: float, cos_theta: float) -> float:\n",
    "    \"\"\"Converts a sin and cos theta to radians to extract the time.\"\"\"\n",
    "\n",
    "    if sin_theta >= 0 and cos_theta >= 0:\n",
    "        return np.arccos(cos_theta)\n",
    "    elif sin_theta >= 0 and cos_theta < 0:\n",
    "        return np.pi - np.arcsin(sin_theta)\n",
    "    elif sin_theta < 0 and cos_theta < 0:\n",
    "        return np.pi - np.arcsin(sin_theta)\n",
    "    else:\n",
    "        return 2 * np.pi - np.arccos(cos_theta)\n",
    "\n",
    "    return np.arccos(cos_theta) + rad_offset\n",
    "\n",
    "\n",
    "def to_dow(sin_theta: float, cos_theta: float) -> float:\n",
    "    \"\"\"Converts a sin and cos theta to days to extract day of week.\"\"\"\n",
    "    theta = to_rad(sin_theta, cos_theta)\n",
    "    return np.floor(7 * theta / 2 / np.pi)\n",
    "\n",
    "\n",
    "def to_hod(sin_theta: float, cos_theta: float) -> float:\n",
    "    \"\"\"Converts a sin and cos theta to hours to extract hour of day.\"\"\"\n",
    "    theta = to_rad(sin_theta, cos_theta)\n",
    "    return np.floor(24 * theta / 2 / np.pi)\n",
    "\n",
    "\n",
    "def find_schedule_action(schedule: Schedule, device: DeviceType, \n",
    "                         setpoint_name: SetpointName, timestamp: pd.Timedelta,) -> SetpointValue:\n",
    "    \"\"\"Finds the action for a schedule event for a time and schedule.\"\"\"\n",
    "\n",
    "    # Get all the schedule events for the device and the setpoint, and turn it\n",
    "    # into a series.\n",
    "    device_schedule_dict = {}\n",
    "    for schedule_event in schedule:\n",
    "        if (schedule_event.device == device and schedule_event.setpoint_name == setpoint_name):\n",
    "            device_schedule_dict[schedule_event.start_time] = (schedule_event.setpoint_value)\n",
    "    device_schedule = pd.Series(device_schedule_dict)\n",
    "\n",
    "    # Get the indexes of the schedule events that fall before the timestamp.\n",
    "\n",
    "    device_schedule_indexes = device_schedule.index[device_schedule.index <= timestamp]\n",
    "\n",
    "    # If are no events preceedding the time, then choose the last\n",
    "    # (assuming it wraps around).\n",
    "    if device_schedule_indexes.empty:\n",
    "        return device_schedule.loc[device_schedule.index[-1]]\n",
    "    return device_schedule.loc[device_schedule_indexes[-1]]"
   ]
  },
  {
   "cell_type": "code",
   "execution_count": 2,
   "metadata": {
    "cellView": "form",
    "id": "QZON8t8w2KF5"
   },
   "outputs": [
    {
     "ename": "NameError",
     "evalue": "name 'tf_policy' is not defined",
     "output_type": "error",
     "traceback": [
      "\u001b[0;31m---------------------------------------------------------------------------\u001b[0m",
      "\u001b[0;31mNameError\u001b[0m                                 Traceback (most recent call last)",
      "Cell \u001b[0;32mIn[2], line 3\u001b[0m\n\u001b[1;32m      1\u001b[0m \u001b[38;5;66;03m# @title Define a schedule policy\u001b[39;00m\n\u001b[0;32m----> 3\u001b[0m \u001b[38;5;28;01mclass\u001b[39;00m \u001b[38;5;21;01mSchedulePolicy\u001b[39;00m(\u001b[43mtf_policy\u001b[49m\u001b[38;5;241m.\u001b[39mTFPolicy):\n\u001b[1;32m      4\u001b[0m \u001b[38;5;250m    \u001b[39m\u001b[38;5;124;03m\"\"\"TF Policy implementation of the Schedule policy.\"\"\"\u001b[39;00m\n\u001b[1;32m      5\u001b[0m     \u001b[38;5;28;01mdef\u001b[39;00m \u001b[38;5;21m__init__\u001b[39m(\n\u001b[1;32m      6\u001b[0m       \u001b[38;5;28mself\u001b[39m,\n\u001b[1;32m      7\u001b[0m       time_step_spec,\n\u001b[0;32m   (...)\u001b[0m\n\u001b[1;32m     21\u001b[0m       name: Optional[\u001b[38;5;28mstr\u001b[39m] \u001b[38;5;241m=\u001b[39m \u001b[38;5;28;01mNone\u001b[39;00m,\n\u001b[1;32m     22\u001b[0m     ):\n",
      "\u001b[0;31mNameError\u001b[0m: name 'tf_policy' is not defined"
     ]
    }
   ],
   "source": [
    "# @title Define a schedule policy\n",
    "\n",
    "class SchedulePolicy(tf_policy.TFPolicy):\n",
    "    \"\"\"TF Policy implementation of the Schedule policy.\"\"\"\n",
    "    def __init__(self, time_step_spec,\n",
    "      action_spec: types.NestedTensorSpec,\n",
    "      action_sequence: ActionSequence,\n",
    "      weekday_schedule_events: Schedule,\n",
    "      weekend_holiday_schedule_events: Schedule,\n",
    "      dow_sin_index: int,\n",
    "      dow_cos_index: int,\n",
    "      hod_sin_index: int,\n",
    "      hod_cos_index: int,\n",
    "      action_normalizers,\n",
    "      local_start_time: str = pd.Timestamp,\n",
    "      policy_state_spec: types.NestedTensorSpec = (),\n",
    "      info_spec: types.NestedTensorSpec = (),\n",
    "      training: bool = False,\n",
    "      name: Optional[str] = None,\n",
    "    ):\n",
    "        self.weekday_schedule_events = weekday_schedule_events\n",
    "        self.weekend_holiday_schedule_events = weekend_holiday_schedule_events\n",
    "        self.dow_sin_index = dow_sin_index\n",
    "        self.dow_cos_index = dow_cos_index\n",
    "        self.hod_sin_index = hod_sin_index\n",
    "        self.hod_cos_index = hod_cos_index\n",
    "        self.action_sequence = action_sequence\n",
    "        self.action_normalizers = action_normalizers\n",
    "        self.local_start_time = local_start_time\n",
    "        self.norm_mean = 0.0\n",
    "        self.norm_std = 1.0\n",
    "\n",
    "        policy_state_spec = ()\n",
    "\n",
    "        super().__init__(\n",
    "            time_step_spec=time_step_spec,\n",
    "            action_spec=action_spec,\n",
    "            policy_state_spec=policy_state_spec,\n",
    "            info_spec=info_spec,\n",
    "            clip=False,\n",
    "            observation_and_action_constraint_splitter=None,\n",
    "            name=name,\n",
    "        )\n",
    "\n",
    "    def _normalize_action_map(\n",
    "      self, action_map: dict[tuple[DeviceType, SetpointName], SetpointValue]\n",
    "    ) -> dict[tuple[DeviceType, SetpointName], SetpointValue]:\n",
    "\n",
    "        normalized_action_map = {}\n",
    "\n",
    "        for k, v in action_map.items():\n",
    "            for normalizer_k, normalizer in self.action_normalizers.items():\n",
    "                if normalizer_k.endswith(k[1]):\n",
    "                    normed_v = normalizer.agent_value(v)\n",
    "                    normalized_action_map[k] = normed_v\n",
    "        return normalized_action_map\n",
    "\n",
    "    def _get_action(self, time_step) -> dict[tuple[DeviceType, SetpointName], SetpointValue]:\n",
    "\n",
    "        observation = time_step.observation\n",
    "        action_spec = cast(tensor_spec.BoundedTensorSpec, self.action_spec)\n",
    "        dow_sin = (observation[self.dow_sin_index] * self.norm_std) + self.norm_mean\n",
    "        dow_cos = (observation[self.dow_cos_index] * self.norm_std) + self.norm_mean\n",
    "        hod_sin = (observation[self.hod_sin_index] * self.norm_std) + self.norm_mean\n",
    "        hod_cos = (observation[self.hod_cos_index] * self.norm_std) + self.norm_mean\n",
    "\n",
    "        dow = to_dow(dow_sin, dow_cos)\n",
    "        hod = to_hod(hod_sin, hod_cos)\n",
    "\n",
    "        timestamp = (\n",
    "            pd.Timedelta(hod, unit='hour') + self.local_start_time.utcoffset()\n",
    "        )\n",
    "\n",
    "        if dow < 5:  # weekday\n",
    "            action_map = {(tup[0], tup[1]): \n",
    "                        find_schedule_action(self.weekday_schedule_events, tup[0], tup[1], timestamp)\n",
    "                        for tup in action_sequence}\n",
    "\n",
    "        else:  # Weekend\n",
    "            action_map = {\n",
    "              (tup[0], tup[1]): find_schedule_action(\n",
    "                  self.weekend_holiday_schedule_events, tup[0], tup[1], timestamp\n",
    "              )\n",
    "              for tup in action_sequence\n",
    "            }\n",
    "\n",
    "        return action_map\n",
    "\n",
    "    def _action(self, time_step, policy_state, seed):\n",
    "        del seed\n",
    "        action_map = self._get_action(time_step)\n",
    "        normalized_action_map = self._normalize_action_map(action_map)\n",
    "\n",
    "        action = np.array([normalized_action_map[device_setpoint] \n",
    "                           for device_setpoint in action_sequence],dtype=np.float32,)\n",
    "\n",
    "        t_action = tf.convert_to_tensor(action)\n",
    "        \n",
    "        return policy_step.PolicyStep(t_action, (), ())"
   ]
  },
  {
   "cell_type": "markdown",
   "metadata": {
    "id": "UkQs64KT6qs-"
   },
   "source": [
    "Next, we parameterize the setpoint schedule.\n",
    "\n",
    "We distinguish between weekend and holiday schedules:\n",
    "\n",
    "* For **weekdays, between 6:00 am and 7:00 pm local time** we maintain occupancy conditions:\n",
    "  * AC/Heatpump supply air heating setpoint is 12 C\n",
    "  * Supply water temperarure is 77 C\n",
    "* For **weekday, before 6:00 am and after 7:00 pm locl time** we maintain efficiency conditions (setback):\n",
    "  * AC/Heatpump supply air heating setpoint is 0 C\n",
    "  * Supply water temperarure is 42 C\n",
    "\n",
    "* For **weekends and holdidays**, all day, we maintain efficiency conditions (setback):\n",
    "  * AC/Heatpump supply air heating setpoint is 0 C\n",
    "  * Supply water temperarure is 42 C\n"
   ]
  },
  {
   "cell_type": "code",
   "execution_count": 10,
   "metadata": {
    "cellView": "form",
    "id": "SpveeGWUf5AK"
   },
   "outputs": [],
   "source": [
    "# @title Configure the schedule parameters\n",
    "\n",
    "hod_cos_index = collect_env._field_names.index('hod_cos_000')\n",
    "hod_sin_index = collect_env._field_names.index('hod_sin_000')\n",
    "dow_cos_index = collect_env._field_names.index('dow_cos_000')\n",
    "dow_sin_index = collect_env._field_names.index('dow_sin_000')\n",
    "\n",
    "\n",
    "# Note that temperatures are specified in Kelvin:\n",
    "weekday_schedule_events = [\n",
    "    ScheduleEvent(\n",
    "        pd.Timedelta(6, unit='hour'),\n",
    "        DeviceType.AC,\n",
    "        'supply_air_heating_temperature_setpoint',\n",
    "        292.0,\n",
    "    ),\n",
    "    ScheduleEvent(\n",
    "        pd.Timedelta(19, unit='hour'),\n",
    "        DeviceType.AC,\n",
    "        'supply_air_heating_temperature_setpoint',\n",
    "        285.0,\n",
    "    ),\n",
    "    ScheduleEvent(\n",
    "        pd.Timedelta(6, unit='hour'),\n",
    "        DeviceType.HWS,\n",
    "        'supply_water_setpoint',\n",
    "        350.0,\n",
    "    ),\n",
    "    ScheduleEvent(\n",
    "        pd.Timedelta(19, unit='hour'),\n",
    "        DeviceType.HWS,\n",
    "        'supply_water_setpoint',\n",
    "        315.0,\n",
    "    ),\n",
    "]\n",
    "\n",
    "\n",
    "weekend_holiday_schedule_events = [\n",
    "    ScheduleEvent(\n",
    "        pd.Timedelta(6, unit='hour'),\n",
    "        DeviceType.AC,\n",
    "        'supply_air_heating_temperature_setpoint',\n",
    "        285.0,\n",
    "    ),\n",
    "    ScheduleEvent(\n",
    "        pd.Timedelta(19, unit='hour'),\n",
    "        DeviceType.AC,\n",
    "        'supply_air_heating_temperature_setpoint',\n",
    "        285.0,\n",
    "    ),\n",
    "    ScheduleEvent(\n",
    "        pd.Timedelta(6, unit='hour'),\n",
    "        DeviceType.HWS,\n",
    "        'supply_water_setpoint',\n",
    "        315.0,\n",
    "    ),\n",
    "    ScheduleEvent(\n",
    "        pd.Timedelta(19, unit='hour'),\n",
    "        DeviceType.HWS,\n",
    "        'supply_water_setpoint',\n",
    "        315.0,\n",
    "    ),\n",
    "]\n",
    "\n",
    "action_sequence = [\n",
    "    (DeviceType.HWS, 'supply_water_setpoint'),\n",
    "    (DeviceType.AC, 'supply_air_heating_temperature_setpoint'),\n",
    "]"
   ]
  },
  {
   "cell_type": "markdown",
   "metadata": {
    "id": "xOTP9p8-0N0H"
   },
   "source": [
    "We instantiate the schedule policy below."
   ]
  },
  {
   "cell_type": "code",
   "execution_count": 11,
   "metadata": {
    "cellView": "form",
    "id": "jv-1GBFTieNc"
   },
   "outputs": [],
   "source": [
    "# @title Instantiate the Schedule RBC policy\n",
    "ts = collect_env.reset()\n",
    "local_start_time = collect_env.current_simulation_timestamp.tz_convert(tz = 'US/Pacific')\n",
    "\n",
    "action_normalizers = collect_env._action_normalizers\n",
    "\n",
    "observation_spec, action_spec, time_step_spec = spec_utils.get_tensor_specs(collect_env)\n",
    "schedule_policy = SchedulePolicy(\n",
    "    time_step_spec= time_step_spec,\n",
    "    action_spec= action_spec,\n",
    "    action_sequence = action_sequence,\n",
    "    weekday_schedule_events = weekday_schedule_events,\n",
    "    weekend_holiday_schedule_events = weekend_holiday_schedule_events,\n",
    "    dow_sin_index=dow_sin_index,\n",
    "    dow_cos_index=dow_cos_index,\n",
    "    hod_sin_index=hod_sin_index,\n",
    "    hod_cos_index=hod_cos_index,\n",
    "    local_start_time=local_start_time,\n",
    "    action_normalizers=action_normalizers,\n",
    "\n",
    ")\n"
   ]
  },
  {
   "cell_type": "markdown",
   "metadata": {
    "id": "pAYOf5Xtzi2u"
   },
   "source": [
    "Next, we will run the static control setpoints on the environment to establish baseline performance.\n",
    "\n",
    "**Note:** This will take some time to execute. Feel free to skip this step if you want to jump directly to the RL section below."
   ]
  },
  {
   "cell_type": "code",
   "execution_count": 12,
   "metadata": {
    "cellView": "form",
    "id": "3Zv-lSiWDp50"
   },
   "outputs": [],
   "source": [
    "# @title Optionally, execute the schedule policy on the environment\n",
    "# Optional\n",
    "# compute_avg_return(eval_env, schedule_policy, 1, time_zone=\"US/Pacific\", render_interval_steps=144, trajectory_observers=None)"
   ]
  },
  {
   "cell_type": "markdown",
   "metadata": {
    "id": "SDgizVLzRti1"
   },
   "source": [
    "# Reinforcement Learning Control\n",
    "In the previous section we used a simple schedule to control the HVAC setpoints, however in this section, we configure and train a Reinforcement Learning (RL) agent.\n",
    "\n"
   ]
  },
  {
   "cell_type": "code",
   "execution_count": 9,
   "metadata": {},
   "outputs": [],
   "source": [
    "\n",
    "# @title Utilities to configure networks for the RL Agent.\n",
    "dense = functools.partial(\n",
    "    tf.keras.layers.Dense,\n",
    "    activation=tf.keras.activations.relu,\n",
    "    kernel_initializer='glorot_uniform',\n",
    ")\n",
    "\n",
    "\n",
    "def logging_info(*args):\n",
    "    logging.info(*args)\n",
    "    print(*args)\n",
    "\n",
    "\n",
    "def create_fc_network(layer_units):\n",
    "    return sequential.Sequential([dense(num_units) for num_units in layer_units])\n",
    "\n",
    "\n",
    "def create_identity_layer():\n",
    "    return tf.keras.layers.Lambda(lambda x: x)\n"
   ]
  },
  {
   "cell_type": "markdown",
   "metadata": {},
   "source": [
    "### SAC Critic Network\n",
    "\n",
    "- obs network learns meaningful representation of state \n",
    "- action network learns meaningful representation of action\n",
    "- joint network $f(z_a, z_s) \\rightarrow \\hat{Q}(s, a)$"
   ]
  },
  {
   "cell_type": "code",
   "execution_count": 15,
   "metadata": {},
   "outputs": [],
   "source": [
    "\n",
    "\n",
    "def create_sequential_critic_network(obs_fc_layer_units, action_fc_layer_units, joint_fc_layer_units):\n",
    "    \"\"\"Create a sequential critic network.\"\"\"\n",
    "    # Split the inputs into observations and actions.\n",
    "    def split_inputs(inputs):\n",
    "        return {'observation': inputs[0], 'action': inputs[1]}\n",
    "\n",
    "    # Create an observation network.\n",
    "    obs_network = (\n",
    "        create_fc_network(obs_fc_layer_units) if obs_fc_layer_units else create_identity_layer()\n",
    "    )\n",
    "\n",
    "    # Create an action network.\n",
    "    action_network = (\n",
    "        create_fc_network(action_fc_layer_units) if action_fc_layer_units else create_identity_layer()\n",
    "    )\n",
    "\n",
    "    # Create a joint network.\n",
    "    joint_network = (\n",
    "        create_fc_network(joint_fc_layer_units) if joint_fc_layer_units else create_identity_layer()\n",
    "    )\n",
    "\n",
    "    # Final layer.\n",
    "    value_layer = tf.keras.layers.Dense(1, kernel_initializer='glorot_uniform')\n",
    "\n",
    "    return sequential.Sequential(\n",
    "        [\n",
    "            tf.keras.layers.Lambda(split_inputs),\n",
    "            nest_map.NestMap({'observation': obs_network, 'action': action_network}),\n",
    "            nest_map.NestFlatten(),\n",
    "            tf.keras.layers.Concatenate(),\n",
    "            joint_network,\n",
    "            value_layer,\n",
    "            inner_reshape.InnerReshape(current_shape=[1], new_shape=[]),\n",
    "        ],\n",
    "        name='sequential_critic',\n",
    "    )\n",
    "\n"
   ]
  },
  {
   "cell_type": "code",
   "execution_count": 11,
   "metadata": {
    "cellView": "form",
    "id": "zBjFBpkabFHR"
   },
   "outputs": [],
   "source": [
    "\n",
    "class _TanhNormalProjectionNetworkWrapper(\n",
    "        tanh_normal_projection_network.TanhNormalProjectionNetwork\n",
    "):\n",
    "    \"\"\"Wrapper to pass predefined `outer_rank` to underlying projection net.\"\"\"\n",
    "\n",
    "    def __init__(self, sample_spec, predefined_outer_rank=1):\n",
    "        super(_TanhNormalProjectionNetworkWrapper, self).__init__(sample_spec)\n",
    "        self.predefined_outer_rank = predefined_outer_rank\n",
    "\n",
    "    def call(self, inputs, network_state=(), **kwargs):\n",
    "        kwargs['outer_rank'] = self.predefined_outer_rank\n",
    "        if 'step_type' in kwargs:\n",
    "            del kwargs['step_type']\n",
    "        return super(_TanhNormalProjectionNetworkWrapper, self).call(inputs, **kwargs)\n",
    "\n",
    "\n",
    "def create_sequential_actor_network(actor_fc_layers, action_tensor_spec):\n",
    "    \"\"\"Create a sequential actor network.\"\"\"\n",
    "\n",
    "    def tile_as_nest(non_nested_output):\n",
    "        return tf.nest.map_structure(\n",
    "                lambda _: non_nested_output, action_tensor_spec\n",
    "        )\n",
    "\n",
    "    return sequential.Sequential(\n",
    "            [dense(num_units) for num_units in actor_fc_layers]\n",
    "            + [tf.keras.layers.Lambda(tile_as_nest)]\n",
    "            + [nest_map.NestMap(tf.nest.map_structure(_TanhNormalProjectionNetworkWrapper, \n",
    "                                                      action_tensor_spec))])"
   ]
  },
  {
   "cell_type": "markdown",
   "metadata": {
    "id": "9g6pE6v2bb8O"
   },
   "source": [
    "Set the configuration parameters for the SAC Agent"
   ]
  },
  {
   "cell_type": "code",
   "execution_count": 12,
   "metadata": {
    "cellView": "form",
    "id": "CeVkerwYcng2"
   },
   "outputs": [],
   "source": [
    "# @title Set the RL Agent's parameters\n",
    "\n",
    "# Actor network fully connected layers.\n",
    "actor_fc_layers = (128, 128)\n",
    "# Critic network observation fully connected layers.\n",
    "critic_obs_fc_layers = (128, 64)\n",
    "# Critic network action fully connected layers.\n",
    "critic_action_fc_layers = (128, 64)\n",
    "# Critic network joint fully connected layers.\n",
    "critic_joint_fc_layers = (128, 64)\n",
    "\n",
    "batch_size = 256\n",
    "actor_learning_rate = 3e-4\n",
    "critic_learning_rate = 3e-4\n",
    "alpha_learning_rate = 3e-4\n",
    "gamma = 0.99\n",
    "target_update_tau= 0.005\n",
    "target_update_period= 1\n",
    "reward_scale_factor = 1.0\n",
    "\n",
    "# Replay params\n",
    "replay_capacity = 1000000\n",
    "debug_summaries = True\n",
    "summarize_grads_and_vars = True\n"
   ]
  },
  {
   "cell_type": "markdown",
   "metadata": {
    "id": "EhTPXjtebMZD"
   },
   "source": [
    "## Initialize the SAC agent\n",
    "\n",
    "Of all the Reinforcement learning algorithms, we have chosen [Soft Actor Cirtic (SAC)](https://arxiv.org/abs/1801.01290) because its proven performance on evironments with  high-dimensional states and real-valued actions.\n",
    "\n",
    "In this notebook we illustrate the use of the buidling control environment using the SAC implementation in [TF-Agents](https://www.tensorflow.org/agents)."
   ]
  },
  {
   "cell_type": "code",
   "execution_count": 13,
   "metadata": {
    "cellView": "form",
    "id": "NW0pzLvjbSnP"
   },
   "outputs": [
    {
     "ename": "NameError",
     "evalue": "name 'collect_env' is not defined",
     "output_type": "error",
     "traceback": [
      "\u001b[0;31m---------------------------------------------------------------------------\u001b[0m",
      "\u001b[0;31mNameError\u001b[0m                                 Traceback (most recent call last)",
      "Cell \u001b[0;32mIn[13], line 4\u001b[0m\n\u001b[1;32m      1\u001b[0m \u001b[38;5;66;03m# @title Construct the SAC agent\u001b[39;00m\n\u001b[1;32m      3\u001b[0m _, action_tensor_spec, time_step_tensor_spec \u001b[38;5;241m=\u001b[39m spec_utils\u001b[38;5;241m.\u001b[39mget_tensor_specs(\n\u001b[0;32m----> 4\u001b[0m     \u001b[43mcollect_env\u001b[49m\n\u001b[1;32m      5\u001b[0m )\n\u001b[1;32m      7\u001b[0m actor_net \u001b[38;5;241m=\u001b[39m create_sequential_actor_network(\n\u001b[1;32m      8\u001b[0m     actor_fc_layers\u001b[38;5;241m=\u001b[39mactor_fc_layers, action_tensor_spec\u001b[38;5;241m=\u001b[39maction_tensor_spec\n\u001b[1;32m      9\u001b[0m )\n\u001b[1;32m     11\u001b[0m critic_net \u001b[38;5;241m=\u001b[39m create_sequential_critic_network(\n\u001b[1;32m     12\u001b[0m     obs_fc_layer_units\u001b[38;5;241m=\u001b[39mcritic_obs_fc_layers,\n\u001b[1;32m     13\u001b[0m     action_fc_layer_units\u001b[38;5;241m=\u001b[39mcritic_action_fc_layers,\n\u001b[1;32m     14\u001b[0m     joint_fc_layer_units\u001b[38;5;241m=\u001b[39mcritic_joint_fc_layers,\n\u001b[1;32m     15\u001b[0m )\n",
      "\u001b[0;31mNameError\u001b[0m: name 'collect_env' is not defined"
     ]
    }
   ],
   "source": [
    "# @title Construct the SAC agent\n",
    "\n",
    "_, action_tensor_spec, time_step_tensor_spec = spec_utils.get_tensor_specs(\n",
    "    collect_env\n",
    ")\n",
    "\n",
    "actor_net = create_sequential_actor_network(\n",
    "    actor_fc_layers=actor_fc_layers, action_tensor_spec=action_tensor_spec\n",
    ")\n",
    "\n",
    "critic_net = create_sequential_critic_network(\n",
    "    obs_fc_layer_units=critic_obs_fc_layers,\n",
    "    action_fc_layer_units=critic_action_fc_layers,\n",
    "    joint_fc_layer_units=critic_joint_fc_layers,\n",
    ")\n"
   ]
  },
  {
   "cell_type": "code",
   "execution_count": 14,
   "metadata": {},
   "outputs": [
    {
     "ename": "NameError",
     "evalue": "name 'time_step_tensor_spec' is not defined",
     "output_type": "error",
     "traceback": [
      "\u001b[0;31m---------------------------------------------------------------------------\u001b[0m",
      "\u001b[0;31mNameError\u001b[0m                                 Traceback (most recent call last)",
      "Cell \u001b[0;32mIn[14], line 3\u001b[0m\n\u001b[1;32m      1\u001b[0m train_step \u001b[38;5;241m=\u001b[39m train_utils\u001b[38;5;241m.\u001b[39mcreate_train_step()\n\u001b[1;32m      2\u001b[0m agent \u001b[38;5;241m=\u001b[39m sac_agent\u001b[38;5;241m.\u001b[39mSacAgent(\n\u001b[0;32m----> 3\u001b[0m     \u001b[43mtime_step_tensor_spec\u001b[49m,\n\u001b[1;32m      4\u001b[0m     action_tensor_spec,\n\u001b[1;32m      5\u001b[0m     actor_network\u001b[38;5;241m=\u001b[39mactor_net,\n\u001b[1;32m      6\u001b[0m     critic_network\u001b[38;5;241m=\u001b[39mcritic_net,\n\u001b[1;32m      7\u001b[0m     actor_optimizer\u001b[38;5;241m=\u001b[39mtf\u001b[38;5;241m.\u001b[39mkeras\u001b[38;5;241m.\u001b[39moptimizers\u001b[38;5;241m.\u001b[39mAdam(learning_rate\u001b[38;5;241m=\u001b[39mactor_learning_rate),\n\u001b[1;32m      8\u001b[0m     critic_optimizer\u001b[38;5;241m=\u001b[39mtf\u001b[38;5;241m.\u001b[39mkeras\u001b[38;5;241m.\u001b[39moptimizers\u001b[38;5;241m.\u001b[39mAdam(\n\u001b[1;32m      9\u001b[0m         learning_rate\u001b[38;5;241m=\u001b[39mcritic_learning_rate\n\u001b[1;32m     10\u001b[0m     ),\n\u001b[1;32m     11\u001b[0m     alpha_optimizer\u001b[38;5;241m=\u001b[39mtf\u001b[38;5;241m.\u001b[39mkeras\u001b[38;5;241m.\u001b[39moptimizers\u001b[38;5;241m.\u001b[39mAdam(learning_rate\u001b[38;5;241m=\u001b[39malpha_learning_rate),\n\u001b[1;32m     12\u001b[0m     target_update_tau\u001b[38;5;241m=\u001b[39mtarget_update_tau,\n\u001b[1;32m     13\u001b[0m     target_update_period\u001b[38;5;241m=\u001b[39mtarget_update_period,\n\u001b[1;32m     14\u001b[0m     td_errors_loss_fn\u001b[38;5;241m=\u001b[39mtf\u001b[38;5;241m.\u001b[39mmath\u001b[38;5;241m.\u001b[39msquared_difference,\n\u001b[1;32m     15\u001b[0m     gamma\u001b[38;5;241m=\u001b[39mgamma,\n\u001b[1;32m     16\u001b[0m     reward_scale_factor\u001b[38;5;241m=\u001b[39mreward_scale_factor,\n\u001b[1;32m     17\u001b[0m     gradient_clipping\u001b[38;5;241m=\u001b[39m\u001b[38;5;28;01mNone\u001b[39;00m,\n\u001b[1;32m     18\u001b[0m     debug_summaries\u001b[38;5;241m=\u001b[39mdebug_summaries,\n\u001b[1;32m     19\u001b[0m     summarize_grads_and_vars\u001b[38;5;241m=\u001b[39msummarize_grads_and_vars,\n\u001b[1;32m     20\u001b[0m     train_step_counter\u001b[38;5;241m=\u001b[39mtrain_step,\n\u001b[1;32m     21\u001b[0m )\n\u001b[1;32m     22\u001b[0m agent\u001b[38;5;241m.\u001b[39minitialize()\n",
      "\u001b[0;31mNameError\u001b[0m: name 'time_step_tensor_spec' is not defined"
     ]
    }
   ],
   "source": [
    "train_step = train_utils.create_train_step()\n",
    "agent = sac_agent.SacAgent(\n",
    "    time_step_tensor_spec,\n",
    "    action_tensor_spec,\n",
    "    actor_network=actor_net,\n",
    "    critic_network=critic_net,\n",
    "    actor_optimizer=tf.keras.optimizers.Adam(learning_rate=actor_learning_rate),\n",
    "    critic_optimizer=tf.keras.optimizers.Adam(\n",
    "        learning_rate=critic_learning_rate\n",
    "    ),\n",
    "    alpha_optimizer=tf.keras.optimizers.Adam(learning_rate=alpha_learning_rate),\n",
    "    target_update_tau=target_update_tau,\n",
    "    target_update_period=target_update_period,\n",
    "    td_errors_loss_fn=tf.math.squared_difference,\n",
    "    gamma=gamma,\n",
    "    reward_scale_factor=reward_scale_factor,\n",
    "    gradient_clipping=None,\n",
    "    debug_summaries=debug_summaries,\n",
    "    summarize_grads_and_vars=summarize_grads_and_vars,\n",
    "    train_step_counter=train_step,\n",
    ")\n",
    "agent.initialize()"
   ]
  },
  {
   "cell_type": "markdown",
   "metadata": {
    "id": "J5hNdgZBG5BZ"
   },
   "source": [
    "Below we construct a replay buffer using reverb. The replay buffer is populated with state-action-reward-state tuples during collect. Thie allows the agent to relive past experiences, and prevents the model from overfitting in the local neighborhood.\n",
    "\n",
    "During traning, the agent samples from the replay buffer. This helps decorrelate the training data in a way that randomization of a training set would in supervised learning. Otherwise, in most environments the experience in a window of time is highly correlated."
   ]
  },
  {
   "cell_type": "code",
   "execution_count": 24,
   "metadata": {
    "cellView": "form",
    "id": "vX2zGUWJGWAl"
   },
   "outputs": [
    {
     "name": "stdout",
     "output_type": "stream",
     "text": [
      "reverb_checkpoint_dir=/burg/home/ssa2206/sbsim_dual_control/output/reverb_checkpoint\n"
     ]
    },
    {
     "name": "stderr",
     "output_type": "stream",
     "text": [
      "[reverb/cc/platform/tfrecord_checkpointer.cc:162]  Initializing TFRecordCheckpointer in /burg/home/ssa2206/sbsim_dual_control/output/reverb_checkpoint.\n",
      "[reverb/cc/platform/tfrecord_checkpointer.cc:565] Loading latest checkpoint from /burg/home/ssa2206/sbsim_dual_control/output/reverb_checkpoint\n",
      "[reverb/cc/platform/default/server.cc:71] Started replay server on port 46071\n"
     ]
    },
    {
     "name": "stdout",
     "output_type": "stream",
     "text": [
      "reverb_server_port=46071\n",
      "num_frames in replay buffer=0\n"
     ]
    }
   ],
   "source": [
    "# @title Set up the replay buffer\n",
    "replay_capacity = 50000\n",
    "table_name = 'uniform_table'\n",
    "table = reverb.Table(\n",
    "    table_name,\n",
    "    max_size=replay_capacity,\n",
    "    sampler=reverb.selectors.Uniform(),\n",
    "    remover=reverb.selectors.Fifo(),\n",
    "    rate_limiter=reverb.rate_limiters.MinSize(1),\n",
    ")\n",
    "\n",
    "reverb_checkpoint_dir = output_data_path + \"/reverb_checkpoint\"\n",
    "reverb_port = None\n",
    "print('reverb_checkpoint_dir=%s' %reverb_checkpoint_dir)\n",
    "reverb_checkpointer = reverb.platform.checkpointers_lib.DefaultCheckpointer(\n",
    "    path=reverb_checkpoint_dir\n",
    ")\n",
    "reverb_server = reverb.Server(\n",
    "    [table], port=reverb_port, checkpointer=reverb_checkpointer\n",
    ")\n",
    "logging_info('reverb_server_port=%d' %reverb_server.port)\n",
    "reverb_replay = reverb_replay_buffer.ReverbReplayBuffer(\n",
    "    agent.collect_data_spec,\n",
    "    sequence_length=2,\n",
    "    table_name=table_name,\n",
    "    local_server=reverb_server,\n",
    ")\n",
    "rb_observer = reverb_utils.ReverbAddTrajectoryObserver(\n",
    "    reverb_replay.py_client, table_name, sequence_length=2, stride_length=1\n",
    ")\n",
    "print('num_frames in replay buffer=%d' %reverb_replay.num_frames())"
   ]
  },
  {
   "cell_type": "markdown",
   "metadata": {
    "id": "SH7LQZ_Pd0vY"
   },
   "source": [
    "For simplicity, we'll grab eval and collact policies and give them short variable names."
   ]
  },
  {
   "cell_type": "code",
   "execution_count": 25,
   "metadata": {
    "cellView": "form",
    "id": "BwY7StuMkuV4"
   },
   "outputs": [],
   "source": [
    "# @title Access the eval and collect policies\n",
    "eval_policy = agent.policy\n",
    "collect_policy = agent.collect_policy"
   ]
  },
  {
   "cell_type": "markdown",
   "metadata": {
    "id": "6klSPQeGsPLz"
   },
   "source": [
    "In the next section we define observer classes that enable printing model and environment output as the scenario evolves to who you the percentage of the episode, the timestamp in the scenario, cumulative reward, and the execution time.\n",
    "\n",
    "We also provide a plot observer that periodically outputs the performance charts and the temperature gradient across both floors of the buidling."
   ]
  },
  {
   "cell_type": "code",
   "execution_count": 26,
   "metadata": {
    "cellView": "form",
    "id": "dJ_EMQkZdw8q"
   },
   "outputs": [],
   "source": [
    "# @title Define Observers\n",
    "class RenderAndPlotObserver:\n",
    "    \"\"\"Renders and plots the environment.\"\"\"\n",
    "    def __init__(self, render_interval_steps: int = 10, environment=None,):\n",
    "        self._counter = 0\n",
    "        self._render_interval_steps = render_interval_steps\n",
    "        self._environment = environment\n",
    "        self._cumulative_reward = 0.0\n",
    "        self._start_time = None\n",
    "        if self._environment is not None:\n",
    "            self._num_timesteps_in_episode = (self._environment._num_timesteps_in_episode)\n",
    "            self._environment._end_timestamp\n",
    "\n",
    "    def __call__(self, trajectory: trajectory_lib.Trajectory) -> None:\n",
    "        reward = trajectory.reward\n",
    "        self._cumulative_reward += reward\n",
    "        self._counter += 1\n",
    "        if self._start_time is None:\n",
    "            self._start_time = pd.Timestamp.now()\n",
    "\n",
    "        if self._counter % self._render_interval_steps == 0 and self._environment:\n",
    "            execution_time = pd.Timestamp.now() - self._start_time\n",
    "            mean_execution_time = execution_time.total_seconds() / self._counter\n",
    "            clear_output(wait=True)\n",
    "            if self._environment._metrics_path is not None:\n",
    "                reader = get_latest_episode_reader(self._environment._metrics_path)\n",
    "                plot_timeseries_charts(reader, time_zone)\n",
    "\n",
    "            render_env(self._environment)\n",
    "\n",
    "class PrintStatusObserver:\n",
    "    \"\"\"Prints status information.\"\"\"\n",
    "\n",
    "    def __init__(self, status_interval_steps: int = 1, environment=None, replay_buffer=None):\n",
    "        self._counter = 0\n",
    "        self._status_interval_steps = status_interval_steps\n",
    "        self._environment = environment\n",
    "        self._cumulative_reward = 0.0\n",
    "        self._replay_buffer = replay_buffer\n",
    "\n",
    "        self._start_time = None\n",
    "        if self._environment is not None:\n",
    "            self._num_timesteps_in_episode = (\n",
    "                    self._environment._num_timesteps_in_episode\n",
    "            )\n",
    "            self._environment._end_timestamp\n",
    "\n",
    "    def __call__(self, trajectory: trajectory_lib.Trajectory) -> None:\n",
    "\n",
    "        reward = trajectory.reward\n",
    "        self._cumulative_reward += reward\n",
    "        self._counter += 1\n",
    "        if self._start_time is None:\n",
    "            self._start_time = pd.Timestamp.now()\n",
    "\n",
    "        if self._counter % self._status_interval_steps == 0 and self._environment:\n",
    "            execution_time = pd.Timestamp.now() - self._start_time\n",
    "            mean_execution_time = execution_time.total_seconds() / self._counter\n",
    "\n",
    "            sim_time = self._environment.current_simulation_timestamp.tz_convert(\n",
    "                    time_zone\n",
    "            )\n",
    "            percent_complete = int(\n",
    "                    100.0 * (self._counter / self._num_timesteps_in_episode)\n",
    "            )\n",
    "\n",
    "            if self._replay_buffer is not None:\n",
    "                rb_size = self._replay_buffer.num_frames()\n",
    "                rb_string = \" Replay Buffer Size: %d\" % rb_size\n",
    "            else:\n",
    "                rb_string = \"\"\n",
    "\n",
    "            print(\n",
    "                    \"Step %5d of %5d (%3d%%) Sim Time: %s Reward: %2.2f Cumulative\"\n",
    "                    \" Reward: %8.2f Execution Time: %s Mean Execution Time: %3.2fs %s\"\n",
    "                    % (\n",
    "                            self._environment._step_count,\n",
    "                            self._num_timesteps_in_episode,\n",
    "                            percent_complete,\n",
    "                            sim_time.strftime(\"%Y-%m-%d %H:%M\"),\n",
    "                            reward,\n",
    "                            self._cumulative_reward,\n",
    "                            execution_time,\n",
    "                            mean_execution_time,\n",
    "                            rb_string,\n",
    "                    )\n",
    "            )\n",
    "\n",
    "\n",
    "initial_collect_render_plot_observer = RenderAndPlotObserver(\n",
    "    render_interval_steps=144, environment=initial_collect_env\n",
    ")\n",
    "initial_collect_print_status_observer = PrintStatusObserver(\n",
    "    status_interval_steps=1,\n",
    "    environment=initial_collect_env,\n",
    "    replay_buffer=reverb_replay,\n",
    ")\n",
    "collect_render_plot_observer = RenderAndPlotObserver(\n",
    "    render_interval_steps=144, environment=collect_env\n",
    ")\n",
    "collect_print_status_observer = PrintStatusObserver(\n",
    "    status_interval_steps=1,\n",
    "    environment=collect_env,\n",
    "    replay_buffer=reverb_replay,\n",
    ")\n",
    "eval_render_plot_observer = RenderAndPlotObserver(\n",
    "    render_interval_steps=144, environment=eval_env\n",
    ")\n",
    "eval_print_status_observer = PrintStatusObserver(\n",
    "    status_interval_steps=1, environment=eval_env, replay_buffer=reverb_replay\n",
    ")\n",
    "\n"
   ]
  },
  {
   "cell_type": "markdown",
   "metadata": {
    "id": "el732oZItQjO"
   },
   "source": [
    "In the following cell, we shall run the baseline control on the scenario to populate the replay buffer. We will use the schedule policy we build above to simulate training off-policy from recorded telemetry."
   ]
  },
  {
   "cell_type": "code",
   "execution_count": 27,
   "metadata": {
    "cellView": "form",
    "id": "ZGq3SY0kKwsa"
   },
   "outputs": [],
   "source": [
    "# @title Populate the replay buffer with data from baseline control\n",
    "# initial_collect_actor = actor.Actor(\n",
    "#   initial_collect_env,\n",
    "#   schedule_policy,\n",
    "#   train_step,\n",
    "#   steps_per_run=initial_collect_env._num_timesteps_in_episode,\n",
    "#   observers=[rb_observer, initial_collect_print_status_observer, initial_collect_render_plot_observer])\n",
    "# initial_collect_actor.run()\n",
    "# reverb_replay.py_client.checkpoint()"
   ]
  },
  {
   "cell_type": "markdown",
   "metadata": {
    "id": "y3ZzWxqIunCz"
   },
   "source": [
    "Next wrap the replay buffer into a TF dataset."
   ]
  },
  {
   "cell_type": "code",
   "execution_count": 28,
   "metadata": {
    "cellView": "form",
    "id": "ba7bilizt_qW"
   },
   "outputs": [
    {
     "data": {
      "text/plain": [
       "<_PrefetchDataset element_spec=(Trajectory(\n",
       "{'action': TensorSpec(shape=(256, 2, 2), dtype=tf.float32, name=None),\n",
       " 'discount': TensorSpec(shape=(256, 2), dtype=tf.float32, name=None),\n",
       " 'next_step_type': TensorSpec(shape=(256, 2), dtype=tf.int32, name=None),\n",
       " 'observation': TensorSpec(shape=(256, 2, 53), dtype=tf.float32, name=None),\n",
       " 'policy_info': (),\n",
       " 'reward': TensorSpec(shape=(256, 2), dtype=tf.float32, name=None),\n",
       " 'step_type': TensorSpec(shape=(256, 2), dtype=tf.int32, name=None)}), SampleInfo(key=TensorSpec(shape=(256, 2), dtype=tf.uint64, name=None), probability=TensorSpec(shape=(256, 2), dtype=tf.float64, name=None), table_size=TensorSpec(shape=(256, 2), dtype=tf.int64, name=None), priority=TensorSpec(shape=(256, 2), dtype=tf.float64, name=None), times_sampled=TensorSpec(shape=(256, 2), dtype=tf.int32, name=None)))>"
      ]
     },
     "execution_count": 28,
     "metadata": {},
     "output_type": "execute_result"
    }
   ],
   "source": [
    "# @title Make a TF Dataset\n",
    "# Dataset generates trajectories with shape [Bx2x...]\n",
    "dataset = reverb_replay.as_dataset(\n",
    "    num_parallel_calls=3,\n",
    "    sample_batch_size=batch_size,\n",
    "    num_steps=2).prefetch(50)\n",
    "\n",
    "dataset"
   ]
  },
  {
   "cell_type": "markdown",
   "metadata": {
    "id": "-YqfMl5FuQpf"
   },
   "source": [
    "Here, we extract the collect and evaluation policies for training."
   ]
  },
  {
   "cell_type": "code",
   "execution_count": 29,
   "metadata": {
    "cellView": "form",
    "id": "TzwSaxYkeTh5"
   },
   "outputs": [],
   "source": [
    "# @title Convert the policies into TF Eager Policies\n",
    "\n",
    "tf_collect_policy = agent.collect_policy\n",
    "agent_collect_policy = py_tf_eager_policy.PyTFEagerPolicy(tf_collect_policy, use_tf_function=True)\n",
    "\n",
    "tf_policy = agent.policy\n",
    "agent_policy = py_tf_eager_policy.PyTFEagerPolicy(tf_policy, use_tf_function=True)"
   ]
  },
  {
   "cell_type": "markdown",
   "metadata": {
    "id": "qtoqyo8Ypn0Q"
   },
   "source": [
    "We will set the interval of saving the policies and writing critic, actor, and alphs losses.\n"
   ]
  },
  {
   "cell_type": "code",
   "execution_count": 30,
   "metadata": {
    "id": "xums9Kxkxylw"
   },
   "outputs": [],
   "source": [
    "policy_save_interval = 1 # Save the policy after every learning step.\n",
    "learner_summary_interval = 1 # Produce a summary of the critic, actor, and alpha losses after every gradient update step."
   ]
  },
  {
   "cell_type": "markdown",
   "metadata": {
    "id": "al5HNoiwvYO-"
   },
   "source": [
    "In the following cell we will define the agent learner, a TF-Agents wrapper around the process that performs gradiant-based updates to the actor and critic networks in the agent.\n",
    "\n",
    "You should see a statememt that shows you where the policies will be saved to."
   ]
  },
  {
   "cell_type": "code",
   "execution_count": 31,
   "metadata": {
    "cellView": "form",
    "id": "Ah4oS9HLwOid"
   },
   "outputs": [
    {
     "name": "stdout",
     "output_type": "stream",
     "text": [
      "Policies will be saved to saved_model_dir: /burg/home/ssa2206/sbsim_dual_control/root/policies\n"
     ]
    },
    {
     "name": "stderr",
     "output_type": "stream",
     "text": [
      "WARNING:absl:`0/step_type` is not a valid tf.function parameter name. Sanitizing to `arg_0_step_type`.\n",
      "WARNING:absl:`0/reward` is not a valid tf.function parameter name. Sanitizing to `arg_0_reward`.\n",
      "WARNING:absl:`0/discount` is not a valid tf.function parameter name. Sanitizing to `arg_0_discount`.\n",
      "WARNING:absl:`0/observation` is not a valid tf.function parameter name. Sanitizing to `arg_0_observation`.\n",
      "WARNING:absl:`0/step_type` is not a valid tf.function parameter name. Sanitizing to `arg_0_step_type`.\n",
      "/burg/home/ssa2206/miniforge3/envs/sbsim2/lib/python3.10/site-packages/tensorflow/python/saved_model/nested_structure_coder.py:458: UserWarning: Encoding a StructuredValue with type tf_agents.distributions.utils.SquashToSpecNormal_ACTTypeSpec; loading this StructuredValue will require that this type be imported and registered.\n",
      "  warnings.warn(\"Encoding a StructuredValue with type %s; loading this \"\n",
      "/burg/home/ssa2206/miniforge3/envs/sbsim2/lib/python3.10/site-packages/tensorflow/python/saved_model/nested_structure_coder.py:458: UserWarning: Encoding a StructuredValue with type tfp.distributions.MultivariateNormalDiag_ACTTypeSpec; loading this StructuredValue will require that this type be imported and registered.\n",
      "  warnings.warn(\"Encoding a StructuredValue with type %s; loading this \"\n"
     ]
    },
    {
     "name": "stdout",
     "output_type": "stream",
     "text": [
      "INFO:tensorflow:Assets written to: /burg/home/ssa2206/sbsim_dual_control/root/policies/policy/assets\n"
     ]
    },
    {
     "name": "stderr",
     "output_type": "stream",
     "text": [
      "INFO:tensorflow:Assets written to: /burg/home/ssa2206/sbsim_dual_control/root/policies/policy/assets\n"
     ]
    },
    {
     "name": "stdout",
     "output_type": "stream",
     "text": [
      "INFO:tensorflow:Assets written to: /burg/home/ssa2206/sbsim_dual_control/root/policies/collect_policy/assets\n"
     ]
    },
    {
     "name": "stderr",
     "output_type": "stream",
     "text": [
      "/burg/home/ssa2206/miniforge3/envs/sbsim2/lib/python3.10/site-packages/tensorflow/python/saved_model/nested_structure_coder.py:458: UserWarning: Encoding a StructuredValue with type tf_agents.distributions.utils.SquashToSpecNormal_ACTTypeSpec; loading this StructuredValue will require that this type be imported and registered.\n",
      "  warnings.warn(\"Encoding a StructuredValue with type %s; loading this \"\n",
      "/burg/home/ssa2206/miniforge3/envs/sbsim2/lib/python3.10/site-packages/tensorflow/python/saved_model/nested_structure_coder.py:458: UserWarning: Encoding a StructuredValue with type tfp.distributions.MultivariateNormalDiag_ACTTypeSpec; loading this StructuredValue will require that this type be imported and registered.\n",
      "  warnings.warn(\"Encoding a StructuredValue with type %s; loading this \"\n",
      "INFO:tensorflow:Assets written to: /burg/home/ssa2206/sbsim_dual_control/root/policies/collect_policy/assets\n"
     ]
    },
    {
     "name": "stdout",
     "output_type": "stream",
     "text": [
      "INFO:tensorflow:Assets written to: /burg/home/ssa2206/sbsim_dual_control/root/policies/greedy_policy/assets\n"
     ]
    },
    {
     "name": "stderr",
     "output_type": "stream",
     "text": [
      "/burg/home/ssa2206/miniforge3/envs/sbsim2/lib/python3.10/site-packages/tensorflow/python/saved_model/nested_structure_coder.py:458: UserWarning: Encoding a StructuredValue with type tfp.distributions.Deterministic_ACTTypeSpec; loading this StructuredValue will require that this type be imported and registered.\n",
      "  warnings.warn(\"Encoding a StructuredValue with type %s; loading this \"\n",
      "INFO:tensorflow:Assets written to: /burg/home/ssa2206/sbsim_dual_control/root/policies/greedy_policy/assets\n"
     ]
    }
   ],
   "source": [
    "# @title Define an Agent Learner\n",
    "\n",
    "experience_dataset_fn = lambda: dataset\n",
    "\n",
    "saved_model_dir = os.path.join(root_dir, learner.POLICY_SAVED_MODEL_DIR)\n",
    "print('Policies will be saved to saved_model_dir: %s' % saved_model_dir)\n",
    "env_step_metric = py_metrics.EnvironmentSteps()\n",
    "learning_triggers = [\n",
    "      triggers.PolicySavedModelTrigger(\n",
    "          saved_model_dir,\n",
    "          agent,\n",
    "          train_step,\n",
    "          interval=policy_save_interval,\n",
    "          metadata_metrics={triggers.ENV_STEP_METADATA_KEY: env_step_metric},\n",
    "      ),\n",
    "      triggers.StepPerSecondLogTrigger(train_step, interval=10),\n",
    "]\n",
    "\n",
    "agent_learner = learner.Learner(\n",
    "      root_dir,\n",
    "      train_step,\n",
    "      agent,\n",
    "      experience_dataset_fn,\n",
    "      triggers=learning_triggers,\n",
    "      strategy=None,\n",
    "      summary_interval=learner_summary_interval,\n",
    ")\n"
   ]
  },
  {
   "cell_type": "markdown",
   "metadata": {
    "id": "wAdbomqlyqpz"
   },
   "source": [
    "Set the number of training steps in a training iteration. This is the number of collect steps between gradient updates.\n",
    "\n",
    "Here we set the number of training steps to the length of a full episode."
   ]
  },
  {
   "cell_type": "code",
   "execution_count": 32,
   "metadata": {
    "id": "6iWtSC-FKHMW"
   },
   "outputs": [],
   "source": [
    "collect_steps_per_treining_iteration = collect_env._num_timesteps_in_episode"
   ]
  },
  {
   "cell_type": "markdown",
   "metadata": {
    "id": "BdKA4Jy4YfJM"
   },
   "source": [
    "Next, we will define a *collect actor* and an *eval actor* that wrap the policy and the environment, and can execute and collect metrics.\n",
    "\n",
    "The principal difference between the collect actor and the eval actor, is that the collect actor will choose actions by drawing off the actor network distribution, choosing actions that have a high probability over actions with lower probability. This stochastic property enables the agent explore bettwer actions and improve the policy.\n",
    "\n",
    "However, the eval actor always chooses the action associated with the highest probability."
   ]
  },
  {
   "cell_type": "code",
   "execution_count": 25,
   "metadata": {
    "cellView": "form",
    "id": "LWsI9znlqLvh"
   },
   "outputs": [],
   "source": [
    "# @title Define a TF-Agents Actor for collect and eval\n",
    "tf_collect_policy = agent.collect_policy\n",
    "collect_policy = py_tf_eager_policy.PyTFEagerPolicy(\n",
    "    tf_collect_policy, use_tf_function=True\n",
    ")\n",
    "collect_actor = actor.Actor(\n",
    "    collect_env,\n",
    "    collect_policy,\n",
    "    train_step,\n",
    "    steps_per_run=collect_steps_per_treining_iteration,\n",
    "    metrics=actor.collect_metrics(1),\n",
    "    summary_dir=os.path.join(root_dir, learner.TRAIN_DIR),\n",
    "    summary_interval=1,\n",
    "    observers=[\n",
    "        rb_observer,\n",
    "        env_step_metric,\n",
    "        collect_print_status_observer,\n",
    "        collect_render_plot_observer,\n",
    "    ],\n",
    ")\n",
    "\n",
    "tf_greedy_policy = greedy_policy.GreedyPolicy(agent.policy)\n",
    "eval_greedy_policy = py_tf_eager_policy.PyTFEagerPolicy(\n",
    "    tf_greedy_policy, use_tf_function=True\n",
    ")\n",
    "\n",
    "eval_actor = actor.Actor(\n",
    "    eval_env,\n",
    "    eval_greedy_policy,\n",
    "    train_step,\n",
    "    episodes_per_run=1,\n",
    "    metrics=actor.eval_metrics(1),\n",
    "    summary_dir=os.path.join(root_dir, 'eval'),\n",
    "    summary_interval=1,\n",
    "    observers=[rb_observer, eval_print_status_observer, eval_render_plot_observer],\n",
    ")"
   ]
  },
  {
   "cell_type": "markdown",
   "metadata": {},
   "source": [
    "# Define the World Model\n",
    "\n",
    "\n"
   ]
  },
  {
   "cell_type": "code",
   "execution_count": 28,
   "metadata": {},
   "outputs": [],
   "source": [
    "class TransformerBlock(tf.keras.layers.Layer):\n",
    "    \"\"\"Transformer encoder block.\"\"\"\n",
    "    def __init__(self, embed_dim, num_heads, ff_dim, rate=0.1):\n",
    "        super().__init__()\n",
    "        self.att = tf.keras.layers.MultiHeadAttention(\n",
    "            num_heads=num_heads, key_dim=embed_dim\n",
    "        )\n",
    "        self.ffn = tf.keras.Sequential([\n",
    "            tf.keras.layers.Dense(ff_dim, activation=\"relu\"),\n",
    "            tf.keras.layers.Dense(embed_dim),\n",
    "        ])\n",
    "        self.layernorm1 = tf.keras.layers.LayerNormalization(epsilon=1e-6)\n",
    "        self.layernorm2 = tf.keras.layers.LayerNormalization(epsilon=1e-6)\n",
    "        self.dropout1 = tf.keras.layers.Dropout(rate)\n",
    "        self.dropout2 = tf.keras.layers.Dropout(rate)\n",
    "\n",
    "    def call(self, inputs, training=False):\n",
    "        attn_output = self.att(inputs, inputs)\n",
    "        attn_output = self.dropout1(attn_output, training=training)\n",
    "        out1 = self.layernorm1(inputs + attn_output)\n",
    "        ffn_output = self.ffn(out1)\n",
    "        ffn_output = self.dropout2(ffn_output, training=training)\n",
    "        return self.layernorm2(out1 + ffn_output)\n",
    "\n",
    "class TransformerWorldModel(tf.keras.Model):\n",
    "    \"\"\"Transformer-based world model for predicting next states and rewards.\"\"\"\n",
    "    def __init__(\n",
    "        self, \n",
    "        state_dim, \n",
    "        action_dim, \n",
    "        hidden_dim=256, \n",
    "        num_heads=8,\n",
    "        num_transformer_blocks=3,\n",
    "        ff_dim=512,\n",
    "        dropout_rate=0.1,\n",
    "        name=\"transformer_world_model\"\n",
    "    ):\n",
    "        super().__init__(name=name)\n",
    "        \n",
    "        self.state_embedding = tf.keras.layers.Dense(\n",
    "            hidden_dim, \n",
    "            name=\"state_embedding\"\n",
    "        )\n",
    "        self.action_embedding = tf.keras.layers.Dense(\n",
    "            hidden_dim, \n",
    "            name=\"action_embedding\"\n",
    "        )\n",
    "        \n",
    "        self.position_embedding = tf.keras.layers.Embedding(\n",
    "            input_dim=50,\n",
    "            output_dim=hidden_dim,\n",
    "            name=\"position_embedding\"\n",
    "        )\n",
    "        \n",
    "        self.transformer_blocks = [\n",
    "            TransformerBlock(hidden_dim, num_heads, ff_dim, dropout_rate)\n",
    "            for _ in range(num_transformer_blocks)\n",
    "        ]\n",
    "        \n",
    "        self.next_state_head = tf.keras.layers.Dense(\n",
    "            state_dim, \n",
    "            name=\"next_state_prediction\"\n",
    "        )\n",
    "        self.reward_head = tf.keras.layers.Dense(\n",
    "            1, \n",
    "            name=\"reward_prediction\"\n",
    "        )\n",
    "        \n",
    "        self.uncertainty_head = tf.keras.layers.Dense(\n",
    "            state_dim, \n",
    "            name=\"uncertainty_estimation\"\n",
    "        )\n",
    "        \n",
    "    def call(self, inputs, training=False):\n",
    "        states, actions = inputs\n",
    "        \n",
    "        positions = tf.range(start=0, limit=tf.shape(states)[1], delta=1)\n",
    "        positions = tf.expand_dims(positions, axis=0)\n",
    "        \n",
    "        state_emb = self.state_embedding(states)  # [batch_size, seq_len, hidden_dim]\n",
    "        action_emb = self.action_embedding(actions)  # [batch_size, seq_len, hidden_dim]\n",
    "        pos_emb = self.position_embedding(positions)  # [1, seq_len, hidden_dim]\n",
    "        \n",
    "        x = state_emb + action_emb + pos_emb\n",
    "        \n",
    "        for transformer_block in self.transformer_blocks:\n",
    "            x = transformer_block(x, training=training)\n",
    "        \n",
    "        next_states = self.next_state_head(x)\n",
    "        rewards = self.reward_head(x)\n",
    "        uncertainties = self.uncertainty_head(x)\n",
    "        \n",
    "        return next_states, rewards, uncertainties\n",
    "    \n",
    "    def train_step(self, data):\n",
    "        states, actions, next_states, rewards = data\n",
    "        \n",
    "        with tf.GradientTape() as tape:\n",
    "            pred_next_states, pred_rewards, uncertainties = self((states, actions), training=True)\n",
    "\n",
    "            state_loss = tf.reduce_mean(tf.square(next_states - pred_next_states))\n",
    "            reward_loss = tf.reduce_mean(tf.square(rewards - pred_rewards))\n",
    "            \n",
    "            uncertainty_loss = tf.reduce_mean(\n",
    "                tf.exp(-uncertainties) * tf.square(next_states - pred_next_states) + uncertainties\n",
    "            )\n",
    "            \n",
    "            total_loss = state_loss + reward_loss + 0.1 * uncertainty_loss\n",
    "        \n",
    "        grads = tape.gradient(total_loss, self.trainable_variables)\n",
    "        self.optimizer.apply_gradients(zip(grads, self.trainable_variables))\n",
    "        \n",
    "        return {\n",
    "            \"loss\": total_loss,\n",
    "            \"state_loss\": state_loss,\n",
    "            \"reward_loss\": reward_loss,\n",
    "            \"uncertainty_loss\": uncertainty_loss\n",
    "        }"
   ]
  },
  {
   "cell_type": "markdown",
   "metadata": {},
   "source": [
    "Modify the replay buffer to use the model"
   ]
  },
  {
   "cell_type": "code",
   "execution_count": 29,
   "metadata": {},
   "outputs": [],
   "source": [
    "class ModelAssistedReplayBuffer:\n",
    "    \"\"\"Replay buffer augmented with model-generated rollouts.\"\"\"\n",
    "    def __init__(\n",
    "        self, \n",
    "        real_buffer: reverb.Client,\n",
    "        world_model: TransformerWorldModel,\n",
    "        rollout_length: int = 5,\n",
    "        rollout_ratio: float = 0.5,\n",
    "        uncertainty_threshold: float = 0.5\n",
    "    ):\n",
    "        self.real_buffer = real_buffer\n",
    "        self.world_model = world_model\n",
    "        self.rollout_length = rollout_length\n",
    "        self.rollout_ratio = rollout_ratio\n",
    "        self.uncertainty_threshold = uncertainty_threshold\n",
    "        \n",
    "    def generate_rollouts(self, initial_state, initial_action, policy):\n",
    "        \"\"\"Generate model-based rollouts with uncertainty estimation.\"\"\"\n",
    "        current_state = tf.convert_to_tensor([initial_state], dtype=tf.float32)\n",
    "        current_action = tf.convert_to_tensor([initial_action], dtype=tf.float32)\n",
    "        \n",
    "        generated_experience = []\n",
    "        \n",
    "        for _ in range(self.rollout_length):\n",
    "            next_state, reward, uncertainty = self.world_model(\n",
    "                (current_state, current_action),\n",
    "                training=False\n",
    "            )\n",
    "            \n",
    "            if tf.reduce_mean(uncertainty) > self.uncertainty_threshold:\n",
    "                break\n",
    "                \n",
    "            time_step = ts.transition(\n",
    "                next_state[0], \n",
    "                reward[0][0],\n",
    "                discount=1.0\n",
    "            )\n",
    "            action_step = policy.action(time_step)\n",
    "            next_action = action_step.action\n",
    "            \n",
    "            generated_experience.append({\n",
    "                'state': current_state[0],\n",
    "                'action': current_action[0],\n",
    "                'reward': reward[0][0],\n",
    "                'next_state': next_state[0],\n",
    "                'uncertainty': uncertainty[0]\n",
    "            })\n",
    "            \n",
    "            current_state = next_state\n",
    "            current_action = tf.convert_to_tensor([next_action], dtype=tf.float32)\n",
    "            \n",
    "        return generated_experience"
   ]
  },
  {
   "cell_type": "markdown",
   "metadata": {},
   "source": [
    "Define function to train the world model"
   ]
  },
  {
   "cell_type": "code",
   "execution_count": 30,
   "metadata": {},
   "outputs": [],
   "source": [
    "def train_world_model(\n",
    "    world_model: TransformerWorldModel,\n",
    "    replay_buffer: reverb.Client,\n",
    "    batch_size: int = 256,\n",
    "    training_steps: int = 1000\n",
    "):\n",
    "    \"\"\"Train world model on real experience.\"\"\"\n",
    "    optimizer = tf.keras.optimizers.Adam(learning_rate=1e-4)\n",
    "    world_model.compile(optimizer=optimizer)\n",
    "    \n",
    "    dataset = replay_buffer.as_dataset(\n",
    "        num_parallel_calls=3,\n",
    "        sample_batch_size=batch_size,\n",
    "        num_steps=2\n",
    "    ).prefetch(3)\n",
    "    \n",
    "    losses = []\n",
    "    for step, experience in enumerate(dataset.take(training_steps)):\n",
    "        states = experience.observation[:, 0]\n",
    "        actions = experience.action[:, 0]\n",
    "        next_states = experience.observation[:, 1]\n",
    "        rewards = experience.reward[:, 0]\n",
    "        \n",
    "        metrics = world_model.train_step((states, actions, next_states, rewards))\n",
    "        losses.append(metrics['loss'])\n",
    "        \n",
    "        if step % 100 == 0:\n",
    "            avg_loss = tf.reduce_mean(losses[-100:])\n",
    "            logging_info(f'World Model Training Step {step}, Avg Loss: {avg_loss:.4f}')\n",
    "            \n",
    "    return tf.reduce_mean(losses)"
   ]
  },
  {
   "cell_type": "markdown",
   "metadata": {
    "id": "c_DN734lZAwE"
   },
   "source": [
    "Finally we're ready to execute the RL traiing loop with SAC!\n",
    "\n",
    "You can sepcify the total number of trainng iterations, and the number of gradient steps per iteration. With fewer steps, the model will train more slowly, but more steps may make the agent less stable."
   ]
  },
  {
   "cell_type": "code",
   "execution_count": 33,
   "metadata": {
    "cellView": "form",
    "id": "PAlT1f6SWYxq"
   },
   "outputs": [
    {
     "ename": "NameError",
     "evalue": "name 'eval_actor' is not defined",
     "output_type": "error",
     "traceback": [
      "\u001b[0;31m---------------------------------------------------------------------------\u001b[0m",
      "\u001b[0;31mNameError\u001b[0m                                 Traceback (most recent call last)",
      "Cell \u001b[0;32mIn[33], line 7\u001b[0m\n\u001b[1;32m      4\u001b[0m num_gradient_updates_per_training_iteration \u001b[38;5;241m=\u001b[39m \u001b[38;5;241m100\u001b[39m\n\u001b[1;32m      6\u001b[0m \u001b[38;5;66;03m# Collect the performance results with teh untrained model.\u001b[39;00m\n\u001b[0;32m----> 7\u001b[0m \u001b[43meval_actor\u001b[49m\u001b[38;5;241m.\u001b[39mrun_and_log()\n\u001b[1;32m      9\u001b[0m logging_info(\u001b[38;5;124m'\u001b[39m\u001b[38;5;124mTraining.\u001b[39m\u001b[38;5;124m'\u001b[39m)\n\u001b[1;32m     11\u001b[0m world_model \u001b[38;5;241m=\u001b[39m TransformerWorldModel(\n\u001b[1;32m     12\u001b[0m     state_dim\u001b[38;5;241m=\u001b[39mcollect_env\u001b[38;5;241m.\u001b[39mobservation_spec()\u001b[38;5;241m.\u001b[39mshape[\u001b[38;5;241m0\u001b[39m],\n\u001b[1;32m     13\u001b[0m     action_dim\u001b[38;5;241m=\u001b[39mcollect_env\u001b[38;5;241m.\u001b[39maction_spec()\u001b[38;5;241m.\u001b[39mshape[\u001b[38;5;241m0\u001b[39m],\n\u001b[0;32m   (...)\u001b[0m\n\u001b[1;32m     16\u001b[0m     num_transformer_blocks\u001b[38;5;241m=\u001b[39m\u001b[38;5;241m3\u001b[39m\n\u001b[1;32m     17\u001b[0m )\n",
      "\u001b[0;31mNameError\u001b[0m: name 'eval_actor' is not defined"
     ]
    }
   ],
   "source": [
    "# @title Execute the training loop\n",
    "\n",
    "num_training_iterations = 10\n",
    "num_gradient_updates_per_training_iteration = 100\n",
    "\n",
    "# Collect the performance results with teh untrained model.\n",
    "eval_actor.run_and_log()\n",
    "\n",
    "logging_info('Training.')\n",
    "\n",
    "world_model = TransformerWorldModel(\n",
    "    state_dim=collect_env.observation_spec().shape[0],\n",
    "    action_dim=collect_env.action_spec().shape[0],\n",
    "    hidden_dim=256,\n",
    "    num_heads=8,\n",
    "    num_transformer_blocks=3\n",
    ")\n",
    "\n",
    "model_buffer = ModelAssistedReplayBuffer(\n",
    "    real_buffer=reverb_replay,\n",
    "    world_model=world_model,\n",
    "    rollout_length=5,\n",
    "    rollout_ratio=0.5,\n",
    "    uncertainty_threshold=0.5\n",
    ")\n",
    "\n",
    "\n",
    "# log_dir = root_dir + '/train'\n",
    "# with tf.summary.create_file_writer(log_dir).as_default() as writer:   \n",
    "\n",
    "for iter in range(num_training_iterations):\n",
    "    print('Training iteration: ', iter)\n",
    "    \n",
    "    collect_actor.run()\n",
    "    \n",
    "    world_model_loss = train_world_model(\n",
    "        world_model=world_model,\n",
    "        replay_buffer=reverb_replay,\n",
    "        batch_size=256,\n",
    "        training_steps=1000\n",
    "    )\n",
    "    logging_info(f'World Model Loss: {world_model_loss:.4f}')\n",
    "\n",
    "    real_batch = next(iter(reverb_replay.as_dataset(\n",
    "        num_parallel_calls=3,\n",
    "        sample_batch_size=batch_size,\n",
    "        num_steps=2\n",
    "    )))\n",
    "    \n",
    "    initial_states = real_batch.observation[:, 0]\n",
    "    initial_actions = real_batch.action[:, 0]\n",
    "    \n",
    "    for i in range(len(initial_states)):\n",
    "        generated_experience = model_buffer.generate_rollouts(\n",
    "            initial_states[i],\n",
    "            initial_actions[i],\n",
    "            agent_collect_policy\n",
    "        )\n",
    "        \n",
    "        for exp in generated_experience:\n",
    "            rb_observer(trajectory.from_episode(\n",
    "                observation=exp['state'],\n",
    "                action=exp['action'],\n",
    "                policy_info=(),\n",
    "                reward=exp['reward'],\n",
    "                discount=1.0\n",
    "            ))\n",
    "    \n",
    "    loss_info = agent_learner.run(\n",
    "        iterations=num_gradient_updates_per_training_iteration\n",
    "    )\n",
    "    \n",
    "    logging_info(\n",
    "        'Actor Loss: %6.2f, Critic Loss: %6.2f, Alpha Loss: %6.2f'\n",
    "        % (\n",
    "            loss_info.extra.actor_loss.numpy(),\n",
    "            loss_info.extra.critic_loss.numpy(),\n",
    "            loss_info.extra.alpha_loss.numpy(),\n",
    "        )\n",
    "    )\n",
    "    \n",
    "    eval_env.reset()\n",
    "    eval_actor.run_and_log()\n",
    "\n",
    "rb_observer.close()\n",
    "reverb_server.stop()"
   ]
  },
  {
   "cell_type": "code",
   "execution_count": null,
   "metadata": {},
   "outputs": [],
   "source": []
  }
 ],
 "metadata": {
  "colab": {
   "collapsed_sections": [
    "L7w-mjPcH7u6",
    "kTtVb9wbRsKU",
    "86IIF7FrfJ_2",
    "SDgizVLzRti1"
   ],
   "last_runtime": {
    "build_target": "",
    "kind": "local"
   },
   "private_outputs": true,
   "provenance": [
    {
     "file_id": "1a2nzc-VcaGRTpsEFj3FgqRZY0Lk1dgrW",
     "timestamp": 1705074752110
    }
   ],
   "toc_visible": true
  },
  "kernelspec": {
   "display_name": "Python 3 (ipykernel)",
   "language": "python",
   "name": "python3"
  },
  "language_info": {
   "codemirror_mode": {
    "name": "ipython",
    "version": 3
   },
   "file_extension": ".py",
   "mimetype": "text/x-python",
   "name": "python",
   "nbconvert_exporter": "python",
   "pygments_lexer": "ipython3",
   "version": "3.10.12"
  }
 },
 "nbformat": 4,
 "nbformat_minor": 1
}
