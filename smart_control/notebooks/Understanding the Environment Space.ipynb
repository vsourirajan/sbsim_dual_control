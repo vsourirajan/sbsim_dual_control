{
 "cells": [
  {
   "cell_type": "code",
   "execution_count": 8,
   "id": "9c23cda6",
   "metadata": {},
   "outputs": [],
   "source": [
    "# @title Imports\n",
    "from dataclasses import dataclass\n",
    "import datetime, pytz\n",
    "import enum\n",
    "import functools\n",
    "import os\n",
    "os.environ['CUDA_VISIBLE_DEVICES'] = '0'\n",
    "import time\n",
    "from typing import Final, Sequence\n",
    "from typing import Optional\n",
    "from typing import Union, cast\n",
    "os.environ['WRAPT_DISABLE_EXTENSIONS'] = 'true'\n",
    "from absl import logging\n",
    "import gin\n",
    "import gin\n",
    "from matplotlib import patches\n",
    "import matplotlib.cm as cm\n",
    "import matplotlib.pyplot as plt\n",
    "from matplotlib.ticker import MaxNLocator\n",
    "import numpy as np\n",
    "import pandas as pd\n",
    "import reverb\n",
    "import mediapy as media\n",
    "from IPython.display import clear_output\n",
    "import sys\n",
    "\n",
    "gin.enter_interactive_mode()"
   ]
  },
  {
   "cell_type": "code",
   "execution_count": 9,
   "id": "7a05f368",
   "metadata": {},
   "outputs": [],
   "source": [
    "from smart_control.environment import environment\n",
    "\n",
    "from smart_control.proto import smart_control_building_pb2, smart_control_normalization_pb2\n",
    "from smart_control.reward import electricity_energy_cost, natural_gas_energy_cost, setpoint_energy_carbon_reward, setpoint_energy_carbon_regret\n",
    "\n",
    "from smart_control.simulator import randomized_arrival_departure_occupancy, rejection_simulator_building\n",
    "from smart_control.simulator import simulator_building, step_function_occupancy, stochastic_convection_simulator\n",
    "\n",
    "from smart_control.utils import bounded_action_normalizer, building_renderer, controller_reader\n",
    "from smart_control.utils import controller_writer, conversion_utils, observation_normalizer, reader_lib\n",
    "from smart_control.utils import writer_lib, histogram_reducer, environment_utils"
   ]
  },
  {
   "cell_type": "code",
   "execution_count": 10,
   "id": "aa950ab0",
   "metadata": {},
   "outputs": [],
   "source": [
    "def logging_info(*args):\n",
    "    logging.info(*args)\n",
    "    print(*args)\n",
    "\n",
    "def remap_filepath(filepath) -> str:\n",
    "    return str(filepath)"
   ]
  },
  {
   "cell_type": "code",
   "execution_count": 11,
   "id": "90a49492",
   "metadata": {},
   "outputs": [],
   "source": [
    "# @title Plotting Utities\n",
    "reward_shift = 0\n",
    "reward_scale = 1.0\n",
    "person_productivity_hour = 300.0\n",
    "\n",
    "KELVIN_TO_CELSIUS = 273.15\n",
    "\n",
    "def render_env(env: environment.Environment):\n",
    "    \"\"\"Renders the environment.\"\"\"\n",
    "    building_layout = env.building._simulator._building._floor_plan\n",
    "\n",
    "    # create a renderer\n",
    "    renderer = building_renderer.BuildingRenderer(building_layout, 1)\n",
    "\n",
    "    # get the current temps to render\n",
    "    # this also is not ideal, since the temps are not fully exposed.\n",
    "    # V Ideally this should be a publicly accessable field\n",
    "    temps = env.building._simulator._building.temp\n",
    "\n",
    "    input_q = env.building._simulator._building.input_q\n",
    "\n",
    "    # render\n",
    "    vmin = 285\n",
    "    vmax = 305\n",
    "    image = renderer.render(temps, cmap='bwr', vmin=vmin, vmax=vmax, colorbar=False, \n",
    "                            input_q=input_q, diff_range=0.5, diff_size=1,).convert('RGB')\n",
    "    media.show_image(image, title='Environment %s' % env.current_simulation_timestamp)"
   ]
  },
  {
   "cell_type": "code",
   "execution_count": 12,
   "id": "9aee0b72",
   "metadata": {},
   "outputs": [],
   "source": [
    "from plot_utils import *"
   ]
  },
  {
   "cell_type": "code",
   "execution_count": 13,
   "id": "52f0bce8",
   "metadata": {},
   "outputs": [],
   "source": [
    "data_path = \"/burg/home/ssa2206/sbsim_dual_control/smart_control/configs/resources/sb1/\" #@param {type:\"string\"}\n",
    "metrics_path = \"/burg/home/ssa2206/sbsim_dual_control/metrics\" #@param {type:\"string\"}\n",
    "output_data_path = '/burg/home/ssa2206/sbsim_dual_contarol/output' #@param {type:\"string\"}\n",
    "root_dir = \"/burg/home/ssa2206/sbsim_dual_control/root\" #@param {type:\"string\"}"
   ]
  },
  {
   "cell_type": "code",
   "execution_count": 14,
   "id": "d32f94e7",
   "metadata": {},
   "outputs": [],
   "source": [
    "time_zone = 'US/Pacific'"
   ]
  },
  {
   "cell_type": "code",
   "execution_count": 15,
   "id": "6e680a9e",
   "metadata": {},
   "outputs": [],
   "source": [
    "from env_loader import load_envs"
   ]
  },
  {
   "cell_type": "markdown",
   "id": "68c7ef80",
   "metadata": {},
   "source": [
    "### Loading Environment"
   ]
  },
  {
   "cell_type": "code",
   "execution_count": 16,
   "id": "5ca70a5e",
   "metadata": {},
   "outputs": [
    {
     "name": "stdout",
     "output_type": "stream",
     "text": [
      "/burg/home/ssa2206/sbsim_dual_control/smart_control/configs/resources/sb1/sim_config.gin\n",
      "/burg/home/ssa2206/sbsim_dual_control/smart_control/configs/resources/sb1/sim_config.gin\n"
     ]
    },
    {
     "name": "stderr",
     "output_type": "stream",
     "text": [
      "/burg/home/ssa2206/sbsim_dual_control/smart_control/simulator/building_utils.py:283: UserWarning: Connected components is showing that there are 4 or fewer\n",
      "     rooms in your building. You may have your 0's and 1's inverted in the\n",
      "     floor_plan. Remember that for the connectedComponents function,\n",
      "     0's must code for exterior space and exterior or interior walls,\n",
      "     and 1's must code for interior space.\n",
      "  warnings.warn(\"\"\"Connected components is showing that there are 4 or fewer\n",
      "/burg/home/ssa2206/sbsim_dual_control/smart_control/reward/electricity_energy_cost.py:147: UnitStrippedWarning: The unit of the quantity is stripped when downcasting to ndarray.\n",
      "  np.array(carbon_emission_rates) / 1.0e6 / 3600.0\n",
      "/burg/home/ssa2206/sbsim_dual_control/smart_control/reward/electricity_energy_cost.py:152: UnitStrippedWarning: The unit of the quantity is stripped when downcasting to ndarray.\n",
      "  np.array(weekday_energy_prices)\n",
      "/burg/home/ssa2206/sbsim_dual_control/smart_control/reward/electricity_energy_cost.py:159: UnitStrippedWarning: The unit of the quantity is stripped when downcasting to ndarray.\n",
      "  np.array(weekend_energy_prices)\n",
      "/burg/home/ssa2206/sbsim_dual_control/smart_control/simulator/building_utils.py:283: UserWarning: Connected components is showing that there are 4 or fewer\n",
      "     rooms in your building. You may have your 0's and 1's inverted in the\n",
      "     floor_plan. Remember that for the connectedComponents function,\n",
      "     0's must code for exterior space and exterior or interior walls,\n",
      "     and 1's must code for interior space.\n",
      "  warnings.warn(\"\"\"Connected components is showing that there are 4 or fewer\n",
      "/burg/home/ssa2206/sbsim_dual_control/smart_control/reward/electricity_energy_cost.py:147: UnitStrippedWarning: The unit of the quantity is stripped when downcasting to ndarray.\n",
      "  np.array(carbon_emission_rates) / 1.0e6 / 3600.0\n",
      "/burg/home/ssa2206/sbsim_dual_control/smart_control/reward/electricity_energy_cost.py:152: UnitStrippedWarning: The unit of the quantity is stripped when downcasting to ndarray.\n",
      "  np.array(weekday_energy_prices)\n",
      "/burg/home/ssa2206/sbsim_dual_control/smart_control/reward/electricity_energy_cost.py:159: UnitStrippedWarning: The unit of the quantity is stripped when downcasting to ndarray.\n",
      "  np.array(weekend_energy_prices)\n",
      "/burg/home/ssa2206/sbsim_dual_control/smart_control/simulator/building_utils.py:283: UserWarning: Connected components is showing that there are 4 or fewer\n",
      "     rooms in your building. You may have your 0's and 1's inverted in the\n",
      "     floor_plan. Remember that for the connectedComponents function,\n",
      "     0's must code for exterior space and exterior or interior walls,\n",
      "     and 1's must code for interior space.\n",
      "  warnings.warn(\"\"\"Connected components is showing that there are 4 or fewer\n",
      "/burg/home/ssa2206/sbsim_dual_control/smart_control/reward/electricity_energy_cost.py:147: UnitStrippedWarning: The unit of the quantity is stripped when downcasting to ndarray.\n",
      "  np.array(carbon_emission_rates) / 1.0e6 / 3600.0\n",
      "/burg/home/ssa2206/sbsim_dual_control/smart_control/reward/electricity_energy_cost.py:152: UnitStrippedWarning: The unit of the quantity is stripped when downcasting to ndarray.\n",
      "  np.array(weekday_energy_prices)\n",
      "/burg/home/ssa2206/sbsim_dual_control/smart_control/reward/electricity_energy_cost.py:159: UnitStrippedWarning: The unit of the quantity is stripped when downcasting to ndarray.\n",
      "  np.array(weekend_energy_prices)\n"
     ]
    }
   ],
   "source": [
    "eval_env, collect_env, initial_collect_env = load_envs(data_path, metrics_path=None)"
   ]
  },
  {
   "cell_type": "code",
   "execution_count": 17,
   "id": "87138f03",
   "metadata": {},
   "outputs": [
    {
     "data": {
      "text/plain": [
       "<matplotlib.image.AxesImage at 0x15547a3e48b0>"
      ]
     },
     "execution_count": 17,
     "metadata": {},
     "output_type": "execute_result"
    },
    {
     "data": {
      "image/png": "[encoded data removed]",
      "text/plain": [
       "<Figure size 640x480 with 1 Axes>"
      ]
     },
     "metadata": {},
     "output_type": "display_data"
    }
   ],
   "source": [
    "plt.imshow(eval_env.building._simulator._building._floor_plan)"
   ]
  },
  {
   "cell_type": "code",
   "execution_count": 21,
   "id": "52848b3c",
   "metadata": {},
   "outputs": [
    {
     "data": {
      "text/plain": [
       "<matplotlib.image.AxesImage at 0x15547d94ea40>"
      ]
     },
     "execution_count": 21,
     "metadata": {},
     "output_type": "execute_result"
    },
    {
     "data": {
      "image/png": "[encoded data removed]",
      "text/plain": [
       "<Figure size 640x480 with 1 Axes>"
      ]
     },
     "metadata": {},
     "output_type": "display_data"
    }
   ],
   "source": [
    "plt.imshow(eval_env.building._simulator._building.temp)"
   ]
  },
  {
   "cell_type": "code",
   "execution_count": 22,
   "id": "979e0719",
   "metadata": {},
   "outputs": [
    {
     "data": {
      "text/html": [
       "<table class=\"show_images\" style=\"border-spacing:0px;\"><tr><td style=\"padding:1px;\"><div style=\"display:flex; align-items:left;\">\n",
       "      <div style=\"display:flex; flex-direction:column; align-items:center;\">\n",
       "      <div>Environment 2023-07-06 07:00:00+00:00</div><div><img width=\"1004\" height=\"744\" style=\"image-rendering:auto; object-fit:cover;\" src=\"data:image/png;base64,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\"/></div></div></div></td></tr></table>"
      ],
      "text/plain": [
       "<IPython.core.display.HTML object>"
      ]
     },
     "metadata": {},
     "output_type": "display_data"
    }
   ],
   "source": [
    "render_env(eval_env)"
   ]
  },
  {
   "cell_type": "code",
   "execution_count": 23,
   "id": "4b5ee9c3",
   "metadata": {
    "scrolled": true
   },
   "outputs": [
    {
     "data": {
      "text/plain": [
       "device_id: \"boiler_id_7f543f53-7254-4713-a03f-8dbc3d7c66ab\"\n",
       "namespace: \"device_namespace_f74bc819-61e6-40fe-97b7-b75d064f6d59\"\n",
       "code: \"device_code_67a9cd25-813a-4b85-bf4b-df50ab49f0a9\"\n",
       "zone_id: \"default_zone_id\"\n",
       "device_type: BLR\n",
       "observable_fields {\n",
       "  key: \"heating_request_count\"\n",
       "  value: VALUE_CONTINUOUS\n",
       "}\n",
       "observable_fields {\n",
       "  key: \"supply_water_setpoint\"\n",
       "  value: VALUE_CONTINUOUS\n",
       "}\n",
       "observable_fields {\n",
       "  key: \"supply_water_temperature_sensor\"\n",
       "  value: VALUE_CONTINUOUS\n",
       "}\n",
       "action_fields {\n",
       "  key: \"supply_water_setpoint\"\n",
       "  value: VALUE_CONTINUOUS\n",
       "}"
      ]
     },
     "execution_count": 23,
     "metadata": {},
     "output_type": "execute_result"
    }
   ],
   "source": [
    "eval_env.building._device_infos[0]"
   ]
  },
  {
   "cell_type": "code",
   "execution_count": 24,
   "id": "d5d5a535",
   "metadata": {},
   "outputs": [
    {
     "data": {
      "text/plain": [
       "<bound method SimulatorBuilding.request_observations of <smart_control.simulator.simulator_building.SimulatorBuilding object at 0x1554ce957310>>"
      ]
     },
     "execution_count": 24,
     "metadata": {},
     "output_type": "execute_result"
    }
   ],
   "source": [
    "eval_env.building.request_observations"
   ]
  },
  {
   "cell_type": "code",
   "execution_count": 25,
   "id": "d4cd0816",
   "metadata": {},
   "outputs": [
    {
     "data": {
      "text/plain": [
       "zone_id: \"zone_id_6\"\n",
       "building_id: \"US-SIM-001\"\n",
       "zone_description: \"Simulated zone\"\n",
       "devices: \"vav_room_6\"\n",
       "zone_type: ROOM"
      ]
     },
     "execution_count": 25,
     "metadata": {},
     "output_type": "execute_result"
    }
   ],
   "source": [
    "eval_env.building.zones[5]"
   ]
  },
  {
   "cell_type": "code",
   "execution_count": 26,
   "id": "0dbdfa4f",
   "metadata": {},
   "outputs": [
    {
     "data": {
      "text/plain": [
       "<smart_control.simulator.tf_simulator.TFSimulator at 0x1554ce9572b0>"
      ]
     },
     "execution_count": 26,
     "metadata": {},
     "output_type": "execute_result"
    }
   ],
   "source": [
    "eval_env.building._simulator"
   ]
  },
  {
   "cell_type": "markdown",
   "id": "7a4ae8f5",
   "metadata": {},
   "source": [
    "## Understanding State Space"
   ]
  },
  {
   "cell_type": "code",
   "execution_count": 27,
   "id": "f88cd28e",
   "metadata": {},
   "outputs": [],
   "source": [
    "timestep = eval_env.reset()"
   ]
  },
  {
   "cell_type": "code",
   "execution_count": 28,
   "id": "d5f5e1d8",
   "metadata": {},
   "outputs": [
    {
     "data": {
      "text/plain": [
       "tf_agents.trajectories.time_step.TimeStep"
      ]
     },
     "execution_count": 28,
     "metadata": {},
     "output_type": "execute_result"
    }
   ],
   "source": [
    "type(timestep)"
   ]
  },
  {
   "cell_type": "markdown",
   "id": "07adb08f",
   "metadata": {},
   "source": [
    "At each time index, the environment returns \n",
    "- the discounting rate $\\gamma$\n",
    "- Observation state vector $\\in \\mathbb{R}^{53}$\n",
    "- Reward\n",
    "- Step Type $\\in \\{front, mid, end\\}$"
   ]
  },
  {
   "cell_type": "code",
   "execution_count": 29,
   "id": "a37ccc65",
   "metadata": {},
   "outputs": [
    {
     "data": {
      "text/plain": [
       "TimeStep(\n",
       "{'discount': array(1., dtype=float32),\n",
       " 'observation': array([-20.        , -19.128613  ,   0.        ,  -0.82162595,\n",
       "        -0.5831852 ,   4.8570604 ,   0.        ,  -2.425231  ,\n",
       "        -1.1068594 ,   0.        ,   2.564033  ,   1.4996233 ,\n",
       "         1.        ,   0.        ,   0.        ,   0.        ,\n",
       "         0.        ,   0.        ,   1.        ,   0.        ,\n",
       "         0.        ,   0.        ,   0.        ,   0.        ,\n",
       "         0.        ,   0.        ,   0.        ,   1.        ,\n",
       "         0.        ,   0.        ,   0.        ,   0.        ,\n",
       "         0.        ,   0.        ,   0.        ,   0.        ,\n",
       "         0.        ,   0.        ,   0.        ,   0.        ,\n",
       "         0.        ,   0.        ,   0.        ,   0.        ,\n",
       "         0.        ,   0.        ,  -0.25881904,   0.9659258 ,\n",
       "        -0.90096885,   0.43388373,   0.        ,   0.        ,\n",
       "        -0.99206346], dtype=float32),\n",
       " 'reward': array(0., dtype=float32),\n",
       " 'step_type': array(0, dtype=int32)})"
      ]
     },
     "execution_count": 29,
     "metadata": {},
     "output_type": "execute_result"
    }
   ],
   "source": [
    "timestep"
   ]
  },
  {
   "cell_type": "code",
   "execution_count": 30,
   "id": "dfc6fcd4",
   "metadata": {
    "scrolled": true
   },
   "outputs": [],
   "source": [
    "field_states = eval_env._field_names # what each state dimension represents"
   ]
  },
  {
   "cell_type": "code",
   "execution_count": 31,
   "id": "4229fb5d",
   "metadata": {},
   "outputs": [
    {
     "data": {
      "text/plain": [
       "['air_handler_id_1f2272ab-e3cb-42eb-9499-ec6a180d253a_cooling_request_count',\n",
       " 'air_handler_id_1f2272ab-e3cb-42eb-9499-ec6a180d253a_differential_pressure_setpoint',\n",
       " 'air_handler_id_1f2272ab-e3cb-42eb-9499-ec6a180d253a_discharge_fan_speed_percentage_command',\n",
       " 'air_handler_id_1f2272ab-e3cb-42eb-9499-ec6a180d253a_outside_air_flowrate_sensor',\n",
       " 'air_handler_id_1f2272ab-e3cb-42eb-9499-ec6a180d253a_outside_air_temperature_sensor']"
      ]
     },
     "execution_count": 31,
     "metadata": {},
     "output_type": "execute_result"
    }
   ],
   "source": [
    "field_states[:5]"
   ]
  },
  {
   "cell_type": "code",
   "execution_count": 32,
   "id": "13f67d4d",
   "metadata": {},
   "outputs": [],
   "source": [
    "def label_obs_vector(obs):\n",
    "    return(pd.Series(data=observation, index=field_states))"
   ]
  },
  {
   "cell_type": "markdown",
   "id": "ef0fa9a7",
   "metadata": {},
   "source": [
    "### Reward Model\n",
    "\n",
    "Reward is evaluated from the state of the building, based on _simulator "
   ]
  },
  {
   "cell_type": "code",
   "execution_count": 33,
   "id": "d2ea493f",
   "metadata": {},
   "outputs": [],
   "source": [
    "self = eval_env.building"
   ]
  },
  {
   "cell_type": "code",
   "execution_count": 34,
   "id": "aba81c0b",
   "metadata": {},
   "outputs": [],
   "source": [
    "occ = self._occupancy"
   ]
  },
  {
   "cell_type": "markdown",
   "id": "e85090b4",
   "metadata": {},
   "source": [
    "##### Aggregates Info from Simulator, for each zone and the devices (boiler and AC)\n",
    "\n",
    "- smart_control.proto.smart_control_reward_pb2.RewardInfo"
   ]
  },
  {
   "cell_type": "code",
   "execution_count": 35,
   "id": "d875cd31",
   "metadata": {},
   "outputs": [],
   "source": [
    "reward_info = self._simulator.reward_info(self._occupancy)"
   ]
  },
  {
   "cell_type": "markdown",
   "id": "775f5cd7",
   "metadata": {},
   "source": [
    "##### reward info is computed for each zone and device. The setpoint refers to what temperature "
   ]
  },
  {
   "cell_type": "code",
   "execution_count": 36,
   "id": "d99ca027",
   "metadata": {
    "scrolled": true
   },
   "outputs": [
    {
     "data": {
      "text/plain": [
       "{'zone_id_104': heating_setpoint_temperature: 289.0\n",
       "cooling_setpoint_temperature: 298.0\n",
       "zone_air_temperature: 295.3722229003906\n",
       "air_flow_rate_setpoint: 0.03500000014901161\n",
       ", 'zone_id_121': heating_setpoint_temperature: 289.0\n",
       "cooling_setpoint_temperature: 298.0\n",
       "zone_air_temperature: 296.5944519042969\n",
       "air_flow_rate_setpoint: 0.03500000014901161\n",
       ", 'zone_id_42': heating_setpoint_temperature: 289.0\n",
       "cooling_setpoint_temperature: 298.0\n",
       "zone_air_temperature: 294.3722229003906\n",
       "air_flow_rate_setpoint: 0.03500000014901161\n",
       ", 'zone_id_105': heating_setpoint_temperature: 289.0\n",
       "cooling_setpoint_temperature: 298.0\n",
       "zone_air_temperature: 295.7611083984375\n",
       "air_flow_rate_setpoint: 0.03500000014901161\n",
       ", 'zone_id_10': heating_setpoint_temperature: 289.0\n",
       "cooling_setpoint_temperature: 298.0\n",
       "zone_air_temperature: 295.48333740234375\n",
       "air_flow_rate_setpoint: 0.03500000014901161\n",
       ", 'zone_id_25': heating_setpoint_temperature: 289.0\n",
       "cooling_setpoint_temperature: 298.0\n",
       "zone_air_temperature: 295.0944519042969\n",
       "air_flow_rate_setpoint: 0.03500000014901161\n",
       ", 'zone_id_70': heating_setpoint_temperature: 289.0\n",
       "cooling_setpoint_temperature: 298.0\n",
       "zone_air_temperature: 295.5944519042969\n",
       "air_flow_rate_setpoint: 0.03500000014901161\n",
       ", 'zone_id_66': heating_setpoint_temperature: 289.0\n",
       "cooling_setpoint_temperature: 298.0\n",
       "zone_air_temperature: 294.6499938964844\n",
       "air_flow_rate_setpoint: 0.03500000014901161\n",
       ", 'zone_id_74': heating_setpoint_temperature: 289.0\n",
       "cooling_setpoint_temperature: 298.0\n",
       "zone_air_temperature: 294.9277648925781\n",
       "air_flow_rate_setpoint: 0.03500000014901161\n",
       ", 'zone_id_126': heating_setpoint_temperature: 289.0\n",
       "cooling_setpoint_temperature: 298.0\n",
       "zone_air_temperature: 295.7611083984375\n",
       "air_flow_rate_setpoint: 0.03500000014901161\n",
       ", 'zone_id_17': heating_setpoint_temperature: 289.0\n",
       "cooling_setpoint_temperature: 298.0\n",
       "zone_air_temperature: 295.8722229003906\n",
       "air_flow_rate_setpoint: 0.03500000014901161\n",
       ", 'zone_id_63': heating_setpoint_temperature: 289.0\n",
       "cooling_setpoint_temperature: 298.0\n",
       "zone_air_temperature: 295.7611083984375\n",
       "air_flow_rate_setpoint: 0.03500000014901161\n",
       ", 'zone_id_65': heating_setpoint_temperature: 289.0\n",
       "cooling_setpoint_temperature: 298.0\n",
       "zone_air_temperature: 294.2611083984375\n",
       "air_flow_rate_setpoint: 0.03500000014901161\n",
       ", 'zone_id_110': heating_setpoint_temperature: 289.0\n",
       "cooling_setpoint_temperature: 298.0\n",
       "zone_air_temperature: 295.8722229003906\n",
       "air_flow_rate_setpoint: 0.03500000014901161\n",
       ", 'zone_id_2': heating_setpoint_temperature: 289.0\n",
       "cooling_setpoint_temperature: 298.0\n",
       "zone_air_temperature: 295.0944519042969\n",
       "air_flow_rate_setpoint: 0.03500000014901161\n",
       ", 'zone_id_20': heating_setpoint_temperature: 289.0\n",
       "cooling_setpoint_temperature: 298.0\n",
       "zone_air_temperature: 295.7611083984375\n",
       "air_flow_rate_setpoint: 0.03500000014901161\n",
       ", 'zone_id_50': heating_setpoint_temperature: 289.0\n",
       "cooling_setpoint_temperature: 298.0\n",
       "zone_air_temperature: 294.2611083984375\n",
       "air_flow_rate_setpoint: 0.03500000014901161\n",
       ", 'zone_id_86': heating_setpoint_temperature: 289.0\n",
       "cooling_setpoint_temperature: 298.0\n",
       "zone_air_temperature: 295.5944519042969\n",
       "air_flow_rate_setpoint: 0.03500000014901161\n",
       ", 'zone_id_64': heating_setpoint_temperature: 289.0\n",
       "cooling_setpoint_temperature: 298.0\n",
       "zone_air_temperature: 295.8722229003906\n",
       "air_flow_rate_setpoint: 0.03500000014901161\n",
       ", 'zone_id_38': heating_setpoint_temperature: 289.0\n",
       "cooling_setpoint_temperature: 298.0\n",
       "zone_air_temperature: 294.6499938964844\n",
       "air_flow_rate_setpoint: 0.03500000014901161\n",
       ", 'zone_id_124': heating_setpoint_temperature: 289.0\n",
       "cooling_setpoint_temperature: 298.0\n",
       "zone_air_temperature: 296.1499938964844\n",
       "air_flow_rate_setpoint: 0.03500000014901161\n",
       ", 'zone_id_80': heating_setpoint_temperature: 289.0\n",
       "cooling_setpoint_temperature: 298.0\n",
       "zone_air_temperature: 295.7611083984375\n",
       "air_flow_rate_setpoint: 0.03500000014901161\n",
       ", 'zone_id_6': heating_setpoint_temperature: 289.0\n",
       "cooling_setpoint_temperature: 298.0\n",
       "zone_air_temperature: 295.7611083984375\n",
       "air_flow_rate_setpoint: 0.03500000014901161\n",
       ", 'zone_id_106': heating_setpoint_temperature: 289.0\n",
       "cooling_setpoint_temperature: 298.0\n",
       "zone_air_temperature: 296.5944519042969\n",
       "air_flow_rate_setpoint: 0.03500000014901161\n",
       ", 'zone_id_120': heating_setpoint_temperature: 289.0\n",
       "cooling_setpoint_temperature: 298.0\n",
       "zone_air_temperature: 295.7611083984375\n",
       "air_flow_rate_setpoint: 0.03500000014901161\n",
       ", 'zone_id_13': heating_setpoint_temperature: 289.0\n",
       "cooling_setpoint_temperature: 298.0\n",
       "zone_air_temperature: 295.48333740234375\n",
       "air_flow_rate_setpoint: 0.03500000014901161\n",
       ", 'zone_id_81': heating_setpoint_temperature: 289.0\n",
       "cooling_setpoint_temperature: 298.0\n",
       "zone_air_temperature: 297.2611083984375\n",
       "air_flow_rate_setpoint: 0.03500000014901161\n",
       ", 'zone_id_67': heating_setpoint_temperature: 289.0\n",
       "cooling_setpoint_temperature: 298.0\n",
       "zone_air_temperature: 296.1499938964844\n",
       "air_flow_rate_setpoint: 0.03500000014901161\n",
       ", 'zone_id_22': heating_setpoint_temperature: 289.0\n",
       "cooling_setpoint_temperature: 298.0\n",
       "zone_air_temperature: 296.03887939453125\n",
       "air_flow_rate_setpoint: 0.03500000014901161\n",
       ", 'zone_id_125': heating_setpoint_temperature: 289.0\n",
       "cooling_setpoint_temperature: 298.0\n",
       "zone_air_temperature: 295.5944519042969\n",
       "air_flow_rate_setpoint: 0.03500000014901161\n",
       ", 'zone_id_47': heating_setpoint_temperature: 289.0\n",
       "cooling_setpoint_temperature: 298.0\n",
       "zone_air_temperature: 294.3722229003906\n",
       "air_flow_rate_setpoint: 0.03500000014901161\n",
       ", 'zone_id_90': heating_setpoint_temperature: 289.0\n",
       "cooling_setpoint_temperature: 298.0\n",
       "zone_air_temperature: 296.03887939453125\n",
       "air_flow_rate_setpoint: 0.03500000014901161\n",
       ", 'zone_id_94': heating_setpoint_temperature: 289.0\n",
       "cooling_setpoint_temperature: 298.0\n",
       "zone_air_temperature: 296.98333740234375\n",
       "air_flow_rate_setpoint: 0.03500000014901161\n",
       ", 'zone_id_61': heating_setpoint_temperature: 289.0\n",
       "cooling_setpoint_temperature: 298.0\n",
       "zone_air_temperature: 295.20556640625\n",
       "air_flow_rate_setpoint: 0.03500000014901161\n",
       ", 'zone_id_87': heating_setpoint_temperature: 289.0\n",
       "cooling_setpoint_temperature: 298.0\n",
       "zone_air_temperature: 296.98333740234375\n",
       "air_flow_rate_setpoint: 0.03500000014901161\n",
       ", 'zone_id_24': heating_setpoint_temperature: 289.0\n",
       "cooling_setpoint_temperature: 298.0\n",
       "zone_air_temperature: 295.03887939453125\n",
       "air_flow_rate_setpoint: 0.03500000014901161\n",
       ", 'zone_id_12': heating_setpoint_temperature: 289.0\n",
       "cooling_setpoint_temperature: 298.0\n",
       "zone_air_temperature: 295.3166809082031\n",
       "air_flow_rate_setpoint: 0.03500000014901161\n",
       ", 'zone_id_14': heating_setpoint_temperature: 289.0\n",
       "cooling_setpoint_temperature: 298.0\n",
       "zone_air_temperature: 295.7611083984375\n",
       "air_flow_rate_setpoint: 0.03500000014901161\n",
       ", 'zone_id_69': heating_setpoint_temperature: 289.0\n",
       "cooling_setpoint_temperature: 298.0\n",
       "zone_air_temperature: 296.1499938964844\n",
       "air_flow_rate_setpoint: 0.03500000014901161\n",
       ", 'zone_id_119': heating_setpoint_temperature: 289.0\n",
       "cooling_setpoint_temperature: 298.0\n",
       "zone_air_temperature: 296.1499938964844\n",
       "air_flow_rate_setpoint: 0.03500000014901161\n",
       ", 'zone_id_68': heating_setpoint_temperature: 289.0\n",
       "cooling_setpoint_temperature: 298.0\n",
       "zone_air_temperature: 296.03887939453125\n",
       "air_flow_rate_setpoint: 0.03500000014901161\n",
       ", 'zone_id_89': heating_setpoint_temperature: 289.0\n",
       "cooling_setpoint_temperature: 298.0\n",
       "zone_air_temperature: 296.98333740234375\n",
       "air_flow_rate_setpoint: 0.03500000014901161\n",
       ", 'zone_id_55': heating_setpoint_temperature: 289.0\n",
       "cooling_setpoint_temperature: 298.0\n",
       "zone_air_temperature: 295.5944519042969\n",
       "air_flow_rate_setpoint: 0.03500000014901161\n",
       ", 'zone_id_98': heating_setpoint_temperature: 289.0\n",
       "cooling_setpoint_temperature: 298.0\n",
       "zone_air_temperature: 295.7611083984375\n",
       "air_flow_rate_setpoint: 0.03500000014901161\n",
       ", 'zone_id_9': heating_setpoint_temperature: 289.0\n",
       "cooling_setpoint_temperature: 298.0\n",
       "zone_air_temperature: 295.03887939453125\n",
       "air_flow_rate_setpoint: 0.03500000014901161\n",
       ", 'zone_id_100': heating_setpoint_temperature: 289.0\n",
       "cooling_setpoint_temperature: 298.0\n",
       "zone_air_temperature: 296.48333740234375\n",
       "air_flow_rate_setpoint: 0.03500000014901161\n",
       ", 'zone_id_26': heating_setpoint_temperature: 289.0\n",
       "cooling_setpoint_temperature: 298.0\n",
       "zone_air_temperature: 295.8722229003906\n",
       "air_flow_rate_setpoint: 0.03500000014901161\n",
       ", 'zone_id_57': heating_setpoint_temperature: 289.0\n",
       "cooling_setpoint_temperature: 298.0\n",
       "zone_air_temperature: 295.7611083984375\n",
       "air_flow_rate_setpoint: 0.03500000014901161\n",
       ", 'zone_id_7': heating_setpoint_temperature: 289.0\n",
       "cooling_setpoint_temperature: 298.0\n",
       "zone_air_temperature: 295.5944519042969\n",
       "air_flow_rate_setpoint: 0.03500000014901161\n",
       ", 'zone_id_123': heating_setpoint_temperature: 289.0\n",
       "cooling_setpoint_temperature: 298.0\n",
       "zone_air_temperature: 295.7611083984375\n",
       "air_flow_rate_setpoint: 0.03500000014901161\n",
       ", 'zone_id_118': heating_setpoint_temperature: 289.0\n",
       "cooling_setpoint_temperature: 298.0\n",
       "zone_air_temperature: 296.70556640625\n",
       "air_flow_rate_setpoint: 0.03500000014901161\n",
       ", 'zone_id_46': heating_setpoint_temperature: 289.0\n",
       "cooling_setpoint_temperature: 298.0\n",
       "zone_air_temperature: 294.6499938964844\n",
       "air_flow_rate_setpoint: 0.03500000014901161\n",
       ", 'zone_id_117': heating_setpoint_temperature: 289.0\n",
       "cooling_setpoint_temperature: 298.0\n",
       "zone_air_temperature: 296.70556640625\n",
       "air_flow_rate_setpoint: 0.03500000014901161\n",
       ", 'zone_id_113': heating_setpoint_temperature: 289.0\n",
       "cooling_setpoint_temperature: 298.0\n",
       "zone_air_temperature: 295.3166809082031\n",
       "air_flow_rate_setpoint: 0.03500000014901161\n",
       ", 'zone_id_85': heating_setpoint_temperature: 289.0\n",
       "cooling_setpoint_temperature: 298.0\n",
       "zone_air_temperature: 295.8722229003906\n",
       "air_flow_rate_setpoint: 0.03500000014901161\n",
       ", 'zone_id_95': heating_setpoint_temperature: 289.0\n",
       "cooling_setpoint_temperature: 298.0\n",
       "zone_air_temperature: 295.7611083984375\n",
       "air_flow_rate_setpoint: 0.03500000014901161\n",
       ", 'zone_id_56': heating_setpoint_temperature: 289.0\n",
       "cooling_setpoint_temperature: 298.0\n",
       "zone_air_temperature: 296.4277648925781\n",
       "air_flow_rate_setpoint: 0.03500000014901161\n",
       ", 'zone_id_35': heating_setpoint_temperature: 289.0\n",
       "cooling_setpoint_temperature: 298.0\n",
       "zone_air_temperature: 295.7611083984375\n",
       "air_flow_rate_setpoint: 0.03500000014901161\n",
       ", 'zone_id_21': heating_setpoint_temperature: 289.0\n",
       "cooling_setpoint_temperature: 298.0\n",
       "zone_air_temperature: 295.7611083984375\n",
       "air_flow_rate_setpoint: 0.03500000014901161\n",
       ", 'zone_id_27': heating_setpoint_temperature: 289.0\n",
       "cooling_setpoint_temperature: 298.0\n",
       "zone_air_temperature: 296.1499938964844\n",
       "air_flow_rate_setpoint: 0.03500000014901161\n",
       ", 'zone_id_45': heating_setpoint_temperature: 289.0\n",
       "cooling_setpoint_temperature: 298.0\n",
       "zone_air_temperature: 296.1499938964844\n",
       "air_flow_rate_setpoint: 0.03500000014901161\n",
       ", 'zone_id_114': heating_setpoint_temperature: 289.0\n",
       "cooling_setpoint_temperature: 298.0\n",
       "zone_air_temperature: 295.7611083984375\n",
       "air_flow_rate_setpoint: 0.03500000014901161\n",
       ", 'zone_id_30': heating_setpoint_temperature: 289.0\n",
       "cooling_setpoint_temperature: 298.0\n",
       "zone_air_temperature: 294.9277648925781\n",
       "air_flow_rate_setpoint: 0.03500000014901161\n",
       ", 'zone_id_83': heating_setpoint_temperature: 289.0\n",
       "cooling_setpoint_temperature: 298.0\n",
       "zone_air_temperature: 297.0944519042969\n",
       "air_flow_rate_setpoint: 0.03500000014901161\n",
       ", 'zone_id_101': heating_setpoint_temperature: 289.0\n",
       "cooling_setpoint_temperature: 298.0\n",
       "zone_air_temperature: 295.7611083984375\n",
       "air_flow_rate_setpoint: 0.03500000014901161\n",
       ", 'zone_id_39': heating_setpoint_temperature: 289.0\n",
       "cooling_setpoint_temperature: 298.0\n",
       "zone_air_temperature: 294.9277648925781\n",
       "air_flow_rate_setpoint: 0.03500000014901161\n",
       ", 'zone_id_58': heating_setpoint_temperature: 289.0\n",
       "cooling_setpoint_temperature: 298.0\n",
       "zone_air_temperature: 296.316650390625\n",
       "air_flow_rate_setpoint: 0.03500000014901161\n",
       ", 'zone_id_37': heating_setpoint_temperature: 289.0\n",
       "cooling_setpoint_temperature: 298.0\n",
       "zone_air_temperature: 296.03887939453125\n",
       "air_flow_rate_setpoint: 0.03500000014901161\n",
       ", 'zone_id_29': heating_setpoint_temperature: 289.0\n",
       "cooling_setpoint_temperature: 298.0\n",
       "zone_air_temperature: 296.4277648925781\n",
       "air_flow_rate_setpoint: 0.03500000014901161\n",
       ", 'zone_id_62': heating_setpoint_temperature: 289.0\n",
       "cooling_setpoint_temperature: 298.0\n",
       "zone_air_temperature: 295.8722229003906\n",
       "air_flow_rate_setpoint: 0.03500000014901161\n",
       ", 'zone_id_4': heating_setpoint_temperature: 289.0\n",
       "cooling_setpoint_temperature: 298.0\n",
       "zone_air_temperature: 295.03887939453125\n",
       "air_flow_rate_setpoint: 0.03500000014901161\n",
       ", 'zone_id_36': heating_setpoint_temperature: 289.0\n",
       "cooling_setpoint_temperature: 298.0\n",
       "zone_air_temperature: 295.7611083984375\n",
       "air_flow_rate_setpoint: 0.03500000014901161\n",
       ", 'zone_id_122': heating_setpoint_temperature: 289.0\n",
       "cooling_setpoint_temperature: 298.0\n",
       "zone_air_temperature: 296.316650390625\n",
       "air_flow_rate_setpoint: 0.03500000014901161\n",
       ", 'zone_id_34': heating_setpoint_temperature: 289.0\n",
       "cooling_setpoint_temperature: 298.0\n",
       "zone_air_temperature: 295.7611083984375\n",
       "air_flow_rate_setpoint: 0.03500000014901161\n",
       ", 'zone_id_72': heating_setpoint_temperature: 289.0\n",
       "cooling_setpoint_temperature: 298.0\n",
       "zone_air_temperature: 296.4277648925781\n",
       "air_flow_rate_setpoint: 0.03500000014901161\n",
       ", 'zone_id_32': heating_setpoint_temperature: 289.0\n",
       "cooling_setpoint_temperature: 298.0\n",
       "zone_air_temperature: 296.4277648925781\n",
       "air_flow_rate_setpoint: 0.03500000014901161\n",
       ", 'zone_id_53': heating_setpoint_temperature: 289.0\n",
       "cooling_setpoint_temperature: 298.0\n",
       "zone_air_temperature: 294.2611083984375\n",
       "air_flow_rate_setpoint: 0.03500000014901161\n",
       ", 'zone_id_19': heating_setpoint_temperature: 289.0\n",
       "cooling_setpoint_temperature: 298.0\n",
       "zone_air_temperature: 295.7611083984375\n",
       "air_flow_rate_setpoint: 0.03500000014901161\n",
       ", 'zone_id_77': heating_setpoint_temperature: 289.0\n",
       "cooling_setpoint_temperature: 298.0\n",
       "zone_air_temperature: 297.0944519042969\n",
       "air_flow_rate_setpoint: 0.03500000014901161\n",
       ", 'zone_id_41': heating_setpoint_temperature: 289.0\n",
       "cooling_setpoint_temperature: 298.0\n",
       "zone_air_temperature: 294.9277648925781\n",
       "air_flow_rate_setpoint: 0.03500000014901161\n",
       ", 'zone_id_51': heating_setpoint_temperature: 289.0\n",
       "cooling_setpoint_temperature: 298.0\n",
       "zone_air_temperature: 294.3722229003906\n",
       "air_flow_rate_setpoint: 0.03500000014901161\n",
       ", 'zone_id_3': heating_setpoint_temperature: 289.0\n",
       "cooling_setpoint_temperature: 298.0\n",
       "zone_air_temperature: 295.0944519042969\n",
       "air_flow_rate_setpoint: 0.03500000014901161\n",
       ", 'zone_id_79': heating_setpoint_temperature: 289.0\n",
       "cooling_setpoint_temperature: 298.0\n",
       "zone_air_temperature: 296.8166809082031\n",
       "air_flow_rate_setpoint: 0.03500000014901161\n",
       ", 'zone_id_33': heating_setpoint_temperature: 289.0\n",
       "cooling_setpoint_temperature: 298.0\n",
       "zone_air_temperature: 295.0944519042969\n",
       "air_flow_rate_setpoint: 0.03500000014901161\n",
       ", 'zone_id_44': heating_setpoint_temperature: 289.0\n",
       "cooling_setpoint_temperature: 298.0\n",
       "zone_air_temperature: 294.0944519042969\n",
       "air_flow_rate_setpoint: 0.03500000014901161\n",
       ", 'zone_id_59': heating_setpoint_temperature: 289.0\n",
       "cooling_setpoint_temperature: 298.0\n",
       "zone_air_temperature: 295.7611083984375\n",
       "air_flow_rate_setpoint: 0.03500000014901161\n",
       ", 'zone_id_11': heating_setpoint_temperature: 289.0\n",
       "cooling_setpoint_temperature: 298.0\n",
       "zone_air_temperature: 295.5944519042969\n",
       "air_flow_rate_setpoint: 0.03500000014901161\n",
       ", 'zone_id_88': heating_setpoint_temperature: 289.0\n",
       "cooling_setpoint_temperature: 298.0\n",
       "zone_air_temperature: 296.70556640625\n",
       "air_flow_rate_setpoint: 0.03500000014901161\n",
       ", 'zone_id_60': heating_setpoint_temperature: 289.0\n",
       "cooling_setpoint_temperature: 298.0\n",
       "zone_air_temperature: 296.98333740234375\n",
       "air_flow_rate_setpoint: 0.03500000014901161\n",
       ", 'zone_id_40': heating_setpoint_temperature: 289.0\n",
       "cooling_setpoint_temperature: 298.0\n",
       "zone_air_temperature: 295.8722229003906\n",
       "air_flow_rate_setpoint: 0.03500000014901161\n",
       ", 'zone_id_49': heating_setpoint_temperature: 289.0\n",
       "cooling_setpoint_temperature: 298.0\n",
       "zone_air_temperature: 294.6499938964844\n",
       "air_flow_rate_setpoint: 0.03500000014901161\n",
       ", 'zone_id_102': heating_setpoint_temperature: 289.0\n",
       "cooling_setpoint_temperature: 298.0\n",
       "zone_air_temperature: 296.8166809082031\n",
       "air_flow_rate_setpoint: 0.03500000014901161\n",
       ", 'zone_id_71': heating_setpoint_temperature: 289.0\n",
       "cooling_setpoint_temperature: 298.0\n",
       "zone_air_temperature: 295.48333740234375\n",
       "air_flow_rate_setpoint: 0.03500000014901161\n",
       ", 'zone_id_73': heating_setpoint_temperature: 289.0\n",
       "cooling_setpoint_temperature: 298.0\n",
       "zone_air_temperature: 296.70556640625\n",
       "air_flow_rate_setpoint: 0.03500000014901161\n",
       ", 'zone_id_23': heating_setpoint_temperature: 289.0\n",
       "cooling_setpoint_temperature: 298.0\n",
       "zone_air_temperature: 296.03887939453125\n",
       "air_flow_rate_setpoint: 0.03500000014901161\n",
       ", 'zone_id_99': heating_setpoint_temperature: 289.0\n",
       "cooling_setpoint_temperature: 298.0\n",
       "zone_air_temperature: 295.48333740234375\n",
       "air_flow_rate_setpoint: 0.03500000014901161\n",
       ", 'zone_id_5': heating_setpoint_temperature: 289.0\n",
       "cooling_setpoint_temperature: 298.0\n",
       "zone_air_temperature: 294.0944519042969\n",
       "air_flow_rate_setpoint: 0.03500000014901161\n",
       ", 'zone_id_31': heating_setpoint_temperature: 289.0\n",
       "cooling_setpoint_temperature: 298.0\n",
       "zone_air_temperature: 295.8166809082031\n",
       "air_flow_rate_setpoint: 0.03500000014901161\n",
       ", 'zone_id_8': heating_setpoint_temperature: 289.0\n",
       "cooling_setpoint_temperature: 298.0\n",
       "zone_air_temperature: 295.20556640625\n",
       "air_flow_rate_setpoint: 0.03500000014901161\n",
       ", 'zone_id_16': heating_setpoint_temperature: 289.0\n",
       "cooling_setpoint_temperature: 298.0\n",
       "zone_air_temperature: 295.20556640625\n",
       "air_flow_rate_setpoint: 0.03500000014901161\n",
       ", 'zone_id_48': heating_setpoint_temperature: 289.0\n",
       "cooling_setpoint_temperature: 298.0\n",
       "zone_air_temperature: 294.0944519042969\n",
       "air_flow_rate_setpoint: 0.03500000014901161\n",
       ", 'zone_id_54': heating_setpoint_temperature: 289.0\n",
       "cooling_setpoint_temperature: 298.0\n",
       "zone_air_temperature: 295.3166809082031\n",
       "air_flow_rate_setpoint: 0.03500000014901161\n",
       ", 'zone_id_82': heating_setpoint_temperature: 289.0\n",
       "cooling_setpoint_temperature: 298.0\n",
       "zone_air_temperature: 296.98333740234375\n",
       "air_flow_rate_setpoint: 0.03500000014901161\n",
       ", 'zone_id_116': heating_setpoint_temperature: 289.0\n",
       "cooling_setpoint_temperature: 298.0\n",
       "zone_air_temperature: 295.48333740234375\n",
       "air_flow_rate_setpoint: 0.03500000014901161\n",
       ", 'zone_id_91': heating_setpoint_temperature: 289.0\n",
       "cooling_setpoint_temperature: 298.0\n",
       "zone_air_temperature: 296.70556640625\n",
       "air_flow_rate_setpoint: 0.03500000014901161\n",
       ", 'zone_id_112': heating_setpoint_temperature: 289.0\n",
       "cooling_setpoint_temperature: 298.0\n",
       "zone_air_temperature: 296.316650390625\n",
       "air_flow_rate_setpoint: 0.03500000014901161\n",
       ", 'zone_id_109': heating_setpoint_temperature: 289.0\n",
       "cooling_setpoint_temperature: 298.0\n",
       "zone_air_temperature: 295.8722229003906\n",
       "air_flow_rate_setpoint: 0.03500000014901161\n",
       ", 'zone_id_78': heating_setpoint_temperature: 289.0\n",
       "cooling_setpoint_temperature: 298.0\n",
       "zone_air_temperature: 295.7611083984375\n",
       "air_flow_rate_setpoint: 0.03500000014901161\n",
       ", 'zone_id_93': heating_setpoint_temperature: 289.0\n",
       "cooling_setpoint_temperature: 298.0\n",
       "zone_air_temperature: 296.5944519042969\n",
       "air_flow_rate_setpoint: 0.03500000014901161\n",
       ", 'zone_id_18': heating_setpoint_temperature: 289.0\n",
       "cooling_setpoint_temperature: 298.0\n",
       "zone_air_temperature: 295.7611083984375\n",
       "air_flow_rate_setpoint: 0.03500000014901161\n",
       ", 'zone_id_28': heating_setpoint_temperature: 289.0\n",
       "cooling_setpoint_temperature: 298.0\n",
       "zone_air_temperature: 295.5944519042969\n",
       "air_flow_rate_setpoint: 0.03500000014901161\n",
       ", 'zone_id_108': heating_setpoint_temperature: 289.0\n",
       "cooling_setpoint_temperature: 298.0\n",
       "zone_air_temperature: 296.1499938964844\n",
       "air_flow_rate_setpoint: 0.03500000014901161\n",
       ", 'zone_id_84': heating_setpoint_temperature: 289.0\n",
       "cooling_setpoint_temperature: 298.0\n",
       "zone_air_temperature: 295.0944519042969\n",
       "air_flow_rate_setpoint: 0.03500000014901161\n",
       ", 'zone_id_52': heating_setpoint_temperature: 289.0\n",
       "cooling_setpoint_temperature: 298.0\n",
       "zone_air_temperature: 293.70556640625\n",
       "air_flow_rate_setpoint: 0.03500000014901161\n",
       ", 'zone_id_111': heating_setpoint_temperature: 289.0\n",
       "cooling_setpoint_temperature: 298.0\n",
       "zone_air_temperature: 295.5944519042969\n",
       "air_flow_rate_setpoint: 0.03500000014901161\n",
       ", 'zone_id_1': heating_setpoint_temperature: 289.0\n",
       "cooling_setpoint_temperature: 298.0\n",
       "zone_air_temperature: 294.98333740234375\n",
       "air_flow_rate_setpoint: 0.03500000014901161\n",
       ", 'zone_id_75': heating_setpoint_temperature: 289.0\n",
       "cooling_setpoint_temperature: 298.0\n",
       "zone_air_temperature: 295.70556640625\n",
       "air_flow_rate_setpoint: 0.03500000014901161\n",
       ", 'zone_id_115': heating_setpoint_temperature: 289.0\n",
       "cooling_setpoint_temperature: 298.0\n",
       "zone_air_temperature: 296.03887939453125\n",
       "air_flow_rate_setpoint: 0.03500000014901161\n",
       ", 'zone_id_107': heating_setpoint_temperature: 289.0\n",
       "cooling_setpoint_temperature: 298.0\n",
       "zone_air_temperature: 296.98333740234375\n",
       "air_flow_rate_setpoint: 0.03500000014901161\n",
       ", 'zone_id_103': heating_setpoint_temperature: 289.0\n",
       "cooling_setpoint_temperature: 298.0\n",
       "zone_air_temperature: 295.7611083984375\n",
       "air_flow_rate_setpoint: 0.03500000014901161\n",
       ", 'zone_id_97': heating_setpoint_temperature: 289.0\n",
       "cooling_setpoint_temperature: 298.0\n",
       "zone_air_temperature: 297.3722229003906\n",
       "air_flow_rate_setpoint: 0.03500000014901161\n",
       ", 'zone_id_43': heating_setpoint_temperature: 289.0\n",
       "cooling_setpoint_temperature: 298.0\n",
       "zone_air_temperature: 294.6499938964844\n",
       "air_flow_rate_setpoint: 0.03500000014901161\n",
       ", 'zone_id_96': heating_setpoint_temperature: 289.0\n",
       "cooling_setpoint_temperature: 298.0\n",
       "zone_air_temperature: 296.8166809082031\n",
       "air_flow_rate_setpoint: 0.03500000014901161\n",
       ", 'zone_id_15': heating_setpoint_temperature: 289.0\n",
       "cooling_setpoint_temperature: 298.0\n",
       "zone_air_temperature: 295.8722229003906\n",
       "air_flow_rate_setpoint: 0.03500000014901161\n",
       ", 'zone_id_76': heating_setpoint_temperature: 289.0\n",
       "cooling_setpoint_temperature: 298.0\n",
       "zone_air_temperature: 295.7611083984375\n",
       "air_flow_rate_setpoint: 0.03500000014901161\n",
       ", 'zone_id_92': heating_setpoint_temperature: 289.0\n",
       "cooling_setpoint_temperature: 298.0\n",
       "zone_air_temperature: 296.4277648925781\n",
       "air_flow_rate_setpoint: 0.03500000014901161\n",
       "}"
      ]
     },
     "execution_count": 36,
     "metadata": {},
     "output_type": "execute_result"
    }
   ],
   "source": [
    "reward_info.zone_reward_infos"
   ]
  },
  {
   "cell_type": "code",
   "execution_count": 37,
   "id": "22cd74b9",
   "metadata": {},
   "outputs": [
    {
     "data": {
      "text/plain": [
       "<bound method SetpointEnergyCarbonRegretFunction.compute_reward of <smart_control.reward.setpoint_energy_carbon_regret.SetpointEnergyCarbonRegretFunction object at 0x1554ceae0bb0>>"
      ]
     },
     "execution_count": 37,
     "metadata": {},
     "output_type": "execute_result"
    }
   ],
   "source": [
    "eval_env.reward_function.compute_reward"
   ]
  },
  {
   "cell_type": "code",
   "execution_count": 38,
   "id": "aeb7fb5b",
   "metadata": {},
   "outputs": [
    {
     "data": {
      "text/plain": [
       "agent_reward_value: -0.000474373169708997\n",
       "natural_gas_energy_cost: 0.000852535362355411\n",
       "carbon_emitted: 0.006689317524433136\n",
       "productivity_weight: 0.20000000298023224\n",
       "energy_cost_weight: 0.4000000059604645\n",
       "carbon_emission_weight: 0.4000000059604645\n",
       "person_productivity: 300.0\n",
       "reward_scale: 1.0\n",
       "normalized_energy_cost: 0.0002689380489755422\n",
       "normalized_carbon_emission: 0.0009169948752969503\n",
       "start_timestamp {\n",
       "  seconds: 1688626800\n",
       "}\n",
       "end_timestamp {\n",
       "  seconds: 1688627100\n",
       "}"
      ]
     },
     "execution_count": 38,
     "metadata": {},
     "output_type": "execute_result"
    }
   ],
   "source": [
    "eval_env.reward_function.compute_reward(reward_info)"
   ]
  },
  {
   "cell_type": "markdown",
   "id": "ef19e0b3",
   "metadata": {},
   "source": [
    "\n",
    "For this pilot there are three principal factors that contribute to the\n",
    "reward function:\n",
    "  * Setpoint: Maintaining the zone temperatures within heating and cooling\n",
    "  setpoints  results in a positive reward, and any temperature outside of\n",
    "  setpoints may also result in a negative reward (i.e., penalty).\n",
    "  * Cost: The cost of electricity and natural gas is a negative reward (cost).\n",
    "  Then by minimizing negative rewards/maximizing positive reward, the agent\n",
    "  will reduce overall energy cost. To compute the cost, both energy consumption\n",
    "  and the energy cost schedules are required.\n",
    "  * Carbon: By receiving negative reward for consuming natural gas, the agent\n",
    "  will learn to shift energy use to renewable sources. This factor requires an\n",
    "  energy-to-carbon conversion formula/table.\n",
    "\n",
    "The three factors can be scaled and combined into a single regret function:\n",
    "        r_i = [u x (s(setpoint) - s_max)/s_max\n",
    "            - v x f(cost)/f_max - w x g(carbon)/g_max]\n",
    "            / [u + v + w]\n",
    "\n",
    "        $$r_i -> [-1, 0] $$\n",
    "where:\n",
    "  r_i is the incremental reward at step i\n",
    "  s(setpoint) is the reward for maintining temperature inside setpoint\n",
    "  s_max = occupancy x productivity, the maximum possible reward\n",
    "  f(cost) is the cost of consuming electrical and natural gas energy\n",
    "  f_max: maximum momentary cost that occurs at max energy use\n",
    "  g(carbon) is the cost of emitting carbon,\n",
    "  g_max\n",
    "  and u, w, w are weighing factors for the policy."
   ]
  },
  {
   "cell_type": "markdown",
   "id": "84c10de9",
   "metadata": {},
   "source": [
    "# Action Space"
   ]
  },
  {
   "cell_type": "code",
   "execution_count": 18,
   "id": "0242de1e",
   "metadata": {},
   "outputs": [],
   "source": [
    "import tensorflow as tf\n",
    "from tf_agents.agents.sac import sac_agent, tanh_normal_projection_network\n",
    "from tf_agents.drivers import py_driver\n",
    "from tf_agents.keras_layers import inner_reshape\n",
    "from tf_agents.metrics import py_metrics\n",
    "from tf_agents.networks import nest_map, sequential\n",
    "from tf_agents.policies import greedy_policy, py_tf_eager_policy, random_py_policy, tf_policy\n",
    "from tf_agents.replay_buffers import reverb_replay_buffer, reverb_utils\n",
    "from tf_agents.specs import tensor_spec\n",
    "from tf_agents.train import actor, learner, triggers\n",
    "from tf_agents.train.utils import spec_utils, train_utils\n",
    "from tf_agents.trajectories import policy_step\n",
    "from tf_agents.trajectories import time_step as ts\n",
    "from tf_agents.trajectories import trajectory as trajectory_lib\n",
    "from tf_agents.typing import types"
   ]
  },
  {
   "cell_type": "code",
   "execution_count": 19,
   "id": "13a9d8b6",
   "metadata": {},
   "outputs": [],
   "source": [
    "def get_trajectory(time_step, current_action: policy_step.PolicyStep):\n",
    "    \"\"\"Get the trajectory for the current action and time step.\"\"\"\n",
    "    observation = time_step.observation\n",
    "    action = current_action.action\n",
    "    policy_info = ()\n",
    "    reward = time_step.reward\n",
    "    discount = time_step.discount\n",
    "\n",
    "    if time_step.is_first():\n",
    "        return(trajectory.first(observation, action, policy_info, reward, discount))\n",
    "    elif time_step.is_last():\n",
    "        return(trajectory.last(observation, action, policy_info, reward, discount))\n",
    "    else:\n",
    "        return(trajectory.mid(observation, action, policy_info, reward, discount))\n",
    "\n"
   ]
  },
  {
   "cell_type": "markdown",
   "id": "91c6f253",
   "metadata": {},
   "source": [
    "### Rules Based Policy\n",
    "\n",
    "Next, we parameterize the setpoint schedule.\n",
    "\n",
    "We distinguish between weekend and holiday schedules:\n",
    "\n",
    "* For **weekdays, between 6:00 am and 7:00 pm local time** we maintain occupancy conditions:\n",
    "  * AC/Heatpump supply air heating setpoint is 12 C\n",
    "  * Supply water temperarure is 77 C\n",
    "* For **weekday, before 6:00 am and after 7:00 pm locl time** we maintain efficiency conditions (setback):\n",
    "  * AC/Heatpump supply air heating setpoint is 0 C\n",
    "  * Supply water temperarure is 42 C\n",
    "\n",
    "* For **weekends and holdidays**, all day, we maintain efficiency conditions (setback):\n",
    "  * AC/Heatpump supply air heating setpoint is 0 C\n",
    "  * Supply water temperarure is 42 C"
   ]
  },
  {
   "cell_type": "code",
   "execution_count": 20,
   "id": "d96eaf28",
   "metadata": {},
   "outputs": [],
   "source": [
    "ts = collect_env.reset()\n",
    "local_start_time = collect_env.current_simulation_timestamp.tz_convert(tz = 'US/Pacific')\n",
    "action_normalizers = collect_env._action_normalizers"
   ]
  },
  {
   "cell_type": "code",
   "execution_count": 21,
   "id": "ba30a2da",
   "metadata": {},
   "outputs": [
    {
     "name": "stdout",
     "output_type": "stream",
     "text": [
      "Policies will be saved to saved_model_dir: /burg/home/ssa2206/sbsim_dual_control/root/policies\n"
     ]
    }
   ],
   "source": [
    "from run_utils import SchedulePolicy\n",
    "observation_spec, action_spec, time_step_spec = spec_utils.get_tensor_specs(collect_env)\n",
    "hod_cos_index = collect_env._field_names.index('hod_cos_000')\n",
    "hod_sin_index = collect_env._field_names.index('hod_sin_000')\n",
    "dow_cos_index = collect_env._field_names.index('dow_cos_000')\n",
    "dow_sin_index = collect_env._field_names.index('dow_sin_000')\n",
    "schedule_policy = SchedulePolicy(\n",
    "    time_step_spec= time_step_spec,\n",
    "    action_spec= action_spec,\n",
    "    dow_sin_index=dow_sin_index,\n",
    "    dow_cos_index=dow_cos_index,\n",
    "    hod_sin_index=hod_sin_index,\n",
    "    hod_cos_index=hod_cos_index,\n",
    "    local_start_time=local_start_time,\n",
    "    action_normalizers=action_normalizers,\n",
    "\n",
    ")"
   ]
  },
  {
   "cell_type": "code",
   "execution_count": 22,
   "id": "b5858a94",
   "metadata": {},
   "outputs": [
    {
     "data": {
      "text/plain": [
       "{(<DeviceType.HWS: 1>, 'supply_water_setpoint'): 315.0,\n",
       " (<DeviceType.AC: 0>, 'supply_air_heating_temperature_setpoint'): 285.0}"
      ]
     },
     "execution_count": 22,
     "metadata": {},
     "output_type": "execute_result"
    }
   ],
   "source": [
    "action_map = schedule_policy._get_action(ts)\n",
    "action_map"
   ]
  },
  {
   "cell_type": "code",
   "execution_count": 23,
   "id": "bb567026",
   "metadata": {},
   "outputs": [
    {
     "name": "stdout",
     "output_type": "stream",
     "text": [
      "ScheduleEvent(start_time=Timedelta('0 days 06:00:00'), device=<DeviceType.AC: 0>, setpoint_name='supply_air_heating_temperature_setpoint', setpoint_value=292.0)\n",
      "\n",
      "ScheduleEvent(start_time=Timedelta('0 days 19:00:00'), device=<DeviceType.AC: 0>, setpoint_name='supply_air_heating_temperature_setpoint', setpoint_value=285.0)\n",
      "\n",
      "ScheduleEvent(start_time=Timedelta('0 days 06:00:00'), device=<DeviceType.HWS: 1>, setpoint_name='supply_water_setpoint', setpoint_value=350.0)\n",
      "\n",
      "ScheduleEvent(start_time=Timedelta('0 days 19:00:00'), device=<DeviceType.HWS: 1>, setpoint_name='supply_water_setpoint', setpoint_value=315.0)\n",
      "\n"
     ]
    }
   ],
   "source": [
    "for e in schedule_policy.weekday_schedule_events:\n",
    "    print(e, end='\\n\\n')"
   ]
  },
  {
   "cell_type": "code",
   "execution_count": 24,
   "id": "7844683c",
   "metadata": {},
   "outputs": [],
   "source": [
    "policyStep = schedule_policy._action(ts)"
   ]
  },
  {
   "cell_type": "code",
   "execution_count": 25,
   "id": "6e9a7578",
   "metadata": {},
   "outputs": [
    {
     "data": {
      "text/plain": [
       "PolicyStep(action=<tf.Tensor: shape=(2,), dtype=float32, numpy=array([-0.7777778, -1.       ], dtype=float32)>, state=(), info=())"
      ]
     },
     "execution_count": 25,
     "metadata": {},
     "output_type": "execute_result"
    }
   ],
   "source": [
    "policyStep # this is what a policy action should look like"
   ]
  },
  {
   "cell_type": "markdown",
   "id": "a2998610",
   "metadata": {},
   "source": [
    "## Running Policy in Env"
   ]
  },
  {
   "cell_type": "code",
   "execution_count": 26,
   "id": "41363336",
   "metadata": {},
   "outputs": [],
   "source": [
    "env = eval_env\n",
    "policy = schedule_policy"
   ]
  },
  {
   "cell_type": "code",
   "execution_count": 27,
   "id": "8eb34d0a",
   "metadata": {},
   "outputs": [],
   "source": [
    "time_step = env.reset()\n",
    "action_map = policy._get_action(time_step)\n",
    "action_step = policy.action(time_step)"
   ]
  },
  {
   "cell_type": "code",
   "execution_count": 28,
   "id": "8778b192",
   "metadata": {},
   "outputs": [
    {
     "data": {
      "text/plain": [
       "<tf.Tensor: shape=(2,), dtype=float32, numpy=array([-0.7777778, -1.       ], dtype=float32)>"
      ]
     },
     "execution_count": 28,
     "metadata": {},
     "output_type": "execute_result"
    }
   ],
   "source": [
    "action_step.action"
   ]
  },
  {
   "cell_type": "code",
   "execution_count": 29,
   "id": "39563b59",
   "metadata": {},
   "outputs": [
    {
     "data": {
      "text/plain": [
       "TimeStep(\n",
       "{'discount': array(1., dtype=float32),\n",
       " 'observation': array([-20.        , -19.128613  ,   0.        ,  -0.82162595,\n",
       "        -0.5831852 ,   4.8570604 ,   0.        ,  -2.425231  ,\n",
       "        -1.1068594 ,   0.        ,   2.564033  ,   1.4996233 ,\n",
       "         1.        ,   0.        ,   0.        ,   0.        ,\n",
       "         0.        ,   0.        ,   1.        ,   0.        ,\n",
       "         0.        ,   0.        ,   0.        ,   0.        ,\n",
       "         0.        ,   0.        ,   0.        ,   1.        ,\n",
       "         0.        ,   0.        ,   0.        ,   0.        ,\n",
       "         0.        ,   0.        ,   0.        ,   0.        ,\n",
       "         0.        ,   0.        ,   0.        ,   0.        ,\n",
       "         0.        ,   0.        ,   0.        ,   0.        ,\n",
       "         0.        ,   0.        ,  -0.25881904,   0.9659258 ,\n",
       "        -0.90096885,   0.43388373,   0.        ,   0.        ,\n",
       "        -0.99206346], dtype=float32),\n",
       " 'reward': array(0., dtype=float32),\n",
       " 'step_type': array(0, dtype=int32)})"
      ]
     },
     "execution_count": 29,
     "metadata": {},
     "output_type": "execute_result"
    }
   ],
   "source": [
    "ts"
   ]
  },
  {
   "cell_type": "code",
   "execution_count": 145,
   "id": "ce010ea9",
   "metadata": {},
   "outputs": [
    {
     "name": "stdout",
     "output_type": "stream",
     "text": [
      "CPU times: user 3min 5s, sys: 8.16 s, total: 3min 13s\n",
      "Wall time: 3min 14s\n"
     ]
    }
   ],
   "source": [
    "%%time\n",
    "run_info = dict(discounts=[], observations=[], rewards=[], step_types=[])\n",
    "env.reset()\n",
    "for t in range(100):\n",
    "    timestep = env.step(action_step.action)\n",
    "    run_info['discounts'].append(timestep.discount)\n",
    "    run_info['observations'].append(timestep.observation)\n",
    "    run_info['rewards'].append(timestep.reward)\n",
    "    run_info['step_types'].append(timestep.step_type)"
   ]
  },
  {
   "cell_type": "code",
   "execution_count": 157,
   "id": "03ea9d62",
   "metadata": {},
   "outputs": [],
   "source": [
    "obs_df = pd.DataFrame(np.array(run_info['observations']), columns=field_states)"
   ]
  },
  {
   "cell_type": "code",
   "execution_count": 163,
   "id": "2750cff2",
   "metadata": {},
   "outputs": [
    {
     "data": {
      "text/plain": [
       "'zone_air_temperature_sensor_h_285.00'"
      ]
     },
     "execution_count": 163,
     "metadata": {},
     "output_type": "execute_result"
    }
   ],
   "source": [
    "supply_air_flowrate_setpoint_h_0.00"
   ]
  },
  {
   "cell_type": "code",
   "execution_count": null,
   "id": "f928cf49",
   "metadata": {},
   "outputs": [],
   "source": []
  },
  {
   "cell_type": "code",
   "execution_count": 183,
   "id": "6f2f9b9f",
   "metadata": {},
   "outputs": [
    {
     "data": {
      "image/png": "[encoded data removed]",
      "text/plain": [
       "<Figure size 640x480 with 1 Axes>"
      ]
     },
     "metadata": {},
     "output_type": "display_data"
    }
   ],
   "source": [
    "for i in range(285, 304):\n",
    "    plt.plot(obs_df[f\"zone_air_temperature_sensor_h_{i}.00\"], label=str(i))\n",
    "plt.legend()\n",
    "plt.title(\"Zone Tair Response: 315 water, 285 air\")\n",
    "plt.show()"
   ]
  },
  {
   "cell_type": "code",
   "execution_count": 175,
   "id": "abaece1a",
   "metadata": {},
   "outputs": [
    {
     "data": {
      "text/plain": [
       "[0, 20, 40, 60, 80, 100]"
      ]
     },
     "execution_count": 175,
     "metadata": {},
     "output_type": "execute_result"
    }
   ],
   "source": [
    "list(range(0, 101, 20))"
   ]
  },
  {
   "cell_type": "code",
   "execution_count": 178,
   "id": "4fdc93db",
   "metadata": {},
   "outputs": [
    {
     "data": {
      "image/png": "[encoded data removed]",
      "text/plain": [
       "<Figure size 1800x400 with 6 Axes>"
      ]
     },
     "metadata": {},
     "output_type": "display_data"
    }
   ],
   "source": [
    "fig, axes = plt.subplots(1, 6, figsize=(18, 4), sharex=True)\n",
    "axes = axes.flatten()  # Flatten the axes array for easier iteration\n",
    "\n",
    "# Iterate and plot on separate subplots\n",
    "for idx, i in enumerate(range(0, 101, 20)):  # Iterate over percentages\n",
    "    formatted_label = f\"supply_air_damper_percentage_command_h_{i / 100:.2f}\"\n",
    "    axes[idx].plot(obs_df[formatted_label], label=str(i))\n",
    "    axes[idx].set_title(str(i))\n",
    "    axes[idx].legend()\n",
    "\n",
    "# Adjust layout\n",
    "plt.tight_layout()\n",
    "plt.show()"
   ]
  },
  {
   "cell_type": "code",
   "execution_count": 151,
   "id": "97c0c63a",
   "metadata": {},
   "outputs": [
    {
     "data": {
      "text/plain": [
       "[<matplotlib.lines.Line2D at 0x155432a77370>]"
      ]
     },
     "execution_count": 151,
     "metadata": {},
     "output_type": "execute_result"
    },
    {
     "data": {
      "image/png": "[encoded data removed]",
      "text/plain": [
       "<Figure size 640x480 with 1 Axes>"
      ]
     },
     "metadata": {},
     "output_type": "display_data"
    }
   ],
   "source": [
    "plt.plot(run_info['step_types'])"
   ]
  },
  {
   "cell_type": "code",
   "execution_count": null,
   "id": "84b79aab",
   "metadata": {},
   "outputs": [],
   "source": []
  },
  {
   "cell_type": "code",
   "execution_count": 30,
   "id": "8cad5e11",
   "metadata": {},
   "outputs": [],
   "source": [
    "def compute_avg_return(environment, policy, num_episodes=1, time_zone: str = \"US/Pacific\", \n",
    "                       render_interval_steps: int = 24,trajectory_observers=None,):\n",
    "    \"\"\"Computes the average return of the policy on the environment.\n",
    "    Args:\n",
    "    environment: environment.Environment\n",
    "    policy: policy.Policy\n",
    "    num_episodes: total number of eposides to run.\n",
    "    time_zone: time zone of the environment\n",
    "    render_interval_steps: Number of steps to take between rendering.\n",
    "    trajectory_observers: list of trajectory observers for use in rendering.\n",
    "    \"\"\"\n",
    "    total_return = 0.0\n",
    "    for _ in range(num_episodes):\n",
    "        time_step = environment.reset()\n",
    "        episode_return = 0.0\n",
    "        t0 = time.time()\n",
    "        epoch = t0\n",
    "        step_id = 0\n",
    "        execution_times = []\n",
    "        while not time_step.is_last():\n",
    "            action_step = policy.action(time_step)\n",
    "            time_step = environment.step(action_step.action)\n",
    "\n",
    "            if trajectory_observers is not None:\n",
    "                traj = get_trajectory(time_step, action_step)\n",
    "                for observer in trajectory_observers:\n",
    "                    observer(traj)\n",
    "\n",
    "            episode_return += time_step.reward\n",
    "            t1 = time.time()\n",
    "            dt = t1 - t0\n",
    "            episode_seconds = t1 - epoch\n",
    "            execution_times.append(dt)\n",
    "            sim_time = environment.current_simulation_timestamp.tz_convert(time_zone)\n",
    "\n",
    "            print(\"Step %5d Sim Time: %s, Reward: %8.2f, Return: %8.2f, Mean Step Time:\"\n",
    "                  \" %8.2f s, Episode Time: %8.2f s\" % (step_id, sim_time.strftime(\"%Y-%m-%d %H:%M\"),\n",
    "                                                       time_step.reward, episode_return, \n",
    "                                                       np.mean(execution_times), episode_seconds,)\n",
    "                 )\n",
    "            if (step_id > 0) and (step_id % render_interval_steps == 0):\n",
    "                if environment._metrics_path:\n",
    "                    clear_output(wait=True)\n",
    "                    reader = get_latest_episode_reader(environment._metrics_path)\n",
    "                    plot_timeseries_charts(reader, time_zone)\n",
    "                render_env(environment)\n",
    "\n",
    "            t0 = t1\n",
    "            step_id += 1\n",
    "        total_return += episode_return\n",
    "\n",
    "    avg_return = total_return / num_episodes\n",
    "    return avg_return"
   ]
  },
  {
   "cell_type": "code",
   "execution_count": 117,
   "id": "31316543",
   "metadata": {},
   "outputs": [
    {
     "name": "stdout",
     "output_type": "stream",
     "text": [
      "Step     0 Sim Time: 2023-07-06 00:05, Reward:    -0.02, Return:    -0.02, Mean Step Time:    30.36 s, Episode Time:    30.36 s\n",
      "Step     1 Sim Time: 2023-07-06 00:10, Reward:    -0.02, Return:    -0.04, Mean Step Time:    16.41 s, Episode Time:    32.81 s\n",
      "Step     2 Sim Time: 2023-07-06 00:15, Reward:    -0.02, Return:    -0.06, Mean Step Time:    11.67 s, Episode Time:    35.00 s\n",
      "Step     3 Sim Time: 2023-07-06 00:20, Reward:    -0.02, Return:    -0.08, Mean Step Time:     9.31 s, Episode Time:    37.23 s\n",
      "Step     4 Sim Time: 2023-07-06 00:25, Reward:    -0.02, Return:    -0.10, Mean Step Time:     7.91 s, Episode Time:    39.54 s\n",
      "Step     5 Sim Time: 2023-07-06 00:30, Reward:    -0.02, Return:    -0.12, Mean Step Time:     6.99 s, Episode Time:    41.94 s\n",
      "Step     6 Sim Time: 2023-07-06 00:35, Reward:    -0.02, Return:    -0.14, Mean Step Time:     6.30 s, Episode Time:    44.13 s\n",
      "Step     7 Sim Time: 2023-07-06 00:40, Reward:    -0.02, Return:    -0.16, Mean Step Time:     5.80 s, Episode Time:    46.38 s\n",
      "Step     8 Sim Time: 2023-07-06 00:45, Reward:    -0.02, Return:    -0.18, Mean Step Time:     5.40 s, Episode Time:    48.64 s\n",
      "Step     9 Sim Time: 2023-07-06 00:50, Reward:    -0.02, Return:    -0.20, Mean Step Time:     5.08 s, Episode Time:    50.79 s\n",
      "Step    10 Sim Time: 2023-07-06 00:55, Reward:    -0.02, Return:    -0.21, Mean Step Time:     4.81 s, Episode Time:    52.87 s\n",
      "Step    11 Sim Time: 2023-07-06 01:00, Reward:    -0.02, Return:    -0.23, Mean Step Time:     4.58 s, Episode Time:    54.93 s\n",
      "Step    12 Sim Time: 2023-07-06 01:05, Reward:    -0.02, Return:    -0.25, Mean Step Time:     4.39 s, Episode Time:    57.08 s\n",
      "Step    13 Sim Time: 2023-07-06 01:10, Reward:    -0.02, Return:    -0.27, Mean Step Time:     4.23 s, Episode Time:    59.18 s\n",
      "Step    14 Sim Time: 2023-07-06 01:15, Reward:    -0.02, Return:    -0.29, Mean Step Time:     4.08 s, Episode Time:    61.23 s\n",
      "Step    15 Sim Time: 2023-07-06 01:20, Reward:    -0.02, Return:    -0.31, Mean Step Time:     3.96 s, Episode Time:    63.32 s\n",
      "Step    16 Sim Time: 2023-07-06 01:25, Reward:    -0.02, Return:    -0.33, Mean Step Time:     3.85 s, Episode Time:    65.38 s\n",
      "Step    17 Sim Time: 2023-07-06 01:30, Reward:    -0.02, Return:    -0.35, Mean Step Time:     3.75 s, Episode Time:    67.55 s\n",
      "Step    18 Sim Time: 2023-07-06 01:35, Reward:    -0.02, Return:    -0.37, Mean Step Time:     3.67 s, Episode Time:    69.71 s\n",
      "Step    19 Sim Time: 2023-07-06 01:40, Reward:    -0.02, Return:    -0.39, Mean Step Time:     3.60 s, Episode Time:    71.95 s\n",
      "Step    20 Sim Time: 2023-07-06 01:45, Reward:    -0.02, Return:    -0.41, Mean Step Time:     3.52 s, Episode Time:    73.96 s\n",
      "Step    21 Sim Time: 2023-07-06 01:50, Reward:    -0.02, Return:    -0.43, Mean Step Time:     3.45 s, Episode Time:    75.95 s\n",
      "Step    22 Sim Time: 2023-07-06 01:55, Reward:    -0.02, Return:    -0.45, Mean Step Time:     3.39 s, Episode Time:    77.91 s\n",
      "Step    23 Sim Time: 2023-07-06 02:00, Reward:    -0.02, Return:    -0.47, Mean Step Time:     3.34 s, Episode Time:    80.09 s\n",
      "Step    24 Sim Time: 2023-07-06 02:05, Reward:    -0.02, Return:    -0.49, Mean Step Time:     3.29 s, Episode Time:    82.19 s\n",
      "Step    25 Sim Time: 2023-07-06 02:10, Reward:    -0.02, Return:    -0.51, Mean Step Time:     3.24 s, Episode Time:    84.19 s\n",
      "Step    26 Sim Time: 2023-07-06 02:15, Reward:    -0.02, Return:    -0.53, Mean Step Time:     3.19 s, Episode Time:    86.18 s\n",
      "Step    27 Sim Time: 2023-07-06 02:20, Reward:    -0.02, Return:    -0.55, Mean Step Time:     3.15 s, Episode Time:    88.19 s\n",
      "Step    28 Sim Time: 2023-07-06 02:25, Reward:    -0.02, Return:    -0.57, Mean Step Time:     3.11 s, Episode Time:    90.15 s\n",
      "Step    29 Sim Time: 2023-07-06 02:30, Reward:    -0.02, Return:    -0.59, Mean Step Time:     3.07 s, Episode Time:    92.24 s\n",
      "Step    30 Sim Time: 2023-07-06 02:35, Reward:    -0.02, Return:    -0.61, Mean Step Time:     3.05 s, Episode Time:    94.44 s\n",
      "Step    31 Sim Time: 2023-07-06 02:40, Reward:    -0.02, Return:    -0.63, Mean Step Time:     3.02 s, Episode Time:    96.69 s\n",
      "Step    32 Sim Time: 2023-07-06 02:45, Reward:    -0.02, Return:    -0.65, Mean Step Time:     2.99 s, Episode Time:    98.76 s\n",
      "Step    33 Sim Time: 2023-07-06 02:50, Reward:    -0.02, Return:    -0.67, Mean Step Time:     2.97 s, Episode Time:   100.81 s\n",
      "Step    34 Sim Time: 2023-07-06 02:55, Reward:    -0.02, Return:    -0.69, Mean Step Time:     2.93 s, Episode Time:   102.72 s\n",
      "Step    35 Sim Time: 2023-07-06 03:00, Reward:    -0.02, Return:    -0.71, Mean Step Time:     2.91 s, Episode Time:   104.71 s\n",
      "Step    36 Sim Time: 2023-07-06 03:05, Reward:    -0.02, Return:    -0.73, Mean Step Time:     2.89 s, Episode Time:   106.78 s\n",
      "Step    37 Sim Time: 2023-07-06 03:10, Reward:    -0.02, Return:    -0.75, Mean Step Time:     2.86 s, Episode Time:   108.75 s\n",
      "Step    38 Sim Time: 2023-07-06 03:15, Reward:    -0.02, Return:    -0.77, Mean Step Time:     2.84 s, Episode Time:   110.80 s\n",
      "Step    39 Sim Time: 2023-07-06 03:20, Reward:    -0.02, Return:    -0.79, Mean Step Time:     2.82 s, Episode Time:   112.79 s\n",
      "Step    40 Sim Time: 2023-07-06 03:25, Reward:    -0.02, Return:    -0.81, Mean Step Time:     2.80 s, Episode Time:   114.69 s\n",
      "Step    41 Sim Time: 2023-07-06 03:30, Reward:    -0.02, Return:    -0.83, Mean Step Time:     2.78 s, Episode Time:   116.71 s\n",
      "Step    42 Sim Time: 2023-07-06 03:35, Reward:    -0.02, Return:    -0.84, Mean Step Time:     2.76 s, Episode Time:   118.70 s\n",
      "Step    43 Sim Time: 2023-07-06 03:40, Reward:    -0.02, Return:    -0.86, Mean Step Time:     2.74 s, Episode Time:   120.69 s\n",
      "Step    44 Sim Time: 2023-07-06 03:45, Reward:    -0.02, Return:    -0.88, Mean Step Time:     2.73 s, Episode Time:   122.63 s\n",
      "Step    45 Sim Time: 2023-07-06 03:50, Reward:    -0.02, Return:    -0.90, Mean Step Time:     2.71 s, Episode Time:   124.76 s\n",
      "Step    46 Sim Time: 2023-07-06 03:55, Reward:    -0.02, Return:    -0.92, Mean Step Time:     2.70 s, Episode Time:   126.76 s\n",
      "Step    47 Sim Time: 2023-07-06 04:00, Reward:    -0.02, Return:    -0.94, Mean Step Time:     2.68 s, Episode Time:   128.70 s\n",
      "Step    48 Sim Time: 2023-07-06 04:05, Reward:    -0.02, Return:    -0.96, Mean Step Time:     2.67 s, Episode Time:   130.79 s\n"
     ]
    },
    {
     "ename": "KeyboardInterrupt",
     "evalue": "",
     "output_type": "error",
     "traceback": [
      "\u001b[0;31m---------------------------------------------------------------------------\u001b[0m",
      "\u001b[0;31mKeyboardInterrupt\u001b[0m                         Traceback (most recent call last)",
      "Cell \u001b[0;32mIn[117], line 1\u001b[0m\n\u001b[0;32m----> 1\u001b[0m \u001b[43mcompute_avg_return\u001b[49m\u001b[43m(\u001b[49m\u001b[43meval_env\u001b[49m\u001b[43m,\u001b[49m\u001b[43m \u001b[49m\u001b[43mschedule_policy\u001b[49m\u001b[43m,\u001b[49m\u001b[43m \u001b[49m\u001b[43mnum_episodes\u001b[49m\u001b[38;5;241;43m=\u001b[39;49m\u001b[38;5;241;43m1\u001b[39;49m\u001b[43m,\u001b[49m\u001b[43m \u001b[49m\u001b[43mrender_interval_steps\u001b[49m\u001b[38;5;241;43m=\u001b[39;49m\u001b[38;5;241;43m144\u001b[39;49m\u001b[43m,\u001b[49m\u001b[43m \u001b[49m\u001b[43m)\u001b[49m\n",
      "Cell \u001b[0;32mIn[116], line 22\u001b[0m, in \u001b[0;36mcompute_avg_return\u001b[0;34m(environment, policy, num_episodes, time_zone, render_interval_steps, trajectory_observers)\u001b[0m\n\u001b[1;32m     20\u001b[0m \u001b[38;5;28;01mwhile\u001b[39;00m \u001b[38;5;129;01mnot\u001b[39;00m time_step\u001b[38;5;241m.\u001b[39mis_last():\n\u001b[1;32m     21\u001b[0m     action_step \u001b[38;5;241m=\u001b[39m policy\u001b[38;5;241m.\u001b[39maction(time_step)\n\u001b[0;32m---> 22\u001b[0m     time_step \u001b[38;5;241m=\u001b[39m \u001b[43menvironment\u001b[49m\u001b[38;5;241;43m.\u001b[39;49m\u001b[43mstep\u001b[49m\u001b[43m(\u001b[49m\u001b[43maction_step\u001b[49m\u001b[38;5;241;43m.\u001b[39;49m\u001b[43maction\u001b[49m\u001b[43m)\u001b[49m\n\u001b[1;32m     24\u001b[0m     \u001b[38;5;28;01mif\u001b[39;00m trajectory_observers \u001b[38;5;129;01mis\u001b[39;00m \u001b[38;5;129;01mnot\u001b[39;00m \u001b[38;5;28;01mNone\u001b[39;00m:\n\u001b[1;32m     25\u001b[0m         traj \u001b[38;5;241m=\u001b[39m get_trajectory(time_step, action_step)\n",
      "File \u001b[0;32m~/miniforge3/envs/sbsim2/lib/python3.10/site-packages/tf_agents/environments/py_environment.py:236\u001b[0m, in \u001b[0;36mPyEnvironment.step\u001b[0;34m(self, action)\u001b[0m\n\u001b[1;32m    231\u001b[0m \u001b[38;5;28;01mif\u001b[39;00m \u001b[38;5;28mself\u001b[39m\u001b[38;5;241m.\u001b[39m_current_time_step \u001b[38;5;129;01mis\u001b[39;00m \u001b[38;5;28;01mNone\u001b[39;00m \u001b[38;5;129;01mor\u001b[39;00m \u001b[38;5;28mself\u001b[39m\u001b[38;5;241m.\u001b[39mshould_reset(\n\u001b[1;32m    232\u001b[0m     \u001b[38;5;28mself\u001b[39m\u001b[38;5;241m.\u001b[39m_current_time_step\n\u001b[1;32m    233\u001b[0m ):\n\u001b[1;32m    234\u001b[0m   \u001b[38;5;28;01mreturn\u001b[39;00m \u001b[38;5;28mself\u001b[39m\u001b[38;5;241m.\u001b[39mreset()\n\u001b[0;32m--> 236\u001b[0m \u001b[38;5;28mself\u001b[39m\u001b[38;5;241m.\u001b[39m_current_time_step \u001b[38;5;241m=\u001b[39m \u001b[38;5;28;43mself\u001b[39;49m\u001b[38;5;241;43m.\u001b[39;49m\u001b[43m_step\u001b[49m\u001b[43m(\u001b[49m\u001b[43maction\u001b[49m\u001b[43m)\u001b[49m\n\u001b[1;32m    237\u001b[0m \u001b[38;5;28;01mreturn\u001b[39;00m \u001b[38;5;28mself\u001b[39m\u001b[38;5;241m.\u001b[39m_current_time_step\n",
      "File \u001b[0;32m~/sbsim_dual_control/smart_control/environment/environment.py:1297\u001b[0m, in \u001b[0;36mEnvironment._step\u001b[0;34m(self, action)\u001b[0m\n\u001b[1;32m   1291\u001b[0m   \u001b[38;5;28mself\u001b[39m\u001b[38;5;241m.\u001b[39m_metrics_writer\u001b[38;5;241m.\u001b[39mwrite_action_response(\n\u001b[1;32m   1292\u001b[0m       action_response, \u001b[38;5;28mself\u001b[39m\u001b[38;5;241m.\u001b[39mcurrent_simulation_timestamp\n\u001b[1;32m   1293\u001b[0m   )\n\u001b[1;32m   1295\u001b[0m last_timestamp \u001b[38;5;241m=\u001b[39m \u001b[38;5;28mself\u001b[39m\u001b[38;5;241m.\u001b[39mcurrent_simulation_timestamp\n\u001b[0;32m-> 1297\u001b[0m \u001b[38;5;28;43mself\u001b[39;49m\u001b[38;5;241;43m.\u001b[39;49m\u001b[43mbuilding\u001b[49m\u001b[38;5;241;43m.\u001b[39;49m\u001b[43mwait_time\u001b[49m\u001b[43m(\u001b[49m\u001b[43m)\u001b[49m\n\u001b[1;32m   1299\u001b[0m observation \u001b[38;5;241m=\u001b[39m \u001b[38;5;28mself\u001b[39m\u001b[38;5;241m.\u001b[39m_get_observation()\n\u001b[1;32m   1301\u001b[0m \u001b[38;5;66;03m# We need to signal to the Actor that action was rejected and not to\u001b[39;00m\n\u001b[1;32m   1302\u001b[0m \u001b[38;5;66;03m# append this observation/action request to the trajectory.\u001b[39;00m\n\u001b[1;32m   1303\u001b[0m \u001b[38;5;66;03m# Since TimeStep cannot be extended and it is checked for NaNs,\u001b[39;00m\n\u001b[1;32m   1304\u001b[0m \u001b[38;5;66;03m# we apply -inf as a reward to indicate the rejection.\u001b[39;00m\n\u001b[1;32m   1305\u001b[0m \u001b[38;5;66;03m# This requires a specialized Actor extension class to handle the\u001b[39;00m\n\u001b[1;32m   1306\u001b[0m \u001b[38;5;66;03m# rejection.\u001b[39;00m\n",
      "File \u001b[0;32m~/sbsim_dual_control/smart_control/simulator/simulator_building.py:268\u001b[0m, in \u001b[0;36mSimulatorBuilding.wait_time\u001b[0;34m(self)\u001b[0m\n\u001b[1;32m    266\u001b[0m \u001b[38;5;250m\u001b[39m\u001b[38;5;124;03m\"\"\"Returns after a certain amount of time.\"\"\"\u001b[39;00m\n\u001b[1;32m    267\u001b[0m \u001b[38;5;66;03m# Update the building state.\u001b[39;00m\n\u001b[0;32m--> 268\u001b[0m \u001b[38;5;28;43mself\u001b[39;49m\u001b[38;5;241;43m.\u001b[39;49m\u001b[43m_simulator\u001b[49m\u001b[38;5;241;43m.\u001b[39;49m\u001b[43mexecute_step_sim\u001b[49m\u001b[43m(\u001b[49m\u001b[43m)\u001b[49m\n",
      "File \u001b[0;32m~/sbsim_dual_control/smart_control/simulator/simulator_flexible_floor_plan.py:156\u001b[0m, in \u001b[0;36mSimulatorFlexibleGeometries.execute_step_sim\u001b[0;34m(self, video_filename)\u001b[0m\n\u001b[1;32m    150\u001b[0m \u001b[38;5;28mself\u001b[39m\u001b[38;5;241m.\u001b[39mfinite_differences_timestep(\n\u001b[1;32m    151\u001b[0m     ambient_temperature\u001b[38;5;241m=\u001b[39mambient_temperature,\n\u001b[1;32m    152\u001b[0m     convection_coefficient\u001b[38;5;241m=\u001b[39mconvection_coefficient,\n\u001b[1;32m    153\u001b[0m )\n\u001b[1;32m    155\u001b[0m \u001b[38;5;66;03m# Simulate airflow\u001b[39;00m\n\u001b[0;32m--> 156\u001b[0m \u001b[38;5;28;43mself\u001b[39;49m\u001b[38;5;241;43m.\u001b[39;49m\u001b[43m_building\u001b[49m\u001b[38;5;241;43m.\u001b[39;49m\u001b[43mapply_convection\u001b[49m\u001b[43m(\u001b[49m\u001b[43m)\u001b[49m\n\u001b[1;32m    158\u001b[0m \u001b[38;5;66;03m# Reset the air handler and boiler flow rate demand before accumulating.\u001b[39;00m\n\u001b[1;32m    159\u001b[0m hvac\u001b[38;5;241m.\u001b[39mair_handler\u001b[38;5;241m.\u001b[39mreset_demand()\n",
      "File \u001b[0;32m~/sbsim_dual_control/smart_control/simulator/building.py:893\u001b[0m, in \u001b[0;36mFloorPlanBasedBuilding.apply_convection\u001b[0;34m(self)\u001b[0m\n\u001b[1;32m    891\u001b[0m \u001b[38;5;28;01mdef\u001b[39;00m \u001b[38;5;21mapply_convection\u001b[39m(\u001b[38;5;28mself\u001b[39m) \u001b[38;5;241m-\u001b[39m\u001b[38;5;241m>\u001b[39m \u001b[38;5;28;01mNone\u001b[39;00m:\n\u001b[1;32m    892\u001b[0m   \u001b[38;5;28;01mif\u001b[39;00m \u001b[38;5;28mself\u001b[39m\u001b[38;5;241m.\u001b[39m_convection_simulator \u001b[38;5;129;01mis\u001b[39;00m \u001b[38;5;129;01mnot\u001b[39;00m \u001b[38;5;28;01mNone\u001b[39;00m:\n\u001b[0;32m--> 893\u001b[0m     \u001b[38;5;28;43mself\u001b[39;49m\u001b[38;5;241;43m.\u001b[39;49m\u001b[43m_convection_simulator\u001b[49m\u001b[38;5;241;43m.\u001b[39;49m\u001b[43mapply_convection\u001b[49m\u001b[43m(\u001b[49m\u001b[38;5;28;43mself\u001b[39;49m\u001b[38;5;241;43m.\u001b[39;49m\u001b[43m_room_dict\u001b[49m\u001b[43m,\u001b[49m\u001b[43m \u001b[49m\u001b[38;5;28;43mself\u001b[39;49m\u001b[38;5;241;43m.\u001b[39;49m\u001b[43mtemp\u001b[49m\u001b[43m)\u001b[49m\n",
      "File \u001b[0;32m~/sbsim_dual_control/smart_control/simulator/stochastic_convection_simulator.py:81\u001b[0m, in \u001b[0;36mStochasticConvectionSimulator.apply_convection\u001b[0;34m(self, room_dict, temp)\u001b[0m\n\u001b[1;32m     79\u001b[0m   \u001b[38;5;28mself\u001b[39m\u001b[38;5;241m.\u001b[39m_shuffle_no_max_dist(v, temp)\n\u001b[1;32m     80\u001b[0m \u001b[38;5;28;01melse\u001b[39;00m:\n\u001b[0;32m---> 81\u001b[0m   \u001b[38;5;28;43mself\u001b[39;49m\u001b[38;5;241;43m.\u001b[39;49m\u001b[43m_shuffle_max_dist\u001b[49m\u001b[43m(\u001b[49m\u001b[43mp\u001b[49m\u001b[43m,\u001b[49m\u001b[43m \u001b[49m\u001b[43mv\u001b[49m\u001b[43m,\u001b[49m\u001b[43m \u001b[49m\u001b[43mdistance\u001b[49m\u001b[43m,\u001b[49m\u001b[43m \u001b[49m\u001b[43mtemp\u001b[49m\u001b[43m)\u001b[49m\n",
      "File \u001b[0;32m~/sbsim_dual_control/smart_control/simulator/stochastic_convection_simulator.py:136\u001b[0m, in \u001b[0;36mStochasticConvectionSimulator._shuffle_max_dist\u001b[0;34m(self, p, v, max_dist, temp)\u001b[0m\n\u001b[1;32m    133\u001b[0m           candidates\u001b[38;5;241m.\u001b[39mappend(cv_2)\n\u001b[1;32m    134\u001b[0m     \u001b[38;5;28mself\u001b[39m\u001b[38;5;241m.\u001b[39m_cache[max_dist][val] \u001b[38;5;241m=\u001b[39m candidates\n\u001b[0;32m--> 136\u001b[0m   swap_list\u001b[38;5;241m.\u001b[39mappend((val, \u001b[43mrandom\u001b[49m\u001b[38;5;241;43m.\u001b[39;49m\u001b[43mchoice\u001b[49m\u001b[43m(\u001b[49m\u001b[43mcandidates\u001b[49m\u001b[43m)\u001b[49m))\n\u001b[1;32m    137\u001b[0m random\u001b[38;5;241m.\u001b[39mshuffle(swap_list)\n\u001b[1;32m    139\u001b[0m \u001b[38;5;28;01mfor\u001b[39;00m i, _ \u001b[38;5;129;01min\u001b[39;00m \u001b[38;5;28menumerate\u001b[39m(swap_list):\n",
      "File \u001b[0;32m~/miniforge3/envs/sbsim2/lib/python3.10/random.py:378\u001b[0m, in \u001b[0;36mRandom.choice\u001b[0;34m(self, seq)\u001b[0m\n\u001b[1;32m    376\u001b[0m \u001b[38;5;250m\u001b[39m\u001b[38;5;124;03m\"\"\"Choose a random element from a non-empty sequence.\"\"\"\u001b[39;00m\n\u001b[1;32m    377\u001b[0m \u001b[38;5;66;03m# raises IndexError if seq is empty\u001b[39;00m\n\u001b[0;32m--> 378\u001b[0m \u001b[38;5;28;01mreturn\u001b[39;00m seq[\u001b[38;5;28;43mself\u001b[39;49m\u001b[38;5;241;43m.\u001b[39;49m\u001b[43m_randbelow\u001b[49m\u001b[43m(\u001b[49m\u001b[38;5;28;43mlen\u001b[39;49m\u001b[43m(\u001b[49m\u001b[43mseq\u001b[49m\u001b[43m)\u001b[49m\u001b[43m)\u001b[49m]\n",
      "File \u001b[0;32m~/miniforge3/envs/sbsim2/lib/python3.10/random.py:245\u001b[0m, in \u001b[0;36mRandom._randbelow_with_getrandbits\u001b[0;34m(self, n)\u001b[0m\n\u001b[1;32m    243\u001b[0m     \u001b[38;5;28;01mreturn\u001b[39;00m \u001b[38;5;241m0\u001b[39m\n\u001b[1;32m    244\u001b[0m getrandbits \u001b[38;5;241m=\u001b[39m \u001b[38;5;28mself\u001b[39m\u001b[38;5;241m.\u001b[39mgetrandbits\n\u001b[0;32m--> 245\u001b[0m k \u001b[38;5;241m=\u001b[39m \u001b[43mn\u001b[49m\u001b[38;5;241;43m.\u001b[39;49m\u001b[43mbit_length\u001b[49m\u001b[43m(\u001b[49m\u001b[43m)\u001b[49m  \u001b[38;5;66;03m# don't use (n-1) here because n can be 1\u001b[39;00m\n\u001b[1;32m    246\u001b[0m r \u001b[38;5;241m=\u001b[39m getrandbits(k)  \u001b[38;5;66;03m# 0 <= r < 2**k\u001b[39;00m\n\u001b[1;32m    247\u001b[0m \u001b[38;5;28;01mwhile\u001b[39;00m r \u001b[38;5;241m>\u001b[39m\u001b[38;5;241m=\u001b[39m n:\n",
      "\u001b[0;31mKeyboardInterrupt\u001b[0m: "
     ]
    }
   ],
   "source": [
    "compute_avg_return(eval_env, schedule_policy, num_episodes=1, render_interval_steps=144, )"
   ]
  },
  {
   "cell_type": "markdown",
   "id": "571b40bd",
   "metadata": {},
   "source": [
    "### Necessary Interface: \n",
    "\n",
    "Need to pass in policy object such that\n",
    "- `action_step = policy.action(time_step)` returns an action step item\n",
    "    - `t_action = tf.convert_to_tensor(action)`\n",
    "    - `return policy_step.PolicyStep(t_action, (), ())`\n",
    "- `time_step = environment.step(action_step.action)`\n",
    "    - action_step.action returns the actual action"
   ]
  },
  {
   "cell_type": "code",
   "execution_count": 31,
   "id": "49f4a3dd",
   "metadata": {
    "scrolled": true
   },
   "outputs": [
    {
     "data": {
      "text/plain": [
       "tf_agents.trajectories.policy_step.PolicyStep"
      ]
     },
     "execution_count": 31,
     "metadata": {},
     "output_type": "execute_result"
    }
   ],
   "source": [
    "policy_step.PolicyStep"
   ]
  },
  {
   "cell_type": "code",
   "execution_count": 32,
   "id": "17563402",
   "metadata": {},
   "outputs": [
    {
     "data": {
      "text/plain": [
       "<tf.Tensor: shape=(2,), dtype=float32, numpy=array([-0.7777778, -1.       ], dtype=float32)>"
      ]
     },
     "execution_count": 32,
     "metadata": {},
     "output_type": "execute_result"
    }
   ],
   "source": [
    "action_step.action"
   ]
  },
  {
   "cell_type": "code",
   "execution_count": null,
   "id": "7c8ae85f",
   "metadata": {},
   "outputs": [],
   "source": []
  },
  {
   "cell_type": "markdown",
   "id": "2fe7f454",
   "metadata": {},
   "source": [
    "# SAC and Reward Bufffer"
   ]
  },
  {
   "cell_type": "code",
   "execution_count": 33,
   "id": "c3efc019",
   "metadata": {},
   "outputs": [],
   "source": [
    "# @title Set the RL Agent's parameters\n",
    "\n",
    "# Actor network fully connected layers.\n",
    "actor_fc_layers = (128, 128)\n",
    "# Critic network observation fully connected layers.\n",
    "critic_obs_fc_layers = (128, 64)\n",
    "# Critic network action fully connected layers.\n",
    "critic_action_fc_layers = (128, 64)\n",
    "# Critic network joint fully connected layers.\n",
    "critic_joint_fc_layers = (128, 64)\n",
    "\n",
    "batch_size = 256\n",
    "actor_learning_rate = 3e-4\n",
    "critic_learning_rate = 3e-4\n",
    "alpha_learning_rate = 3e-4\n",
    "gamma = 0.99\n",
    "target_update_tau= 0.005\n",
    "target_update_period= 1\n",
    "reward_scale_factor = 1.0\n",
    "\n",
    "# Replay params\n",
    "replay_capacity = 1000000\n",
    "debug_summaries = True\n",
    "summarize_grads_and_vars = True\n"
   ]
  },
  {
   "cell_type": "code",
   "execution_count": 34,
   "id": "ffcc5e57",
   "metadata": {},
   "outputs": [],
   "source": [
    "\n",
    "# @title Utilities to configure networks for the RL Agent.\n",
    "dense = functools.partial(\n",
    "    tf.keras.layers.Dense,\n",
    "    activation=tf.keras.activations.relu,\n",
    "    kernel_initializer='glorot_uniform',\n",
    ")\n",
    "\n",
    "\n",
    "def logging_info(*args):\n",
    "    logging.info(*args)\n",
    "    print(*args)\n",
    "\n",
    "\n",
    "def create_fc_network(layer_units):\n",
    "    return sequential.Sequential([dense(num_units) for num_units in layer_units])\n",
    "\n",
    "\n",
    "def create_identity_layer():\n",
    "    return tf.keras.layers.Lambda(lambda x: x)\n"
   ]
  },
  {
   "cell_type": "code",
   "execution_count": 35,
   "id": "6f0e4305",
   "metadata": {},
   "outputs": [],
   "source": [
    "def create_sequential_actor_network(actor_fc_layers, action_tensor_spec):\n",
    "    \"\"\"Create a sequential actor network.\"\"\"\n",
    "\n",
    "    def tile_as_nest(non_nested_output):\n",
    "        return tf.nest.map_structure(\n",
    "                lambda _: non_nested_output, action_tensor_spec\n",
    "        )\n",
    "\n",
    "    return sequential.Sequential(\n",
    "            [dense(num_units) for num_units in actor_fc_layers]\n",
    "            + [tf.keras.layers.Lambda(tile_as_nest)]\n",
    "            + [nest_map.NestMap(tf.nest.map_structure(_TanhNormalProjectionNetworkWrapper, \n",
    "                                                      action_tensor_spec))])"
   ]
  },
  {
   "cell_type": "code",
   "execution_count": 36,
   "id": "6ecc51d1",
   "metadata": {},
   "outputs": [],
   "source": [
    "\n",
    "def create_sequential_critic_network(obs_fc_layer_units, action_fc_layer_units, joint_fc_layer_units):\n",
    "    \"\"\"Create a sequential critic network.\"\"\"\n",
    "    # Split the inputs into observations and actions.\n",
    "    def split_inputs(inputs):\n",
    "        return {'observation': inputs[0], 'action': inputs[1]}\n",
    "\n",
    "    # Create an observation network.\n",
    "    obs_network = (\n",
    "        create_fc_network(obs_fc_layer_units) if obs_fc_layer_units else create_identity_layer()\n",
    "    )\n",
    "\n",
    "    # Create an action network.\n",
    "    action_network = (\n",
    "        create_fc_network(action_fc_layer_units) if action_fc_layer_units else create_identity_layer()\n",
    "    )\n",
    "\n",
    "    # Create a joint network.\n",
    "    joint_network = (\n",
    "        create_fc_network(joint_fc_layer_units) if joint_fc_layer_units else create_identity_layer()\n",
    "    )\n",
    "\n",
    "    # Final layer.\n",
    "    value_layer = tf.keras.layers.Dense(1, kernel_initializer='glorot_uniform')\n",
    "\n",
    "    return sequential.Sequential(\n",
    "        [\n",
    "            tf.keras.layers.Lambda(split_inputs),\n",
    "            nest_map.NestMap({'observation': obs_network, 'action': action_network}),\n",
    "            nest_map.NestFlatten(),\n",
    "            tf.keras.layers.Concatenate(),\n",
    "            joint_network,\n",
    "            value_layer,\n",
    "            inner_reshape.InnerReshape(current_shape=[1], new_shape=[]),\n",
    "        ],\n",
    "        name='sequential_critic',\n",
    "    )\n",
    "\n"
   ]
  },
  {
   "cell_type": "code",
   "execution_count": 37,
   "id": "cb1154cf",
   "metadata": {},
   "outputs": [],
   "source": [
    "\n",
    "_, action_tensor_spec, time_step_tensor_spec = spec_utils.get_tensor_specs(\n",
    "    collect_env\n",
    ")"
   ]
  },
  {
   "cell_type": "code",
   "execution_count": 38,
   "id": "9c6c10d1",
   "metadata": {},
   "outputs": [],
   "source": [
    "class _TanhNormalProjectionNetworkWrapper(\n",
    "        tanh_normal_projection_network.TanhNormalProjectionNetwork\n",
    "):\n",
    "    # rather than producing a value, this makes the output of actor network a DISTRIBUTION over actions\n",
    "    # sample from [-1,1] via tanh it rather than pick one action. \n",
    "    \"\"\"Wrapper to pass predefined `outer_rank` to underlying projection net.\"\"\"\n",
    "\n",
    "    def __init__(self, sample_spec, predefined_outer_rank=1):\n",
    "        super(_TanhNormalProjectionNetworkWrapper, self).__init__(sample_spec)\n",
    "        self.predefined_outer_rank = predefined_outer_rank\n",
    "\n",
    "    def call(self, inputs, network_state=(), **kwargs):\n",
    "        kwargs['outer_rank'] = self.predefined_outer_rank\n",
    "        if 'step_type' in kwargs:\n",
    "            del kwargs['step_type']\n",
    "        return super(_TanhNormalProjectionNetworkWrapper, self).call(inputs, **kwargs)"
   ]
  },
  {
   "cell_type": "code",
   "execution_count": 39,
   "id": "4d220b47",
   "metadata": {},
   "outputs": [],
   "source": [
    "\n",
    "actor_net = create_sequential_actor_network(\n",
    "    actor_fc_layers=actor_fc_layers, action_tensor_spec=action_tensor_spec\n",
    ")\n",
    "\n",
    "critic_net = create_sequential_critic_network(\n",
    "    obs_fc_layer_units=critic_obs_fc_layers,\n",
    "    action_fc_layer_units=critic_action_fc_layers,\n",
    "    joint_fc_layer_units=critic_joint_fc_layers,\n",
    ")\n"
   ]
  },
  {
   "cell_type": "code",
   "execution_count": 40,
   "id": "0992951c",
   "metadata": {},
   "outputs": [],
   "source": [
    "train_step = train_utils.create_train_step()\n",
    "\n",
    "agent = sac_agent.SacAgent(\n",
    "    time_step_tensor_spec,\n",
    "    action_tensor_spec,\n",
    "    actor_network=actor_net,\n",
    "    critic_network=critic_net,\n",
    "    actor_optimizer=tf.keras.optimizers.Adam(learning_rate=actor_learning_rate),\n",
    "    critic_optimizer=tf.keras.optimizers.Adam(\n",
    "        learning_rate=critic_learning_rate\n",
    "    ),\n",
    "    alpha_optimizer=tf.keras.optimizers.Adam(learning_rate=alpha_learning_rate),\n",
    "    target_update_tau=target_update_tau,\n",
    "    target_update_period=target_update_period,\n",
    "    td_errors_loss_fn=tf.math.squared_difference,\n",
    "    gamma=gamma,\n",
    "    reward_scale_factor=reward_scale_factor,\n",
    "    gradient_clipping=None,\n",
    "    debug_summaries=debug_summaries,\n",
    "    summarize_grads_and_vars=summarize_grads_and_vars,\n",
    "    train_step_counter=train_step,\n",
    ")\n",
    "agent.initialize()"
   ]
  },
  {
   "cell_type": "code",
   "execution_count": 41,
   "id": "e7c185cb",
   "metadata": {},
   "outputs": [],
   "source": [
    "\n",
    "# @title Access the eval and collect policies\n",
    "eval_policy = agent.policy\n",
    "collect_policy = agent.collect_policy\n",
    "\n",
    "policy_save_interval = 1 # Save the policy after every learning step.\n",
    "learner_summary_interval = 1 # Produce a summary of the critic, actor, and alpha losses after every gradient update step.\n",
    "\n",
    "\n",
    "# @title Convert the policies into TF Eager Policies\n",
    "tf_collect_policy = agent.collect_policy\n",
    "agent_collect_policy = py_tf_eager_policy.PyTFEagerPolicy(tf_collect_policy, use_tf_function=True)\n",
    "\n",
    "tf_policy = agent.policy\n",
    "agent_policy = py_tf_eager_policy.PyTFEagerPolicy(tf_policy, use_tf_function=True)\n"
   ]
  },
  {
   "cell_type": "code",
   "execution_count": 42,
   "id": "de5531b4",
   "metadata": {
    "scrolled": true
   },
   "outputs": [],
   "source": [
    "# Assuming `actor_input_shape` is the shape of the input to the actor network\n",
    "actor_input_shape = (53,)\n",
    "actor_net.build(input_shape=(None,) + actor_input_shape)\n",
    "#actor_net.summary()"
   ]
  },
  {
   "cell_type": "code",
   "execution_count": 43,
   "id": "fee40783",
   "metadata": {},
   "outputs": [],
   "source": [
    "obs_shape = (53,)  # Observation shape (replace `obs_dim`)\n",
    "action_shape = (2,)  # Action shape (replace `action_dim`)\n",
    "\n",
    "critic_input_shapes = [(None,) + obs_shape, (None,) + action_shape]\n",
    "critic_net.build(input_shape=critic_input_shapes)\n",
    "#critic_net.summary()"
   ]
  },
  {
   "cell_type": "markdown",
   "id": "1b520fb8",
   "metadata": {},
   "source": [
    "## Reverb Buffer"
   ]
  },
  {
   "cell_type": "code",
   "execution_count": 44,
   "id": "cb93481f",
   "metadata": {},
   "outputs": [
    {
     "data": {
      "text/plain": [
       "Table(sampler=UniformSelector, remover=FifoSelector, max_size=50000, max_times_sampled=0, name=uniform_table, rate_limiter=RateLimiter(samples_per_insert=1, min_diff_=-1.79769e+308, max_diff=1.79769e+308, min_size_to_sample=1), signature=nullptr)"
      ]
     },
     "execution_count": 44,
     "metadata": {},
     "output_type": "execute_result"
    }
   ],
   "source": [
    "\n",
    "# @title Set up the replay buffer\n",
    "replay_capacity = 50000\n",
    "table_name = 'uniform_table'\n",
    "table = reverb.Table(\n",
    "    table_name,\n",
    "    max_size=replay_capacity,\n",
    "    sampler=reverb.selectors.Uniform(),\n",
    "    remover=reverb.selectors.Fifo(),\n",
    "    rate_limiter=reverb.rate_limiters.MinSize(1),\n",
    ")\n",
    "\n",
    "table"
   ]
  },
  {
   "cell_type": "code",
   "execution_count": 50,
   "id": "60541f4f",
   "metadata": {},
   "outputs": [
    {
     "name": "stdout",
     "output_type": "stream",
     "text": [
      "reverb_checkpoint_dir=/burg/home/ssa2206/sbsim_dual_contarol/output/reverb_checkpoint, port=None\n",
      "reverb_server_port=36555\n",
      "num_frames in replay buffer=0\n"
     ]
    },
    {
     "name": "stderr",
     "output_type": "stream",
     "text": [
      "[reverb/cc/platform/tfrecord_checkpointer.cc:162]  Initializing TFRecordCheckpointer in /burg/home/ssa2206/sbsim_dual_contarol/output/reverb_checkpoint.\n",
      "[reverb/cc/platform/tfrecord_checkpointer.cc:565] Loading latest checkpoint from /burg/home/ssa2206/sbsim_dual_contarol/output/reverb_checkpoint\n",
      "[reverb/cc/platform/default/server.cc:71] Started replay server on port 36555\n",
      "[reverb/cc/platform/default/server.cc:84] Shutting down replay server\n"
     ]
    }
   ],
   "source": [
    "# @title Set up the replay buffer\n",
    "replay_capacity = 50000\n",
    "table_name = 'uniform_table'\n",
    "table = reverb.Table(\n",
    "    table_name,\n",
    "    max_size=replay_capacity,\n",
    "    sampler=reverb.selectors.Uniform(),\n",
    "    remover=reverb.selectors.Fifo(),\n",
    "    rate_limiter=reverb.rate_limiters.MinSize(1),\n",
    ")\n",
    "\n",
    "reverb_checkpoint_dir = output_data_path + \"/reverb_checkpoint\"\n",
    "reverb_port = None\n",
    "print('reverb_checkpoint_dir=%s, port=%s' %(reverb_checkpoint_dir, reverb_port))\n",
    "reverb_checkpointer = reverb.platform.checkpointers_lib.DefaultCheckpointer(path=reverb_checkpoint_dir)\n",
    "reverb_server = reverb.Server([table], port=reverb_port, checkpointer=reverb_checkpointer)\n",
    "logging_info('reverb_server_port=%d' % reverb_server.port)\n",
    "reverb_replay = reverb_replay_buffer.ReverbReplayBuffer(\n",
    "    agent.collect_data_spec,\n",
    "    sequence_length=2,\n",
    "    table_name=table_name,\n",
    "    local_server=reverb_server,\n",
    ")\n",
    "rb_observer = reverb_utils.ReverbAddTrajectoryObserver(\n",
    "    reverb_replay.py_client, table_name, sequence_length=2, stride_length=1\n",
    ")\n",
    "print('num_frames in replay buffer=%d' %reverb_replay.num_frames())"
   ]
  },
  {
   "cell_type": "code",
   "execution_count": 31,
   "id": "73547ec9",
   "metadata": {},
   "outputs": [
    {
     "data": {
      "text/plain": [
       "0"
      ]
     },
     "execution_count": 31,
     "metadata": {},
     "output_type": "execute_result"
    }
   ],
   "source": [
    "reverb_replay.num_frames()"
   ]
  },
  {
   "cell_type": "code",
   "execution_count": 32,
   "id": "11e7db41",
   "metadata": {},
   "outputs": [],
   "source": [
    "dataset = reverb_replay.as_dataset(\n",
    "    num_parallel_calls=3,\n",
    "    sample_batch_size=batch_size,\n",
    "    num_steps=2).prefetch(50)\n",
    "experience_dataset_fn = lambda: dataset"
   ]
  },
  {
   "cell_type": "code",
   "execution_count": 33,
   "id": "2feb7374",
   "metadata": {},
   "outputs": [],
   "source": [
    "from run_utils import RenderAndPlotObserver, PrintStatusObserver\n",
    "initial_collect_render_plot_observer = RenderAndPlotObserver(\n",
    "    render_interval_steps=144, environment=initial_collect_env\n",
    ")\n",
    "initial_collect_print_status_observer = PrintStatusObserver(\n",
    "    status_interval_steps=1,\n",
    "    environment=initial_collect_env,\n",
    "    replay_buffer=reverb_replay,\n",
    ")\n",
    "collect_render_plot_observer = RenderAndPlotObserver(\n",
    "    render_interval_steps=144, environment=collect_env\n",
    ")\n",
    "collect_print_status_observer = PrintStatusObserver(\n",
    "    status_interval_steps=1,\n",
    "    environment=collect_env,\n",
    "    replay_buffer=reverb_replay,\n",
    ")\n",
    "eval_render_plot_observer = RenderAndPlotObserver(\n",
    "    render_interval_steps=144, environment=eval_env\n",
    ")\n",
    "eval_print_status_observer = PrintStatusObserver(\n",
    "    status_interval_steps=1, environment=eval_env, replay_buffer=reverb_replay\n",
    ")"
   ]
  },
  {
   "cell_type": "code",
   "execution_count": 36,
   "id": "cf484d89",
   "metadata": {},
   "outputs": [
    {
     "ename": "AttributeError",
     "evalue": "'Client' object has no attribute 'dataset'",
     "output_type": "error",
     "traceback": [
      "\u001b[0;31m---------------------------------------------------------------------------\u001b[0m",
      "\u001b[0;31mAttributeError\u001b[0m                            Traceback (most recent call last)",
      "Cell \u001b[0;32mIn[36], line 1\u001b[0m\n\u001b[0;32m----> 1\u001b[0m \u001b[43mreverb_replay\u001b[49m\u001b[38;5;241;43m.\u001b[39;49m\u001b[43mpy_client\u001b[49m\u001b[38;5;241;43m.\u001b[39;49m\u001b[43mdataset\u001b[49m(table_name)\n",
      "\u001b[0;31mAttributeError\u001b[0m: 'Client' object has no attribute 'dataset'"
     ]
    }
   ],
   "source": [
    "reverb_replay.py_client.dataset(table_name)"
   ]
  },
  {
   "cell_type": "code",
   "execution_count": null,
   "id": "4fdeb170",
   "metadata": {},
   "outputs": [],
   "source": []
  },
  {
   "cell_type": "code",
   "execution_count": null,
   "id": "06f1276d",
   "metadata": {},
   "outputs": [],
   "source": []
  },
  {
   "cell_type": "markdown",
   "id": "c33f997d",
   "metadata": {},
   "source": [
    "## World Model"
   ]
  },
  {
   "cell_type": "code",
   "execution_count": 1,
   "id": "fcbfeea6",
   "metadata": {},
   "outputs": [
    {
     "name": "stderr",
     "output_type": "stream",
     "text": [
      "2024-12-15 12:49:23.006698: I tensorflow/core/util/port.cc:113] oneDNN custom operations are on. You may see slightly different numerical results due to floating-point round-off errors from different computation orders. To turn them off, set the environment variable `TF_ENABLE_ONEDNN_OPTS=0`.\n",
      "2024-12-15 12:49:23.010753: I external/local_tsl/tsl/cuda/cudart_stub.cc:31] Could not find cuda drivers on your machine, GPU will not be used.\n",
      "2024-12-15 12:49:23.051925: E external/local_xla/xla/stream_executor/cuda/cuda_dnn.cc:9261] Unable to register cuDNN factory: Attempting to register factory for plugin cuDNN when one has already been registered\n",
      "2024-12-15 12:49:23.051963: E external/local_xla/xla/stream_executor/cuda/cuda_fft.cc:607] Unable to register cuFFT factory: Attempting to register factory for plugin cuFFT when one has already been registered\n",
      "2024-12-15 12:49:23.053385: E external/local_xla/xla/stream_executor/cuda/cuda_blas.cc:1515] Unable to register cuBLAS factory: Attempting to register factory for plugin cuBLAS when one has already been registered\n",
      "2024-12-15 12:49:23.061136: I external/local_tsl/tsl/cuda/cudart_stub.cc:31] Could not find cuda drivers on your machine, GPU will not be used.\n",
      "2024-12-15 12:49:23.062653: I tensorflow/core/platform/cpu_feature_guard.cc:182] This TensorFlow binary is optimized to use available CPU instructions in performance-critical operations.\n",
      "To enable the following instructions: AVX2 AVX512F AVX512_VNNI FMA, in other operations, rebuild TensorFlow with the appropriate compiler flags.\n",
      "2024-12-15 12:49:24.385955: W tensorflow/compiler/tf2tensorrt/utils/py_utils.cc:38] TF-TRT Warning: Could not find TensorRT\n"
     ]
    }
   ],
   "source": [
    "from world_model import LinearWorldModel"
   ]
  },
  {
   "cell_type": "code",
   "execution_count": 2,
   "id": "10cc5d56",
   "metadata": {},
   "outputs": [],
   "source": [
    "world_model = LinearWorldModel(53, 2, stabilize_dynamics=True)"
   ]
  },
  {
   "cell_type": "code",
   "execution_count": null,
   "id": "fce4ad66",
   "metadata": {},
   "outputs": [],
   "source": [
    "all_states = world_model.train(replay_buffer=reverb_replay, batch_size=128, training_steps=256)"
   ]
  },
  {
   "cell_type": "code",
   "execution_count": null,
   "id": "9a295ec8",
   "metadata": {},
   "outputs": [],
   "source": [
    "all_states = np.array(all_states).reshape(-1, 53)\n",
    "\n",
    "plt.plot(all_states_flat[:, 8])"
   ]
  },
  {
   "cell_type": "code",
   "execution_count": null,
   "id": "a3cfb925",
   "metadata": {},
   "outputs": [],
   "source": [
    "plt.plot(world_model.state_predictor.prediction_errors, c='red')\n",
    "plt.title(\"RLS Online Filtering Algorithm\")\n",
    "plt.xlabel(\"Batches\")\n",
    "plt.ylabel(\"Innovation (Error)\")\n",
    "plt.yscale(\"log\")\n",
    "plt.savefig(\"/burg/home/ssa2206/sbsim_dual_control/smart_control/notebooks/RLS.png\")"
   ]
  },
  {
   "cell_type": "code",
   "execution_count": null,
   "id": "b390a9d4",
   "metadata": {},
   "outputs": [],
   "source": [
    "plt.plot(np.array(all_states).mean(axis=0).mean(axis=0), label='actual mean')\n",
    "plt.plot(world_model.state_predictor.mean, label='stored mean')\n",
    "plt.legend()\n",
    "plt.show()"
   ]
  },
  {
   "cell_type": "code",
   "execution_count": null,
   "id": "2477d494",
   "metadata": {},
   "outputs": [],
   "source": [
    "plt.plot(np.array(all_states).std(axis=0).std(axis=0), label='actual std')\n",
    "plt.plot(world_model.state_predictor.std, label='stored std')\n",
    "plt.legend()\n",
    "plt.show()"
   ]
  },
  {
   "cell_type": "code",
   "execution_count": null,
   "id": "60a10ee5",
   "metadata": {},
   "outputs": [],
   "source": [
    "\n",
    "i = 0\n",
    "for (experience_batch, sample_info) in dataset:\n",
    "    print(i)\n",
    "    states, actions, rewards = experience_batch.observation, experience_batch.action, experience_batch.reward\n",
    "    at, atp1 = actions[:,0,:], actions[:, 1, :]\n",
    "    st, stp1 = states[:,0,:], states[:, 1, :]\n",
    "    RLS.update(st, at, stp1, debug=True)\n",
    "    i += 1\n",
    "RLS.prediction_errors"
   ]
  },
  {
   "cell_type": "code",
   "execution_count": null,
   "id": "13a879b5",
   "metadata": {},
   "outputs": [],
   "source": [
    "mag = lambda s : tf.sqrt(tf.reduce_sum(tf.square(s)))\n",
    "\n",
    "def safe_normalize_state(state, curr_s, curr_a, STATE_BOUND=1000):\n",
    "    \"\"\"Normalize state if it exceeds bounds\"\"\"\n",
    "    state_magnitude = mag(state)\n",
    "    if state_magnitude > STATE_BOUND:\n",
    "        print(f\"State magnitude {state_magnitude} exceeded bound, normalizing...\")\n",
    "        print(mag(curr_s), mag(world_model.state_predictor(curr_s, curr_a)))\n",
    "        #print(world_model.state_predictor.theta)\n",
    "        return state * (STATE_BOUND / state_magnitude)\n",
    "    return state"
   ]
  },
  {
   "cell_type": "code",
   "execution_count": 4,
   "id": "78fa3cf5",
   "metadata": {},
   "outputs": [],
   "source": [
    "def generate_rollouts(world_model, initial_state, initial_reward, initial_discount, policy, rollout_length):\n",
    "    \"\"\"Generate model-based rollouts with uncertainty estimation.\"\"\"\n",
    "    # Convert initial state to tensor and add batch dimension\n",
    "    current_state = tf.expand_dims(tf.convert_to_tensor(initial_state, dtype=tf.float32), 0)\n",
    "    current_reward = initial_reward\n",
    "    current_discount = initial_discount\n",
    "    generated_experience = []\n",
    "\n",
    "    time_step = transition(np.array([current_state[0]], dtype=np.float32), reward=current_reward, discount=current_discount)\n",
    "    action_step = policy.action(time_step)\n",
    "    current_action = action_step.action\n",
    "\n",
    "    next_state, reward, (hidden_state, cell_state) = world_model(current_state, current_action)\n",
    "    state_mag = [mag(next_state)]\n",
    "    for i in range(rollout_length):\n",
    "        if(np.isnan(reward).any()):\n",
    "            break\n",
    "        else:\n",
    "            time_step = transition(np.array([next_state[0]], dtype=np.float32), reward=reward, discount=current_discount)\n",
    "            next_action = policy.action(time_step).action # Get action from policy\n",
    "\n",
    "            generated_experience.append(\n",
    "                dict(state=current_state.numpy(), action=current_action, reward=reward,\n",
    "                next_state= next_state.numpy(), discount=current_discount.reshape(1,1))\n",
    "            )\n",
    "\n",
    "            # Update current state\n",
    "            current_state, current_reward = next_state, reward\n",
    "            next_state, reward, (hidden_state, cell_state) = world_model(current_state, current_action)\n",
    "            next_state = safe_normalize_state(next_state, current_state, current_action)\n",
    "            state_mag.append(mag(next_state))\n",
    "    return generated_experience, state_mag"
   ]
  },
  {
   "cell_type": "code",
   "execution_count": null,
   "id": "bc3cf5c7",
   "metadata": {},
   "outputs": [],
   "source": [
    "plt.imshow(world_model.state_predictor.theta.numpy())\n",
    "plt.colorbar()\n",
    "plt.show()"
   ]
  },
  {
   "cell_type": "code",
   "execution_count": null,
   "id": "b67faf0c",
   "metadata": {},
   "outputs": [],
   "source": [
    "singular_values = np.linalg.svd(world_model.state_predictor.theta, compute_uv=False)\n",
    "singular_values[:5]"
   ]
  },
  {
   "cell_type": "code",
   "execution_count": null,
   "id": "fa6db086",
   "metadata": {},
   "outputs": [],
   "source": []
  },
  {
   "cell_type": "code",
   "execution_count": null,
   "id": "87d4ce3c",
   "metadata": {},
   "outputs": [],
   "source": []
  },
  {
   "cell_type": "code",
   "execution_count": null,
   "id": "a3a9a447",
   "metadata": {},
   "outputs": [],
   "source": []
  },
  {
   "cell_type": "code",
   "execution_count": null,
   "id": "bd76cf13",
   "metadata": {},
   "outputs": [],
   "source": [
    "def add_to_replay_buffer(rb_observer, experience_data):\n",
    "    \"\"\"\n",
    "    Adds experience data to the Reverb replay buffer.\n",
    "    \n",
    "    Args:\n",
    "        rb_observer: ReverbAddTrajectoryObserver instance\n",
    "        experience_data: Dict containing state, action, reward, next_state, discount\n",
    "    \"\"\"\n",
    "    state, action, reward, next_state, discount = experience_data.values()\n",
    " \n",
    "    state = state.reshape(-1) # Remove any extra dimensions\n",
    "    action = tf.squeeze(action)\n",
    "    next_state = tf.squeeze(next_state)\n",
    "    reward = tf.squeeze(reward)\n",
    "    discount = tf.squeeze(discount)\n",
    "    # print(f\"State shape: {state.shape}\")\n",
    "    # print(f\"Action shape: {action.shape}\")\n",
    "    # print(f\"Next state shape: {next_state.shape}\")\n",
    "    # print(f\"Reward shape: {reward.shape}\")\n",
    "    \n",
    "    # Create a Trajectory object with the required fields\n",
    "    traj = trajectory.Trajectory(\n",
    "        step_type=tf.constant(StepType.MID, dtype=tf.int32),\n",
    "        observation=tf.constant(state, dtype=tf.float32), # Current observation/state\n",
    "        action=tf.constant(action, dtype=tf.float32),\n",
    "        policy_info=(),\n",
    "        next_step_type=tf.constant(StepType.MID, dtype=tf.int32),\n",
    "        reward=tf.constant(reward, dtype=tf.float32),\n",
    "        discount=tf.constant(discount, dtype=tf.float32)\n",
    "    )\n",
    "    \n",
    "    # Add trajectory to replay buffer\n",
    "    rb_observer(traj)\n",
    "\n"
   ]
  },
  {
   "cell_type": "code",
   "execution_count": null,
   "id": "b83f4b4a",
   "metadata": {},
   "outputs": [],
   "source": [
    "exp = generate_rollouts(world_model, initial_state, initial_reward, initial_discount, collect_policy, 100)\n",
    "f\"{type(exp)} of length {len(exp)}; each entry is {type(exp[0])} with keys {exp[0].keys()}\"\n"
   ]
  },
  {
   "cell_type": "code",
   "execution_count": null,
   "id": "37b4f793",
   "metadata": {},
   "outputs": [],
   "source": []
  },
  {
   "cell_type": "code",
   "execution_count": null,
   "id": "b37eb9c5",
   "metadata": {},
   "outputs": [],
   "source": []
  },
  {
   "cell_type": "code",
   "execution_count": null,
   "id": "019ab25c",
   "metadata": {},
   "outputs": [],
   "source": []
  },
  {
   "cell_type": "markdown",
   "id": "01b963ff",
   "metadata": {},
   "source": [
    "### Vaibhav OG Code"
   ]
  },
  {
   "cell_type": "code",
   "execution_count": 5,
   "id": "45e5fb60",
   "metadata": {},
   "outputs": [
    {
     "data": {
      "text/plain": [
       "\"\\nif run_model_exp:\\n    # @title Execute the training loop\\n\\n    num_training_iterations = 10\\n    num_gradient_updates_per_training_iteration = 100\\n    \\n\\n    # Collect the performance results with teh untrained model.\\n    eval_actor.run_and_log()\\n\\n    logging_info('Training.')\\n\\n    world_model = TransformerWorldModel(\\n        state_dim=collect_env.observation_spec().shape[0],\\n        action_dim=collect_env.action_spec().shape[0],\\n        hidden_dim=256,\\n        num_heads=8,\\n        num_transformer_blocks=3\\n    )\\n\\n    model_buffer = ModelAssistedReplayBuffer(\\n        real_buffer=reverb_replay,\\n        world_model=world_model,\\n        rollout_length=5,\\n        rollout_ratio=0.5,\\n        uncertainty_threshold=0.5\\n    )\\n\\n\\n    # log_dir = root_dir + '/train'\\n    # with tf.summary.create_file_writer(log_dir).as_default() as writer:   \\n\\n    for iter in range(num_training_iterations):\\n        print('Training iteration: ', iter)\\n\\n        collect_actor.run()\\n\\n        world_model_loss = train_world_model(\\n            world_model=world_model,\\n            replay_buffer=reverb_replay,\\n            batch_size=256,\\n            training_steps=1000\\n        )\\n        logging_info(f'World Model Loss: {world_model_loss:.4f}')\\n\\n        real_batch = next(iter(reverb_replay.as_dataset(\\n            num_parallel_calls=3,\\n            sample_batch_size=batch_size,\\n            num_steps=2\\n        )))\\n\\n        initial_states = real_batch.observation[:, 0]\\n        initial_actions = real_batch.action[:, 0]\\n\\n        for i in range(len(initial_states)):\\n            generated_experience = model_buffer.generate_rollouts(\\n                initial_states[i],\\n                initial_actions[i],\\n                agent_collect_policy\\n            )\\n\\n            for exp in generated_experience:\\n                rb_observer(trajectory.from_episode(\\n                    observation=exp['state'],\\n                    action=exp['action'],\\n                    policy_info=(),\\n                    reward=exp['reward'],\\n                    discount=1.0\\n                ))\\n\\n        loss_info = agent_learner.run(\\n            iterations=num_gradient_updates_per_training_iteration\\n        )\\n\\n        logging_info(\\n            'Actor Loss: %6.2f, Critic Loss: %6.2f, Alpha Loss: %6.2f'\\n            % (\\n                loss_info.extra.actor_loss.numpy(),\\n                loss_info.extra.critic_loss.numpy(),\\n                loss_info.extra.alpha_loss.numpy(),\\n            )\\n        )\\n\\n        eval_env.reset()\\n        eval_actor.run_and_log()\\n\\n    rb_observer.close()\\n    reverb_server.stop()\\n\""
      ]
     },
     "execution_count": 5,
     "metadata": {},
     "output_type": "execute_result"
    }
   ],
   "source": [
    "\"\"\"\n",
    "if run_model_exp:\n",
    "    # @title Execute the training loop\n",
    "\n",
    "    num_training_iterations = 10\n",
    "    num_gradient_updates_per_training_iteration = 100\n",
    "    \n",
    "\n",
    "    # Collect the performance results with teh untrained model.\n",
    "    eval_actor.run_and_log()\n",
    "\n",
    "    logging_info('Training.')\n",
    "\n",
    "    world_model = TransformerWorldModel(\n",
    "        state_dim=collect_env.observation_spec().shape[0],\n",
    "        action_dim=collect_env.action_spec().shape[0],\n",
    "        hidden_dim=256,\n",
    "        num_heads=8,\n",
    "        num_transformer_blocks=3\n",
    "    )\n",
    "\n",
    "    model_buffer = ModelAssistedReplayBuffer(\n",
    "        real_buffer=reverb_replay,\n",
    "        world_model=world_model,\n",
    "        rollout_length=5,\n",
    "        rollout_ratio=0.5,\n",
    "        uncertainty_threshold=0.5\n",
    "    )\n",
    "\n",
    "\n",
    "    # log_dir = root_dir + '/train'\n",
    "    # with tf.summary.create_file_writer(log_dir).as_default() as writer:   \n",
    "\n",
    "    for iter in range(num_training_iterations):\n",
    "        print('Training iteration: ', iter)\n",
    "\n",
    "        collect_actor.run()\n",
    "\n",
    "        world_model_loss = train_world_model(\n",
    "            world_model=world_model,\n",
    "            replay_buffer=reverb_replay,\n",
    "            batch_size=256,\n",
    "            training_steps=1000\n",
    "        )\n",
    "        logging_info(f'World Model Loss: {world_model_loss:.4f}')\n",
    "\n",
    "        real_batch = next(iter(reverb_replay.as_dataset(\n",
    "            num_parallel_calls=3,\n",
    "            sample_batch_size=batch_size,\n",
    "            num_steps=2\n",
    "        )))\n",
    "\n",
    "        initial_states = real_batch.observation[:, 0]\n",
    "        initial_actions = real_batch.action[:, 0]\n",
    "\n",
    "        for i in range(len(initial_states)):\n",
    "            generated_experience = model_buffer.generate_rollouts(\n",
    "                initial_states[i],\n",
    "                initial_actions[i],\n",
    "                agent_collect_policy\n",
    "            )\n",
    "\n",
    "            for exp in generated_experience:\n",
    "                rb_observer(trajectory.from_episode(\n",
    "                    observation=exp['state'],\n",
    "                    action=exp['action'],\n",
    "                    policy_info=(),\n",
    "                    reward=exp['reward'],\n",
    "                    discount=1.0\n",
    "                ))\n",
    "\n",
    "        loss_info = agent_learner.run(\n",
    "            iterations=num_gradient_updates_per_training_iteration\n",
    "        )\n",
    "\n",
    "        logging_info(\n",
    "            'Actor Loss: %6.2f, Critic Loss: %6.2f, Alpha Loss: %6.2f'\n",
    "            % (\n",
    "                loss_info.extra.actor_loss.numpy(),\n",
    "                loss_info.extra.critic_loss.numpy(),\n",
    "                loss_info.extra.alpha_loss.numpy(),\n",
    "            )\n",
    "        )\n",
    "\n",
    "        eval_env.reset()\n",
    "        eval_actor.run_and_log()\n",
    "\n",
    "    rb_observer.close()\n",
    "    reverb_server.stop()\n",
    "\"\"\""
   ]
  },
  {
   "cell_type": "code",
   "execution_count": null,
   "id": "0baa2374",
   "metadata": {},
   "outputs": [],
   "source": []
  }
 ],
 "metadata": {
  "kernelspec": {
   "display_name": "Python 3 (ipykernel)",
   "language": "python",
   "name": "python3"
  },
  "language_info": {
   "codemirror_mode": {
    "name": "ipython",
    "version": 3
   },
   "file_extension": ".py",
   "mimetype": "text/x-python",
   "name": "python",
   "nbconvert_exporter": "python",
   "pygments_lexer": "ipython3",
   "version": "3.10.12"
  }
 },
 "nbformat": 4,
 "nbformat_minor": 5
}
