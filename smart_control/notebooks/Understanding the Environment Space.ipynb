{
 "cells": [
  {
   "cell_type": "code",
   "execution_count": 58,
   "id": "9c23cda6",
   "metadata": {},
   "outputs": [],
   "source": [
    "# @title Imports\n",
    "from dataclasses import dataclass\n",
    "import datetime, pytz\n",
    "import enum\n",
    "import functools\n",
    "import os\n",
    "os.environ['CUDA_VISIBLE_DEVICES'] = '0'\n",
    "import time\n",
    "from typing import Final, Sequence\n",
    "from typing import Optional\n",
    "from typing import Union, cast\n",
    "os.environ['WRAPT_DISABLE_EXTENSIONS'] = 'true'\n",
    "from absl import logging\n",
    "import gin\n",
    "import gin\n",
    "from matplotlib import patches\n",
    "import matplotlib.cm as cm\n",
    "import matplotlib.pyplot as plt\n",
    "from matplotlib.ticker import MaxNLocator\n",
    "import numpy as np\n",
    "import pandas as pd\n",
    "import reverb\n",
    "import mediapy as media\n",
    "from IPython.display import clear_output\n",
    "import sys\n",
    "\n",
    "gin.enter_interactive_mode()"
   ]
  },
  {
   "cell_type": "code",
   "execution_count": 59,
   "id": "7a05f368",
   "metadata": {},
   "outputs": [],
   "source": [
    "from smart_control.environment import environment\n",
    "\n",
    "from smart_control.proto import smart_control_building_pb2, smart_control_normalization_pb2\n",
    "from smart_control.reward import electricity_energy_cost, natural_gas_energy_cost, setpoint_energy_carbon_reward, setpoint_energy_carbon_regret\n",
    "\n",
    "from smart_control.simulator import randomized_arrival_departure_occupancy, rejection_simulator_building\n",
    "from smart_control.simulator import simulator_building, step_function_occupancy, stochastic_convection_simulator\n",
    "\n",
    "from smart_control.utils import bounded_action_normalizer, building_renderer, controller_reader\n",
    "from smart_control.utils import controller_writer, conversion_utils, observation_normalizer, reader_lib\n",
    "from smart_control.utils import writer_lib, histogram_reducer, environment_utils"
   ]
  },
  {
   "cell_type": "code",
   "execution_count": 60,
   "id": "aa950ab0",
   "metadata": {},
   "outputs": [],
   "source": [
    "def logging_info(*args):\n",
    "    logging.info(*args)\n",
    "    print(*args)\n"
   ]
  },
  {
   "cell_type": "code",
   "execution_count": 61,
   "id": "89d8846d",
   "metadata": {},
   "outputs": [],
   "source": [
    "def remap_filepath(filepath) -> str:\n",
    "    return str(filepath)"
   ]
  },
  {
   "cell_type": "code",
   "execution_count": 62,
   "id": "90a49492",
   "metadata": {},
   "outputs": [],
   "source": [
    "# @title Plotting Utities\n",
    "reward_shift = 0\n",
    "reward_scale = 1.0\n",
    "person_productivity_hour = 300.0\n",
    "\n",
    "KELVIN_TO_CELSIUS = 273.15\n",
    "\n",
    "def render_env(env: environment.Environment):\n",
    "    \"\"\"Renders the environment.\"\"\"\n",
    "    building_layout = env.building._simulator._building._floor_plan\n",
    "\n",
    "    # create a renderer\n",
    "    renderer = building_renderer.BuildingRenderer(building_layout, 1)\n",
    "\n",
    "    # get the current temps to render\n",
    "    # this also is not ideal, since the temps are not fully exposed.\n",
    "    # V Ideally this should be a publicly accessable field\n",
    "    temps = env.building._simulator._building.temp\n",
    "\n",
    "    input_q = env.building._simulator._building.input_q\n",
    "\n",
    "    # render\n",
    "    vmin = 285\n",
    "    vmax = 305\n",
    "    image = renderer.render(temps, cmap='bwr', vmin=vmin, vmax=vmax, colorbar=False, \n",
    "                            input_q=input_q, diff_range=0.5, diff_size=1,).convert('RGB')\n",
    "    media.show_image(image, title='Environment %s' % env.current_simulation_timestamp)"
   ]
  },
  {
   "cell_type": "code",
   "execution_count": 63,
   "id": "9aee0b72",
   "metadata": {},
   "outputs": [],
   "source": [
    "from output_formatting import *\n",
    "from plot_utils import *"
   ]
  },
  {
   "cell_type": "markdown",
   "id": "71a11424",
   "metadata": {},
   "source": [
    "### Setting up Gin Configs\n",
    "\n",
    "- If you look at the config file, user defines paths and other variables within sim_config. \n",
    "- These definitions fill out those paths"
   ]
  },
  {
   "cell_type": "code",
   "execution_count": 64,
   "id": "f0307265",
   "metadata": {},
   "outputs": [],
   "source": [
    "# @title Utils for importing the environment.\n",
    "data_path = \"/burg/home/ssa2206/sbsim_dual_control/smart_control/configs/resources/sb1/\" #@param {type:\"string\"}\n",
    "metrics_path = \"/burg/home/ssa2206/sbsim_dual_control/metrics\" #@param {type:\"string\"}\n",
    "output_data_path = '/burg/home/ssa2206/sbsim_dual_control/output' #@param {type:\"string\"}\n",
    "root_dir = \"/burg/home/ssa2206/sbsim_dual_control/root\" #@param {type:\"string\"}\n",
    "\n",
    "\n",
    "def load_environment(gin_config_file: str):\n",
    "    \"\"\"Returns an Environment from a config file.\"\"\"\n",
    "    # Global definition is required by Gin library to instantiate Environment.\n",
    "    global environment  # pylint: disable=global-variable-not-assigned\n",
    "    with gin.unlock_config():\n",
    "        gin.parse_config_file(gin_config_file)\n",
    "        return environment.Environment()  # pylint: disable=no-value-for-parameter\n",
    "\n",
    "\n",
    "def get_latest_episode_reader(metrics_path: str,) -> controller_reader.ProtoReader:\n",
    "    episode_infos = controller_reader.get_episode_data(metrics_path).sort_index()\n",
    "    selected_episode = episode_infos.index[-1]\n",
    "    episode_path = os.path.join(metrics_path, selected_episode)\n",
    "    reader = controller_reader.ProtoReader(episode_path)\n",
    "    return reader\n",
    "\n",
    "@gin.configurable\n",
    "def get_histogram_path():\n",
    "    return data_path\n",
    "\n",
    "\n",
    "@gin.configurable\n",
    "def get_reset_temp_values():\n",
    "    reset_temps_filepath = remap_filepath(\n",
    "      os.path.join(data_path, \"reset_temps.npy\")\n",
    "    )\n",
    "    return np.load(reset_temps_filepath)\n",
    "\n",
    "\n",
    "@gin.configurable\n",
    "def get_zone_path():\n",
    "    return remap_filepath(\n",
    "      os.path.join(data_path, \"double_resolution_zone_1_2.npy\")\n",
    "    )\n",
    "\n",
    "\n",
    "@gin.configurable\n",
    "def get_metrics_path():\n",
    "    return os.path.join(metrics_path, \"metrics\")\n",
    "\n",
    "\n",
    "@gin.configurable\n",
    "def get_weather_path():\n",
    "    return remap_filepath(os.path.join(\n",
    "        data_path, \"local_weather_moffett_field_20230701_20231122.csv\"\n",
    "      ))"
   ]
  },
  {
   "cell_type": "code",
   "execution_count": 65,
   "id": "f5c84b6a",
   "metadata": {},
   "outputs": [],
   "source": [
    "@gin.configurable\n",
    "def get_histogram_reducer():\n",
    "    reader = controller_reader.ProtoReader(data_path)\n",
    "\n",
    "    hr = histogram_reducer.HistogramReducer(\n",
    "        histogram_parameters_tuples=histogram_parameters_tuples,\n",
    "        reader=reader,\n",
    "        normalize_reduce=True,\n",
    "        )\n",
    "    return hr"
   ]
  },
  {
   "cell_type": "code",
   "execution_count": 8,
   "id": "52f0bce8",
   "metadata": {},
   "outputs": [],
   "source": [
    "data_path = \"/burg/home/ssa2206/sbsim_dual_control/smart_control/configs/resources/sb1/\" #@param {type:\"string\"}\n",
    "metrics_path = \"/burg/home/ssa2206/sbsim_dual_control/metrics\" #@param {type:\"string\"}\n",
    "output_data_path = '/burg/home/ssa2206/sbsim_dual_contarol/output' #@param {type:\"string\"}\n",
    "root_dir = \"/burg/home/ssa2206/sbsim_dual_control/root\" #@param {type:\"string\"}"
   ]
  },
  {
   "cell_type": "code",
   "execution_count": 9,
   "id": "4d9dac01",
   "metadata": {},
   "outputs": [
    {
     "name": "stdout",
     "output_type": "stream",
     "text": [
      "/burg/home/ssa2206/sbsim_dual_control/smart_control/configs/resources/sb1/sim_config.gin\n",
      "/burg/home/ssa2206/sbsim_dual_control/smart_control/configs/resources/sb1/sim_config.gin\n"
     ]
    }
   ],
   "source": [
    "histogram_parameters_tuples = (\n",
    "        ('zone_air_temperature_sensor',(285., 286., 287., 288, 289., 290., 291., 292., 293., 294., 295., 296., 297., 298., 299., 300.,301,302,303)),\n",
    "        ('supply_air_damper_percentage_command',(0.0, 0.2, 0.4, 0.6, 0.8, 1.0)),\n",
    "        ('supply_air_flowrate_setpoint',( 0., 0.05, .1, .2, .3, .4, .5,  .7,  .9)),\n",
    "    )\n",
    "\n",
    "time_zone = 'US/Pacific'\n",
    "collect_scenario_config = os.path.join(data_path, \"sim_config.gin\")\n",
    "print(collect_scenario_config)\n",
    "eval_scenario_config = os.path.join(data_path, \"sim_config.gin\")\n",
    "print(eval_scenario_config)"
   ]
  },
  {
   "cell_type": "code",
   "execution_count": 10,
   "id": "14e2e236",
   "metadata": {},
   "outputs": [
    {
     "name": "stdout",
     "output_type": "stream",
     "text": [
      "/burg/home/ssa2206/sbsim_dual_control/smart_control/configs/resources/sb1/sim_config.gin\n",
      "/burg/home/ssa2206/sbsim_dual_control/smart_control/configs/resources/sb1/sim_config.gin\n"
     ]
    }
   ],
   "source": [
    "#@title Load the environments\n",
    "histogram_parameters_tuples = (\n",
    "        ('zone_air_temperature_sensor',(285., 286., 287., 288, 289., 290., 291., 292., 293., 294., 295., 296., 297., 298., 299., 300.,301,302,303)),\n",
    "        ('supply_air_damper_percentage_command',(0.0, 0.2, 0.4, 0.6, 0.8, 1.0)),\n",
    "        ('supply_air_flowrate_setpoint',( 0., 0.05, .1, .2, .3, .4, .5,  .7,  .9)),\n",
    "    )\n",
    "\n",
    "time_zone = 'US/Pacific'\n",
    "collect_scenario_config = os.path.join(data_path, \"sim_config.gin\")\n",
    "print(collect_scenario_config)\n",
    "eval_scenario_config = os.path.join(data_path, \"sim_config.gin\")\n",
    "print(eval_scenario_config)"
   ]
  },
  {
   "cell_type": "markdown",
   "id": "68c7ef80",
   "metadata": {},
   "source": [
    "### Loading Environment"
   ]
  },
  {
   "cell_type": "code",
   "execution_count": 13,
   "id": "5ca70a5e",
   "metadata": {},
   "outputs": [
    {
     "name": "stderr",
     "output_type": "stream",
     "text": [
      "/burg/home/ssa2206/sbsim_dual_control/smart_control/simulator/building_utils.py:283: UserWarning: Connected components is showing that there are 4 or fewer\n",
      "     rooms in your building. You may have your 0's and 1's inverted in the\n",
      "     floor_plan. Remember that for the connectedComponents function,\n",
      "     0's must code for exterior space and exterior or interior walls,\n",
      "     and 1's must code for interior space.\n",
      "  warnings.warn(\"\"\"Connected components is showing that there are 4 or fewer\n",
      "/burg/home/ssa2206/sbsim_dual_control/smart_control/reward/electricity_energy_cost.py:147: UnitStrippedWarning: The unit of the quantity is stripped when downcasting to ndarray.\n",
      "  np.array(carbon_emission_rates) / 1.0e6 / 3600.0\n",
      "/burg/home/ssa2206/sbsim_dual_control/smart_control/reward/electricity_energy_cost.py:152: UnitStrippedWarning: The unit of the quantity is stripped when downcasting to ndarray.\n",
      "  np.array(weekday_energy_prices)\n",
      "/burg/home/ssa2206/sbsim_dual_control/smart_control/reward/electricity_energy_cost.py:159: UnitStrippedWarning: The unit of the quantity is stripped when downcasting to ndarray.\n",
      "  np.array(weekend_energy_prices)\n",
      "/burg/home/ssa2206/sbsim_dual_control/smart_control/simulator/building_utils.py:283: UserWarning: Connected components is showing that there are 4 or fewer\n",
      "     rooms in your building. You may have your 0's and 1's inverted in the\n",
      "     floor_plan. Remember that for the connectedComponents function,\n",
      "     0's must code for exterior space and exterior or interior walls,\n",
      "     and 1's must code for interior space.\n",
      "  warnings.warn(\"\"\"Connected components is showing that there are 4 or fewer\n",
      "/burg/home/ssa2206/sbsim_dual_control/smart_control/reward/electricity_energy_cost.py:147: UnitStrippedWarning: The unit of the quantity is stripped when downcasting to ndarray.\n",
      "  np.array(carbon_emission_rates) / 1.0e6 / 3600.0\n",
      "/burg/home/ssa2206/sbsim_dual_control/smart_control/reward/electricity_energy_cost.py:152: UnitStrippedWarning: The unit of the quantity is stripped when downcasting to ndarray.\n",
      "  np.array(weekday_energy_prices)\n",
      "/burg/home/ssa2206/sbsim_dual_control/smart_control/reward/electricity_energy_cost.py:159: UnitStrippedWarning: The unit of the quantity is stripped when downcasting to ndarray.\n",
      "  np.array(weekend_energy_prices)\n",
      "/burg/home/ssa2206/sbsim_dual_control/smart_control/simulator/building_utils.py:283: UserWarning: Connected components is showing that there are 4 or fewer\n",
      "     rooms in your building. You may have your 0's and 1's inverted in the\n",
      "     floor_plan. Remember that for the connectedComponents function,\n",
      "     0's must code for exterior space and exterior or interior walls,\n",
      "     and 1's must code for interior space.\n",
      "  warnings.warn(\"\"\"Connected components is showing that there are 4 or fewer\n",
      "/burg/home/ssa2206/sbsim_dual_control/smart_control/reward/electricity_energy_cost.py:147: UnitStrippedWarning: The unit of the quantity is stripped when downcasting to ndarray.\n",
      "  np.array(carbon_emission_rates) / 1.0e6 / 3600.0\n",
      "/burg/home/ssa2206/sbsim_dual_control/smart_control/reward/electricity_energy_cost.py:152: UnitStrippedWarning: The unit of the quantity is stripped when downcasting to ndarray.\n",
      "  np.array(weekday_energy_prices)\n",
      "/burg/home/ssa2206/sbsim_dual_control/smart_control/reward/electricity_energy_cost.py:159: UnitStrippedWarning: The unit of the quantity is stripped when downcasting to ndarray.\n",
      "  np.array(weekend_energy_prices)\n"
     ]
    }
   ],
   "source": [
    "\n",
    "collect_env = load_environment(collect_scenario_config)\n",
    "\n",
    "# For efficency, set metrics_path to None\n",
    "collect_env._metrics_path = None\n",
    "collect_env._occupancy_normalization_constant = 125.0\n",
    "\n",
    "eval_env = load_environment(eval_scenario_config)\n",
    "# eval_env._label += \"_eval\"\n",
    "eval_env._metrics_path = metrics_path\n",
    "eval_env._occupancy_normalization_constant = 125.0\n",
    "\n",
    "initial_collect_env = load_environment(eval_scenario_config)\n",
    "\n",
    "initial_collect_env._metrics_path = metrics_path\n",
    "initial_collect_env._occupancy_normalization_constant = 125.0"
   ]
  },
  {
   "cell_type": "code",
   "execution_count": 66,
   "id": "87138f03",
   "metadata": {},
   "outputs": [
    {
     "data": {
      "text/plain": [
       "<matplotlib.image.AxesImage at 0x155479854f10>"
      ]
     },
     "execution_count": 66,
     "metadata": {},
     "output_type": "execute_result"
    },
    {
     "data": {
      "image/png": "[encoded data removed]",
      "text/plain": [
       "<Figure size 640x480 with 1 Axes>"
      ]
     },
     "metadata": {},
     "output_type": "display_data"
    }
   ],
   "source": [
    "plt.imshow(eval_env.building._simulator._building._floor_plan)"
   ]
  },
  {
   "cell_type": "code",
   "execution_count": 67,
   "id": "52848b3c",
   "metadata": {},
   "outputs": [
    {
     "data": {
      "text/plain": [
       "<matplotlib.image.AxesImage at 0x1554778796c0>"
      ]
     },
     "execution_count": 67,
     "metadata": {},
     "output_type": "execute_result"
    },
    {
     "data": {
      "image/png": "[encoded data removed]",
      "text/plain": [
       "<Figure size 640x480 with 1 Axes>"
      ]
     },
     "metadata": {},
     "output_type": "display_data"
    }
   ],
   "source": [
    "plt.imshow(eval_env.building._simulator._building.temp)"
   ]
  },
  {
   "cell_type": "code",
   "execution_count": 68,
   "id": "979e0719",
   "metadata": {},
   "outputs": [
    {
     "data": {
      "text/html": [
       "<table class=\"show_images\" style=\"border-spacing:0px;\"><tr><td style=\"padding:1px;\"><div style=\"display:flex; align-items:left;\">\n",
       "      <div style=\"display:flex; flex-direction:column; align-items:center;\">\n",
       "      <div>Environment 2023-07-06 07:00:00+00:00</div><div><img width=\"1004\" height=\"744\" style=\"image-rendering:auto; object-fit:cover;\" src=\"data:image/png;base64,iVBORw0KGgoAAAANSUhEUgAAA+wAAALoCAIAAABtXeh9AAAv90lEQVR4nO3dv2odx9/A4V1hXKgwIohwCuPChQuDIUVIkeJ3FbpMXcVbpAgpAoEUKVyYFCKIIFy4CMH7FqPYI6/2ePfsv/nuPk8RjCPvjo6OjkafnTNbX101FQAAEMfZ2gMAAACGMYkHAIBgTOIBACAYk3gAAAjGJB4AAIIxiQcAgGBM4gEAIBiTeAAACMYkHgAAgjGJBwCAYEziAQAgGJN4AAAIxiQeAACCMYkHAIBgTOIBACAYk3gAAAjGJB4AAIJ5svYAOOb6uh708VdXzUwjoTRDnxtdPGdgq8a/Snh92Bs/WWJR4gEAIBglvghT/e6bjuM3YADG8zNlP6aah7AkJR4AAIJR4lcz9Lfejx8fbyFnZ18eRzvZm+bffwd9fP3k8ze+ZwtsT/vnS/9Xifz1gT1rPn4c9PH12ecu7CfLMpR4AAAIxi/cKzje4LuK+/GP1+MBGC81e9fr9mxog2ctSjwAAASjxBdhaH3vOoIevwfj9xBolzZgq4a+Z6ZL/srjZ8qWTLUvTer3+cp45uaxBgCAYKS4lY1v8O2j6fFbZR9f4LjJqqrrdRvl58iWKPEAABBMHb3ORv+dctoSn2v3+CT6V3yfup7nY1a77qexec7TJfpPkD6mWhPffsXwnRVLn2f7+H1pploTnz+71vo+Lf8ZrsQDAEAwe0lxO2R9/DbM0eABDX68rsfQz5coSt4Pfg/foeMp8QAAEMymSvzNTaTf/g+HJX7L1OPjWqvBN7e3kx+zvrx8/Fx3d5Of6/6MFxczHZmtav75Z8Wz10+fVmVfYeu/X42fL+Wbr8GPOXKf9fTHd6MvZ03/MiKNFQAAqDZW4umix8diHTwsad0GH0vXq1C70Pv5spa4q8n7d/SSV/MvSYkHAIBglPgd0ePLp8EDEXWtmPfzZUlxGzynUeIBACAYJX539PgyafDzUaemctrrw/jH//h5fX3LocevpfMnSGvteKzdVzjO1xIAAIJR4ndKjy+fBk9p1mre7gwaix6/pP4Nnu1R4gEAIBglfteO9/hENVmeBj9efi/YdPfW5v37tQazmPrZs2rq++BOe+/b/mPrc952g7Tjezn0+Llp8CjxAAAQjBJPZ49nGfbWoGTTdv3x5532ygBz0+PnoMGTKPEAABCMEs+91OMTVR6IxWr4kunxU9HgySnxAAAQjBIPs+u/6t2+NHBcWit/v+OQ+h7K8R6fqPJdNHjalHgAAAhGiYcZ2XkGpmJfmm3o6vF00eDposQDAEAwfhXmK463ZOsXu3S2kw8fqqqqz8+XHQ5shHXw25C//yev8tbH5zR4jlPiAQAgGCWeB4buEG+X37bjDb7950SbB+D41W8NnpwSDwAAwSjxPKJ5//7I/62fPfvib/T4r7STVncHILE+PtHgGUqJBwCAYJR4BkudXo/vQ4MvR/sZe/yKE1CObf98sQsNp1HiAQAgGCWeE+nxSbugjK/v7mU4h+b29tOf68vLFUcCdOlaH59s7+eLBs8YSjwAAAQj+DGKHj+tvDw1NzfznutwmPX4vcZwcfHF3zR3dyuMAyhPqvJb7fEaPOMp8QAAEIwSzwT22eOnXQ2f/m26b+vcDb4c+f4w6fmT2rweDyRdPT4uDZ6pKPEAABDMdn61ZXV76PHH76i3DWnnlnwvl2V0PX8AttHjNXimpcQDAEAwsX+ppUBb7fHHG/z27sya76S+fJU/TXuvmwf/197wm1A/fVpVVfPPP5/+3F/6V/lx1pKPhD3Q4NvqMx15LI8gAAAEo8Qzi+M9PolS5TsLyobqe/pa5J9p/hVcfpX88aZ+XL7jDVuS9ixKz428o/fZy6jrGbX8Pkhjntvkul6ZS/vJosEfV9pVqXWv0Q2lxAMAQDBKPDM6vt9I+avk99Dgk87PdPEdY3R0jnMPga4dWtL+LZT/k0WDZypKPAAABKPEM7v2XTlzpVWTve1CMwf7wFCmcla7jh9JfkViP+vsu642tK9OlPaTJdHgmZYSDwAAwSjxLCruLvJLNvj6cPh83pubxc57f8aOVelD+7rV7ZSjnJX0XSO533Xn6Hr34/crTf93nyvjux6fiPuhQX9KPAAABKPEs4Iye3x7NfzyK+DzM9bn5wufvYumDnPrX+jbH5nvoL9nfa5XLOn4O6xgPCUeAACCKeUXVhZzdvZ4G/j4cen+vfwe5G1KCVCyoav5HzT7Ha+PT/JHY8n18X6ysAwlHgAAglHid6rP2ut2I59jbfRaPX5v+8HnO960WfUO0bV3jh+6Onyf5X4qX/mZYod4ZqDEAwBAMEo8X5Ga9JI7pbR7xlTrF/dQ3xV3YPBK+qzcb6nHd62PH6//qncNnvko8QAAEIwSX4SuHWPWGkPXCvU+K9fnaL3j948vv8F3vjPhaFnvorgD/eU7zbeL9ZbafDL3PUnUd5ahxAMAQDBK/KIOhy97cN6/1+rBfc7b52PGrJtvl+Op7ufa1eBLqO9tCjqwlvZK+m3fBXaqHq+7sxYlHgAAglHiV1BmAy5N1/7x/dtJrAYPwHzSyv72iv+hd3J1N1bKocQDAEAwSjxFO63Ha/AAtHX1+OPUd8qkxAMAQDBKPAEc7/G9jqDBA1BV1XR3crUvDetS4gEAIBglfgVpP3VteKiuHv+Vf+VxBmAi6jvlUOIBACAYJX5RNzdN9d99W/X403Td29UjCcxn2nuXtu+NCjCUEg8AAMEo8SvIezwAJcsbfHNzM/Zoh8OjR+5DvwdySjwAAASjxAObNXQvo3K03/tRvmlXjS+pq3BP2+A7z3572/Mjux5hhf40x3eId5dWyqfEAwBAMEo8sHH9S2cJ6svLtYcwyjYe7WUa/FDtxzaNv13oS2jzY+6Eelx+v9XTjBlbffa5ftoznnUp8QAAEIwSD7u2/KrxiKu92YNHenYxDb5LV5ufVle3TkX8eNWe9srMtJ9dGlt+zK518J3XQM7OKj2e9SjxAAAQjBLPxPKyq7lG0fz55wJnqZ8/X+AsMEb59X1Jx/ftyRv88u+FmG/NfR/tig/LU+IBACAYJZ7JNB8+fPpzfX5e/Vfl9fj59FnRXtrj71kB21DCTkTjx1DCZwGnUeIBACAYJZ5ZpCqfejxT6eruXSvaS1uDnsaZRuW9E8e5XkFp4t6Rd0n5LvIlizJOjvNVBACAYJR4Qlp+d/MlHf/shu4kU1rTzcdf2rWCEuS7XnRee1n1q6nIjhfrMXxw/1oryFvaVdvO8X24GjCeRxAAAIJR4gmgs0dm++Fsw4OV4qP3bm+vQS+nx3NcV+9cd19qRXa8tA99fThU0R7DWKNdku7OWpR4AAAIRomnOPvp7rl8P59p75/atSdMOVwlGGr5R0yDByiNEg8AAMFsqsQfDvWER7u5aU44ZvpXXaYdYRSn1d9td/fllbmXfH6VgD7ae9fM3eM1eIAyKfEAABDMpkp88++/kxynfvLlw5L2E/jKvzocqv9a+/Eev5/GvJ/PlPGsjO+vz17yY7R3MdfgAUqjxAMAQDCbKvHrynf/ba99P97mYc+sjD9Nu45Pu4u8+g5d1r1jAyRKPAAABKPET6y9er6rzQMAQ7Xft7YW92plXUo8AAAEU8qvsxuWt/lU5e/vymnnFgDozfs0IKfEAwBAMEr8ovIdbPR4AIirPvtcQq2PZ3lKPAAABKPEryDv8QBALPnqfHvGsxYlHgAAgjGJBwCAYEziAQAgGJN4AAAIxiQeAACCMYkHAIBgTOIBACAY+8SzEekOuMsYf5/d46Otnz8fefyhus7Y/PnnyCMMHsmzZ5McBwC2TYkHAIBglHg2pXn3btbj1y9eVP919NN6fN7gm7u7aUZ1cVFVVfPHH5Mc7f6Yr15VXyv07f87fgzpvB8/NiOPk5yd1ZMcBwBKo8QDAEAwmyrx9ZMnVVU1//679kBY1KKr4d+9q6bo8VM1+Pl0NfV2oZ/2CgAwlXSNDtgqJR4AAILZVIlPUo/PafN7MPdq+Pa5hvb4Ja8YzEd3h1iav/4aeYT6228nGQkwLSUeAACCCV/ir66aqqqurz/vQZE30W20T8qU9/gB/6r41fAAQPmUeAAACCZ8iSeKMVdFxt8hdW7HV8a7IgQATEuJBwCAYMKX+Hw1PGV6cI/SgXubpF3JS9Z/ZbzV8AB7UJ8ppCzB8wwAAIIJU+LHFHd3cl1eexX4mP3Fx9wbdUn5OK2DB9gzs47j2nf1KU175pl2RCyHEg8AAMFM8GtQOavS26U2b6JDf+c7HD5/XvXhMHp0ezT+7p7pCGllfMk9vmtlvHXwRFdfXi58xub2duEzApxmjjlw/96vxAMAQDClL0h61NAWW2a7pb8oPR62JG/wHz8usRL07KyU67qUb/lrROxB888/X/xN/fTpKiPpQ4kHAIBgJi7x065l9Hs2ubzHA3Nbpr7DGM1ff609hKr+9tu1h0ARxsyBT5vxKvEAABBMyDXxAEyrvrhYewgARStnP8ZEiQcAgGCUeICJtVc3Lrn3eWrq/e9RkDd46+Djyp91rqvAHijxAAAQjBJPSGm3eChZqtpp7/NUSefu8en46Vx9erwGvw15gy9htxbYknzn+LRnfDl3lVbiAQAgGCWeYNJu8Tk7x1OyvMcvo93j7/8+q/Ia/Nzqw+HRv29ubmY6owYPe6PEAwBAMEo8sHEPVgxnlXrdkeTmWGGZH7Nr3xINfm75I7zk1RhgD5R4AAAIRonfnfH7ujQfPkwyEphbu4PmTXrJDt11rvao5tv3QIMHKF+6L+zV1ddfpZV4AAAIRonfqdNq3/1+F+fnlR5PNGW2565rBVP1+LWuPIyx/DsW8msUXbvKTHau7PhrvTfjNLFGu7z6TBVlaZ5zAAAQjBLPAOvu7AHbNu0dXiM2+CjjPM34zy49N5bfD94O9G31t99+8TfNv/+uMhK24bT5lRIPAADBKPGcyMp4mMP4Hh+xwUNE6jvrUuIBACAYJT6MPvu7L9PFrYyHuZ3W4zV4gP1Q4gEAIBglPoC8wTd//vn4xzx/vtRwgIX07/EaPMDeKPEAABCMEl+o9gr4rga/LnvUwNz693gNHmAbrq/rqqquro69qivxAAAQjBJfkPH1fckunu9R82DVvioPM5j2fq4ARKfEAwBAMEp8EfrsP3Nc+ldpj5olu3jeAu0cD3PT4wG2auh9eJR4AAAIRokvyPj9Z/Ij2Dketqrd4wHYGyUeAACCUeKBFdSvXq09hPDsCg/rqp98nkQ1//674kjYJyUeAACCUeJhRvXFxcgjNHd3PY8ZsW1/+PBlSz4/r1cZCUB/zV9/ffpz/e231X9VXo9nSUo8AAAEo8RvnHuprmvMquW090iXdsMGYHmpyuc9vhz5lYHlx5bOfvy89dOnSw1ng5R4AAAIpqxfGYPKa3fbWv3bnvHbkK+Ab6+PB6AE+Sr5EnRdGWhubpY4++HwxdmXOe/c0udVDiUeAACCUeJHyRt8e/Xz/f0Uz88r69EZLn9G3T+XRu91A8AetK8MpDa/0Nk30d3Lp8QDAEAwSvxg7RXwXTuQpL/Pe3yiyjNUu8rn+6nbqQYA9kaJBwCAYIou8c3t7Rd/U19eLjyGrp1n+u///cjKZlWeEdrPKABgb5R4AAAIpugSX44x993sOo6GCgDAaZR4AAAIxiQeAACCMYkHAIBgrIkHClXy+0amep8MLGnJe3ZG177jKZRGiQcAgGCUeIDB8qsEqnws017hifjV//vveGNe0jfflHsNEHJKPAAABKPEAwFcXa3fDq+v9bkllPxeCIByKPEAABCMEg/QS341QJXfhtOu8Kz71e/aYcZuKrA3SjwAAASjxANQqBLeC1GOtBNOes9AvsOM3VRgn5R4AAAIRomHzTo/n6bPffighh7TfzeViHuKT8vOM8SyzD1uvZ8hVx8OEx6tubmZ8GilUeIBACCYXZf4+vx8gbMcL0/5GOrnz2cdyYNzXV4ucZZXr2Y6yyPnffHihH/VvHs38giPjCR7BJbpjseL+5iOno6c/qvHw7q+8tNkkWa8H/njeXMz16vf4eDa1OPyn86nmepnesmUeAAACGZUid/GTsnLrFLdT8VM1TbfOaFMaT+H9Jt6/hv/fr5SfaRHY6q19VvSf9eUbbxOzsHOM6dpv7qW/3ob0Xz1nSW1V9hvaZW8Eg8AAMGcWOK1JaJL7Srv8RyX93jXKwAoWXtV/fZ+1ivxAAAQzGS70zS3t1MdChbjrod95N3d+ngAKIESDwAAwUxQ4jV4AABYkhIPAADB7PqOrcBp5l4Zv8ydbgEgLiUeAACCMYkHAIBgTOIBACAYa+KBE11dTX/fVneDZm+8AwQ4jRIPAADBKPFAQeao+zCfvKN//Djs2avBA2Mo8QAAEIwSDwATGF/Wu65Eea8I0KbEAwBAMEo8AAyQ9/KpGrl3g+xZ/e23y53rcFjsXEM1NzdrDyEYJR4AAIJR4gEWMmbN9NCdT4ayU8ppFHTGuLnx/KmqqjocvP6cQokHAIBglHiAAIaW8rnLPQDrUuIBACAYJR5gRmPWTK+1O7h13gDlU+IBACAYJR6gUEOL+Gnl3r40wN507Zcfa696JR4AAIJR4gE2SF8HOC7fpz/iXvVKPAAABDNxia8vLyc8WnN7O+HRADjOvjRAOeoXL6Y/Zsdq+D7/t/NfTTr77U+JBwCAYGZZE//hw9iWc35eV//9ZqPHA/ShowPbkDf4fOX6fPqcJV83367vt7fTjPPysu/qfCUeAACCKXR3mtTyU48HAGAP0k7taW36Mg1+jKnq+2mUeAAACKbQEp9b6z2/AAAs47SdYZZXzrxUiQcAgGCKLvHtXW6skgcA2J7yV8CnEaY9atZdDZ8o8QAAEIxJPAAABGMSDwAAwUy2Jr6c9+rCfniXCOzNN98s8V3/99/NYucCTqPEAwBAMBPvTtPeTwYAiKv8PUNgn5R4AAAIpuh94rvU5+cTHu3szJo/tuDqSi2DbVrmu/v62k9DiESJBwCAYEKW+PSu+Si8ux8AgGkp8QAAEMwEJd4O8QAAsCQlHgAAgil6Tby7UQIAUJrLy7qqqtvbNd+lqcQDAEAwJ5b4tGdtvqfsfPdqjbUXDQAAW5XuYXw4rL9aRIkHAIBgTOIBACAYk3gAAAjGJB4AAIIxiQcAgGBM4gEAIBiTeAAACKboO7ZuSX732bSnfvn3ox0zzm++WfOza99boP94yv+6AADz6b8HfLpva9syd3JV4gEAIJjJSvx8/bJPQy35rq752NLnkj9WS448nf3t26+f8eXLL8fZ51+VII286zkT5bPoL32+AEA5ugr9tJR4AAAIxpr4RZV8xSAXt1jHHTkArKX/KvC9ubpqqqq6vn788Un/N+n6mPko8QAAEMyoEp///rG85X/jAQDYqpsbV7Mf12fGu/ysWIkHAIBgTOIBACAYk3gAAAjGJB4AAIIxiQcAgGBM4gEAIBiTeAAACMYdW2E1L1+61wFQom+++fzqNOZenvYdh/ko8QAAEIxJPAAABGMSDwAAwVgTD0W4urJyFFjTVK9C19fe7QNLUOIBACAYk3gAAAjGJB4AAIIxiQcAgGBM4gEAIJiN7E6T31tubn//bRcRAIAljLln8LYp8QAAEIxJPAAABGMSDwAAwQReE7/kHS7dfw4AYF3ubp5T4gEAIBiTeAAACMYkHgAAgjGJBwCAYEziAQAgGJN4AAAIxiQeAACCCbxPPAAQy+FQ1n1Xbm7sO05USjwAAASjxAMAi7q9Xb9/X16WdU0AhlLiAQAgGCUeAJhdaavhITolHgAAglHiAYCFlLAaHrZBiQcAgGBM4gEAIBiTeAAACMaa+MG++Sb2++tfvow9/qHevrX+EoDH2TMn59GIRYkHAIBgTOIBACAYk3gAAAjGmvherq6sq47k+tqqPgCG8bOeWJR4AAAIxiQeAACCMYkHAIBgTOLZuJcv671tjQ8AbJ5JPAAABGMSDwAAwZjEAwBAMCbxbNDVVWO7XwBgw0ziAQAgGJN4AAAIxiQeAACCMYkHAIBgTOIBACAYk3gAAAjGJB4AAIIxiQcAgGBM4gEAIBiTeAAACMYkHgAAgjGJBwCAYEziAQAgGJN4AAAIxiQeAACCMYkHAIBgTOIBACAYk3gAAAjGJB4AAIIxiQcAgGBM4gEAIJgnaw8AlvDyZb32EAB253D48rX38nLYq/HtbTPdcE4cA5RJiQcAgGCUeACgUKo5dFHiAQAgmPrqavrVZgAAp7m+Xq6+mwURlxIPAADBKPEAABCMEg8AAMGYxAMAQDAm8QAAEIxJPAAABGMSDwAAwZjEAwBAMCbxAAAQzJO1B/C4+e7Wlu+Lv8xZ5jvX8p9L3LP0uR/CVOdd5qvfPteSz+e5belz2Z4tPZ/7nCV9/NDxlPm5nHbkLvOdMeIjtvy5tvS5tM9CH0o8AAAEU2iJhyVN2xXS0U6rd+XTYNib7X0X95G/jgFlUuIBACCYupzfs7tqR/Phw8gj1+fnX/2Y+c7SLrLN3d3pZ7m4+OrHjDn+gLP88cfYs7x6NetZ+hy/87y3t8POdXl58pG7/m3z9u3j53r58utnGfhv+49qec0vv4w8Qv3995/+XM4rXlwPXs3++Wfk0eqnT7/6Mc3NzdizHA6DznL847teH/p81wx9bVnyLGO+6+c74zJf/dvbaV4ZLi+/ft1mzLnmOH465ocPX/6r8/Ovn6v9r4Zqn8WrdH9KPAAABGNN/Oz2uZ4yrtN6UvpXx6vS+AJXmmkbOZRve9/FuT6vYzA378foT4kHAIBgCi3x41eot4/WtWZ9qnPlx+mzCv/Es4xe797/LF0r48evhp/2OEOP37VWfnxjW6bSda13n/gs2ecyX5kb3/JZ0hzXFfNV9Wl9/Pg10I+cZYZjPnKWZV4BZv7eLOFqw7Rfr3S0rpXxU62Gn+Noyx8/N369e/+z9Fl/T5sSDwAAwRRa4ucwbd3vc675evwy8uqfqvzc7RzmVtp7VOa7v+9W71SwjHYJ7rPDCXAaPf40SjwAAASzoxIPUJr5SvncDX78DvEAjKHEAwBAMEo8u5Ov7E871ZSwGwPzOW0PnK497Jt378YNp6pfvOj5kc2ffw478vPnx442euT3Z+k9fiiH9zmwPUo8AAAEo8QDPCLv96nKT1Wy8+Okqj20uHceOTtOqvJTjRmA0ijxAAAQjEk8AAAEYxIPAADBmMQDAEAwJvEAABCMSTwAAARjEg8AAMGYxAMAQDAm8QAAEIw7tkKh6pcvq6pq3r5deyBVc3tbVVV9eVk9vI8psK70vRlXe/zpdaY+HKqqam5uVhgTxKHEAwBAMEo8rKyrpd0XqWJ6PMDc8ut+wHFKPAAABGMSD4Vqbm+jL3gFAGZiEg8AAMFYEw8A7NTlZb32EIpwfr7O4/DhQ7PKebdBiQcAgGCUeHakfvVq7SEAgZW8a4q30Jymubtbewgrqy8uqqpq3r9f+rzPni18xu1R4gEAIBglnt2J2KvSbvGwB+lunW0l3L+z+eOPtYfwiPwaY8nXCo5r7xDf9UyY4FwFPJdI1lqLvw1KPAAABKPEQ9GmvW4Qt9KxB80//1RVVT99WlVV88svn/6+/v771cYUU/7ola/99W1++22uc715M9ORGSpfhW99/GmUeAAACEaJB6AIqcEDe5OqvB4/lBIPAADBKPG91Ofnaw9hAmkv2BmPP3oX9rTzw9y7uefrwiPuVMNa6hcv5jry8+dzHXm+Mc9WzbvWc8+3Vwl747nENijxAAAQTKElvszy/fFjM+jjz84e3/107iJ+3GntOdXrdiNvt/Mxx39w5J9/PuE4A874ww+zHp8tibXXx/aU8PjbIWcb8n1v7FRDdEo8AAAEU2iJH9q8y5R/FqnKx12B3R55u83H/ewAAGJR4gEAIJhCSzzlS9099XgNPrpH3pPgawotD649/vHHiiMBUOIBACAYJZ7B2tWW6PLdP+zCAW2+R+bmJwsMpcQDAEAwSjwDuNcpANNqX+VIO7jne7oDbUo8AAAEo8QzmAa/B9anAstLVX7udx24VyvboMQDAEAwSjzwQL4+FShZvm+9q2dDNXd3aw8BRlHiAQAgGCUeNq6rzynuMEaq4CXct9X3MuyTEg8AAMEo8VCQ+Va1anUwlXwHlXxVeufHF1Drge1R4gEAIBglHlZjtTr9TbtztufYeH0ewz61XqfP5c9zu7kvqX72bO0hMJgSDwAAwSjxsKh2fddE++jq0Ht79MbfLzk9A9PjubdHb3nHH+F2p1flk+bXX2c9fv3dd7MeP6J178XuLgenUeIBACAYJR5mZNX7tJqffvr05/rHH1ccSVypt+leJchfB/rvdQOQKPEAABCMEs9gxxte17q6PZQ/3X28afdg4bj80fYsXZfHHxhKiQcAgGCUeAbrKkZ9GuqYf1smu820jf9q5mvfmUN+xWwPV8kAtkeJBwCAYJR4JraHqqe+96GmA9CHXbNOo8QDAEAwSjyT2WqNtudM7vh6930+JgCwPCUeAACCUeIXFXe9V9fu71tl1XuuXd+bn3/+8mN++GGp4ays/947e37O9FHOnlS+UtQXF2sPAQZT4gEAIBglflHNv/+uPYTB6ifrPEnaZbddfyc7145XvQ/oyrM9/uMt03Tz58Pxa1P5M6qc3nzcMndvfeSqzqpX+dJXyjs99ixv8M3NzXoDWU19OKw9BE6kxAMAQDBKPIXK69d8LTMvpnvubSVX9v7ma7rj381S8rtKlr97azmPRv8rKmzbPhs80SnxAAAQjBLPxh3fNSVife9zXaL9eUVZmQ2wDDvSEJ0SDwAAwSjxhJGaep/V24/sbBOwuLc92D+k43FIn3tXd9/G2neAMZpff62qqv7uu8pqeCJT4gEAIBglngBSR091uf+dQbdX35PjNV1rh2md9n6Sbbz+ACVT4gEAIBglnjD2XLb0dVhe2kU+7Rbf3N31/Fd99jw5bY8pgJwSDwAAwSjxDPbIKm3FCDakc3ej3t/p7kvQR9fjef/+H6+0wFFKPAAABKPEM1jz22+f/ly/ebPiSIBppVXgbWld+FRH27Mxd1wef4Ukivsd3H/9deVxQNmUeAAACEaJZwKpD51Wg/K2VL96NdmYgKk9uGdw9v1uBXwfXY9eH8dXz2/Jg7uCfPfdl/93YJtvH+G040CZlHgAAAhGiWeUtD4+rYwf04Sss4eS5avb0/r49vU3K+D72N769Tl0visgK+v9a7qrRmyVEg8AAMEo8Uwg7+jbM0e5UeOIK7+PKSyjXdOPr5jvWg0PW6LEAwBAMEo8PDD3TsxWZMJ++H6fQ58V810fCVuixAMAQDBKPDxSy+buN2N21gdi8Z0+N48w+6TEAwBAMEo83Fum5Ty4H6EeT3DWfHfxyJTM3jVsgxIPAADBKPH0Yk/oaeU9HiJyf9Yuzd1dVVX1xUXlOlt53L2VLVHiAQAgGCWeR9RPPj8xtn031jLpQwBz8OrKlijxAAAQjBLPg+6eK7nBD60pJa9M7dqjpvn55zWGA7BB96+0f/75+W+eP6+qqj4cPv1Nc3Oz/MDgZEo8AAAEo8TvVNxV73mD7zPy+s2bqtQd2e1RAzC3rtdYVZ7olHgAAAhmIyX+7Kw+8n8/fmwWG0nJ2mvfy2/wnQWl98jTR6YeX7IyrxUwxravsax774jju9SPH9s2dsFf6xlY5utY3t2P/19Vvr/j32vb+D4qmRIPAADBFFrij5f1Ls0ff3zxN/WrVycfLW6/j7jbTNvQte+Dj1lMK7IyPor+X6P99Kfm998XPmP9+nXPj0x3Th18/IuL6r++uI2v45KvdaW9jp02nnazz6v8/cdsrs2PuX7V/k5JR3Ov97kp8QAAEEyhJb7d1Jc8Tur3sURc737ctOPPj1b++nhKs40iO15pXW2O8aR+n/f4iEor4str7wo/xrZXzKfxp89oqte6044T9ztuLUo8AAAEU2iJ57htrHoHIlp+Hfxxp619X/6YyyvnnT9LmvsqxPEqf/8xwds8USjxAAAQjBIfxvZWvQOcxtrZLuWvhp9jhO09vqZaDf+V87b3sdHmWZASDwAAwSjxhYre3Y/vAFPC51J+rwLa8hX5/feM35vyV8M3v/46yXHq776r1mjwXfq0eVWeqSjxAAAQjBJfkIj1/SvF/f/+78uP/9//Pv2rtT679nntHD8V1zdYXtrTPdnGrjJDRfm+m2U1fFb0U5UvTZ/dbOA0SjwAAASjxH/F2Vk94dG69ndPyu/uSbtbt4t7l/SRqcezJc3PP3/6c/3DDyuOhP0of338Mo28/BXwD9asT7QaPqJ11+sfl64SEIsSDwAAwSjxvURp5HPLG3z/+n78aB5bYHvS6vy0Xr+5vZ3pLLH2y99zg4c5KPEAABDM4BJ/fT3lGnEiGt/grYxnKvla2zFVcr5WuoxYRXZJ+d41Q+1zr5tpRdk5h9LMMdu8umomP+a6lHgAAAjGmnhWZmU8p2l++mmS49Q//lj9V7Ij9vi8wTfv3897rmfPZj3+fJo//hj08fWrVyPPOOYKQHTt+l7Cavihu6+UvJMMp0l1f0s9XokHAIBgBpT49vqk8dXKOs49szKeEqSiH73Hz93goyitf0d8Lo2RdqxPJb6E+t7WZ1Tpzq95uVfl1zXm+2jb80wlHgAAgll5TXz7t6tt/85Ugvb9VnNrrU0/PirKF/0ure0e/5WPX7Wwep1sy+/emhtzJ9f7Xd7tURPc4NXwWa1vV/n7j9Hmg0iv1Vt9zVTiAQAgmBNL/N7W+UXX7tzNhw9ffsz5+VLDeTiS1q7zVsnHNdWOMWvpM/5U69ey5F40e5Z2sxm/Rw3rerCu/aQ1+u1/ldo8lECJBwCAYOwTv1l96nvXv7JrO5RGg4fTlLlPDoynxAMAQDBK/KacVt/zj0wr4/V4KIcGH9eDr533kgGTUuIBACCYQkt8CXsCnJ19eYfakuUNvn99b8t7PLCuEhp8/ezZKueNLt9dvrT7yO7B0L3h9yx/rLa6n/pWKfEAABBMcSU+v7eWNdlDjWnwbVbGr6u0e6A2P/+89hB2oV3CSlgH33U/VCjN+L3h98ldqCNS4gEAIJjiSjwlsFNNCcppn/Xr19V/Vwb0+OT+auGk7aqEFfAQnfrOfijxAAAQjBJPJzvVkKRrAnmPv//7XVb55qefqqqqf/yxmqLHl7kCHoDyKfEAABCMEg/0kq/Rt0p+fI+3Ap6c3TmAoZR4AAAIRokHButaJb837R5///dHq7wGT+7B8+GXX4b92++/n3o4QBhKPAAABKPEAydqr5Lfp9Tjk65V8nahIela+z60wQMo8QAAEIwSDzCZfJV8YgU8yZi17wBtSjwAAASjxAPMQoOnvrj49Gf1HZiWEg8AAMEo8UAvXfvP5HvUkFPf90yDB+amxAMAQDBKPDDAI3ui73iHeDhOgwfmo8QDAEAwSjxworzKAwBLUuIBACAYJR5gFvWzZ5/+bKcaAKalxAMAQDBKPMDEHtnD59mzSo8HYDpKPAAABGMSDzCj5qefPoX5+tmzfKE8AJzMJB4AAIKxJh5gdinGp/XxwDbUz5+vPYTJ1JeXR/5vc3u72EjoT4kHAIBglHgAgBM1795NeLT6xYuqqpqbmwmPOUZ9OKw9hIldX9dVVV1dNWsPZAJKPAAABKPEV/WbN2sPYTL1+flcR84epfp//5vpLF1nXEb9/fcLn/H4GOrXr1ccSa75/fe1h7BBXdvU2EsegD6UeAAACEaJv7f8+rO0zqy5u1v4vCT1xUVVVc3bt2sPpGj1y5drD2GD8gbffPjw+e9nu5IGsGdpd53jO/BEpMQDAEAwSjzAovL6DkDXPvTba+fTUuIBACAYJR5gRu7SCsAclHgAAAhGiQeYRd7grYMHYFpKPAAABKPEA0xMgwdgbko8AAAEo8QDBZl7L5fmp58WG8n2Gnz9+vWsx29+/33W4wNsiRIPAADB9Crx19f1F38zxz20uu7XBTCVoX19ezW9S/3s2bH/O3ODb59lG1W+/v77zZxlqPq77zZ83vr58wXOQuK+rV2UeAAACObENfHTVvP8dyy/bwHJ1VUzyXHa1xIZb+6vzrTtv371asKj9df8+ecq540rFe7m3bu1B0IR5pttboMSDwAAwQwu8cusXG9++22BswB7MLQZK/dTVfah58of+eb9+0mOn9b6N3d3kxwNoBxKPAAABGMSDwAAwZjEAwBAMCvfsdW+NAAAMJQSDwAAwaxc4hN70QAAQH9KPAAABGMSDwAAwZjEAwBAMEWsia/fvKmsjIdS1a9frz0EAOABJR4AAIJZucQ3t7fVfzvE6/FQmubt209/rl++XHEkAEBOiQcAgGCKWBOf93igNBo80dUXF5/+3NzdrTYOgOko8QAAEEwRJR4oX/PTT2sPAQZr3r//9Of62bMVRwIwLSUeAACCUeIBOtXn50ufUS0GoAclHgAAgjGJBwCAYEziAQAgGGviAR64umrWHgIAfIUSDwAAwZjEAwBAMCbxAAAQjDXxwAD1jz+uPQR2wX75AMcp8QAAEMyuS3z95s3aQ6jqi4u1h7Br9cuXC5yleft2sXNNJY05p8GzDelVt7m7W3kcEEd9eVlVVXN7u/ZAeECJBwCAYHZd4pPm5mbNs//224pnZ27tqz1zfMXTWZp376Y52osXVb/rBlPtp359XU9yHKKbb4d+zzE4TZoj1YfD2gPhEUo8AAAEo8TD7IKthm8V/dTmc9MWU3dIZW7pOabHA1uixAMAQDBKPMwu+jsfUptv93gAYC1KPAAABGMSDwAAwZjEAwBAMCbxAAAQjEk8AAAEYxIPAADBmMQDAEAwJvEAABCMSTwAAARjEg8AAMGYxAMAQDAm8QAAEIxJPAAABPNk7QF8qX7zZu0hAADwQH152fMjm9vbQR+f/yv6U+IBACCYgkr88r+BDf0dEQBgn/rM09LMKp9f9f9XDKXEAwBAMAWVeAAA4rKufUlKPAAABGMSDwAAwZjEAwBAMCbxAAAQjEk8AAAEM3h3mvn28vSOZhgqv8Nx/eLFiiOBWOqLi7WHADzCnvH9KfEAABBMQfvEp9+99HgAtqd+/nztIYThumJ9OKw9BAJQ4gEAIJheJf7qqpnp9NfX9UxHhr2Z4/vUdyh7MO33Tvu7Jm/wrjZDl/Zq+Pnmn9ugxAMAQDArr4lPv2OpfVAmFYQtWff5rMFDl/TdYV+aoZR4AAAIxiQeAICVNbe3LlgNYhIPAADBmMQDAEAwJvEAABCMSTwAAARjEg8AAMGYxAMAQDAm8QAAEIxJPAAABGMSDwAAwZjEAwBAMCbxAAAQjEk8AAAEYxIPAADBmMQDAEAwJvEAABCMSTwAAARjEg8AAMGYxAMAQDAm8QAAEIxJPAAABGMSDwAAwZjEAwBAMCbxAAAQzJO1B/Cl+vJygbM0t7cLnIU9q9+8efTPwH7Uz59//vMMP938LGNJc8/QPJ+HUuIBACCY4kr8MvLfJuvDYc2RaLQAnCT/WZYq5jJXs9mbZRq5Z+9QSjwAAARTdIm/umomPNr1df3o3ze//z7hWdZVv35dVVXz9u3aAxmgfvmy2tZKuHZLWOaZDJRsqteBrleAB1X+3btJzrW8+sWLqqqau7u1BzJKfXFRbeXnWnpezfdzzU+0MZR4AAAIpp62EZYv/51vSw0+UeLLkXeLvX2XAct48BMtbH3PKfFlmvsKM6dR4gEAIBiTeAAACMYkHgAAgjGJBwCAYEziAQAgGJN4AAAIxiQeAACCMYkHAIBgTOIBACAYk3gAAAjGJB4AAIIxiQcAgGBM4gEAIBiTeAAACMYkHgAAgjGJBwCAYEziAQAgGJN4AAAIxiQeAACCMYkHAIBgTOIBACAYk3gAAAjGJB4AAIIxiQcAgGBM4gEAIJgnaw9gTfXr12sPYQLN779XDz+X+uXL9YZzovrysqqq5vZ27YEAsIL6xYvPf764WG8gk0k/12A+SjwAAASz6xK/Ddu4npDk3UKVBwDoosQDAEAwuyvxV1fNrMe/vq4XOG/XWaY9VwmfCwB7M/dPatgGJR4AAILZXYmf2zL9YKtnUeUBAPpQ4gEAIBiTeAAACMYkHgAAgjGJBwCAYEziAQAgGJN4AAAIxiQeAACCMYkHAIBgTOIBACAYk3gAAAjGJB4AAIIxiQcAgGBM4gEAIBiTeAAACMYkHgAAgjGJBwCAYEziAQAgGJN4AAAIxiQeAACCMYkHAIBgTOIBACAYk3gAAAjGJB4AAIJ5svYA4HH15eVMR25ub2c9PsDy6hcvZjpy8+7dAmcBhlLiAQAgGCWe3dHgAfpT36FMSjwAAASjxFOQq6tmpiNfX9cLnPf4WQCWMf41rc+r2Xyv2EAfSjwAAART+00aAABiUeIBACAYk3gAAAjGJB4AAIIxiQcAgGBM4gEAIJj/B81mkiswy+rjAAAAAElFTkSuQmCC\"/></div></div></div></td></tr></table>"
      ],
      "text/plain": [
       "<IPython.core.display.HTML object>"
      ]
     },
     "metadata": {},
     "output_type": "display_data"
    }
   ],
   "source": [
    "render_env(eval_env)"
   ]
  },
  {
   "cell_type": "code",
   "execution_count": 69,
   "id": "f88cd28e",
   "metadata": {},
   "outputs": [],
   "source": [
    "timestep = eval_env.reset()"
   ]
  },
  {
   "cell_type": "code",
   "execution_count": 70,
   "id": "d5f5e1d8",
   "metadata": {},
   "outputs": [
    {
     "data": {
      "text/plain": [
       "tf_agents.trajectories.time_step.TimeStep"
      ]
     },
     "execution_count": 70,
     "metadata": {},
     "output_type": "execute_result"
    }
   ],
   "source": [
    "type(timestep)"
   ]
  },
  {
   "cell_type": "markdown",
   "id": "07adb08f",
   "metadata": {},
   "source": [
    "At each time index, the environment returns \n",
    "- the discounting rate $\\gamma$\n",
    "- Observation state vector $\\in \\mathbb{R}^{53}$\n",
    "- Reward\n",
    "- Step Type ? "
   ]
  },
  {
   "cell_type": "code",
   "execution_count": 71,
   "id": "67ef0fa9",
   "metadata": {},
   "outputs": [],
   "source": [
    "import gym"
   ]
  },
  {
   "cell_type": "code",
   "execution_count": 72,
   "id": "b70a7e36",
   "metadata": {},
   "outputs": [
    {
     "data": {
      "text/plain": [
       "False"
      ]
     },
     "execution_count": 72,
     "metadata": {},
     "output_type": "execute_result"
    }
   ],
   "source": [
    "isinstance(eval_env, gym.Env)"
   ]
  },
  {
   "cell_type": "code",
   "execution_count": 73,
   "id": "a37ccc65",
   "metadata": {},
   "outputs": [
    {
     "data": {
      "text/plain": [
       "TimeStep(\n",
       "{'discount': array(1., dtype=float32),\n",
       " 'observation': array([-20.        , -19.128613  ,   0.        ,  -0.82162595,\n",
       "        -0.5831852 ,   4.8570604 ,   0.        ,  -2.425231  ,\n",
       "        -1.1068594 ,   0.        ,   2.564033  ,   1.4996233 ,\n",
       "         1.        ,   0.        ,   0.        ,   0.        ,\n",
       "         0.        ,   0.        ,   1.        ,   0.        ,\n",
       "         0.        ,   0.        ,   0.        ,   0.        ,\n",
       "         0.        ,   0.        ,   0.        ,   1.        ,\n",
       "         0.        ,   0.        ,   0.        ,   0.        ,\n",
       "         0.        ,   0.        ,   0.        ,   0.        ,\n",
       "         0.        ,   0.        ,   0.        ,   0.        ,\n",
       "         0.        ,   0.        ,   0.        ,   0.        ,\n",
       "         0.        ,   0.        ,  -0.25881904,   0.9659258 ,\n",
       "        -0.90096885,   0.43388373,   0.        ,   0.        ,\n",
       "        -0.99206346], dtype=float32),\n",
       " 'reward': array(0., dtype=float32),\n",
       " 'step_type': array(0, dtype=int32)})"
      ]
     },
     "execution_count": 73,
     "metadata": {},
     "output_type": "execute_result"
    }
   ],
   "source": [
    "timestep"
   ]
  },
  {
   "cell_type": "markdown",
   "id": "7a4ae8f5",
   "metadata": {},
   "source": [
    "### Understanding State Space"
   ]
  },
  {
   "cell_type": "code",
   "execution_count": 99,
   "id": "dfc6fcd4",
   "metadata": {
    "scrolled": true
   },
   "outputs": [],
   "source": [
    "field_states = eval_env._field_names # what each state dimension represents"
   ]
  },
  {
   "cell_type": "code",
   "execution_count": 100,
   "id": "4229fb5d",
   "metadata": {},
   "outputs": [
    {
     "data": {
      "text/plain": [
       "['air_handler_id_44e511f8-3f4c-4dee-b9b8-345c0d8988ac_cooling_request_count',\n",
       " 'air_handler_id_44e511f8-3f4c-4dee-b9b8-345c0d8988ac_differential_pressure_setpoint',\n",
       " 'air_handler_id_44e511f8-3f4c-4dee-b9b8-345c0d8988ac_discharge_fan_speed_percentage_command',\n",
       " 'air_handler_id_44e511f8-3f4c-4dee-b9b8-345c0d8988ac_outside_air_flowrate_sensor',\n",
       " 'air_handler_id_44e511f8-3f4c-4dee-b9b8-345c0d8988ac_outside_air_temperature_sensor',\n",
       " 'air_handler_id_44e511f8-3f4c-4dee-b9b8-345c0d8988ac_supply_air_cooling_temperature_setpoint',\n",
       " 'air_handler_id_44e511f8-3f4c-4dee-b9b8-345c0d8988ac_supply_air_flowrate_sensor',\n",
       " 'air_handler_id_44e511f8-3f4c-4dee-b9b8-345c0d8988ac_supply_air_heating_temperature_setpoint',\n",
       " 'air_handler_id_44e511f8-3f4c-4dee-b9b8-345c0d8988ac_supply_fan_speed_percentage_command',\n",
       " 'boiler_id_331bd1b6-eb3f-4910-b095-8c977bd75546_heating_request_count',\n",
       " 'boiler_id_331bd1b6-eb3f-4910-b095-8c977bd75546_supply_water_setpoint',\n",
       " 'boiler_id_331bd1b6-eb3f-4910-b095-8c977bd75546_supply_water_temperature_sensor',\n",
       " 'supply_air_damper_percentage_command_h_0.00',\n",
       " 'supply_air_damper_percentage_command_h_0.20',\n",
       " 'supply_air_damper_percentage_command_h_0.40',\n",
       " 'supply_air_damper_percentage_command_h_0.60',\n",
       " 'supply_air_damper_percentage_command_h_0.80',\n",
       " 'supply_air_damper_percentage_command_h_1.00',\n",
       " 'supply_air_flowrate_setpoint_h_0.00',\n",
       " 'supply_air_flowrate_setpoint_h_0.05',\n",
       " 'supply_air_flowrate_setpoint_h_0.10',\n",
       " 'supply_air_flowrate_setpoint_h_0.20',\n",
       " 'supply_air_flowrate_setpoint_h_0.30',\n",
       " 'supply_air_flowrate_setpoint_h_0.40',\n",
       " 'supply_air_flowrate_setpoint_h_0.50',\n",
       " 'supply_air_flowrate_setpoint_h_0.70',\n",
       " 'supply_air_flowrate_setpoint_h_0.90',\n",
       " 'zone_air_temperature_sensor_h_285.00',\n",
       " 'zone_air_temperature_sensor_h_286.00',\n",
       " 'zone_air_temperature_sensor_h_287.00',\n",
       " 'zone_air_temperature_sensor_h_288.00',\n",
       " 'zone_air_temperature_sensor_h_289.00',\n",
       " 'zone_air_temperature_sensor_h_290.00',\n",
       " 'zone_air_temperature_sensor_h_291.00',\n",
       " 'zone_air_temperature_sensor_h_292.00',\n",
       " 'zone_air_temperature_sensor_h_293.00',\n",
       " 'zone_air_temperature_sensor_h_294.00',\n",
       " 'zone_air_temperature_sensor_h_295.00',\n",
       " 'zone_air_temperature_sensor_h_296.00',\n",
       " 'zone_air_temperature_sensor_h_297.00',\n",
       " 'zone_air_temperature_sensor_h_298.00',\n",
       " 'zone_air_temperature_sensor_h_299.00',\n",
       " 'zone_air_temperature_sensor_h_300.00',\n",
       " 'zone_air_temperature_sensor_h_301.00',\n",
       " 'zone_air_temperature_sensor_h_302.00',\n",
       " 'zone_air_temperature_sensor_h_303.00',\n",
       " 'hod_cos_000',\n",
       " 'hod_sin_000',\n",
       " 'dow_cos_000',\n",
       " 'dow_sin_000',\n",
       " 'comfort_mode_now',\n",
       " 'comfort_mode_soon',\n",
       " 'num_occupants']"
      ]
     },
     "execution_count": 100,
     "metadata": {},
     "output_type": "execute_result"
    }
   ],
   "source": [
    "field_states"
   ]
  },
  {
   "cell_type": "code",
   "execution_count": 98,
   "id": "13f67d4d",
   "metadata": {},
   "outputs": [],
   "source": [
    "def label_obs_vector(obs):\n",
    "    return(pd.Series(data=observation, index=field_states))"
   ]
  },
  {
   "cell_type": "markdown",
   "id": "84c10de9",
   "metadata": {},
   "source": [
    "# Action Space"
   ]
  },
  {
   "cell_type": "code",
   "execution_count": 35,
   "id": "0242de1e",
   "metadata": {},
   "outputs": [],
   "source": [
    "import tensorflow as tf\n",
    "from tf_agents.agents.sac import sac_agent, tanh_normal_projection_network\n",
    "from tf_agents.drivers import py_driver\n",
    "from tf_agents.keras_layers import inner_reshape\n",
    "from tf_agents.metrics import py_metrics\n",
    "from tf_agents.networks import nest_map, sequential\n",
    "from tf_agents.policies import greedy_policy, py_tf_eager_policy, random_py_policy, tf_policy\n",
    "from tf_agents.replay_buffers import reverb_replay_buffer, reverb_utils\n",
    "from tf_agents.specs import tensor_spec\n",
    "from tf_agents.train import actor, learner, triggers\n",
    "from tf_agents.train.utils import spec_utils, train_utils\n",
    "from tf_agents.trajectories import policy_step\n",
    "from tf_agents.trajectories import time_step as ts\n",
    "from tf_agents.trajectories import trajectory as trajectory_lib\n",
    "from tf_agents.typing import types"
   ]
  },
  {
   "cell_type": "code",
   "execution_count": 101,
   "id": "13a9d8b6",
   "metadata": {},
   "outputs": [],
   "source": [
    "def get_trajectory(time_step, current_action: policy_step.PolicyStep):\n",
    "    \"\"\"Get the trajectory for the current action and time step.\"\"\"\n",
    "    observation = time_step.observation\n",
    "    action = current_action.action\n",
    "    policy_info = ()\n",
    "    reward = time_step.reward\n",
    "    discount = time_step.discount\n",
    "\n",
    "    if time_step.is_first():\n",
    "        return(trajectory.first(observation, action, policy_info, reward, discount))\n",
    "    elif time_step.is_last():\n",
    "        return(trajectory.last(observation, action, policy_info, reward, discount))\n",
    "    else:\n",
    "        return(trajectory.mid(observation, action, policy_info, reward, discount))\n",
    "\n"
   ]
  },
  {
   "cell_type": "code",
   "execution_count": 39,
   "id": "ec53760b",
   "metadata": {},
   "outputs": [],
   "source": [
    "def compute_avg_return(environment, policy, num_episodes=1, time_zone: str = \"US/Pacific\", \n",
    "                       render_interval_steps: int = 24,trajectory_observers=None,):\n",
    "    \"\"\"Computes the average return of the policy on the environment.\n",
    "    Args:\n",
    "    environment: environment.Environment\n",
    "    policy: policy.Policy\n",
    "    num_episodes: total number of eposides to run.\n",
    "    time_zone: time zone of the environment\n",
    "    render_interval_steps: Number of steps to take between rendering.\n",
    "    trajectory_observers: list of trajectory observers for use in rendering.\n",
    "    \"\"\"\n",
    "    total_return = 0.0\n",
    "    for _ in range(num_episodes):\n",
    "        time_step = environment.reset()\n",
    "        episode_return = 0.0\n",
    "        t0 = time.time()\n",
    "        epoch = t0\n",
    "        step_id = 0\n",
    "        execution_times = []\n",
    "        while not time_step.is_last():\n",
    "            action_step = policy.action(time_step)\n",
    "            time_step = environment.step(action_step.action)\n",
    "\n",
    "            if trajectory_observers is not None:\n",
    "                traj = get_trajectory(time_step, action_step)\n",
    "                for observer in trajectory_observers:\n",
    "                    observer(traj)\n",
    "\n",
    "            episode_return += time_step.reward\n",
    "            t1 = time.time()\n",
    "            dt = t1 - t0\n",
    "            episode_seconds = t1 - epoch\n",
    "            execution_times.append(dt)\n",
    "            sim_time = environment.current_simulation_timestamp.tz_convert(time_zone)\n",
    "\n",
    "            print(\"Step %5d Sim Time: %s, Reward: %8.2f, Return: %8.2f, Mean Step Time:\"\n",
    "                  \" %8.2f s, Episode Time: %8.2f s\" % (step_id, sim_time.strftime(\"%Y-%m-%d %H:%M\"),\n",
    "                                                       time_step.reward, episode_return, \n",
    "                                                       np.mean(execution_times), episode_seconds,)\n",
    "                 )\n",
    "            if (step_id > 0) and (step_id % render_interval_steps == 0):\n",
    "                if environment._metrics_path:\n",
    "                    clear_output(wait=True)\n",
    "                    reader = get_latest_episode_reader(environment._metrics_path)\n",
    "                    plot_timeseries_charts(reader, time_zone)\n",
    "                render_env(environment)\n",
    "\n",
    "            t0 = t1\n",
    "            step_id += 1\n",
    "        total_return += episode_return\n",
    "\n",
    "    avg_return = total_return / num_episodes\n",
    "    return avg_return"
   ]
  },
  {
   "cell_type": "code",
   "execution_count": null,
   "id": "1d5825ef",
   "metadata": {},
   "outputs": [],
   "source": []
  }
 ],
 "metadata": {
  "kernelspec": {
   "display_name": "Python 3 (ipykernel)",
   "language": "python",
   "name": "python3"
  },
  "language_info": {
   "codemirror_mode": {
    "name": "ipython",
    "version": 3
   },
   "file_extension": ".py",
   "mimetype": "text/x-python",
   "name": "python",
   "nbconvert_exporter": "python",
   "pygments_lexer": "ipython3",
   "version": "3.10.12"
  }
 },
 "nbformat": 4,
 "nbformat_minor": 5
}
